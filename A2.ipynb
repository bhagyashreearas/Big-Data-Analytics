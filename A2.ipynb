{
 "cells": [
  {
   "cell_type": "markdown",
   "metadata": {
    "id": "RW82b4ZNIVV6",
    "nbgrader": {
     "grade": false,
     "grade_id": "title-cell",
     "locked": true,
     "schema_version": 2,
     "solution": false
    }
   },
   "source": [
    "# Assignment 2\n",
    "\n",
    "This assignment is meant to help you familiarize yourself with Pandas, conduct data wrangling, EDA, and visualization.\n",
    "\n",
    "To receive credit, answer all questions correctly and submit to Canvas before the deadline.\n",
    "\n",
    "**This assignment is due Sunday, Oct. 24 at 11:59 PM.**"
   ]
  },
  {
   "cell_type": "markdown",
   "metadata": {
    "id": "2ubOP7WIyJaj"
   },
   "source": [
    "**YOUR FULL NAME (1 POINT)**: *Bhagyashree Aras*"
   ]
  },
  {
   "cell_type": "markdown",
   "metadata": {
    "id": "-iX4wlC7qBM4"
   },
   "source": [
    "## Collaboration Policy\n",
    "\n",
    "Data science is a collaborative activity. While you may talk with others about the assignment, we ask that you **write your solutions individually**. If you do discuss the assignments with others, please **include their names** below. (That's a good way to learn your classmates' names.)"
   ]
  },
  {
   "cell_type": "markdown",
   "metadata": {
    "id": "uAZav0BiqBM5"
   },
   "source": [
    "**Collaborators**: *list collaborators here*"
   ]
  },
  {
   "cell_type": "markdown",
   "metadata": {
    "id": "xKorYE9lIVV9"
   },
   "source": [
    "## Part 1: Pandas\n",
    "\n",
    "[Pandas](https://pandas.pydata.org/) is one of the most widely used Python libraries in data science. In this assignment, you will learn commonly used data wrangling operations/tools in Pandas. We aim to give you familiarity with:\n",
    "\n",
    "* Creating DataFrames\n",
    "* Slicing DataFrames (i.e. selecting rows and columns)\n",
    "* Filtering data\n",
    "\n",
    "**Note**: The Pandas interface is notoriously confusing, and the documentation is not consistently great. Throughout the quarter, you will have to search through Pandas documentation and experiment, but remember it is part of the learning experience and will help shape you as a data scientist!"
   ]
  },
  {
   "cell_type": "code",
   "execution_count": 1,
   "metadata": {
    "id": "Lu5r5hsQIVWA",
    "nbgrader": {
     "grade": false,
     "grade_id": "imports",
     "locked": true,
     "schema_version": 2,
     "solution": false
    },
    "scrolled": true
   },
   "outputs": [],
   "source": [
    "import numpy as np\n",
    "import matplotlib.pyplot as plt\n",
    "import pandas as pd\n",
    "import seaborn as sns\n",
    "plt.style.use('fivethirtyeight')\n",
    "%matplotlib inline"
   ]
  },
  {
   "cell_type": "markdown",
   "metadata": {
    "id": "WNo2xroxIVWB",
    "nbgrader": {
     "grade": false,
     "grade_id": "basic_intro",
     "locked": true,
     "schema_version": 2,
     "solution": false
    }
   },
   "source": [
    "### 1.1 Creating DataFrames & Basic Manipulations\n",
    "\n",
    "A [DataFrame](https://pandas.pydata.org/pandas-docs/stable/user_guide/dsintro.html#dataframe) is a table in which each column has a specific data type; there is an index over the columns (typically string labels) and an index over the rows (typically ordinal numbers).\n",
    "\n",
    "The [documentation](https://pandas.pydata.org/pandas-docs/stable/reference/api/pandas.DataFrame.html) for the pandas `DataFrame` class  provides at least two syntaxes to create a DataFrame.\n",
    "\n",
    "**Note**: 0 point for instructions, however -5 if you do not run, output, and understand."
   ]
  },
  {
   "cell_type": "markdown",
   "metadata": {
    "id": "FSkj2Q2iIVWB",
    "nbgrader": {
     "grade": false,
     "grade_id": "basic_method1",
     "locked": true,
     "schema_version": 2,
     "solution": false
    }
   },
   "source": [
    "**Syntax 1:** You can create a DataFrame by specifying the columns and values using a dictionary as shown below. \n",
    "\n",
    "The keys of the dictionary are the column names, and the values of the dictionary are lists containing the row entries."
   ]
  },
  {
   "cell_type": "code",
   "execution_count": 2,
   "metadata": {
    "id": "Per-PNgRzFXj"
   },
   "outputs": [
    {
     "data": {
      "text/html": [
       "<div>\n",
       "<style scoped>\n",
       "    .dataframe tbody tr th:only-of-type {\n",
       "        vertical-align: middle;\n",
       "    }\n",
       "\n",
       "    .dataframe tbody tr th {\n",
       "        vertical-align: top;\n",
       "    }\n",
       "\n",
       "    .dataframe thead th {\n",
       "        text-align: right;\n",
       "    }\n",
       "</style>\n",
       "<table border=\"1\" class=\"dataframe\">\n",
       "  <thead>\n",
       "    <tr style=\"text-align: right;\">\n",
       "      <th></th>\n",
       "      <th>team</th>\n",
       "      <th>hero</th>\n",
       "    </tr>\n",
       "  </thead>\n",
       "  <tbody>\n",
       "    <tr>\n",
       "      <th>0</th>\n",
       "      <td>flash</td>\n",
       "      <td>flash</td>\n",
       "    </tr>\n",
       "    <tr>\n",
       "      <th>1</th>\n",
       "      <td>arrow</td>\n",
       "      <td>arrow</td>\n",
       "    </tr>\n",
       "    <tr>\n",
       "      <th>2</th>\n",
       "      <td>flash</td>\n",
       "      <td>vibe</td>\n",
       "    </tr>\n",
       "    <tr>\n",
       "      <th>3</th>\n",
       "      <td>legends</td>\n",
       "      <td>atom</td>\n",
       "    </tr>\n",
       "    <tr>\n",
       "      <th>4</th>\n",
       "      <td>flash</td>\n",
       "      <td>killer frost</td>\n",
       "    </tr>\n",
       "    <tr>\n",
       "      <th>5</th>\n",
       "      <td>legends</td>\n",
       "      <td>firestorm</td>\n",
       "    </tr>\n",
       "    <tr>\n",
       "      <th>6</th>\n",
       "      <td>arrow</td>\n",
       "      <td>speedy</td>\n",
       "    </tr>\n",
       "  </tbody>\n",
       "</table>\n",
       "</div>"
      ],
      "text/plain": [
       "      team          hero\n",
       "0    flash         flash\n",
       "1    arrow         arrow\n",
       "2    flash          vibe\n",
       "3  legends          atom\n",
       "4    flash  killer frost\n",
       "5  legends     firestorm\n",
       "6    arrow        speedy"
      ]
     },
     "execution_count": 2,
     "metadata": {},
     "output_type": "execute_result"
    }
   ],
   "source": [
    "teams = pd.DataFrame(\n",
    "    data={'team': ['flash', 'arrow', 'flash', 'legends', \n",
    "                   'flash', 'legends', 'arrow'],\n",
    "          'hero': ['flash', 'arrow', 'vibe', 'atom', \n",
    "                   'killer frost', 'firestorm', 'speedy']})\n",
    "\n",
    "teams"
   ]
  },
  {
   "cell_type": "markdown",
   "metadata": {
    "id": "qa-AgUAJ03Tn"
   },
   "source": [
    "You can also specify the index of the rows as follows."
   ]
  },
  {
   "cell_type": "code",
   "execution_count": 3,
   "metadata": {
    "id": "FDTyU7yIIVWC",
    "nbgrader": {
     "grade": false,
     "grade_id": "basic_method1_code",
     "locked": true,
     "schema_version": 2,
     "solution": false
    }
   },
   "outputs": [
    {
     "data": {
      "text/html": [
       "<div>\n",
       "<style scoped>\n",
       "    .dataframe tbody tr th:only-of-type {\n",
       "        vertical-align: middle;\n",
       "    }\n",
       "\n",
       "    .dataframe tbody tr th {\n",
       "        vertical-align: top;\n",
       "    }\n",
       "\n",
       "    .dataframe thead th {\n",
       "        text-align: right;\n",
       "    }\n",
       "</style>\n",
       "<table border=\"1\" class=\"dataframe\">\n",
       "  <thead>\n",
       "    <tr style=\"text-align: right;\">\n",
       "      <th></th>\n",
       "      <th>color</th>\n",
       "      <th>first_seen_on</th>\n",
       "      <th>first_season</th>\n",
       "    </tr>\n",
       "  </thead>\n",
       "  <tbody>\n",
       "    <tr>\n",
       "      <th>flash</th>\n",
       "      <td>red</td>\n",
       "      <td>a</td>\n",
       "      <td>2</td>\n",
       "    </tr>\n",
       "    <tr>\n",
       "      <th>arrow</th>\n",
       "      <td>green</td>\n",
       "      <td>a</td>\n",
       "      <td>1</td>\n",
       "    </tr>\n",
       "    <tr>\n",
       "      <th>vibe</th>\n",
       "      <td>black</td>\n",
       "      <td>f</td>\n",
       "      <td>2</td>\n",
       "    </tr>\n",
       "    <tr>\n",
       "      <th>atom</th>\n",
       "      <td>blue</td>\n",
       "      <td>a</td>\n",
       "      <td>3</td>\n",
       "    </tr>\n",
       "    <tr>\n",
       "      <th>canary</th>\n",
       "      <td>black</td>\n",
       "      <td>a</td>\n",
       "      <td>3</td>\n",
       "    </tr>\n",
       "    <tr>\n",
       "      <th>firestorm</th>\n",
       "      <td>red</td>\n",
       "      <td>f</td>\n",
       "      <td>1</td>\n",
       "    </tr>\n",
       "  </tbody>\n",
       "</table>\n",
       "</div>"
      ],
      "text/plain": [
       "           color first_seen_on  first_season\n",
       "flash        red             a             2\n",
       "arrow      green             a             1\n",
       "vibe       black             f             2\n",
       "atom        blue             a             3\n",
       "canary     black             a             3\n",
       "firestorm    red             f             1"
      ]
     },
     "execution_count": 3,
     "metadata": {},
     "output_type": "execute_result"
    }
   ],
   "source": [
    "heroes = pd.DataFrame(\n",
    "    data={'color': ['red', 'green', 'black', \n",
    "                    'blue', 'black', 'red'],\n",
    "          'first_seen_on': ['a', 'a', 'f', 'a', 'a', 'f'],\n",
    "          'first_season': [2, 1, 2, 3, 3, 1]},\n",
    "    index=['flash', 'arrow', 'vibe', \n",
    "           'atom', 'canary', 'firestorm'])\n",
    "\n",
    "heroes"
   ]
  },
  {
   "cell_type": "markdown",
   "metadata": {
    "id": "_jtpCRgWIVWD",
    "nbgrader": {
     "grade": false,
     "grade_id": "basic_method2",
     "locked": true,
     "schema_version": 2,
     "solution": false
    }
   },
   "source": [
    "**Syntax 2:** You can also define a DataFrame by specifying the rows like below. \n",
    "\n",
    "Each row corresponds to a distinct tuple, and the columns are specified separately."
   ]
  },
  {
   "cell_type": "code",
   "execution_count": 4,
   "metadata": {
    "id": "WOLg0inAIVWD",
    "nbgrader": {
     "grade": false,
     "grade_id": "basic_method2_code",
     "locked": true,
     "schema_version": 2,
     "solution": false
    }
   },
   "outputs": [
    {
     "data": {
      "text/html": [
       "<div>\n",
       "<style scoped>\n",
       "    .dataframe tbody tr th:only-of-type {\n",
       "        vertical-align: middle;\n",
       "    }\n",
       "\n",
       "    .dataframe tbody tr th {\n",
       "        vertical-align: top;\n",
       "    }\n",
       "\n",
       "    .dataframe thead th {\n",
       "        text-align: right;\n",
       "    }\n",
       "</style>\n",
       "<table border=\"1\" class=\"dataframe\">\n",
       "  <thead>\n",
       "    <tr style=\"text-align: right;\">\n",
       "      <th></th>\n",
       "      <th>ego</th>\n",
       "      <th>alter-ego</th>\n",
       "    </tr>\n",
       "  </thead>\n",
       "  <tbody>\n",
       "    <tr>\n",
       "      <th>0</th>\n",
       "      <td>barry allen</td>\n",
       "      <td>flash</td>\n",
       "    </tr>\n",
       "    <tr>\n",
       "      <th>1</th>\n",
       "      <td>oliver queen</td>\n",
       "      <td>arrow</td>\n",
       "    </tr>\n",
       "    <tr>\n",
       "      <th>2</th>\n",
       "      <td>cisco ramon</td>\n",
       "      <td>vibe</td>\n",
       "    </tr>\n",
       "    <tr>\n",
       "      <th>3</th>\n",
       "      <td>ray palmer</td>\n",
       "      <td>atom</td>\n",
       "    </tr>\n",
       "    <tr>\n",
       "      <th>4</th>\n",
       "      <td>sara lance</td>\n",
       "      <td>canary</td>\n",
       "    </tr>\n",
       "    <tr>\n",
       "      <th>5</th>\n",
       "      <td>martin stein</td>\n",
       "      <td>firestorm</td>\n",
       "    </tr>\n",
       "    <tr>\n",
       "      <th>6</th>\n",
       "      <td>ronnie raymond</td>\n",
       "      <td>firestorm</td>\n",
       "    </tr>\n",
       "  </tbody>\n",
       "</table>\n",
       "</div>"
      ],
      "text/plain": [
       "              ego  alter-ego\n",
       "0     barry allen      flash\n",
       "1    oliver queen      arrow\n",
       "2     cisco ramon       vibe\n",
       "3      ray palmer       atom\n",
       "4      sara lance     canary\n",
       "5    martin stein  firestorm\n",
       "6  ronnie raymond  firestorm"
      ]
     },
     "execution_count": 4,
     "metadata": {},
     "output_type": "execute_result"
    }
   ],
   "source": [
    "identities = pd.DataFrame(\n",
    "    [('barry allen', 'flash'), ('oliver queen', 'arrow'), \n",
    "     ('cisco ramon', 'vibe'), ('ray palmer', 'atom'), ('sara lance', 'canary'),\n",
    "     ('martin stein', 'firestorm'), ('ronnie raymond', 'firestorm')],\n",
    "     columns = ['ego', 'alter-ego'])\n",
    "\n",
    "identities"
   ]
  },
  {
   "cell_type": "markdown",
   "metadata": {
    "id": "s_IBIiyWIVWE",
    "nbgrader": {
     "grade": false,
     "grade_id": "basic_shape",
     "locked": true,
     "schema_version": 2,
     "solution": false
    }
   },
   "source": [
    "You can obtain the dimensions of a DataFrame by using the shape attribute `DataFrame.shape`."
   ]
  },
  {
   "cell_type": "code",
   "execution_count": 5,
   "metadata": {
    "id": "d9yyH9jfIVWE",
    "nbgrader": {
     "grade": false,
     "grade_id": "basic_shape_code",
     "locked": true,
     "schema_version": 2,
     "solution": false
    }
   },
   "outputs": [
    {
     "data": {
      "text/plain": [
       "(6, 3)"
      ]
     },
     "execution_count": 5,
     "metadata": {},
     "output_type": "execute_result"
    }
   ],
   "source": [
    "heroes.shape"
   ]
  },
  {
   "cell_type": "markdown",
   "metadata": {
    "id": "yo1V34imIVWE"
   },
   "source": [
    "You can also convert the entire DataFrame into a two-dimensional numpy array."
   ]
  },
  {
   "cell_type": "code",
   "execution_count": 6,
   "metadata": {
    "id": "--D5vMYZIVWF"
   },
   "outputs": [
    {
     "data": {
      "text/plain": [
       "array([['red', 'a', 2],\n",
       "       ['green', 'a', 1],\n",
       "       ['black', 'f', 2],\n",
       "       ['blue', 'a', 3],\n",
       "       ['black', 'a', 3],\n",
       "       ['red', 'f', 1]], dtype=object)"
      ]
     },
     "execution_count": 6,
     "metadata": {},
     "output_type": "execute_result"
    }
   ],
   "source": [
    "heroes.values"
   ]
  },
  {
   "cell_type": "markdown",
   "metadata": {
    "deletable": false,
    "editable": false,
    "id": "-qSudK2TIVWF",
    "nbgrader": {
     "grade": false,
     "grade_id": "q1",
     "locked": true,
     "schema_version": 2,
     "solution": false
    }
   },
   "source": [
    "#### Question 1.1.a (3 points)\n",
    "\n",
    "For a DataFrame `d`, you can add a column with `d['new column name'] = ...` and assign a list or array of values to the column. Add a column of integers containing 1, 2, 3, and 4 called `rank` to the `heroes` table which expresses your personal preference about the hero (1 is the most favorite). "
   ]
  },
  {
   "cell_type": "code",
   "execution_count": 7,
   "metadata": {
    "id": "1Xg2WCGUIVWG",
    "nbgrader": {
     "grade": false,
     "grade_id": "q1_answer",
     "locked": false,
     "schema_version": 2,
     "solution": true
    },
    "tags": [
     "solution"
    ]
   },
   "outputs": [
    {
     "data": {
      "text/html": [
       "<div>\n",
       "<style scoped>\n",
       "    .dataframe tbody tr th:only-of-type {\n",
       "        vertical-align: middle;\n",
       "    }\n",
       "\n",
       "    .dataframe tbody tr th {\n",
       "        vertical-align: top;\n",
       "    }\n",
       "\n",
       "    .dataframe thead th {\n",
       "        text-align: right;\n",
       "    }\n",
       "</style>\n",
       "<table border=\"1\" class=\"dataframe\">\n",
       "  <thead>\n",
       "    <tr style=\"text-align: right;\">\n",
       "      <th></th>\n",
       "      <th>color</th>\n",
       "      <th>first_seen_on</th>\n",
       "      <th>first_season</th>\n",
       "      <th>rank</th>\n",
       "    </tr>\n",
       "  </thead>\n",
       "  <tbody>\n",
       "    <tr>\n",
       "      <th>flash</th>\n",
       "      <td>red</td>\n",
       "      <td>a</td>\n",
       "      <td>2</td>\n",
       "      <td>1</td>\n",
       "    </tr>\n",
       "    <tr>\n",
       "      <th>arrow</th>\n",
       "      <td>green</td>\n",
       "      <td>a</td>\n",
       "      <td>1</td>\n",
       "      <td>2</td>\n",
       "    </tr>\n",
       "    <tr>\n",
       "      <th>vibe</th>\n",
       "      <td>black</td>\n",
       "      <td>f</td>\n",
       "      <td>2</td>\n",
       "      <td>3</td>\n",
       "    </tr>\n",
       "    <tr>\n",
       "      <th>atom</th>\n",
       "      <td>blue</td>\n",
       "      <td>a</td>\n",
       "      <td>3</td>\n",
       "      <td>4</td>\n",
       "    </tr>\n",
       "    <tr>\n",
       "      <th>canary</th>\n",
       "      <td>black</td>\n",
       "      <td>a</td>\n",
       "      <td>3</td>\n",
       "      <td>1</td>\n",
       "    </tr>\n",
       "    <tr>\n",
       "      <th>firestorm</th>\n",
       "      <td>red</td>\n",
       "      <td>f</td>\n",
       "      <td>1</td>\n",
       "      <td>2</td>\n",
       "    </tr>\n",
       "  </tbody>\n",
       "</table>\n",
       "</div>"
      ],
      "text/plain": [
       "           color first_seen_on  first_season  rank\n",
       "flash        red             a             2     1\n",
       "arrow      green             a             1     2\n",
       "vibe       black             f             2     3\n",
       "atom        blue             a             3     4\n",
       "canary     black             a             3     1\n",
       "firestorm    red             f             1     2"
      ]
     },
     "execution_count": 7,
     "metadata": {},
     "output_type": "execute_result"
    }
   ],
   "source": [
    "# same preference level can be assigned to different rows\n",
    "# type your code here\n",
    "heroes['rank'] =  [1,2,3,4,1,2]\n",
    "heroes"
   ]
  },
  {
   "cell_type": "markdown",
   "metadata": {
    "deletable": false,
    "editable": false,
    "id": "dK_9TzOTIVWH"
   },
   "source": [
    "#### Question 1.1.b (3 points)\n",
    "\n",
    "You can also add a column to `d` with `d.loc[:, 'new column name'] = ...`. The first parameter is for the rows and second is for columns. The `:` means changing all rows and the `'new column name'` indicates the name of the column you are modifying (or in this case, adding). \n",
    "\n",
    "Add a column called `rank_dup` to the `heroes` table which contains the same values in the same order as the `rank` column."
   ]
  },
  {
   "cell_type": "code",
   "execution_count": 8,
   "metadata": {
    "id": "GkzM71W0IVWJ",
    "nbgrader": {
     "grade": false,
     "grade_id": "cell-ef625b2f6154e9b2",
     "locked": false,
     "schema_version": 2,
     "solution": true
    }
   },
   "outputs": [
    {
     "data": {
      "text/html": [
       "<div>\n",
       "<style scoped>\n",
       "    .dataframe tbody tr th:only-of-type {\n",
       "        vertical-align: middle;\n",
       "    }\n",
       "\n",
       "    .dataframe tbody tr th {\n",
       "        vertical-align: top;\n",
       "    }\n",
       "\n",
       "    .dataframe thead th {\n",
       "        text-align: right;\n",
       "    }\n",
       "</style>\n",
       "<table border=\"1\" class=\"dataframe\">\n",
       "  <thead>\n",
       "    <tr style=\"text-align: right;\">\n",
       "      <th></th>\n",
       "      <th>color</th>\n",
       "      <th>first_seen_on</th>\n",
       "      <th>first_season</th>\n",
       "      <th>rank</th>\n",
       "      <th>rank_dup</th>\n",
       "    </tr>\n",
       "  </thead>\n",
       "  <tbody>\n",
       "    <tr>\n",
       "      <th>flash</th>\n",
       "      <td>red</td>\n",
       "      <td>a</td>\n",
       "      <td>2</td>\n",
       "      <td>1</td>\n",
       "      <td>1</td>\n",
       "    </tr>\n",
       "    <tr>\n",
       "      <th>arrow</th>\n",
       "      <td>green</td>\n",
       "      <td>a</td>\n",
       "      <td>1</td>\n",
       "      <td>2</td>\n",
       "      <td>2</td>\n",
       "    </tr>\n",
       "    <tr>\n",
       "      <th>vibe</th>\n",
       "      <td>black</td>\n",
       "      <td>f</td>\n",
       "      <td>2</td>\n",
       "      <td>3</td>\n",
       "      <td>3</td>\n",
       "    </tr>\n",
       "    <tr>\n",
       "      <th>atom</th>\n",
       "      <td>blue</td>\n",
       "      <td>a</td>\n",
       "      <td>3</td>\n",
       "      <td>4</td>\n",
       "      <td>4</td>\n",
       "    </tr>\n",
       "    <tr>\n",
       "      <th>canary</th>\n",
       "      <td>black</td>\n",
       "      <td>a</td>\n",
       "      <td>3</td>\n",
       "      <td>1</td>\n",
       "      <td>1</td>\n",
       "    </tr>\n",
       "    <tr>\n",
       "      <th>firestorm</th>\n",
       "      <td>red</td>\n",
       "      <td>f</td>\n",
       "      <td>1</td>\n",
       "      <td>2</td>\n",
       "      <td>2</td>\n",
       "    </tr>\n",
       "  </tbody>\n",
       "</table>\n",
       "</div>"
      ],
      "text/plain": [
       "           color first_seen_on  first_season  rank  rank_dup\n",
       "flash        red             a             2     1         1\n",
       "arrow      green             a             1     2         2\n",
       "vibe       black             f             2     3         3\n",
       "atom        blue             a             3     4         4\n",
       "canary     black             a             3     1         1\n",
       "firestorm    red             f             1     2         2"
      ]
     },
     "execution_count": 8,
     "metadata": {},
     "output_type": "execute_result"
    }
   ],
   "source": [
    "# type your code here\n",
    "heroes.loc[:, 'rank_dup'] = heroes['rank']\n",
    "heroes"
   ]
  },
  {
   "cell_type": "markdown",
   "metadata": {
    "deletable": false,
    "editable": false,
    "id": "W1fPqCQZIVWJ",
    "nbgrader": {
     "grade": false,
     "grade_id": "q2",
     "locked": true,
     "schema_version": 2,
     "solution": false
    }
   },
   "source": [
    "#### Question 1.1.c (3 points)\n",
    "\n",
    "Use the `.drop()` method to [drop](https://pandas.pydata.org/pandas-docs/stable/reference/api/pandas.DataFrame.drop.html) both the `rank` and `rank_dup` columns you created. Make sure to use the `axis` parameter correctly. Note that `drop` does not change a table, but instead returns a new table with fewer columns or rows unless you set the optional `inplace` parameter.\n",
    "\n",
    "*Hint*: Look through the documentation to see how you can drop multiple columns of a Pandas DataFrame at once using a list of column names."
   ]
  },
  {
   "cell_type": "code",
   "execution_count": 9,
   "metadata": {
    "id": "HIFCLizsIVWL",
    "nbgrader": {
     "grade": false,
     "grade_id": "q2_answer",
     "locked": false,
     "schema_version": 2,
     "solution": true
    },
    "tags": [
     "solution"
    ]
   },
   "outputs": [
    {
     "data": {
      "text/html": [
       "<div>\n",
       "<style scoped>\n",
       "    .dataframe tbody tr th:only-of-type {\n",
       "        vertical-align: middle;\n",
       "    }\n",
       "\n",
       "    .dataframe tbody tr th {\n",
       "        vertical-align: top;\n",
       "    }\n",
       "\n",
       "    .dataframe thead th {\n",
       "        text-align: right;\n",
       "    }\n",
       "</style>\n",
       "<table border=\"1\" class=\"dataframe\">\n",
       "  <thead>\n",
       "    <tr style=\"text-align: right;\">\n",
       "      <th></th>\n",
       "      <th>color</th>\n",
       "      <th>first_seen_on</th>\n",
       "      <th>first_season</th>\n",
       "    </tr>\n",
       "  </thead>\n",
       "  <tbody>\n",
       "    <tr>\n",
       "      <th>flash</th>\n",
       "      <td>red</td>\n",
       "      <td>a</td>\n",
       "      <td>2</td>\n",
       "    </tr>\n",
       "    <tr>\n",
       "      <th>arrow</th>\n",
       "      <td>green</td>\n",
       "      <td>a</td>\n",
       "      <td>1</td>\n",
       "    </tr>\n",
       "    <tr>\n",
       "      <th>vibe</th>\n",
       "      <td>black</td>\n",
       "      <td>f</td>\n",
       "      <td>2</td>\n",
       "    </tr>\n",
       "    <tr>\n",
       "      <th>atom</th>\n",
       "      <td>blue</td>\n",
       "      <td>a</td>\n",
       "      <td>3</td>\n",
       "    </tr>\n",
       "    <tr>\n",
       "      <th>canary</th>\n",
       "      <td>black</td>\n",
       "      <td>a</td>\n",
       "      <td>3</td>\n",
       "    </tr>\n",
       "    <tr>\n",
       "      <th>firestorm</th>\n",
       "      <td>red</td>\n",
       "      <td>f</td>\n",
       "      <td>1</td>\n",
       "    </tr>\n",
       "  </tbody>\n",
       "</table>\n",
       "</div>"
      ],
      "text/plain": [
       "           color first_seen_on  first_season\n",
       "flash        red             a             2\n",
       "arrow      green             a             1\n",
       "vibe       black             f             2\n",
       "atom        blue             a             3\n",
       "canary     black             a             3\n",
       "firestorm    red             f             1"
      ]
     },
     "execution_count": 9,
     "metadata": {},
     "output_type": "execute_result"
    }
   ],
   "source": [
    "# type your code here\n",
    "list = ['rank', 'rank_dup']\n",
    "heroes_original = heroes.drop(list, axis = 1, inplace = False)\n",
    "heroes_original"
   ]
  },
  {
   "cell_type": "markdown",
   "metadata": {
    "id": "Y8Gyj-i1896N"
   },
   "source": [
    "If you check the table of `heroes` again, nothing has been dropped.\n",
    "\n"
   ]
  },
  {
   "cell_type": "code",
   "execution_count": 10,
   "metadata": {
    "id": "RfwDGEyB9I5r"
   },
   "outputs": [
    {
     "data": {
      "text/html": [
       "<div>\n",
       "<style scoped>\n",
       "    .dataframe tbody tr th:only-of-type {\n",
       "        vertical-align: middle;\n",
       "    }\n",
       "\n",
       "    .dataframe tbody tr th {\n",
       "        vertical-align: top;\n",
       "    }\n",
       "\n",
       "    .dataframe thead th {\n",
       "        text-align: right;\n",
       "    }\n",
       "</style>\n",
       "<table border=\"1\" class=\"dataframe\">\n",
       "  <thead>\n",
       "    <tr style=\"text-align: right;\">\n",
       "      <th></th>\n",
       "      <th>color</th>\n",
       "      <th>first_seen_on</th>\n",
       "      <th>first_season</th>\n",
       "      <th>rank</th>\n",
       "      <th>rank_dup</th>\n",
       "    </tr>\n",
       "  </thead>\n",
       "  <tbody>\n",
       "    <tr>\n",
       "      <th>flash</th>\n",
       "      <td>red</td>\n",
       "      <td>a</td>\n",
       "      <td>2</td>\n",
       "      <td>1</td>\n",
       "      <td>1</td>\n",
       "    </tr>\n",
       "    <tr>\n",
       "      <th>arrow</th>\n",
       "      <td>green</td>\n",
       "      <td>a</td>\n",
       "      <td>1</td>\n",
       "      <td>2</td>\n",
       "      <td>2</td>\n",
       "    </tr>\n",
       "    <tr>\n",
       "      <th>vibe</th>\n",
       "      <td>black</td>\n",
       "      <td>f</td>\n",
       "      <td>2</td>\n",
       "      <td>3</td>\n",
       "      <td>3</td>\n",
       "    </tr>\n",
       "    <tr>\n",
       "      <th>atom</th>\n",
       "      <td>blue</td>\n",
       "      <td>a</td>\n",
       "      <td>3</td>\n",
       "      <td>4</td>\n",
       "      <td>4</td>\n",
       "    </tr>\n",
       "    <tr>\n",
       "      <th>canary</th>\n",
       "      <td>black</td>\n",
       "      <td>a</td>\n",
       "      <td>3</td>\n",
       "      <td>1</td>\n",
       "      <td>1</td>\n",
       "    </tr>\n",
       "    <tr>\n",
       "      <th>firestorm</th>\n",
       "      <td>red</td>\n",
       "      <td>f</td>\n",
       "      <td>1</td>\n",
       "      <td>2</td>\n",
       "      <td>2</td>\n",
       "    </tr>\n",
       "  </tbody>\n",
       "</table>\n",
       "</div>"
      ],
      "text/plain": [
       "           color first_seen_on  first_season  rank  rank_dup\n",
       "flash        red             a             2     1         1\n",
       "arrow      green             a             1     2         2\n",
       "vibe       black             f             2     3         3\n",
       "atom        blue             a             3     4         4\n",
       "canary     black             a             3     1         1\n",
       "firestorm    red             f             1     2         2"
      ]
     },
     "execution_count": 10,
     "metadata": {},
     "output_type": "execute_result"
    }
   ],
   "source": [
    "heroes"
   ]
  },
  {
   "cell_type": "markdown",
   "metadata": {
    "deletable": false,
    "editable": false,
    "id": "_qrsNTYSIVWL",
    "nbgrader": {
     "grade": false,
     "grade_id": "q3",
     "locked": true,
     "schema_version": 2,
     "solution": false
    }
   },
   "source": [
    "#### Question 1.1.d (3 points)\n",
    "\n",
    "Use the `.rename()` method to [rename](https://pandas.pydata.org/pandas-docs/stable/reference/api/pandas.DataFrame.rename.html) the columns of `heroes_original` so they begin with capital letters. Set this new DataFrame to `heroes_cap`."
   ]
  },
  {
   "cell_type": "code",
   "execution_count": 11,
   "metadata": {
    "id": "8QvfngJrIVWM",
    "nbgrader": {
     "grade": false,
     "grade_id": "q3_answer",
     "locked": false,
     "schema_version": 2,
     "solution": true
    },
    "tags": [
     "solution"
    ]
   },
   "outputs": [
    {
     "data": {
      "text/html": [
       "<div>\n",
       "<style scoped>\n",
       "    .dataframe tbody tr th:only-of-type {\n",
       "        vertical-align: middle;\n",
       "    }\n",
       "\n",
       "    .dataframe tbody tr th {\n",
       "        vertical-align: top;\n",
       "    }\n",
       "\n",
       "    .dataframe thead th {\n",
       "        text-align: right;\n",
       "    }\n",
       "</style>\n",
       "<table border=\"1\" class=\"dataframe\">\n",
       "  <thead>\n",
       "    <tr style=\"text-align: right;\">\n",
       "      <th></th>\n",
       "      <th>Color</th>\n",
       "      <th>First_seen_on</th>\n",
       "      <th>First_season</th>\n",
       "    </tr>\n",
       "  </thead>\n",
       "  <tbody>\n",
       "    <tr>\n",
       "      <th>flash</th>\n",
       "      <td>red</td>\n",
       "      <td>a</td>\n",
       "      <td>2</td>\n",
       "    </tr>\n",
       "    <tr>\n",
       "      <th>arrow</th>\n",
       "      <td>green</td>\n",
       "      <td>a</td>\n",
       "      <td>1</td>\n",
       "    </tr>\n",
       "    <tr>\n",
       "      <th>vibe</th>\n",
       "      <td>black</td>\n",
       "      <td>f</td>\n",
       "      <td>2</td>\n",
       "    </tr>\n",
       "    <tr>\n",
       "      <th>atom</th>\n",
       "      <td>blue</td>\n",
       "      <td>a</td>\n",
       "      <td>3</td>\n",
       "    </tr>\n",
       "    <tr>\n",
       "      <th>canary</th>\n",
       "      <td>black</td>\n",
       "      <td>a</td>\n",
       "      <td>3</td>\n",
       "    </tr>\n",
       "    <tr>\n",
       "      <th>firestorm</th>\n",
       "      <td>red</td>\n",
       "      <td>f</td>\n",
       "      <td>1</td>\n",
       "    </tr>\n",
       "  </tbody>\n",
       "</table>\n",
       "</div>"
      ],
      "text/plain": [
       "           Color First_seen_on  First_season\n",
       "flash        red             a             2\n",
       "arrow      green             a             1\n",
       "vibe       black             f             2\n",
       "atom        blue             a             3\n",
       "canary     black             a             3\n",
       "firestorm    red             f             1"
      ]
     },
     "execution_count": 11,
     "metadata": {},
     "output_type": "execute_result"
    }
   ],
   "source": [
    "# type your code here\n",
    "heroes_cap = heroes_original.rename(str.capitalize, axis='columns')\n",
    "heroes_cap"
   ]
  },
  {
   "cell_type": "markdown",
   "metadata": {
    "id": "T27Wl04B_1Ca"
   },
   "source": [
    "The `heroes_original` table is not changed."
   ]
  },
  {
   "cell_type": "code",
   "execution_count": 12,
   "metadata": {
    "id": "0Qu-eeAZ_-pM"
   },
   "outputs": [
    {
     "data": {
      "text/html": [
       "<div>\n",
       "<style scoped>\n",
       "    .dataframe tbody tr th:only-of-type {\n",
       "        vertical-align: middle;\n",
       "    }\n",
       "\n",
       "    .dataframe tbody tr th {\n",
       "        vertical-align: top;\n",
       "    }\n",
       "\n",
       "    .dataframe thead th {\n",
       "        text-align: right;\n",
       "    }\n",
       "</style>\n",
       "<table border=\"1\" class=\"dataframe\">\n",
       "  <thead>\n",
       "    <tr style=\"text-align: right;\">\n",
       "      <th></th>\n",
       "      <th>color</th>\n",
       "      <th>first_seen_on</th>\n",
       "      <th>first_season</th>\n",
       "    </tr>\n",
       "  </thead>\n",
       "  <tbody>\n",
       "    <tr>\n",
       "      <th>flash</th>\n",
       "      <td>red</td>\n",
       "      <td>a</td>\n",
       "      <td>2</td>\n",
       "    </tr>\n",
       "    <tr>\n",
       "      <th>arrow</th>\n",
       "      <td>green</td>\n",
       "      <td>a</td>\n",
       "      <td>1</td>\n",
       "    </tr>\n",
       "    <tr>\n",
       "      <th>vibe</th>\n",
       "      <td>black</td>\n",
       "      <td>f</td>\n",
       "      <td>2</td>\n",
       "    </tr>\n",
       "    <tr>\n",
       "      <th>atom</th>\n",
       "      <td>blue</td>\n",
       "      <td>a</td>\n",
       "      <td>3</td>\n",
       "    </tr>\n",
       "    <tr>\n",
       "      <th>canary</th>\n",
       "      <td>black</td>\n",
       "      <td>a</td>\n",
       "      <td>3</td>\n",
       "    </tr>\n",
       "    <tr>\n",
       "      <th>firestorm</th>\n",
       "      <td>red</td>\n",
       "      <td>f</td>\n",
       "      <td>1</td>\n",
       "    </tr>\n",
       "  </tbody>\n",
       "</table>\n",
       "</div>"
      ],
      "text/plain": [
       "           color first_seen_on  first_season\n",
       "flash        red             a             2\n",
       "arrow      green             a             1\n",
       "vibe       black             f             2\n",
       "atom        blue             a             3\n",
       "canary     black             a             3\n",
       "firestorm    red             f             1"
      ]
     },
     "execution_count": 12,
     "metadata": {},
     "output_type": "execute_result"
    }
   ],
   "source": [
    "heroes_original"
   ]
  },
  {
   "cell_type": "markdown",
   "metadata": {
    "id": "AjQtZFrEIVWR",
    "nbgrader": {
     "grade": false,
     "grade_id": "slicing",
     "locked": true,
     "schema_version": 2,
     "solution": false
    }
   },
   "source": [
    "### 1.2: Slicing DataFrames - selecting rows and columns\n",
    "\n",
    "**Note**: 0 points for instructions, -5 if you do not run, output, and understand\n"
   ]
  },
  {
   "cell_type": "markdown",
   "metadata": {
    "id": "jTUG_1tCIVWS",
    "nbgrader": {
     "grade": false,
     "grade_id": "slicing_text",
     "locked": true,
     "schema_version": 2,
     "solution": false
    }
   },
   "source": [
    "#### Selection Using Label/Index, with `loc`\n",
    "\n",
    "**Column Selection** \n",
    "\n",
    "To select a column of a `DataFrame` by column label, the safest and fastest way is to use the `.loc` [method](https://pandas.pydata.org/pandas-docs/stable/reference/api/pandas.DataFrame.loc.html). General usage of `.loc` looks like `df.loc[rowname, colname]`. Remember that the colon `:` means \"everything\". For example, if we want the `color` column of the `ex` DataFrame, we would use: `ex.loc[:, 'color']`\n",
    "\n",
    "- You can also slice across columns. For example, `baby_names.loc[:, 'Name':]` would select the column `Name` and all columns after `Name`.\n",
    "\n",
    "- *Alternative:* While `.loc` is invaluable when writing production code, it may be a little too verbose for interactive use. One recommended alternative is the `[]` method, which takes on the form `df['colname']`.\n",
    "\n",
    "**Row Selection**\n",
    "\n",
    "Similarly, if we want to select a row by its label, we can use the same `.loc` method. In this case, the \"label\" of each row refers to the index (i.e., primary key) of the DataFrame."
   ]
  },
  {
   "cell_type": "code",
   "execution_count": 13,
   "metadata": {
    "id": "19jC0KtYIVWS",
    "nbgrader": {
     "grade": false,
     "grade_id": "slicing_e1",
     "locked": true,
     "schema_version": 2,
     "solution": false
    }
   },
   "outputs": [
    {
     "data": {
      "text/plain": [
       "flash          red\n",
       "arrow        green\n",
       "vibe         black\n",
       "atom          blue\n",
       "canary       black\n",
       "firestorm      red\n",
       "Name: color, dtype: object"
      ]
     },
     "execution_count": 13,
     "metadata": {},
     "output_type": "execute_result"
    }
   ],
   "source": [
    "heroes_original.loc[:, 'color']"
   ]
  },
  {
   "cell_type": "markdown",
   "metadata": {
    "id": "EAd1tDBKIVWT"
   },
   "source": [
    "Notice the difference between the following cell and the previous one, just passing in `'color'` returns a Series while `['color']` returns a DataFrame."
   ]
  },
  {
   "cell_type": "code",
   "execution_count": 14,
   "metadata": {
    "id": "nVa0WYWGIVWT",
    "nbgrader": {
     "grade": false,
     "grade_id": "slicing_e2",
     "locked": true,
     "schema_version": 2,
     "solution": false
    }
   },
   "outputs": [
    {
     "data": {
      "text/html": [
       "<div>\n",
       "<style scoped>\n",
       "    .dataframe tbody tr th:only-of-type {\n",
       "        vertical-align: middle;\n",
       "    }\n",
       "\n",
       "    .dataframe tbody tr th {\n",
       "        vertical-align: top;\n",
       "    }\n",
       "\n",
       "    .dataframe thead th {\n",
       "        text-align: right;\n",
       "    }\n",
       "</style>\n",
       "<table border=\"1\" class=\"dataframe\">\n",
       "  <thead>\n",
       "    <tr style=\"text-align: right;\">\n",
       "      <th></th>\n",
       "      <th>color</th>\n",
       "    </tr>\n",
       "  </thead>\n",
       "  <tbody>\n",
       "    <tr>\n",
       "      <th>flash</th>\n",
       "      <td>red</td>\n",
       "    </tr>\n",
       "    <tr>\n",
       "      <th>arrow</th>\n",
       "      <td>green</td>\n",
       "    </tr>\n",
       "    <tr>\n",
       "      <th>vibe</th>\n",
       "      <td>black</td>\n",
       "    </tr>\n",
       "    <tr>\n",
       "      <th>atom</th>\n",
       "      <td>blue</td>\n",
       "    </tr>\n",
       "    <tr>\n",
       "      <th>canary</th>\n",
       "      <td>black</td>\n",
       "    </tr>\n",
       "    <tr>\n",
       "      <th>firestorm</th>\n",
       "      <td>red</td>\n",
       "    </tr>\n",
       "  </tbody>\n",
       "</table>\n",
       "</div>"
      ],
      "text/plain": [
       "           color\n",
       "flash        red\n",
       "arrow      green\n",
       "vibe       black\n",
       "atom        blue\n",
       "canary     black\n",
       "firestorm    red"
      ]
     },
     "execution_count": 14,
     "metadata": {},
     "output_type": "execute_result"
    }
   ],
   "source": [
    "heroes_original.loc[:, ['color']]"
   ]
  },
  {
   "cell_type": "markdown",
   "metadata": {
    "id": "7xXQ_V1vIVWT",
    "nbgrader": {
     "grade": false,
     "grade_id": "slicing_loc_iloc",
     "locked": true,
     "schema_version": 2,
     "solution": false
    }
   },
   "source": [
    "The `.loc` actually uses the Pandas row index rather than row id/position of rows in the DataFrame to perform the selection. Also, notice that if you write `2:5` with `loc[]`, contrary to normal Python slicing functionality, the end index is included, so you get the row with index 5. "
   ]
  },
  {
   "cell_type": "code",
   "execution_count": 15,
   "metadata": {
    "id": "fgajgK_ODmJz"
   },
   "outputs": [
    {
     "data": {
      "text/html": [
       "<div>\n",
       "<style scoped>\n",
       "    .dataframe tbody tr th:only-of-type {\n",
       "        vertical-align: middle;\n",
       "    }\n",
       "\n",
       "    .dataframe tbody tr th {\n",
       "        vertical-align: top;\n",
       "    }\n",
       "\n",
       "    .dataframe thead th {\n",
       "        text-align: right;\n",
       "    }\n",
       "</style>\n",
       "<table border=\"1\" class=\"dataframe\">\n",
       "  <thead>\n",
       "    <tr style=\"text-align: right;\">\n",
       "      <th></th>\n",
       "      <th>team</th>\n",
       "      <th>hero</th>\n",
       "    </tr>\n",
       "  </thead>\n",
       "  <tbody>\n",
       "    <tr>\n",
       "      <th>2</th>\n",
       "      <td>flash</td>\n",
       "      <td>vibe</td>\n",
       "    </tr>\n",
       "    <tr>\n",
       "      <th>3</th>\n",
       "      <td>legends</td>\n",
       "      <td>atom</td>\n",
       "    </tr>\n",
       "    <tr>\n",
       "      <th>4</th>\n",
       "      <td>flash</td>\n",
       "      <td>killer frost</td>\n",
       "    </tr>\n",
       "    <tr>\n",
       "      <th>5</th>\n",
       "      <td>legends</td>\n",
       "      <td>firestorm</td>\n",
       "    </tr>\n",
       "  </tbody>\n",
       "</table>\n",
       "</div>"
      ],
      "text/plain": [
       "      team          hero\n",
       "2    flash          vibe\n",
       "3  legends          atom\n",
       "4    flash  killer frost\n",
       "5  legends     firestorm"
      ]
     },
     "execution_count": 15,
     "metadata": {},
     "output_type": "execute_result"
    }
   ],
   "source": [
    "teams.loc[2:5, :]"
   ]
  },
  {
   "cell_type": "markdown",
   "metadata": {
    "id": "2feuR3NrIVWU"
   },
   "source": [
    "#### Selection using Integer location, with `iloc`"
   ]
  },
  {
   "cell_type": "markdown",
   "metadata": {
    "id": "IZmzk_3sIVWU",
    "nbgrader": {
     "grade": false,
     "grade_id": "cell-463dfc0b4ae2e39d",
     "locked": true,
     "schema_version": 2,
     "solution": false
    }
   },
   "source": [
    "Alternatively, another pandas feature `iloc[]`, lets you slice the DataFrame by row position and column position instead of by row index and column label, as `loc[]` does. It is **important** that you remember the difference and why you might want to use one over the other. In addition, with `iloc[]`, the end index is NOT included, just like normal Python slicing.\n",
    "\n",
    "As a mnemonic, remember that the \"i\" in `iloc` means \"integer.\" \n",
    "\n",
    "Below, we have sorted the `teams` DataFrame. Notice how the *position* of a row is not necessarily equal to the *index* of a row. For example, the first row is not necessarily the row associated with index 0. This distinction is important in understanding the difference between `loc[]` and `iloc[]`."
   ]
  },
  {
   "cell_type": "code",
   "execution_count": 16,
   "metadata": {
    "id": "_FTgqKd_IVWU"
   },
   "outputs": [
    {
     "data": {
      "text/html": [
       "<div>\n",
       "<style scoped>\n",
       "    .dataframe tbody tr th:only-of-type {\n",
       "        vertical-align: middle;\n",
       "    }\n",
       "\n",
       "    .dataframe tbody tr th {\n",
       "        vertical-align: top;\n",
       "    }\n",
       "\n",
       "    .dataframe thead th {\n",
       "        text-align: right;\n",
       "    }\n",
       "</style>\n",
       "<table border=\"1\" class=\"dataframe\">\n",
       "  <thead>\n",
       "    <tr style=\"text-align: right;\">\n",
       "      <th></th>\n",
       "      <th>team</th>\n",
       "      <th>hero</th>\n",
       "    </tr>\n",
       "  </thead>\n",
       "  <tbody>\n",
       "    <tr>\n",
       "      <th>1</th>\n",
       "      <td>arrow</td>\n",
       "      <td>arrow</td>\n",
       "    </tr>\n",
       "    <tr>\n",
       "      <th>6</th>\n",
       "      <td>arrow</td>\n",
       "      <td>speedy</td>\n",
       "    </tr>\n",
       "    <tr>\n",
       "      <th>0</th>\n",
       "      <td>flash</td>\n",
       "      <td>flash</td>\n",
       "    </tr>\n",
       "    <tr>\n",
       "      <th>2</th>\n",
       "      <td>flash</td>\n",
       "      <td>vibe</td>\n",
       "    </tr>\n",
       "    <tr>\n",
       "      <th>4</th>\n",
       "      <td>flash</td>\n",
       "      <td>killer frost</td>\n",
       "    </tr>\n",
       "    <tr>\n",
       "      <th>3</th>\n",
       "      <td>legends</td>\n",
       "      <td>atom</td>\n",
       "    </tr>\n",
       "    <tr>\n",
       "      <th>5</th>\n",
       "      <td>legends</td>\n",
       "      <td>firestorm</td>\n",
       "    </tr>\n",
       "  </tbody>\n",
       "</table>\n",
       "</div>"
      ],
      "text/plain": [
       "      team          hero\n",
       "1    arrow         arrow\n",
       "6    arrow        speedy\n",
       "0    flash         flash\n",
       "2    flash          vibe\n",
       "4    flash  killer frost\n",
       "3  legends          atom\n",
       "5  legends     firestorm"
      ]
     },
     "execution_count": 16,
     "metadata": {},
     "output_type": "execute_result"
    }
   ],
   "source": [
    "sorted_teams = teams.sort_values(by = ['team'])\n",
    "sorted_teams"
   ]
  },
  {
   "cell_type": "markdown",
   "metadata": {
    "id": "12jglVf9IVWV"
   },
   "source": [
    "Here is an example of how we would get the 2nd, 3rd, and 4th rows with only the `hero` column of the `teams` DataFrame using both `iloc[]` and `loc[]`. Observe the difference, especially after sorting by team."
   ]
  },
  {
   "cell_type": "code",
   "execution_count": 17,
   "metadata": {
    "id": "HwJxQ8XLIVWV",
    "nbgrader": {
     "grade": false,
     "grade_id": "cell-1292533181dbd2eb",
     "locked": true,
     "schema_version": 2,
     "solution": false
    }
   },
   "outputs": [
    {
     "data": {
      "text/plain": [
       "6    speedy\n",
       "0     flash\n",
       "2      vibe\n",
       "Name: hero, dtype: object"
      ]
     },
     "execution_count": 17,
     "metadata": {},
     "output_type": "execute_result"
    }
   ],
   "source": [
    "sorted_teams.iloc[1:4, 1]"
   ]
  },
  {
   "cell_type": "markdown",
   "metadata": {
    "id": "LRK6GfukIVWV"
   },
   "source": [
    "Notice that using `loc[]` with 1:4 gives different results, since it selects using the *index*."
   ]
  },
  {
   "cell_type": "code",
   "execution_count": 18,
   "metadata": {
    "id": "YksX3lORIVWW",
    "nbgrader": {
     "grade": false,
     "grade_id": "cell-31c9d32586d65565",
     "locked": true,
     "schema_version": 2,
     "solution": false
    }
   },
   "outputs": [
    {
     "data": {
      "text/plain": [
       "1           arrow\n",
       "6          speedy\n",
       "0           flash\n",
       "2            vibe\n",
       "4    killer frost\n",
       "Name: hero, dtype: object"
      ]
     },
     "execution_count": 18,
     "metadata": {},
     "output_type": "execute_result"
    }
   ],
   "source": [
    "sorted_teams.loc[1:4, 'hero']"
   ]
  },
  {
   "cell_type": "markdown",
   "metadata": {
    "deletable": false,
    "editable": false,
    "id": "R2TacyDJIVWY",
    "nbgrader": {
     "grade": false,
     "grade_id": "q4",
     "locked": true,
     "schema_version": 2,
     "solution": false
    }
   },
   "source": [
    "#### Question 1.2.a (3 points)\n",
    "\n",
    "Selecting multiple columns is easy.  You just need to supply a list of column names.  Select 4 columns (from `color` to `rank` **in that order**) from the `heroes` table."
   ]
  },
  {
   "cell_type": "code",
   "execution_count": 19,
   "metadata": {
    "id": "ygVtCXR3IVWZ",
    "nbgrader": {
     "grade": false,
     "grade_id": "q4_answer",
     "locked": false,
     "schema_version": 2,
     "solution": true
    }
   },
   "outputs": [
    {
     "data": {
      "text/html": [
       "<div>\n",
       "<style scoped>\n",
       "    .dataframe tbody tr th:only-of-type {\n",
       "        vertical-align: middle;\n",
       "    }\n",
       "\n",
       "    .dataframe tbody tr th {\n",
       "        vertical-align: top;\n",
       "    }\n",
       "\n",
       "    .dataframe thead th {\n",
       "        text-align: right;\n",
       "    }\n",
       "</style>\n",
       "<table border=\"1\" class=\"dataframe\">\n",
       "  <thead>\n",
       "    <tr style=\"text-align: right;\">\n",
       "      <th></th>\n",
       "      <th>color</th>\n",
       "      <th>first_seen_on</th>\n",
       "      <th>first_season</th>\n",
       "      <th>rank</th>\n",
       "    </tr>\n",
       "  </thead>\n",
       "  <tbody>\n",
       "    <tr>\n",
       "      <th>flash</th>\n",
       "      <td>red</td>\n",
       "      <td>a</td>\n",
       "      <td>2</td>\n",
       "      <td>1</td>\n",
       "    </tr>\n",
       "    <tr>\n",
       "      <th>arrow</th>\n",
       "      <td>green</td>\n",
       "      <td>a</td>\n",
       "      <td>1</td>\n",
       "      <td>2</td>\n",
       "    </tr>\n",
       "    <tr>\n",
       "      <th>vibe</th>\n",
       "      <td>black</td>\n",
       "      <td>f</td>\n",
       "      <td>2</td>\n",
       "      <td>3</td>\n",
       "    </tr>\n",
       "    <tr>\n",
       "      <th>atom</th>\n",
       "      <td>blue</td>\n",
       "      <td>a</td>\n",
       "      <td>3</td>\n",
       "      <td>4</td>\n",
       "    </tr>\n",
       "    <tr>\n",
       "      <th>canary</th>\n",
       "      <td>black</td>\n",
       "      <td>a</td>\n",
       "      <td>3</td>\n",
       "      <td>1</td>\n",
       "    </tr>\n",
       "    <tr>\n",
       "      <th>firestorm</th>\n",
       "      <td>red</td>\n",
       "      <td>f</td>\n",
       "      <td>1</td>\n",
       "      <td>2</td>\n",
       "    </tr>\n",
       "  </tbody>\n",
       "</table>\n",
       "</div>"
      ],
      "text/plain": [
       "           color first_seen_on  first_season  rank\n",
       "flash        red             a             2     1\n",
       "arrow      green             a             1     2\n",
       "vibe       black             f             2     3\n",
       "atom        blue             a             3     4\n",
       "canary     black             a             3     1\n",
       "firestorm    red             f             1     2"
      ]
     },
     "execution_count": 19,
     "metadata": {},
     "output_type": "execute_result"
    }
   ],
   "source": [
    "# type your code here\n",
    "list = ['color','first_seen_on', 'first_season', 'rank']\n",
    "heroes_select = heroes[list]\n",
    "heroes_select"
   ]
  },
  {
   "cell_type": "markdown",
   "metadata": {
    "id": "ONGkkzxFIVWa",
    "nbgrader": {
     "grade": false,
     "grade_id": "filter_data",
     "locked": true,
     "schema_version": 2,
     "solution": false
    }
   },
   "source": [
    "### 1.3 Filtering Data - filtering with boolean arrays\n",
    "\n",
    "Filtering is the process of removing unwanted material.  In your quest for cleaner data, you will undoubtedly filter your data at some point: whether it is for clearing up cases with missing values, for culling out fishy outliers, or for analyzing subgroups of your data set.  Note that compound expressions have to be grouped with parentheses. Example usage looks like `df[df['column name'] < 5]`.\n",
    "\n",
    "For your reference, some commonly used comparison operators are given below.\n",
    "\n",
    "Symbol | Usage      | Meaning \n",
    "------ | ---------- | -------------------------------------\n",
    "==   | a == b   | Does a equal b?\n",
    "<=   | a <= b   | Is a less than or equal to b?\n",
    ">=   | a >= b   | Is a greater than or equal to b?\n",
    "<    | a < b    | Is a less than b?\n",
    "&#62;    | a &#62; b    | Is a greater than b?\n",
    "~    | ~p       | Returns negation of p\n",
    "&#124; | p &#124; q | p OR q\n",
    "&    | p & q    | p AND q\n",
    "^  | p ^ q | p XOR q (exclusive or)"
   ]
  },
  {
   "cell_type": "markdown",
   "metadata": {
    "id": "sLAAY3HsIVWa",
    "nbgrader": {
     "grade": false,
     "grade_id": "filter_ca",
     "locked": true,
     "schema_version": 2,
     "solution": false
    }
   },
   "source": [
    "In the following we construct the DataFrame containing only characters that debuted in season 3 of Archer."
   ]
  },
  {
   "cell_type": "code",
   "execution_count": 20,
   "metadata": {
    "id": "bucXtqdeIVWb",
    "nbgrader": {
     "grade": false,
     "grade_id": "filter_ca_code",
     "locked": true,
     "schema_version": 2,
     "solution": false
    }
   },
   "outputs": [
    {
     "data": {
      "text/html": [
       "<div>\n",
       "<style scoped>\n",
       "    .dataframe tbody tr th:only-of-type {\n",
       "        vertical-align: middle;\n",
       "    }\n",
       "\n",
       "    .dataframe tbody tr th {\n",
       "        vertical-align: top;\n",
       "    }\n",
       "\n",
       "    .dataframe thead th {\n",
       "        text-align: right;\n",
       "    }\n",
       "</style>\n",
       "<table border=\"1\" class=\"dataframe\">\n",
       "  <thead>\n",
       "    <tr style=\"text-align: right;\">\n",
       "      <th></th>\n",
       "      <th>color</th>\n",
       "      <th>first_seen_on</th>\n",
       "      <th>first_season</th>\n",
       "    </tr>\n",
       "  </thead>\n",
       "  <tbody>\n",
       "    <tr>\n",
       "      <th>atom</th>\n",
       "      <td>blue</td>\n",
       "      <td>a</td>\n",
       "      <td>3</td>\n",
       "    </tr>\n",
       "    <tr>\n",
       "      <th>canary</th>\n",
       "      <td>black</td>\n",
       "      <td>a</td>\n",
       "      <td>3</td>\n",
       "    </tr>\n",
       "  </tbody>\n",
       "</table>\n",
       "</div>"
      ],
      "text/plain": [
       "        color first_seen_on  first_season\n",
       "atom     blue             a             3\n",
       "canary  black             a             3"
      ]
     },
     "execution_count": 20,
     "metadata": {},
     "output_type": "execute_result"
    }
   ],
   "source": [
    "season3 = heroes_original[(heroes_original['first_season']==3) & (heroes_original['first_seen_on']=='a')]\n",
    "season3"
   ]
  },
  {
   "cell_type": "markdown",
   "metadata": {
    "deletable": false,
    "editable": false,
    "id": "HJN0CUnvIVWb",
    "nbgrader": {
     "grade": false,
     "grade_id": "q5a",
     "locked": true,
     "schema_version": 2,
     "solution": false
    }
   },
   "source": [
    "#### Question 1.3.a (3 points)\n",
    "\n",
    "An often-used operation is a test-of-membership. The `Series.isin(values)` [method](https://pandas.pydata.org/pandas-docs/stable/reference/api/pandas.Series.isin.html?highlight=isin#pandas.Series.isin) returns a boolean array denoting whether each element of the Series is in `values`. We can use the array to subset. Return rows of heroes from the `heroes_original` table from seasons in `{1, 3}`.\n"
   ]
  },
  {
   "cell_type": "code",
   "execution_count": 21,
   "metadata": {
    "id": "mvEBNldCIVWb",
    "nbgrader": {
     "grade": false,
     "grade_id": "q5a_answer",
     "locked": false,
     "schema_version": 2,
     "solution": true
    }
   },
   "outputs": [
    {
     "data": {
      "text/html": [
       "<div>\n",
       "<style scoped>\n",
       "    .dataframe tbody tr th:only-of-type {\n",
       "        vertical-align: middle;\n",
       "    }\n",
       "\n",
       "    .dataframe tbody tr th {\n",
       "        vertical-align: top;\n",
       "    }\n",
       "\n",
       "    .dataframe thead th {\n",
       "        text-align: right;\n",
       "    }\n",
       "</style>\n",
       "<table border=\"1\" class=\"dataframe\">\n",
       "  <thead>\n",
       "    <tr style=\"text-align: right;\">\n",
       "      <th></th>\n",
       "      <th>color</th>\n",
       "      <th>first_seen_on</th>\n",
       "      <th>first_season</th>\n",
       "    </tr>\n",
       "  </thead>\n",
       "  <tbody>\n",
       "    <tr>\n",
       "      <th>arrow</th>\n",
       "      <td>green</td>\n",
       "      <td>a</td>\n",
       "      <td>1</td>\n",
       "    </tr>\n",
       "    <tr>\n",
       "      <th>atom</th>\n",
       "      <td>blue</td>\n",
       "      <td>a</td>\n",
       "      <td>3</td>\n",
       "    </tr>\n",
       "    <tr>\n",
       "      <th>canary</th>\n",
       "      <td>black</td>\n",
       "      <td>a</td>\n",
       "      <td>3</td>\n",
       "    </tr>\n",
       "    <tr>\n",
       "      <th>firestorm</th>\n",
       "      <td>red</td>\n",
       "      <td>f</td>\n",
       "      <td>1</td>\n",
       "    </tr>\n",
       "  </tbody>\n",
       "</table>\n",
       "</div>"
      ],
      "text/plain": [
       "           color first_seen_on  first_season\n",
       "arrow      green             a             1\n",
       "atom        blue             a             3\n",
       "canary     black             a             3\n",
       "firestorm    red             f             1"
      ]
     },
     "execution_count": 21,
     "metadata": {},
     "output_type": "execute_result"
    }
   ],
   "source": [
    "# type your code here\n",
    "result = heroes_original[heroes_original['first_season'].isin([1,3])]\n",
    "result"
   ]
  },
  {
   "cell_type": "markdown",
   "metadata": {
    "id": "OxRavD_uZ9Wx"
   },
   "source": [
    "### 1.4 Joining Tables\n",
    "\n",
    "For simplicity of the example, we will convert the index of the `heroes_original` into an explicit column called `hero`\n"
   ]
  },
  {
   "cell_type": "code",
   "execution_count": 22,
   "metadata": {
    "id": "K-1PSG1xcArW"
   },
   "outputs": [
    {
     "data": {
      "text/html": [
       "<div>\n",
       "<style scoped>\n",
       "    .dataframe tbody tr th:only-of-type {\n",
       "        vertical-align: middle;\n",
       "    }\n",
       "\n",
       "    .dataframe tbody tr th {\n",
       "        vertical-align: top;\n",
       "    }\n",
       "\n",
       "    .dataframe thead th {\n",
       "        text-align: right;\n",
       "    }\n",
       "</style>\n",
       "<table border=\"1\" class=\"dataframe\">\n",
       "  <thead>\n",
       "    <tr style=\"text-align: right;\">\n",
       "      <th></th>\n",
       "      <th>color</th>\n",
       "      <th>first_seen_on</th>\n",
       "      <th>first_season</th>\n",
       "      <th>hero</th>\n",
       "    </tr>\n",
       "  </thead>\n",
       "  <tbody>\n",
       "    <tr>\n",
       "      <th>flash</th>\n",
       "      <td>red</td>\n",
       "      <td>a</td>\n",
       "      <td>2</td>\n",
       "      <td>flash</td>\n",
       "    </tr>\n",
       "    <tr>\n",
       "      <th>arrow</th>\n",
       "      <td>green</td>\n",
       "      <td>a</td>\n",
       "      <td>1</td>\n",
       "      <td>arrow</td>\n",
       "    </tr>\n",
       "    <tr>\n",
       "      <th>vibe</th>\n",
       "      <td>black</td>\n",
       "      <td>f</td>\n",
       "      <td>2</td>\n",
       "      <td>vibe</td>\n",
       "    </tr>\n",
       "    <tr>\n",
       "      <th>atom</th>\n",
       "      <td>blue</td>\n",
       "      <td>a</td>\n",
       "      <td>3</td>\n",
       "      <td>atom</td>\n",
       "    </tr>\n",
       "    <tr>\n",
       "      <th>canary</th>\n",
       "      <td>black</td>\n",
       "      <td>a</td>\n",
       "      <td>3</td>\n",
       "      <td>canary</td>\n",
       "    </tr>\n",
       "    <tr>\n",
       "      <th>firestorm</th>\n",
       "      <td>red</td>\n",
       "      <td>f</td>\n",
       "      <td>1</td>\n",
       "      <td>firestorm</td>\n",
       "    </tr>\n",
       "  </tbody>\n",
       "</table>\n",
       "</div>"
      ],
      "text/plain": [
       "           color first_seen_on  first_season       hero\n",
       "flash        red             a             2      flash\n",
       "arrow      green             a             1      arrow\n",
       "vibe       black             f             2       vibe\n",
       "atom        blue             a             3       atom\n",
       "canary     black             a             3     canary\n",
       "firestorm    red             f             1  firestorm"
      ]
     },
     "execution_count": 22,
     "metadata": {},
     "output_type": "execute_result"
    }
   ],
   "source": [
    "heroes_original['hero'] = heroes_original.index\n",
    "heroes_original\n"
   ]
  },
  {
   "cell_type": "markdown",
   "metadata": {
    "id": "gbjARWRDcljq"
   },
   "source": [
    "#### Inner Join\n",
    "\n",
    "The inner join below returns rows representing the heroes that appear in both DataFrames."
   ]
  },
  {
   "cell_type": "code",
   "execution_count": 23,
   "metadata": {
    "id": "HKzsE1jJc_lS"
   },
   "outputs": [
    {
     "data": {
      "text/html": [
       "<div>\n",
       "<style scoped>\n",
       "    .dataframe tbody tr th:only-of-type {\n",
       "        vertical-align: middle;\n",
       "    }\n",
       "\n",
       "    .dataframe tbody tr th {\n",
       "        vertical-align: top;\n",
       "    }\n",
       "\n",
       "    .dataframe thead th {\n",
       "        text-align: right;\n",
       "    }\n",
       "</style>\n",
       "<table border=\"1\" class=\"dataframe\">\n",
       "  <thead>\n",
       "    <tr style=\"text-align: right;\">\n",
       "      <th></th>\n",
       "      <th>color</th>\n",
       "      <th>first_seen_on</th>\n",
       "      <th>first_season</th>\n",
       "      <th>hero</th>\n",
       "      <th>team</th>\n",
       "    </tr>\n",
       "  </thead>\n",
       "  <tbody>\n",
       "    <tr>\n",
       "      <th>0</th>\n",
       "      <td>red</td>\n",
       "      <td>a</td>\n",
       "      <td>2</td>\n",
       "      <td>flash</td>\n",
       "      <td>flash</td>\n",
       "    </tr>\n",
       "    <tr>\n",
       "      <th>1</th>\n",
       "      <td>green</td>\n",
       "      <td>a</td>\n",
       "      <td>1</td>\n",
       "      <td>arrow</td>\n",
       "      <td>arrow</td>\n",
       "    </tr>\n",
       "    <tr>\n",
       "      <th>2</th>\n",
       "      <td>black</td>\n",
       "      <td>f</td>\n",
       "      <td>2</td>\n",
       "      <td>vibe</td>\n",
       "      <td>flash</td>\n",
       "    </tr>\n",
       "    <tr>\n",
       "      <th>3</th>\n",
       "      <td>blue</td>\n",
       "      <td>a</td>\n",
       "      <td>3</td>\n",
       "      <td>atom</td>\n",
       "      <td>legends</td>\n",
       "    </tr>\n",
       "    <tr>\n",
       "      <th>4</th>\n",
       "      <td>red</td>\n",
       "      <td>f</td>\n",
       "      <td>1</td>\n",
       "      <td>firestorm</td>\n",
       "      <td>legends</td>\n",
       "    </tr>\n",
       "  </tbody>\n",
       "</table>\n",
       "</div>"
      ],
      "text/plain": [
       "   color first_seen_on  first_season       hero     team\n",
       "0    red             a             2      flash    flash\n",
       "1  green             a             1      arrow    arrow\n",
       "2  black             f             2       vibe    flash\n",
       "3   blue             a             3       atom  legends\n",
       "4    red             f             1  firestorm  legends"
      ]
     },
     "execution_count": 23,
     "metadata": {},
     "output_type": "execute_result"
    }
   ],
   "source": [
    "hero_team = pd.merge(heroes_original, teams, how='inner', on='hero')\n",
    "hero_team"
   ]
  },
  {
   "cell_type": "markdown",
   "metadata": {
    "id": "fOIYj6QwdThC"
   },
   "source": [
    "#### Left & Right Join\n",
    "\n",
    "The left join returns rows representing heroes in the table `heroes_original` (left), augmented by information found in the `teams` table. Its counterpart, the right join, would return heroes in the table of `teams`. \n",
    "\n",
    "**Note**: the team for hero `canary` is a `NaN` value, representing missing data."
   ]
  },
  {
   "cell_type": "code",
   "execution_count": 24,
   "metadata": {
    "id": "GHVyt0VwebwF"
   },
   "outputs": [
    {
     "data": {
      "text/html": [
       "<div>\n",
       "<style scoped>\n",
       "    .dataframe tbody tr th:only-of-type {\n",
       "        vertical-align: middle;\n",
       "    }\n",
       "\n",
       "    .dataframe tbody tr th {\n",
       "        vertical-align: top;\n",
       "    }\n",
       "\n",
       "    .dataframe thead th {\n",
       "        text-align: right;\n",
       "    }\n",
       "</style>\n",
       "<table border=\"1\" class=\"dataframe\">\n",
       "  <thead>\n",
       "    <tr style=\"text-align: right;\">\n",
       "      <th></th>\n",
       "      <th>color</th>\n",
       "      <th>first_seen_on</th>\n",
       "      <th>first_season</th>\n",
       "      <th>hero</th>\n",
       "      <th>team</th>\n",
       "    </tr>\n",
       "  </thead>\n",
       "  <tbody>\n",
       "    <tr>\n",
       "      <th>0</th>\n",
       "      <td>red</td>\n",
       "      <td>a</td>\n",
       "      <td>2</td>\n",
       "      <td>flash</td>\n",
       "      <td>flash</td>\n",
       "    </tr>\n",
       "    <tr>\n",
       "      <th>1</th>\n",
       "      <td>green</td>\n",
       "      <td>a</td>\n",
       "      <td>1</td>\n",
       "      <td>arrow</td>\n",
       "      <td>arrow</td>\n",
       "    </tr>\n",
       "    <tr>\n",
       "      <th>2</th>\n",
       "      <td>black</td>\n",
       "      <td>f</td>\n",
       "      <td>2</td>\n",
       "      <td>vibe</td>\n",
       "      <td>flash</td>\n",
       "    </tr>\n",
       "    <tr>\n",
       "      <th>3</th>\n",
       "      <td>blue</td>\n",
       "      <td>a</td>\n",
       "      <td>3</td>\n",
       "      <td>atom</td>\n",
       "      <td>legends</td>\n",
       "    </tr>\n",
       "    <tr>\n",
       "      <th>4</th>\n",
       "      <td>black</td>\n",
       "      <td>a</td>\n",
       "      <td>3</td>\n",
       "      <td>canary</td>\n",
       "      <td>NaN</td>\n",
       "    </tr>\n",
       "    <tr>\n",
       "      <th>5</th>\n",
       "      <td>red</td>\n",
       "      <td>f</td>\n",
       "      <td>1</td>\n",
       "      <td>firestorm</td>\n",
       "      <td>legends</td>\n",
       "    </tr>\n",
       "  </tbody>\n",
       "</table>\n",
       "</div>"
      ],
      "text/plain": [
       "   color first_seen_on  first_season       hero     team\n",
       "0    red             a             2      flash    flash\n",
       "1  green             a             1      arrow    arrow\n",
       "2  black             f             2       vibe    flash\n",
       "3   blue             a             3       atom  legends\n",
       "4  black             a             3     canary      NaN\n",
       "5    red             f             1  firestorm  legends"
      ]
     },
     "execution_count": 24,
     "metadata": {},
     "output_type": "execute_result"
    }
   ],
   "source": [
    "left_hero_team = pd.merge(heroes_original, teams, how='left', on='hero')\n",
    "left_hero_team"
   ]
  },
  {
   "cell_type": "markdown",
   "metadata": {
    "id": "rRh0qohXeuit"
   },
   "source": [
    "#### Outer Join\n",
    "\n",
    "An outer join on hero will return all heroes found in both the left and right DataFrames. Any missing values are filled in with `NaN`."
   ]
  },
  {
   "cell_type": "code",
   "execution_count": 25,
   "metadata": {
    "id": "7eetosBZe9tA"
   },
   "outputs": [
    {
     "data": {
      "text/html": [
       "<div>\n",
       "<style scoped>\n",
       "    .dataframe tbody tr th:only-of-type {\n",
       "        vertical-align: middle;\n",
       "    }\n",
       "\n",
       "    .dataframe tbody tr th {\n",
       "        vertical-align: top;\n",
       "    }\n",
       "\n",
       "    .dataframe thead th {\n",
       "        text-align: right;\n",
       "    }\n",
       "</style>\n",
       "<table border=\"1\" class=\"dataframe\">\n",
       "  <thead>\n",
       "    <tr style=\"text-align: right;\">\n",
       "      <th></th>\n",
       "      <th>color</th>\n",
       "      <th>first_seen_on</th>\n",
       "      <th>first_season</th>\n",
       "      <th>hero</th>\n",
       "      <th>team</th>\n",
       "    </tr>\n",
       "  </thead>\n",
       "  <tbody>\n",
       "    <tr>\n",
       "      <th>0</th>\n",
       "      <td>red</td>\n",
       "      <td>a</td>\n",
       "      <td>2.0</td>\n",
       "      <td>flash</td>\n",
       "      <td>flash</td>\n",
       "    </tr>\n",
       "    <tr>\n",
       "      <th>1</th>\n",
       "      <td>green</td>\n",
       "      <td>a</td>\n",
       "      <td>1.0</td>\n",
       "      <td>arrow</td>\n",
       "      <td>arrow</td>\n",
       "    </tr>\n",
       "    <tr>\n",
       "      <th>2</th>\n",
       "      <td>black</td>\n",
       "      <td>f</td>\n",
       "      <td>2.0</td>\n",
       "      <td>vibe</td>\n",
       "      <td>flash</td>\n",
       "    </tr>\n",
       "    <tr>\n",
       "      <th>3</th>\n",
       "      <td>blue</td>\n",
       "      <td>a</td>\n",
       "      <td>3.0</td>\n",
       "      <td>atom</td>\n",
       "      <td>legends</td>\n",
       "    </tr>\n",
       "    <tr>\n",
       "      <th>4</th>\n",
       "      <td>black</td>\n",
       "      <td>a</td>\n",
       "      <td>3.0</td>\n",
       "      <td>canary</td>\n",
       "      <td>NaN</td>\n",
       "    </tr>\n",
       "    <tr>\n",
       "      <th>5</th>\n",
       "      <td>red</td>\n",
       "      <td>f</td>\n",
       "      <td>1.0</td>\n",
       "      <td>firestorm</td>\n",
       "      <td>legends</td>\n",
       "    </tr>\n",
       "    <tr>\n",
       "      <th>6</th>\n",
       "      <td>NaN</td>\n",
       "      <td>NaN</td>\n",
       "      <td>NaN</td>\n",
       "      <td>killer frost</td>\n",
       "      <td>flash</td>\n",
       "    </tr>\n",
       "    <tr>\n",
       "      <th>7</th>\n",
       "      <td>NaN</td>\n",
       "      <td>NaN</td>\n",
       "      <td>NaN</td>\n",
       "      <td>speedy</td>\n",
       "      <td>arrow</td>\n",
       "    </tr>\n",
       "  </tbody>\n",
       "</table>\n",
       "</div>"
      ],
      "text/plain": [
       "   color first_seen_on  first_season          hero     team\n",
       "0    red             a           2.0         flash    flash\n",
       "1  green             a           1.0         arrow    arrow\n",
       "2  black             f           2.0          vibe    flash\n",
       "3   blue             a           3.0          atom  legends\n",
       "4  black             a           3.0        canary      NaN\n",
       "5    red             f           1.0     firestorm  legends\n",
       "6    NaN           NaN           NaN  killer frost    flash\n",
       "7    NaN           NaN           NaN        speedy    arrow"
      ]
     },
     "execution_count": 25,
     "metadata": {},
     "output_type": "execute_result"
    }
   ],
   "source": [
    "outer_hero_team = pd.merge(heroes_original, teams, how='outer', on='hero')\n",
    "outer_hero_team"
   ]
  },
  {
   "cell_type": "markdown",
   "metadata": {
    "id": "xzEkwjDEfK-e"
   },
   "source": [
    "#### Question 1.4.a (8 points)\n",
    "\n",
    "Join the 3 tables (`heroes_original`, `teams`, `identities`) to have all the information for every `ego` in the table of `identities`, which will be named as `ego_complete`. \n",
    "\n",
    "**Note**: You need to identify the right columns to join on and select the right join way (e.g., inner, left, right, or outer) to fulfill the request. Moreover, duplicate columns (including two columns of different names but with the same row values) or rows should be avoided."
   ]
  },
  {
   "cell_type": "code",
   "execution_count": 26,
   "metadata": {
    "id": "QL0OVt1xiWl4"
   },
   "outputs": [
    {
     "data": {
      "text/html": [
       "<div>\n",
       "<style scoped>\n",
       "    .dataframe tbody tr th:only-of-type {\n",
       "        vertical-align: middle;\n",
       "    }\n",
       "\n",
       "    .dataframe tbody tr th {\n",
       "        vertical-align: top;\n",
       "    }\n",
       "\n",
       "    .dataframe thead th {\n",
       "        text-align: right;\n",
       "    }\n",
       "</style>\n",
       "<table border=\"1\" class=\"dataframe\">\n",
       "  <thead>\n",
       "    <tr style=\"text-align: right;\">\n",
       "      <th></th>\n",
       "      <th>ego</th>\n",
       "      <th>hero</th>\n",
       "      <th>color</th>\n",
       "      <th>first_seen_on</th>\n",
       "      <th>first_season</th>\n",
       "      <th>team</th>\n",
       "    </tr>\n",
       "  </thead>\n",
       "  <tbody>\n",
       "    <tr>\n",
       "      <th>0</th>\n",
       "      <td>barry allen</td>\n",
       "      <td>flash</td>\n",
       "      <td>red</td>\n",
       "      <td>a</td>\n",
       "      <td>2</td>\n",
       "      <td>flash</td>\n",
       "    </tr>\n",
       "    <tr>\n",
       "      <th>1</th>\n",
       "      <td>oliver queen</td>\n",
       "      <td>arrow</td>\n",
       "      <td>green</td>\n",
       "      <td>a</td>\n",
       "      <td>1</td>\n",
       "      <td>arrow</td>\n",
       "    </tr>\n",
       "    <tr>\n",
       "      <th>2</th>\n",
       "      <td>cisco ramon</td>\n",
       "      <td>vibe</td>\n",
       "      <td>black</td>\n",
       "      <td>f</td>\n",
       "      <td>2</td>\n",
       "      <td>flash</td>\n",
       "    </tr>\n",
       "    <tr>\n",
       "      <th>3</th>\n",
       "      <td>ray palmer</td>\n",
       "      <td>atom</td>\n",
       "      <td>blue</td>\n",
       "      <td>a</td>\n",
       "      <td>3</td>\n",
       "      <td>legends</td>\n",
       "    </tr>\n",
       "    <tr>\n",
       "      <th>4</th>\n",
       "      <td>sara lance</td>\n",
       "      <td>canary</td>\n",
       "      <td>black</td>\n",
       "      <td>a</td>\n",
       "      <td>3</td>\n",
       "      <td>NaN</td>\n",
       "    </tr>\n",
       "    <tr>\n",
       "      <th>5</th>\n",
       "      <td>martin stein</td>\n",
       "      <td>firestorm</td>\n",
       "      <td>red</td>\n",
       "      <td>f</td>\n",
       "      <td>1</td>\n",
       "      <td>legends</td>\n",
       "    </tr>\n",
       "    <tr>\n",
       "      <th>6</th>\n",
       "      <td>ronnie raymond</td>\n",
       "      <td>firestorm</td>\n",
       "      <td>red</td>\n",
       "      <td>f</td>\n",
       "      <td>1</td>\n",
       "      <td>legends</td>\n",
       "    </tr>\n",
       "  </tbody>\n",
       "</table>\n",
       "</div>"
      ],
      "text/plain": [
       "              ego       hero  color first_seen_on  first_season     team\n",
       "0     barry allen      flash    red             a             2    flash\n",
       "1    oliver queen      arrow  green             a             1    arrow\n",
       "2     cisco ramon       vibe  black             f             2    flash\n",
       "3      ray palmer       atom   blue             a             3  legends\n",
       "4      sara lance     canary  black             a             3      NaN\n",
       "5    martin stein  firestorm    red             f             1  legends\n",
       "6  ronnie raymond  firestorm    red             f             1  legends"
      ]
     },
     "execution_count": 26,
     "metadata": {},
     "output_type": "execute_result"
    }
   ],
   "source": [
    "# type your code here\n",
    "id = identities.rename(columns={\"alter-ego\": \"hero\"})\n",
    "ego_comp = pd.merge(id,heroes_original, how='inner', on='hero')\n",
    "ego_complete = pd.merge(ego_comp, teams, how='left', on='hero')\n",
    "ego_complete"
   ]
  },
  {
   "cell_type": "code",
   "execution_count": 27,
   "metadata": {},
   "outputs": [
    {
     "data": {
      "text/html": [
       "<div>\n",
       "<style scoped>\n",
       "    .dataframe tbody tr th:only-of-type {\n",
       "        vertical-align: middle;\n",
       "    }\n",
       "\n",
       "    .dataframe tbody tr th {\n",
       "        vertical-align: top;\n",
       "    }\n",
       "\n",
       "    .dataframe thead th {\n",
       "        text-align: right;\n",
       "    }\n",
       "</style>\n",
       "<table border=\"1\" class=\"dataframe\">\n",
       "  <thead>\n",
       "    <tr style=\"text-align: right;\">\n",
       "      <th></th>\n",
       "      <th>ego</th>\n",
       "      <th>hero</th>\n",
       "      <th>color</th>\n",
       "      <th>first_seen_on</th>\n",
       "      <th>first_season</th>\n",
       "      <th>team</th>\n",
       "    </tr>\n",
       "  </thead>\n",
       "  <tbody>\n",
       "  </tbody>\n",
       "</table>\n",
       "</div>"
      ],
      "text/plain": [
       "Empty DataFrame\n",
       "Columns: [ego, hero, color, first_seen_on, first_season, team]\n",
       "Index: []"
      ]
     },
     "execution_count": 27,
     "metadata": {},
     "output_type": "execute_result"
    }
   ],
   "source": [
    "#check for duplicate\n",
    "ego_complete.loc[ego_complete.duplicated(), :]"
   ]
  },
  {
   "cell_type": "markdown",
   "metadata": {
    "id": "O6cGxf3YmzAJ"
   },
   "source": [
    "## Part 2: Data Wrangling, EDA, and Visualization\n",
    "\n",
    "In this part, we examine the process of data cleaning and Exploratory Data Analysis (EDA).  Often you will acquire or even be given a collection of data in order to conduct some analysis or answer some questions. The first step in using that data is to ensure that it is in the correct form (cleaned) and that you understand its properties and limitations (EDA). Often as you explore data through EDA you will identify additional transformations that may be required before the data is ready for analysis."
   ]
  },
  {
   "cell_type": "markdown",
   "metadata": {
    "id": "qab6xZ4oyPHE"
   },
   "source": [
    "### 2.1 JSON\n",
    "\n",
    "In this section, we show an example to translate a standard json file to a rectangular format.\n",
    "\n",
    "**Note**: 0 points for instructions, -5 if you do not run, output, and understand"
   ]
  },
  {
   "cell_type": "markdown",
   "metadata": {
    "id": "KGHLw_gyzNUR"
   },
   "source": [
    "#### Getting the Data\n",
    "\n",
    "To begin this analysis we want to get data about crimes in Berkeley.  Remarkably, the city of Berkeley maintains an [Open Data Portal](https://data.cityofberkeley.info/) for citizens to access data about the city.  We will be examining the:\n",
    "\n",
    "[Stop Data](https://data.cityofberkeley.info/Public-Safety/Berkeley-PD-Stop-Data-NEW-/4tbf-3yt8)\n",
    "\n",
    "Unfortunately, data is seldom well documented and when it is you may not be able to trust the documentation. It is therefore critical that when we download the data we investigate the fields and verify that it reflects the assumptions made in the documentation.\n",
    "\n",
    "In the interest of **reproducible data science** we will download the data programmatically.  We have defined some helper functions in the [myutils.py](myutils.py) file. We can then reuse these helper functions in many different notebooks."
   ]
  },
  {
   "cell_type": "markdown",
   "metadata": {
    "id": "-o6kS1clARzL"
   },
   "source": [
    "Mount your google drive and go to the specific folder that you are storing .py and data.\n",
    "\n",
    "**Note**: You need to change the path to your own path."
   ]
  },
  {
   "cell_type": "code",
   "execution_count": 28,
   "metadata": {
    "id": "olTcL3Ho0Z7v"
   },
   "outputs": [],
   "source": [
    "from myutils import fetch_and_cache"
   ]
  },
  {
   "cell_type": "markdown",
   "metadata": {
    "id": "2xa9hwuSrLmv"
   },
   "source": [
    "#### Downloading the Data\n",
    "\n",
    "Notice that because I record how I got the data in the notebook, others can reproduce this experiment. However, it is worth noting that **the data can change**.  We will want to pay attention to file timestamps."
   ]
  },
  {
   "cell_type": "code",
   "execution_count": 29,
   "metadata": {
    "id": "gF67lEPUrLmw"
   },
   "outputs": [
    {
     "name": "stdout",
     "output_type": "stream",
     "text": [
      "Using cached version that was downloaded (UTC): Tue Oct 19 09:05:30 2021\n"
     ]
    }
   ],
   "source": [
    "stops_file = fetch_and_cache(\"https://data.cityofberkeley.info/api/views/4tbf-3yt8/rows.json?accessType=DOWNLOAD\",\n",
    "                \"stops.json\", force=False)"
   ]
  },
  {
   "cell_type": "markdown",
   "metadata": {
    "id": "x_z7boA0rLmx"
   },
   "source": [
    "#### Exploring the data\n",
    "\n",
    "Now that we have obtained the data we want to understand its:\n",
    "\n",
    "* **Structure** -- the \"shape\" of a data file\n",
    "* **Granularity** -- how fine/coarse is each datum\n",
    "* **Scope** -- how (in)complete is the data\n",
    "* **Temporality** -- how is the data situated in time\n",
    "* **Faithfulness** -- how well does the data capture \"reality\"\n",
    "\n"
   ]
  },
  {
   "cell_type": "markdown",
   "metadata": {
    "id": "l4nv0IVwrLmx"
   },
   "source": [
    "##### Structure\n",
    "\n",
    "Before we even begin to load the data, it often helps to understand a little about the high-level structure:\n",
    "\n",
    "1. How much data do I have?\n",
    "1. How is it formatted?"
   ]
  },
  {
   "cell_type": "markdown",
   "metadata": {
    "id": "CtRxc8MKrLmy"
   },
   "source": [
    "###### How big is the data?\n",
    "\n",
    "We often like to start the analysis by getting a rough estimate of the size of the data. This will help inform the tools we use and how we view the data.  If it is relatively small, we might use a text editor or a spreadsheet to look at the data.  If it is larger, we might jump to more programmatic exploration or even use distributed computing tools.\n",
    "\n",
    "However here we will use python tools to probe the file."
   ]
  },
  {
   "cell_type": "code",
   "execution_count": 30,
   "metadata": {
    "ExecuteTime": {
     "end_time": "2018-02-02T15:15:18.961511Z",
     "start_time": "2018-02-02T15:15:18.955308Z"
    },
    "id": "LqS1AeS3rLmy"
   },
   "outputs": [
    {
     "name": "stdout",
     "output_type": "stream",
     "text": [
      "data/stops.json is 17.560158 MB\n"
     ]
    }
   ],
   "source": [
    "import os\n",
    "print(stops_file, \"is\", os.path.getsize(stops_file) / 1e6, \"MB\")"
   ]
  },
  {
   "cell_type": "markdown",
   "metadata": {
    "id": "KE7ouxk-rLm0"
   },
   "source": [
    "The file is relatively small and we could comfortable examine them in a text editor.  (Personally, I like *sublime*). \n",
    "\n",
    "In listing the files I noticed that the names suggest that they are all text file formats:\n",
    "* **JSON**: JavaScript Object Notation is a very standard semi-structured file format used to store nested data.\n",
    "\n",
    "We will dive into the formats in a moment.  However because these are text data I might also want to investigate the number of lines which often correspond to records."
   ]
  },
  {
   "cell_type": "code",
   "execution_count": 31,
   "metadata": {
    "ExecuteTime": {
     "end_time": "2018-02-02T15:15:18.993584Z",
     "start_time": "2018-02-02T15:15:18.989848Z"
    },
    "id": "-2KUTmYbrLm1"
   },
   "outputs": [
    {
     "name": "stdout",
     "output_type": "stream",
     "text": [
      "data/stops.json is 59818 lines.\n"
     ]
    }
   ],
   "source": [
    "with open(stops_file, \"r\") as f:\n",
    "    print(stops_file, \"is\", sum(1 for l in f), \"lines.\")"
   ]
  },
  {
   "cell_type": "markdown",
   "metadata": {
    "id": "7y0vVcGQrLm1"
   },
   "source": [
    "\n",
    "###### What is the file format?  (Can we trust extensions?)\n",
    "\n",
    "We already noticed that the file ends in `json` which suggests a javascript object file.  However, we can't always rely on the naming as this is only a convention.  For example, here we picked the name of the file when downloading based on some hints in the URL.\n",
    "\n",
    "\n",
    "\n",
    "**Often files will have incorrect extensions or no extension at all.**\n",
    "\n",
    "Let's assume that these are text files (and do not contain binary encoded data) so we can print a \"few lines\" to get a better understanding of the file."
   ]
  },
  {
   "cell_type": "code",
   "execution_count": 32,
   "metadata": {
    "id": "eHd14rT9rLm2"
   },
   "outputs": [
    {
     "name": "stdout",
     "output_type": "stream",
     "text": [
      "data/stops.json ======================\n",
      "0 \t '{\\n'\n",
      "1 \t '  \"meta\" : {\\n'\n",
      "2 \t '    \"view\" : {\\n'\n",
      "3 \t '      \"id\" : \"4tbf-3yt8\",\\n'\n",
      "4 \t '      \"name\" : \"Berkeley PD - Stop Data (Jan 26, 2015 to Sep 30, 2020)\",\\n'\n",
      "5 \t '      \"assetType\" : \"dataset\",\\n'\n",
      "6 \t '      \"attribution\" : \"City of Berkeley Police Department\",\\n'\n",
      "7 \t '      \"averageRating\" : 0,\\n'\n",
      "8 \t '      \"category\" : \"Public Safety\",\\n'\n",
      "9 \t '      \"createdAt\" : 1588602591,\\n'\n",
      "10 \t '      \"description\" : \"This data was extracted from the Department’s Public Safety Server and covers data beginning January 26, 2015.  On January 26, 2015 the department began collecting data pursuant to General Order B-4 (issued December 31, 2014). Under that Order, officers were required to provide certain data after making any detention (vehicle, bicycle, pedestrian, suspicious auto).  This dataset provides information about detentions, including the race, sex, age range, of the person detained; the reason for the stop; the type of enforcement taken (if any), and whether or not a search was conducted.  Also provided are the date, time, location of the detention, as well as the incident number and call for service type.\",\\n'\n",
      "11 \t '      \"displayType\" : \"table\",\\n'\n",
      "12 \t '      \"downloadCount\" : 296,\\n'\n",
      "13 \t '      \"hideFromCatalog\" : false,\\n'\n",
      "14 \t '      \"hideFromDataJson\" : false,\\n'\n",
      "15 \t '      \"licenseId\" : \"USGOV_WORKS\",\\n'\n",
      "16 \t '      \"newBackend\" : true,\\n'\n",
      "17 \t '      \"numberOfComments\" : 0,\\n'\n",
      "18 \t '      \"oid\" : 34059901,\\n'\n",
      "19 \t '      \"provenance\" : \"official\",\\n'\n"
     ]
    }
   ],
   "source": [
    "print(stops_file, \"======================\")\n",
    "with open(stops_file, \"r\") as f:\n",
    "    for i in range(20):\n",
    "        print(i, \"\\t\", repr(f.readline()))"
   ]
  },
  {
   "cell_type": "markdown",
   "metadata": {
    "id": "ZMmOGeJorLm2"
   },
   "source": [
    "Notice that I used the `repr` function to return the raw string with special characters.  This is helpful in deducing the file format."
   ]
  },
  {
   "cell_type": "markdown",
   "metadata": {
    "id": "-VpFMy9jrLm3"
   },
   "source": [
    "###### What are some observations about `Stops` data?\n",
    "\n",
    "This appears to be a fairly standard JSON file.  We notice that the file appears to contain a description of itself in a field called \"meta\" (which is presumably short for meta-data).  We will come back to this meta data in a moment but first let's quickly discuss the JSON file format.\n"
   ]
  },
  {
   "cell_type": "markdown",
   "metadata": {
    "id": "lKb3K6U-rLm4"
   },
   "source": [
    "\n",
    "###### A quick note on JSON\n",
    "\n",
    "[JSON (JavaScript Object Notation)](http://www.json.org) is a common format for exchanging complex structured and semi-structured data. \n",
    "\n",
    "```javascript\n",
    "{\n",
    "    \"field1\": \"value1\",\n",
    "    \"field2\": [\"list\", \"of\", \"values\"],\n",
    "    \"myfield3\": {\"is_recursive\": true, \"a null value\": null}\n",
    "}\n",
    "```\n",
    "\n",
    "A few key points:\n",
    "* JSON is a recursive format in that JSON fields can also contain JSON objects\n",
    "* JSON closely matches Python Dictionaries:\n",
    "```python\n",
    "d = {\n",
    "    \"field1\": \"value1\",\n",
    "    \"field2\": [\"list\", \"of\", \"values\"],\n",
    "    \"myfield3\": {\"is_recursive\": True, \"a null value\": None}\n",
    "}\n",
    "print(d['myfield3'])\n",
    "```\n",
    "* Very common in web technologies (... JavaScript)\n",
    "* Many languages have tools for loading and saving JSON objects\n",
    "\n"
   ]
  },
  {
   "cell_type": "markdown",
   "metadata": {
    "id": "7FMZdk1WrLm4"
   },
   "source": [
    "\n",
    "#### Loading the Data\n",
    "\n",
    "We will now attempt to load the data into python.  We will be using the Pandas dataframe library for basic tabular data analysis.  Fortunately, the Pandas library has some relatively sophisticated functions for loading data. "
   ]
  },
  {
   "cell_type": "code",
   "execution_count": 33,
   "metadata": {
    "ExecuteTime": {
     "end_time": "2018-02-02T15:15:19.441300Z",
     "start_time": "2018-02-02T15:15:19.358900Z"
    },
    "id": "L1m_3uuyrLm_"
   },
   "outputs": [],
   "source": [
    "import json\n",
    "\n",
    "with open(\"data/stops.json\", \"rb\") as f:\n",
    "    stops_json = json.load(f)"
   ]
  },
  {
   "cell_type": "markdown",
   "metadata": {
    "id": "M_EMXZkmrLm_"
   },
   "source": [
    "The `stops_json` variable is now a dictionary encoding the data in the file:"
   ]
  },
  {
   "cell_type": "code",
   "execution_count": 34,
   "metadata": {
    "ExecuteTime": {
     "end_time": "2018-02-02T15:15:19.447238Z",
     "start_time": "2018-02-02T15:15:19.443595Z"
    },
    "id": "JrIT1USgrLm_"
   },
   "outputs": [
    {
     "data": {
      "text/plain": [
       "dict"
      ]
     },
     "execution_count": 34,
     "metadata": {},
     "output_type": "execute_result"
    }
   ],
   "source": [
    "type(stops_json)"
   ]
  },
  {
   "cell_type": "markdown",
   "metadata": {
    "id": "CCaCiRf5rLm_"
   },
   "source": [
    "We can now examine what keys are in the top level json object. We can list the keys to determine what data is stored in the object."
   ]
  },
  {
   "cell_type": "code",
   "execution_count": 35,
   "metadata": {
    "ExecuteTime": {
     "end_time": "2018-02-02T15:15:19.680999Z",
     "start_time": "2018-02-02T15:15:19.675696Z"
    },
    "id": "cxSMPRgMrLm_"
   },
   "outputs": [
    {
     "data": {
      "text/plain": [
       "dict_keys(['meta', 'data'])"
      ]
     },
     "execution_count": 35,
     "metadata": {},
     "output_type": "execute_result"
    }
   ],
   "source": [
    "stops_json.keys()"
   ]
  },
  {
   "cell_type": "markdown",
   "metadata": {
    "id": "5572uMRfrLm_"
   },
   "source": [
    "##### Observation\n",
    "\n",
    "The JSON dictionary contains a `meta` key which likely refers to meta data (data about the data).  Meta data is often maintained with the data and can be a good source of additional information."
   ]
  },
  {
   "cell_type": "markdown",
   "metadata": {
    "id": "hWJOB8Z5rLnA"
   },
   "source": [
    "#### Digging into Meta Data\n",
    "\n",
    "We can investigate the meta data further by examining the keys associated with the metadata."
   ]
  },
  {
   "cell_type": "code",
   "execution_count": 36,
   "metadata": {
    "ExecuteTime": {
     "end_time": "2018-02-02T15:15:19.687295Z",
     "start_time": "2018-02-02T15:15:19.682902Z"
    },
    "id": "gmQHbs47rLnA"
   },
   "outputs": [
    {
     "data": {
      "text/plain": [
       "dict_keys(['view'])"
      ]
     },
     "execution_count": 36,
     "metadata": {},
     "output_type": "execute_result"
    }
   ],
   "source": [
    "stops_json['meta'].keys()"
   ]
  },
  {
   "cell_type": "markdown",
   "metadata": {
    "id": "i72Tg1wRrLnA"
   },
   "source": [
    "The `meta` key contains another dictionary called `view`.  This likely refers to meta-data about a particular \"view\" of some underlying database.   "
   ]
  },
  {
   "cell_type": "code",
   "execution_count": 37,
   "metadata": {
    "ExecuteTime": {
     "end_time": "2018-02-02T15:15:19.693946Z",
     "start_time": "2018-02-02T15:15:19.690139Z"
    },
    "id": "HHWqbn6drLnA"
   },
   "outputs": [
    {
     "data": {
      "text/plain": [
       "dict_keys(['id', 'name', 'assetType', 'attribution', 'averageRating', 'category', 'createdAt', 'description', 'displayType', 'downloadCount', 'hideFromCatalog', 'hideFromDataJson', 'licenseId', 'newBackend', 'numberOfComments', 'oid', 'provenance', 'publicationAppendEnabled', 'publicationDate', 'publicationGroup', 'publicationStage', 'rowsUpdatedAt', 'rowsUpdatedBy', 'tableId', 'totalTimesRated', 'viewCount', 'viewLastModified', 'viewType', 'approvals', 'columns', 'grants', 'license', 'metadata', 'owner', 'query', 'rights', 'tableAuthor', 'tags', 'flags'])"
      ]
     },
     "execution_count": 37,
     "metadata": {},
     "output_type": "execute_result"
    }
   ],
   "source": [
    "stops_json['meta']['view'].keys()"
   ]
  },
  {
   "cell_type": "markdown",
   "metadata": {
    "id": "ToQogQ_wrLnA"
   },
   "source": [
    "Notice that this a nested/recursive data structure.  As we dig deeper we reveal more and more keys and the corresponding data:\n",
    "\n",
    "```\n",
    "meta\n",
    "|-> view\n",
    "    | -> id\n",
    "    | -> name\n",
    "    | -> attribution \n",
    "    ...\n",
    "data\n",
    "| -> ... (haven't explored yet)\n",
    "```"
   ]
  },
  {
   "cell_type": "markdown",
   "metadata": {
    "id": "FYUVKtH4rLnB"
   },
   "source": [
    "There is a key called description in the view sub dictionary.  This likely contains a description of the data:"
   ]
  },
  {
   "cell_type": "code",
   "execution_count": 38,
   "metadata": {
    "ExecuteTime": {
     "end_time": "2018-02-02T15:15:19.699773Z",
     "start_time": "2018-02-02T15:15:19.695818Z"
    },
    "id": "gpAayeDnrLnB"
   },
   "outputs": [
    {
     "name": "stdout",
     "output_type": "stream",
     "text": [
      "This data was extracted from the Department’s Public Safety Server and covers data beginning January 26, 2015.  On January 26, 2015 the department began collecting data pursuant to General Order B-4 (issued December 31, 2014). Under that Order, officers were required to provide certain data after making any detention (vehicle, bicycle, pedestrian, suspicious auto).  This dataset provides information about detentions, including the race, sex, age range, of the person detained; the reason for the stop; the type of enforcement taken (if any), and whether or not a search was conducted.  Also provided are the date, time, location of the detention, as well as the incident number and call for service type.\n"
     ]
    }
   ],
   "source": [
    "print(stops_json['meta']['view']['description'])"
   ]
  },
  {
   "cell_type": "markdown",
   "metadata": {
    "id": "AuHf1tP6rLnB"
   },
   "source": [
    "##### Columns Meta data\n",
    "\n",
    "Another potentially useful key in the meta data dictionary is the `columns`.  This returns a list:"
   ]
  },
  {
   "cell_type": "code",
   "execution_count": 39,
   "metadata": {
    "ExecuteTime": {
     "end_time": "2018-02-02T15:15:19.706171Z",
     "start_time": "2018-02-02T15:15:19.701580Z"
    },
    "id": "T83b_HIrrLnB"
   },
   "outputs": [
    {
     "data": {
      "text/plain": [
       "list"
      ]
     },
     "execution_count": 39,
     "metadata": {},
     "output_type": "execute_result"
    }
   ],
   "source": [
    "type(stops_json['meta']['view']['columns'])"
   ]
  },
  {
   "cell_type": "markdown",
   "metadata": {
    "id": "JtSqGN3arLnB"
   },
   "source": [
    "We can browse summary data in the list using python:"
   ]
  },
  {
   "cell_type": "code",
   "execution_count": 40,
   "metadata": {
    "id": "2-N_vBclrLnB"
   },
   "outputs": [
    {
     "name": "stdout",
     "output_type": "stream",
     "text": [
      "sid : \n",
      "id : \n",
      "position : \n",
      "created_at : \n",
      "created_meta : \n",
      "updated_at : \n",
      "updated_meta : \n",
      "meta : \n",
      "CreateDatetime : \n",
      "\t2015-06-11T06:48:26.000:10\n",
      "\t2020-01-07T08:15:40.000:6\n",
      "\t2020-02-13T08:10:43.000:6\n",
      "\t2017-01-26T11:10:06.000:6\n",
      "\t2016-07-03T23:45:04.000:5\n",
      "\t2016-12-22T23:58:59.000:5\n",
      "\t2017-01-06T00:25:16.000:5\n",
      "\t2016-04-19T00:50:19.000:5\n",
      "\t2015-11-16T07:19:28.000:5\n",
      "\t2016-03-25T01:13:14.000:5\n",
      "\t2015-02-01T19:33:13.000:5\n",
      "\t2016-06-11T19:55:36.000:5\n",
      "\t2015-12-16T23:11:58.000:4\n",
      "\t2016-05-25T01:20:06.000:4\n",
      "\t2016-05-01T01:23:53.000:4\n",
      "\t2018-09-29T00:59:15.000:4\n",
      "\t2016-12-05T00:14:11.000:4\n",
      "\t2018-02-23T00:12:21.000:4\n",
      "\t2015-12-19T02:11:34.000:4\n",
      "\t2015-05-26T10:04:15.000:4\n",
      "IncidentNumber : \n",
      "\t2020-00001049:6\n",
      "\t2020-00008547:6\n",
      "\t2016-00075241:5\n",
      "\t2016-00034574:5\n",
      "\t2017-00000828:5\n",
      "\t2016-00039405:5\n",
      "\t2016-00022806:5\n",
      "\t2015-00033576:5\n",
      "\t2015-00033565:5\n",
      "\t2016-00017339:5\n",
      "\t2015-00067321:5\n",
      "\t2015-00006347:5\n",
      "\t2016-00030130:4\n",
      "\t2018-00054850:4\n",
      "\t2016-00042775:4\n",
      "\t2016-00042412:4\n",
      "\t2015-00030246:4\n",
      "\t2015-00073776:4\n",
      "\t2016-00027631:4\n",
      "\t2017-00045853:4\n",
      "Address : \n",
      "\tUNIVERSITY AVE / 6TH ST:530\n",
      "\tUNIVERSITY AVE / SAN PABLO AVE:472\n",
      "\tASHBY AVE / 7TH ST:458\n",
      "\t6TH ST / UNIVERSITY AVE:455\n",
      "\t7TH ST / POTTER ST:378\n",
      "\tUNIVERSITY AVE / MARTIN LUTHER KING JR WAY:360\n",
      "\tASHBY AVE / SAN PABLO AVE:354\n",
      "\t80 BOLIVAR DR:349\n",
      "\tSAN PABLO AVE / UNIVERSITY AVE:341\n",
      "\tUNIVERSITY AVE / FRONTAGE RD:320\n",
      "\t7TH ST / ASHBY AVE:316\n",
      "\tUNIVERSITY AVE / ACTON ST:297\n",
      "\tUNIVERSITY AVE / SACRAMENTO ST:295\n",
      "\tSHATTUCK AVE / KITTREDGE ST:273\n",
      "\tUNIVERSITY AVE / BONAR ST:243\n",
      "\tSAN PABLO AVE / ASHBY AVE:232\n",
      "\tPOTTER ST / 7TH ST:221\n",
      "\tUNIVERSITY AVE / 7TH ST:214\n",
      "\t1998 SHATTUCK AVE:211\n",
      "\tUNIVERSITY AVE / SHATTUCK AVE:204\n",
      "City : \n",
      "\tBERKELEY:53068\n",
      "\tOAKLAND:1820\n",
      "\tEMERYVILLE:333\n",
      "\tALBANY:131\n",
      "\tBerkeley:2\n",
      "Lat : \n",
      "\t-361:2975\n",
      "\t37.8679938952317:985\n",
      "\t37.8690965881111:813\n",
      "\t37.8510085539258:774\n",
      "\t37.851514871299:599\n",
      "\t37.8521406356223:586\n",
      "\t37.8715552579039:500\n",
      "\t37.8704105618947:411\n",
      "\t37.8684892490658:397\n",
      "\t37.8721514457952:394\n",
      "\t37.866444424993:392\n",
      "\t37.8532810828134:357\n",
      "\t37.8701126448154:351\n",
      "\t37.864546219:348\n",
      "\t37.8543163816344:341\n",
      "\t37.868202005596:336\n",
      "\t37.8516158126794:312\n",
      "\t37.8693028530001:289\n",
      "\t37.8657797973319:269\n",
      "\t37.8696960806515:266\n",
      "Lon : \n",
      "\t-361:2975\n",
      "\t-122.29766438932:985\n",
      "\t-122.292119433227:813\n",
      "\t-122.291104027758:774\n",
      "\t-122.291270411224:599\n",
      "\t-122.286683357453:586\n",
      "\t-122.273001334751:500\n",
      "\t-122.281937987589:411\n",
      "\t-122.267867518566:397\n",
      "\t-122.268413920386:394\n",
      "\t-122.305556166601:392\n",
      "\t-122.279011568421:357\n",
      "\t-122.284248929276:351\n",
      "\t-122.301738812:348\n",
      "\t-122.271084144582:341\n",
      "\t-122.296624749849:336\n",
      "\t-122.289369289088:312\n",
      "\t-122.272234021:289\n",
      "\t-122.267576001741:269\n",
      "\t-122.287499476536:266\n",
      "CallType : \n",
      "\tT:46330\n",
      "\t1194:6875\n",
      "\t1196:3248\n",
      "\t1194B:2498\n",
      "Race : \n",
      "\tWhite:20639\n",
      "\tBlack:19831\n",
      "\tHispanic:7577\n",
      "\tOther:5910\n",
      "\tAsian:4635\n",
      "\t0:359\n",
      "Gender : \n",
      "\tMale:41253\n",
      "\tFemale:17339\n",
      "\t0:359\n",
      "Age : \n",
      "\t>40:21947\n",
      "\t18-29:19324\n",
      "\t30-39:15885\n",
      "\t<18:1436\n",
      "\t0:359\n",
      "Reason : \n",
      "\tTraffic:49753\n",
      "\tInvestigation:5332\n",
      "\tReas. Susp.:2307\n",
      "\tProb./Parole:984\n",
      "\t0:359\n",
      "\tWanted:212\n",
      "Enforcement : \n",
      "\tWarning:35226\n",
      "\tCitation:20481\n",
      "\tArrest:1934\n",
      "\tOther:951\n",
      "\t0:359\n",
      "Car Search : \n",
      "\tNo Search:49729\n",
      "\tSearch:8863\n",
      "\t0:359\n"
     ]
    }
   ],
   "source": [
    "for c in stops_json['meta']['view']['columns']:\n",
    "    top = \"\"\n",
    "    items = \"\"\n",
    "    if \"cachedContents\" in c:\n",
    "        top = c[\"cachedContents\"][\"top\"]\n",
    "        for i in top:\n",
    "            items = items + \"\\n\\t\" + i[\"item\"] + \":\" + i[\"count\"]\n",
    "    print(c[\"name\"], \":\", items)"
   ]
  },
  {
   "cell_type": "markdown",
   "metadata": {
    "id": "tQzArEAdrLnC"
   },
   "source": [
    "\n",
    "##### Observations?\n",
    "\n",
    "1. The above meta data tells us a lot about the columns in the data including column names, potential data anomalies, and a basic statistic. \n",
    "1. The old version of this data included descriptions which would be useful in loading and working with the data.\n",
    "1. JSON makes it easier (than CSV) to create \"self-documented data\". \n",
    "1. Self documenting data can be helpful since it maintains it's own description and these descriptions are more likely to be updated as data changes. "
   ]
  },
  {
   "cell_type": "markdown",
   "metadata": {
    "id": "j_lSS_lgrLnC"
   },
   "source": [
    "\n",
    "#### Examining the Data Field\n",
    "\n",
    "We can look at a few entries in the data field\n"
   ]
  },
  {
   "cell_type": "code",
   "execution_count": 41,
   "metadata": {
    "ExecuteTime": {
     "end_time": "2018-02-02T15:15:19.722451Z",
     "start_time": "2018-02-02T15:15:19.717198Z"
    },
    "id": "1B3k7NWprLnC"
   },
   "outputs": [
    {
     "name": "stdout",
     "output_type": "stream",
     "text": [
      "0 \t ['row-qdhm~vqfy.3zxd', '00000000-0000-0000-B8F1-995A55B55DE5', 0, 1628845237, None, 1628845237, None, '{ }', '2017-01-29T23:01:39', '2017-00005533', '80 BOLIVAR DR', 'BERKELEY', '37.864546219', '-122.301738812', '1196', 'Hispanic', 'Female', '>40', 'Investigation', 'Warning', 'Search']\n",
      "1 \t ['row-7zd2.fzni_26x7', '00000000-0000-0000-5F81-4C8F8669527C', 0, 1622797226, None, 1622797226, None, '{ }', '2018-03-14T16:25:55', '2018-00015116', 'ANTHONY ST / 7TH ST', 'BERKELEY', '37.8522263089015', '-122.291495435525', 'T', 'White', 'Female', '30-39', 'Traffic', 'Citation', 'No Search']\n",
      "2 \t ['row-ni5e.3gps_2h9x', '00000000-0000-0000-52BB-9DF61D6907B1', 0, 1622192428, None, 1622192428, None, '{ }', '2016-07-01T16:36:28', '2016-00038890', '2008 SHATTUCK AVE', 'BERKELEY', '37.8717333701234', '-122.268656966847', '1194B', 'Black', 'Male', '18-29', 'Reas. Susp.', 'Citation', 'No Search']\n"
     ]
    }
   ],
   "source": [
    "for i in range(3):\n",
    "    print(i, \"\\t\", stops_json['data'][i])"
   ]
  },
  {
   "cell_type": "markdown",
   "metadata": {
    "id": "0zjdZ8bmrLnC"
   },
   "source": [
    "#### Building a Dataframe from JSON\n",
    "\n",
    "In the following block of code we:\n",
    "1. Translate the JSON records into a dataframe\n",
    "1. Examine the top of the table"
   ]
  },
  {
   "cell_type": "code",
   "execution_count": 42,
   "metadata": {
    "ExecuteTime": {
     "end_time": "2018-02-02T15:15:19.793306Z",
     "start_time": "2018-02-02T15:15:19.725044Z"
    },
    "id": "LAPnckoSrLnD"
   },
   "outputs": [
    {
     "data": {
      "text/html": [
       "<div>\n",
       "<style scoped>\n",
       "    .dataframe tbody tr th:only-of-type {\n",
       "        vertical-align: middle;\n",
       "    }\n",
       "\n",
       "    .dataframe tbody tr th {\n",
       "        vertical-align: top;\n",
       "    }\n",
       "\n",
       "    .dataframe thead th {\n",
       "        text-align: right;\n",
       "    }\n",
       "</style>\n",
       "<table border=\"1\" class=\"dataframe\">\n",
       "  <thead>\n",
       "    <tr style=\"text-align: right;\">\n",
       "      <th></th>\n",
       "      <th>sid</th>\n",
       "      <th>id</th>\n",
       "      <th>position</th>\n",
       "      <th>created_at</th>\n",
       "      <th>created_meta</th>\n",
       "      <th>updated_at</th>\n",
       "      <th>updated_meta</th>\n",
       "      <th>meta</th>\n",
       "      <th>CreateDatetime</th>\n",
       "      <th>IncidentNumber</th>\n",
       "      <th>...</th>\n",
       "      <th>City</th>\n",
       "      <th>Lat</th>\n",
       "      <th>Lon</th>\n",
       "      <th>CallType</th>\n",
       "      <th>Race</th>\n",
       "      <th>Gender</th>\n",
       "      <th>Age</th>\n",
       "      <th>Reason</th>\n",
       "      <th>Enforcement</th>\n",
       "      <th>Car Search</th>\n",
       "    </tr>\n",
       "  </thead>\n",
       "  <tbody>\n",
       "    <tr>\n",
       "      <th>0</th>\n",
       "      <td>row-qdhm~vqfy.3zxd</td>\n",
       "      <td>00000000-0000-0000-B8F1-995A55B55DE5</td>\n",
       "      <td>0</td>\n",
       "      <td>1628845237</td>\n",
       "      <td>None</td>\n",
       "      <td>1628845237</td>\n",
       "      <td>None</td>\n",
       "      <td>{ }</td>\n",
       "      <td>2017-01-29T23:01:39</td>\n",
       "      <td>2017-00005533</td>\n",
       "      <td>...</td>\n",
       "      <td>BERKELEY</td>\n",
       "      <td>37.864546219</td>\n",
       "      <td>-122.301738812</td>\n",
       "      <td>1196</td>\n",
       "      <td>Hispanic</td>\n",
       "      <td>Female</td>\n",
       "      <td>&gt;40</td>\n",
       "      <td>Investigation</td>\n",
       "      <td>Warning</td>\n",
       "      <td>Search</td>\n",
       "    </tr>\n",
       "    <tr>\n",
       "      <th>1</th>\n",
       "      <td>row-7zd2.fzni_26x7</td>\n",
       "      <td>00000000-0000-0000-5F81-4C8F8669527C</td>\n",
       "      <td>0</td>\n",
       "      <td>1622797226</td>\n",
       "      <td>None</td>\n",
       "      <td>1622797226</td>\n",
       "      <td>None</td>\n",
       "      <td>{ }</td>\n",
       "      <td>2018-03-14T16:25:55</td>\n",
       "      <td>2018-00015116</td>\n",
       "      <td>...</td>\n",
       "      <td>BERKELEY</td>\n",
       "      <td>37.8522263089015</td>\n",
       "      <td>-122.291495435525</td>\n",
       "      <td>T</td>\n",
       "      <td>White</td>\n",
       "      <td>Female</td>\n",
       "      <td>30-39</td>\n",
       "      <td>Traffic</td>\n",
       "      <td>Citation</td>\n",
       "      <td>No Search</td>\n",
       "    </tr>\n",
       "    <tr>\n",
       "      <th>2</th>\n",
       "      <td>row-ni5e.3gps_2h9x</td>\n",
       "      <td>00000000-0000-0000-52BB-9DF61D6907B1</td>\n",
       "      <td>0</td>\n",
       "      <td>1622192428</td>\n",
       "      <td>None</td>\n",
       "      <td>1622192428</td>\n",
       "      <td>None</td>\n",
       "      <td>{ }</td>\n",
       "      <td>2016-07-01T16:36:28</td>\n",
       "      <td>2016-00038890</td>\n",
       "      <td>...</td>\n",
       "      <td>BERKELEY</td>\n",
       "      <td>37.8717333701234</td>\n",
       "      <td>-122.268656966847</td>\n",
       "      <td>1194B</td>\n",
       "      <td>Black</td>\n",
       "      <td>Male</td>\n",
       "      <td>18-29</td>\n",
       "      <td>Reas. Susp.</td>\n",
       "      <td>Citation</td>\n",
       "      <td>No Search</td>\n",
       "    </tr>\n",
       "    <tr>\n",
       "      <th>3</th>\n",
       "      <td>row-m7he.wthe.w7r4</td>\n",
       "      <td>00000000-0000-0000-6CC6-513F3C600645</td>\n",
       "      <td>0</td>\n",
       "      <td>1623402030</td>\n",
       "      <td>None</td>\n",
       "      <td>1623402030</td>\n",
       "      <td>None</td>\n",
       "      <td>{ }</td>\n",
       "      <td>2016-11-06T07:15:42</td>\n",
       "      <td>2016-00065741</td>\n",
       "      <td>...</td>\n",
       "      <td>BERKELEY</td>\n",
       "      <td>37.8541134318992</td>\n",
       "      <td>-122.284193275337</td>\n",
       "      <td>1196</td>\n",
       "      <td>White</td>\n",
       "      <td>Male</td>\n",
       "      <td>&gt;40</td>\n",
       "      <td>Investigation</td>\n",
       "      <td>Warning</td>\n",
       "      <td>No Search</td>\n",
       "    </tr>\n",
       "    <tr>\n",
       "      <th>4</th>\n",
       "      <td>row-riew~avh9~xpc7</td>\n",
       "      <td>00000000-0000-0000-FB90-2B955BAB38D9</td>\n",
       "      <td>0</td>\n",
       "      <td>1631869233</td>\n",
       "      <td>None</td>\n",
       "      <td>1631869233</td>\n",
       "      <td>None</td>\n",
       "      <td>{ }</td>\n",
       "      <td>2020-03-08T04:22:55</td>\n",
       "      <td>2020-00013555</td>\n",
       "      <td>...</td>\n",
       "      <td>BERKELEY</td>\n",
       "      <td>37.8706843172202</td>\n",
       "      <td>-122.279768520837</td>\n",
       "      <td>T</td>\n",
       "      <td>Hispanic</td>\n",
       "      <td>Male</td>\n",
       "      <td>18-29</td>\n",
       "      <td>Traffic</td>\n",
       "      <td>Warning</td>\n",
       "      <td>No Search</td>\n",
       "    </tr>\n",
       "  </tbody>\n",
       "</table>\n",
       "<p>5 rows × 21 columns</p>\n",
       "</div>"
      ],
      "text/plain": [
       "                  sid                                    id  position  \\\n",
       "0  row-qdhm~vqfy.3zxd  00000000-0000-0000-B8F1-995A55B55DE5         0   \n",
       "1  row-7zd2.fzni_26x7  00000000-0000-0000-5F81-4C8F8669527C         0   \n",
       "2  row-ni5e.3gps_2h9x  00000000-0000-0000-52BB-9DF61D6907B1         0   \n",
       "3  row-m7he.wthe.w7r4  00000000-0000-0000-6CC6-513F3C600645         0   \n",
       "4  row-riew~avh9~xpc7  00000000-0000-0000-FB90-2B955BAB38D9         0   \n",
       "\n",
       "   created_at created_meta  updated_at updated_meta meta       CreateDatetime  \\\n",
       "0  1628845237         None  1628845237         None  { }  2017-01-29T23:01:39   \n",
       "1  1622797226         None  1622797226         None  { }  2018-03-14T16:25:55   \n",
       "2  1622192428         None  1622192428         None  { }  2016-07-01T16:36:28   \n",
       "3  1623402030         None  1623402030         None  { }  2016-11-06T07:15:42   \n",
       "4  1631869233         None  1631869233         None  { }  2020-03-08T04:22:55   \n",
       "\n",
       "  IncidentNumber  ...      City               Lat                Lon CallType  \\\n",
       "0  2017-00005533  ...  BERKELEY      37.864546219     -122.301738812     1196   \n",
       "1  2018-00015116  ...  BERKELEY  37.8522263089015  -122.291495435525        T   \n",
       "2  2016-00038890  ...  BERKELEY  37.8717333701234  -122.268656966847    1194B   \n",
       "3  2016-00065741  ...  BERKELEY  37.8541134318992  -122.284193275337     1196   \n",
       "4  2020-00013555  ...  BERKELEY  37.8706843172202  -122.279768520837        T   \n",
       "\n",
       "       Race  Gender    Age         Reason Enforcement Car Search  \n",
       "0  Hispanic  Female    >40  Investigation     Warning     Search  \n",
       "1     White  Female  30-39        Traffic    Citation  No Search  \n",
       "2     Black    Male  18-29    Reas. Susp.    Citation  No Search  \n",
       "3     White    Male    >40  Investigation     Warning  No Search  \n",
       "4  Hispanic    Male  18-29        Traffic     Warning  No Search  \n",
       "\n",
       "[5 rows x 21 columns]"
      ]
     },
     "execution_count": 42,
     "metadata": {},
     "output_type": "execute_result"
    }
   ],
   "source": [
    "# Load the data from JSON and assign column titles\n",
    "stops = pd.DataFrame(\n",
    "    stops_json['data'],\n",
    "    columns=[c['name'] for c in stops_json['meta']['view']['columns']])\n",
    "\n",
    "stops.head()"
   ]
  },
  {
   "cell_type": "code",
   "execution_count": 43,
   "metadata": {
    "id": "dz9sYqLXrLnD"
   },
   "outputs": [
    {
     "data": {
      "text/plain": [
       "Index(['sid', 'id', 'position', 'created_at', 'created_meta', 'updated_at',\n",
       "       'updated_meta', 'meta', 'CreateDatetime', 'IncidentNumber', 'Address',\n",
       "       'City', 'Lat', 'Lon', 'CallType', 'Race', 'Gender', 'Age', 'Reason',\n",
       "       'Enforcement', 'Car Search'],\n",
       "      dtype='object')"
      ]
     },
     "execution_count": 43,
     "metadata": {},
     "output_type": "execute_result"
    }
   ],
   "source": [
    "stops.columns"
   ]
  },
  {
   "cell_type": "markdown",
   "metadata": {
    "id": "Q4KY80Ol_NNN"
   },
   "source": [
    "### 2.2 A Complete Case-Study\n",
    "\n",
    "Ta-Feng is a retail warehouse in Taiwan that mainly sells food-products though it stocks some office and home products. Like Costco and Sam's Club, it operates on a club structure wherein people buy a membership to gain access to the store. As a result, purchases can be traced to specific customers. In this case-study, we will use this database to practice data wrangling, EDA, and Visualization."
   ]
  },
  {
   "cell_type": "markdown",
   "metadata": {
    "id": "pmGB0vYOtleI"
   },
   "source": [
    "#### Importing Data\n",
    "\n",
    "Let's take `age_classes` as an example.\n",
    "\n",
    "**Note**: 0 points for instructions, -5 if you do not run, output, and understand"
   ]
  },
  {
   "cell_type": "code",
   "execution_count": 44,
   "metadata": {
    "id": "bZwx1wISBt7u"
   },
   "outputs": [
    {
     "name": "stdout",
     "output_type": "stream",
     "text": [
      "data/age_classes.txt ======================\n",
      "0 \t 'A 0-25\\n'\n",
      "1 \t 'B 25-29\\n'\n",
      "2 \t 'C 30-34\\n'\n",
      "3 \t 'D 35-39\\n'\n",
      "4 \t 'E 40-44\\n'\n",
      "5 \t 'F 45-49\\n'\n",
      "6 \t 'G 50-54\\n'\n",
      "7 \t 'H 55-59\\n'\n",
      "8 \t 'I 60-64\\n'\n",
      "9 \t 'J 65-120'\n",
      "10 \t ''\n",
      "11 \t ''\n",
      "12 \t ''\n",
      "13 \t ''\n",
      "14 \t ''\n",
      "15 \t ''\n",
      "16 \t ''\n",
      "17 \t ''\n",
      "18 \t ''\n",
      "19 \t ''\n"
     ]
    }
   ],
   "source": [
    "age_classes_file='data/age_classes.txt'\n",
    "print(age_classes_file, \"======================\")\n",
    "with open(age_classes_file, \"r\") as f:\n",
    "    for i in range(20):\n",
    "        print(i, \"\\t\", repr(f.readline()))"
   ]
  },
  {
   "cell_type": "markdown",
   "metadata": {
    "id": "ElC8cieLC-mS"
   },
   "source": [
    "It can be observed that each record is separated by a new line and each record contains two columns without names separated by space.\n",
    "\n",
    "Therefore, we can create a DataFrame as follows."
   ]
  },
  {
   "cell_type": "code",
   "execution_count": 45,
   "metadata": {
    "id": "oTazs5BRtleL"
   },
   "outputs": [
    {
     "data": {
      "text/html": [
       "<div>\n",
       "<style scoped>\n",
       "    .dataframe tbody tr th:only-of-type {\n",
       "        vertical-align: middle;\n",
       "    }\n",
       "\n",
       "    .dataframe tbody tr th {\n",
       "        vertical-align: top;\n",
       "    }\n",
       "\n",
       "    .dataframe thead th {\n",
       "        text-align: right;\n",
       "    }\n",
       "</style>\n",
       "<table border=\"1\" class=\"dataframe\">\n",
       "  <thead>\n",
       "    <tr style=\"text-align: right;\">\n",
       "      <th></th>\n",
       "      <th>code</th>\n",
       "      <th>age_range</th>\n",
       "    </tr>\n",
       "  </thead>\n",
       "  <tbody>\n",
       "    <tr>\n",
       "      <th>0</th>\n",
       "      <td>A</td>\n",
       "      <td>0-25</td>\n",
       "    </tr>\n",
       "    <tr>\n",
       "      <th>1</th>\n",
       "      <td>B</td>\n",
       "      <td>25-29</td>\n",
       "    </tr>\n",
       "    <tr>\n",
       "      <th>2</th>\n",
       "      <td>C</td>\n",
       "      <td>30-34</td>\n",
       "    </tr>\n",
       "    <tr>\n",
       "      <th>3</th>\n",
       "      <td>D</td>\n",
       "      <td>35-39</td>\n",
       "    </tr>\n",
       "    <tr>\n",
       "      <th>4</th>\n",
       "      <td>E</td>\n",
       "      <td>40-44</td>\n",
       "    </tr>\n",
       "    <tr>\n",
       "      <th>5</th>\n",
       "      <td>F</td>\n",
       "      <td>45-49</td>\n",
       "    </tr>\n",
       "    <tr>\n",
       "      <th>6</th>\n",
       "      <td>G</td>\n",
       "      <td>50-54</td>\n",
       "    </tr>\n",
       "    <tr>\n",
       "      <th>7</th>\n",
       "      <td>H</td>\n",
       "      <td>55-59</td>\n",
       "    </tr>\n",
       "    <tr>\n",
       "      <th>8</th>\n",
       "      <td>I</td>\n",
       "      <td>60-64</td>\n",
       "    </tr>\n",
       "    <tr>\n",
       "      <th>9</th>\n",
       "      <td>J</td>\n",
       "      <td>65-120</td>\n",
       "    </tr>\n",
       "  </tbody>\n",
       "</table>\n",
       "</div>"
      ],
      "text/plain": [
       "  code age_range\n",
       "0    A      0-25\n",
       "1    B     25-29\n",
       "2    C     30-34\n",
       "3    D     35-39\n",
       "4    E     40-44\n",
       "5    F     45-49\n",
       "6    G     50-54\n",
       "7    H     55-59\n",
       "8    I     60-64\n",
       "9    J    65-120"
      ]
     },
     "execution_count": 45,
     "metadata": {},
     "output_type": "execute_result"
    }
   ],
   "source": [
    "age_class_columns = ['code', 'age_range']\n",
    "age_classes = pd.read_csv('data/age_classes.txt', sep=' ',#separated by space \n",
    "                          header=None, names=age_class_columns)\n",
    "\n",
    "# remove potential leading or trailing whitespace\n",
    "age_classes['code'] = age_classes['code'].str.strip()\n",
    "age_classes['age_range'] = age_classes['age_range'].str.strip()\n",
    "\n",
    "age_classes"
   ]
  },
  {
   "cell_type": "markdown",
   "metadata": {
    "id": "Wb5mneNLtleM"
   },
   "source": [
    "Perhaps at some point we would like to work with the age data numerically. Derive two numerical columns from age_range called age_min and age_max, which contain the left and right endpoints of age_range, respectively."
   ]
  },
  {
   "cell_type": "code",
   "execution_count": 46,
   "metadata": {
    "id": "28_K2g-_tleM"
   },
   "outputs": [
    {
     "data": {
      "text/html": [
       "<div>\n",
       "<style scoped>\n",
       "    .dataframe tbody tr th:only-of-type {\n",
       "        vertical-align: middle;\n",
       "    }\n",
       "\n",
       "    .dataframe tbody tr th {\n",
       "        vertical-align: top;\n",
       "    }\n",
       "\n",
       "    .dataframe thead th {\n",
       "        text-align: right;\n",
       "    }\n",
       "</style>\n",
       "<table border=\"1\" class=\"dataframe\">\n",
       "  <thead>\n",
       "    <tr style=\"text-align: right;\">\n",
       "      <th></th>\n",
       "      <th>code</th>\n",
       "      <th>age_range</th>\n",
       "      <th>age_min</th>\n",
       "      <th>age_max</th>\n",
       "    </tr>\n",
       "  </thead>\n",
       "  <tbody>\n",
       "    <tr>\n",
       "      <th>0</th>\n",
       "      <td>A</td>\n",
       "      <td>0-25</td>\n",
       "      <td>0</td>\n",
       "      <td>25</td>\n",
       "    </tr>\n",
       "    <tr>\n",
       "      <th>1</th>\n",
       "      <td>B</td>\n",
       "      <td>25-29</td>\n",
       "      <td>25</td>\n",
       "      <td>29</td>\n",
       "    </tr>\n",
       "    <tr>\n",
       "      <th>2</th>\n",
       "      <td>C</td>\n",
       "      <td>30-34</td>\n",
       "      <td>30</td>\n",
       "      <td>34</td>\n",
       "    </tr>\n",
       "    <tr>\n",
       "      <th>3</th>\n",
       "      <td>D</td>\n",
       "      <td>35-39</td>\n",
       "      <td>35</td>\n",
       "      <td>39</td>\n",
       "    </tr>\n",
       "    <tr>\n",
       "      <th>4</th>\n",
       "      <td>E</td>\n",
       "      <td>40-44</td>\n",
       "      <td>40</td>\n",
       "      <td>44</td>\n",
       "    </tr>\n",
       "    <tr>\n",
       "      <th>5</th>\n",
       "      <td>F</td>\n",
       "      <td>45-49</td>\n",
       "      <td>45</td>\n",
       "      <td>49</td>\n",
       "    </tr>\n",
       "    <tr>\n",
       "      <th>6</th>\n",
       "      <td>G</td>\n",
       "      <td>50-54</td>\n",
       "      <td>50</td>\n",
       "      <td>54</td>\n",
       "    </tr>\n",
       "    <tr>\n",
       "      <th>7</th>\n",
       "      <td>H</td>\n",
       "      <td>55-59</td>\n",
       "      <td>55</td>\n",
       "      <td>59</td>\n",
       "    </tr>\n",
       "    <tr>\n",
       "      <th>8</th>\n",
       "      <td>I</td>\n",
       "      <td>60-64</td>\n",
       "      <td>60</td>\n",
       "      <td>64</td>\n",
       "    </tr>\n",
       "    <tr>\n",
       "      <th>9</th>\n",
       "      <td>J</td>\n",
       "      <td>65-120</td>\n",
       "      <td>65</td>\n",
       "      <td>120</td>\n",
       "    </tr>\n",
       "  </tbody>\n",
       "</table>\n",
       "</div>"
      ],
      "text/plain": [
       "  code age_range  age_min  age_max\n",
       "0    A      0-25        0       25\n",
       "1    B     25-29       25       29\n",
       "2    C     30-34       30       34\n",
       "3    D     35-39       35       39\n",
       "4    E     40-44       40       44\n",
       "5    F     45-49       45       49\n",
       "6    G     50-54       50       54\n",
       "7    H     55-59       55       59\n",
       "8    I     60-64       60       64\n",
       "9    J    65-120       65      120"
      ]
     },
     "execution_count": 46,
     "metadata": {},
     "output_type": "execute_result"
    }
   ],
   "source": [
    "age_classes[['age_min', 'age_max']] = (\n",
    "    age_classes['age_range']\n",
    "    .str.split(\"-\", expand=True)\n",
    "    .astype('int') #pay attention that we need to specify the type for analysis\n",
    ")\n",
    "age_classes"
   ]
  },
  {
   "cell_type": "markdown",
   "metadata": {
    "id": "NtOe5AJKtleN"
   },
   "source": [
    "To have a single column representing age, we could reduce the two endpoints to a single number. Compute an additional age_center attribute that is equal to the midpoint of age_range, e.g., the age_center of 0-5 is 2.5."
   ]
  },
  {
   "cell_type": "code",
   "execution_count": 47,
   "metadata": {
    "id": "qkh7k4OntleO"
   },
   "outputs": [
    {
     "data": {
      "text/html": [
       "<div>\n",
       "<style scoped>\n",
       "    .dataframe tbody tr th:only-of-type {\n",
       "        vertical-align: middle;\n",
       "    }\n",
       "\n",
       "    .dataframe tbody tr th {\n",
       "        vertical-align: top;\n",
       "    }\n",
       "\n",
       "    .dataframe thead th {\n",
       "        text-align: right;\n",
       "    }\n",
       "</style>\n",
       "<table border=\"1\" class=\"dataframe\">\n",
       "  <thead>\n",
       "    <tr style=\"text-align: right;\">\n",
       "      <th></th>\n",
       "      <th>code</th>\n",
       "      <th>age_range</th>\n",
       "      <th>age_min</th>\n",
       "      <th>age_max</th>\n",
       "      <th>age_center</th>\n",
       "    </tr>\n",
       "  </thead>\n",
       "  <tbody>\n",
       "    <tr>\n",
       "      <th>0</th>\n",
       "      <td>A</td>\n",
       "      <td>0-25</td>\n",
       "      <td>0</td>\n",
       "      <td>25</td>\n",
       "      <td>12.5</td>\n",
       "    </tr>\n",
       "    <tr>\n",
       "      <th>1</th>\n",
       "      <td>B</td>\n",
       "      <td>25-29</td>\n",
       "      <td>25</td>\n",
       "      <td>29</td>\n",
       "      <td>27.0</td>\n",
       "    </tr>\n",
       "    <tr>\n",
       "      <th>2</th>\n",
       "      <td>C</td>\n",
       "      <td>30-34</td>\n",
       "      <td>30</td>\n",
       "      <td>34</td>\n",
       "      <td>32.0</td>\n",
       "    </tr>\n",
       "    <tr>\n",
       "      <th>3</th>\n",
       "      <td>D</td>\n",
       "      <td>35-39</td>\n",
       "      <td>35</td>\n",
       "      <td>39</td>\n",
       "      <td>37.0</td>\n",
       "    </tr>\n",
       "    <tr>\n",
       "      <th>4</th>\n",
       "      <td>E</td>\n",
       "      <td>40-44</td>\n",
       "      <td>40</td>\n",
       "      <td>44</td>\n",
       "      <td>42.0</td>\n",
       "    </tr>\n",
       "    <tr>\n",
       "      <th>5</th>\n",
       "      <td>F</td>\n",
       "      <td>45-49</td>\n",
       "      <td>45</td>\n",
       "      <td>49</td>\n",
       "      <td>47.0</td>\n",
       "    </tr>\n",
       "    <tr>\n",
       "      <th>6</th>\n",
       "      <td>G</td>\n",
       "      <td>50-54</td>\n",
       "      <td>50</td>\n",
       "      <td>54</td>\n",
       "      <td>52.0</td>\n",
       "    </tr>\n",
       "    <tr>\n",
       "      <th>7</th>\n",
       "      <td>H</td>\n",
       "      <td>55-59</td>\n",
       "      <td>55</td>\n",
       "      <td>59</td>\n",
       "      <td>57.0</td>\n",
       "    </tr>\n",
       "    <tr>\n",
       "      <th>8</th>\n",
       "      <td>I</td>\n",
       "      <td>60-64</td>\n",
       "      <td>60</td>\n",
       "      <td>64</td>\n",
       "      <td>62.0</td>\n",
       "    </tr>\n",
       "    <tr>\n",
       "      <th>9</th>\n",
       "      <td>J</td>\n",
       "      <td>65-120</td>\n",
       "      <td>65</td>\n",
       "      <td>120</td>\n",
       "      <td>92.5</td>\n",
       "    </tr>\n",
       "  </tbody>\n",
       "</table>\n",
       "</div>"
      ],
      "text/plain": [
       "  code age_range  age_min  age_max  age_center\n",
       "0    A      0-25        0       25        12.5\n",
       "1    B     25-29       25       29        27.0\n",
       "2    C     30-34       30       34        32.0\n",
       "3    D     35-39       35       39        37.0\n",
       "4    E     40-44       40       44        42.0\n",
       "5    F     45-49       45       49        47.0\n",
       "6    G     50-54       50       54        52.0\n",
       "7    H     55-59       55       59        57.0\n",
       "8    I     60-64       60       64        62.0\n",
       "9    J    65-120       65      120        92.5"
      ]
     },
     "execution_count": 47,
     "metadata": {},
     "output_type": "execute_result"
    }
   ],
   "source": [
    "age_classes['age_center'] = (age_classes['age_max'] + age_classes['age_min']) / 2.\n",
    "age_classes"
   ]
  },
  {
   "cell_type": "markdown",
   "metadata": {
    "id": "rUb0gUgQtleO"
   },
   "source": [
    "#### Question 2.2.a (8 points)\n",
    "\n",
    "Please inspect 'data/residence_area.txt' and import the data."
   ]
  },
  {
   "cell_type": "code",
   "execution_count": 48,
   "metadata": {
    "id": "lqL4OiZLJZOa"
   },
   "outputs": [
    {
     "name": "stdout",
     "output_type": "stream",
     "text": [
      "data/residence_area.txt -----------------\n",
      "0 \t 'A: 105\\n'\n",
      "1 \t 'B: 106\\n'\n",
      "2 \t 'C: 110\\n'\n",
      "3 \t 'D: 114\\n'\n",
      "4 \t 'E: 115\\n'\n",
      "5 \t 'F: 221\\n'\n",
      "6 \t 'G: others\\n'\n",
      "7 \t 'H: unknown\\n'\n"
     ]
    }
   ],
   "source": [
    "# type the code here to check the raw data in the txt file\n",
    "residence_area_file='data/residence_area.txt'\n",
    "print(residence_area_file, \"-----------------\")\n",
    "with open(residence_area_file, \"r\") as f:\n",
    "    for i in range(8):\n",
    "        print(i, \"\\t\", repr(f.readline()))"
   ]
  },
  {
   "cell_type": "code",
   "execution_count": 49,
   "metadata": {
    "id": "FHRGcyndtleQ"
   },
   "outputs": [
    {
     "data": {
      "text/html": [
       "<div>\n",
       "<style scoped>\n",
       "    .dataframe tbody tr th:only-of-type {\n",
       "        vertical-align: middle;\n",
       "    }\n",
       "\n",
       "    .dataframe tbody tr th {\n",
       "        vertical-align: top;\n",
       "    }\n",
       "\n",
       "    .dataframe thead th {\n",
       "        text-align: right;\n",
       "    }\n",
       "</style>\n",
       "<table border=\"1\" class=\"dataframe\">\n",
       "  <thead>\n",
       "    <tr style=\"text-align: right;\">\n",
       "      <th></th>\n",
       "      <th>tag</th>\n",
       "      <th>value</th>\n",
       "    </tr>\n",
       "  </thead>\n",
       "  <tbody>\n",
       "    <tr>\n",
       "      <th>0</th>\n",
       "      <td>A</td>\n",
       "      <td>105</td>\n",
       "    </tr>\n",
       "    <tr>\n",
       "      <th>1</th>\n",
       "      <td>B</td>\n",
       "      <td>106</td>\n",
       "    </tr>\n",
       "    <tr>\n",
       "      <th>2</th>\n",
       "      <td>C</td>\n",
       "      <td>110</td>\n",
       "    </tr>\n",
       "    <tr>\n",
       "      <th>3</th>\n",
       "      <td>D</td>\n",
       "      <td>114</td>\n",
       "    </tr>\n",
       "    <tr>\n",
       "      <th>4</th>\n",
       "      <td>E</td>\n",
       "      <td>115</td>\n",
       "    </tr>\n",
       "    <tr>\n",
       "      <th>5</th>\n",
       "      <td>F</td>\n",
       "      <td>221</td>\n",
       "    </tr>\n",
       "    <tr>\n",
       "      <th>6</th>\n",
       "      <td>G</td>\n",
       "      <td>others</td>\n",
       "    </tr>\n",
       "    <tr>\n",
       "      <th>7</th>\n",
       "      <td>H</td>\n",
       "      <td>unknown</td>\n",
       "    </tr>\n",
       "  </tbody>\n",
       "</table>\n",
       "</div>"
      ],
      "text/plain": [
       "  tag    value\n",
       "0   A      105\n",
       "1   B      106\n",
       "2   C      110\n",
       "3   D      114\n",
       "4   E      115\n",
       "5   F      221\n",
       "6   G   others\n",
       "7   H  unknown"
      ]
     },
     "execution_count": 49,
     "metadata": {},
     "output_type": "execute_result"
    }
   ],
   "source": [
    "# import the data into dataframe\n",
    "# if you use a single character delimiter, it uses the faster engine ... \n",
    "residence_areas = pd.read_csv('data/residence_area.txt', sep = \":\", header=None, names = ['tag','value'])\n",
    "\n",
    "# need to remove the leading or trailing whitespace\n",
    "residence_areas['tag'] = residence_areas['tag'].str.strip()\n",
    "residence_areas['value'] = residence_areas['value'].str.strip()\n",
    "\n",
    "residence_areas"
   ]
  },
  {
   "cell_type": "markdown",
   "metadata": {
    "id": "M-FDpZOutleR"
   },
   "source": [
    "#### Question 2.2.b (4 points)\n",
    "\n",
    "Please inspect `data/TaFengTransactions.txt` and import the data."
   ]
  },
  {
   "cell_type": "code",
   "execution_count": 50,
   "metadata": {
    "id": "V365abYltleS"
   },
   "outputs": [
    {
     "data": {
      "text/html": [
       "<div>\n",
       "<style scoped>\n",
       "    .dataframe tbody tr th:only-of-type {\n",
       "        vertical-align: middle;\n",
       "    }\n",
       "\n",
       "    .dataframe tbody tr th {\n",
       "        vertical-align: top;\n",
       "    }\n",
       "\n",
       "    .dataframe thead th {\n",
       "        text-align: right;\n",
       "    }\n",
       "</style>\n",
       "<table border=\"1\" class=\"dataframe\">\n",
       "  <thead>\n",
       "    <tr style=\"text-align: right;\">\n",
       "      <th></th>\n",
       "      <th>entry_date</th>\n",
       "      <th>transaction_time</th>\n",
       "      <th>customer_id</th>\n",
       "      <th>age_code</th>\n",
       "      <th>residence_area</th>\n",
       "      <th>product_subclass</th>\n",
       "      <th>product_id</th>\n",
       "      <th>amount</th>\n",
       "      <th>asset</th>\n",
       "      <th>sales_price</th>\n",
       "    </tr>\n",
       "  </thead>\n",
       "  <tbody>\n",
       "    <tr>\n",
       "      <th>0</th>\n",
       "      <td>2016-12-26</td>\n",
       "      <td>2001-01-15 00:00:00</td>\n",
       "      <td>1786439</td>\n",
       "      <td>G</td>\n",
       "      <td>H</td>\n",
       "      <td>110109</td>\n",
       "      <td>4710043552065</td>\n",
       "      <td>1</td>\n",
       "      <td>144</td>\n",
       "      <td>190</td>\n",
       "    </tr>\n",
       "    <tr>\n",
       "      <th>1</th>\n",
       "      <td>2016-12-26</td>\n",
       "      <td>2001-01-15 00:00:00</td>\n",
       "      <td>98946</td>\n",
       "      <td>E</td>\n",
       "      <td>E</td>\n",
       "      <td>100312</td>\n",
       "      <td>4710543111014</td>\n",
       "      <td>1</td>\n",
       "      <td>32</td>\n",
       "      <td>38</td>\n",
       "    </tr>\n",
       "    <tr>\n",
       "      <th>2</th>\n",
       "      <td>2016-12-26</td>\n",
       "      <td>2001-01-15 00:00:00</td>\n",
       "      <td>905602</td>\n",
       "      <td>D</td>\n",
       "      <td>E</td>\n",
       "      <td>500206</td>\n",
       "      <td>4710114322115</td>\n",
       "      <td>1</td>\n",
       "      <td>64</td>\n",
       "      <td>79</td>\n",
       "    </tr>\n",
       "    <tr>\n",
       "      <th>3</th>\n",
       "      <td>2016-12-26</td>\n",
       "      <td>2001-01-15 00:00:00</td>\n",
       "      <td>1964295</td>\n",
       "      <td>E</td>\n",
       "      <td>E</td>\n",
       "      <td>530106</td>\n",
       "      <td>4713813010123</td>\n",
       "      <td>1</td>\n",
       "      <td>174</td>\n",
       "      <td>147</td>\n",
       "    </tr>\n",
       "    <tr>\n",
       "      <th>4</th>\n",
       "      <td>2016-12-26</td>\n",
       "      <td>2001-01-15 00:00:00</td>\n",
       "      <td>2146553</td>\n",
       "      <td>B</td>\n",
       "      <td>D</td>\n",
       "      <td>100217</td>\n",
       "      <td>8801019421013</td>\n",
       "      <td>1</td>\n",
       "      <td>47</td>\n",
       "      <td>52</td>\n",
       "    </tr>\n",
       "    <tr>\n",
       "      <th>...</th>\n",
       "      <td>...</td>\n",
       "      <td>...</td>\n",
       "      <td>...</td>\n",
       "      <td>...</td>\n",
       "      <td>...</td>\n",
       "      <td>...</td>\n",
       "      <td>...</td>\n",
       "      <td>...</td>\n",
       "      <td>...</td>\n",
       "      <td>...</td>\n",
       "    </tr>\n",
       "    <tr>\n",
       "      <th>5828</th>\n",
       "      <td>2016-12-28</td>\n",
       "      <td>2000-12-31 00:00:00</td>\n",
       "      <td>1365252</td>\n",
       "      <td>D</td>\n",
       "      <td>F</td>\n",
       "      <td>100106</td>\n",
       "      <td>8992741956109</td>\n",
       "      <td>1</td>\n",
       "      <td>31</td>\n",
       "      <td>39</td>\n",
       "    </tr>\n",
       "    <tr>\n",
       "      <th>5829</th>\n",
       "      <td>2016-12-28</td>\n",
       "      <td>2000-12-31 00:00:00</td>\n",
       "      <td>1984767</td>\n",
       "      <td>C</td>\n",
       "      <td>F</td>\n",
       "      <td>130206</td>\n",
       "      <td>4711080040195</td>\n",
       "      <td>1</td>\n",
       "      <td>47</td>\n",
       "      <td>60</td>\n",
       "    </tr>\n",
       "    <tr>\n",
       "      <th>5830</th>\n",
       "      <td>2016-12-28</td>\n",
       "      <td>2000-12-31 00:00:00</td>\n",
       "      <td>2065731</td>\n",
       "      <td>E</td>\n",
       "      <td>G</td>\n",
       "      <td>110117</td>\n",
       "      <td>4710008314141</td>\n",
       "      <td>1</td>\n",
       "      <td>53</td>\n",
       "      <td>65</td>\n",
       "    </tr>\n",
       "    <tr>\n",
       "      <th>5831</th>\n",
       "      <td>2016-12-28</td>\n",
       "      <td>2000-12-31 00:00:00</td>\n",
       "      <td>1284423</td>\n",
       "      <td>F</td>\n",
       "      <td>F</td>\n",
       "      <td>110811</td>\n",
       "      <td>4710626844457</td>\n",
       "      <td>1</td>\n",
       "      <td>79</td>\n",
       "      <td>91</td>\n",
       "    </tr>\n",
       "    <tr>\n",
       "      <th>5832</th>\n",
       "      <td>2016-12-28</td>\n",
       "      <td>2000-12-31 00:00:00</td>\n",
       "      <td>1418095</td>\n",
       "      <td>F</td>\n",
       "      <td>F</td>\n",
       "      <td>100511</td>\n",
       "      <td>4710632001318</td>\n",
       "      <td>1</td>\n",
       "      <td>7</td>\n",
       "      <td>9</td>\n",
       "    </tr>\n",
       "  </tbody>\n",
       "</table>\n",
       "<p>5833 rows × 10 columns</p>\n",
       "</div>"
      ],
      "text/plain": [
       "      entry_date     transaction_time  customer_id age_code residence_area  \\\n",
       "0     2016-12-26  2001-01-15 00:00:00      1786439        G              H   \n",
       "1     2016-12-26  2001-01-15 00:00:00        98946        E              E   \n",
       "2     2016-12-26  2001-01-15 00:00:00       905602        D              E   \n",
       "3     2016-12-26  2001-01-15 00:00:00      1964295        E              E   \n",
       "4     2016-12-26  2001-01-15 00:00:00      2146553        B              D   \n",
       "...          ...                  ...          ...      ...            ...   \n",
       "5828  2016-12-28  2000-12-31 00:00:00      1365252        D              F   \n",
       "5829  2016-12-28  2000-12-31 00:00:00      1984767        C              F   \n",
       "5830  2016-12-28  2000-12-31 00:00:00      2065731        E              G   \n",
       "5831  2016-12-28  2000-12-31 00:00:00      1284423        F              F   \n",
       "5832  2016-12-28  2000-12-31 00:00:00      1418095        F              F   \n",
       "\n",
       "      product_subclass     product_id  amount  asset  sales_price  \n",
       "0               110109  4710043552065       1    144          190  \n",
       "1               100312  4710543111014       1     32           38  \n",
       "2               500206  4710114322115       1     64           79  \n",
       "3               530106  4713813010123       1    174          147  \n",
       "4               100217  8801019421013       1     47           52  \n",
       "...                ...            ...     ...    ...          ...  \n",
       "5828            100106  8992741956109       1     31           39  \n",
       "5829            130206  4711080040195       1     47           60  \n",
       "5830            110117  4710008314141       1     53           65  \n",
       "5831            110811  4710626844457       1     79           91  \n",
       "5832            100511  4710632001318       1      7            9  \n",
       "\n",
       "[5833 rows x 10 columns]"
      ]
     },
     "execution_count": 50,
     "metadata": {},
     "output_type": "execute_result"
    }
   ],
   "source": [
    "# type your code here (feel free to have more cells)\n",
    "tafeng_transactions = pd.read_csv('data/TaFengTransactions.txt', sep = \";\", engine = 'python')\n",
    "# need to remove the leading or trailing whitespace\n",
    "tafeng_transactions['age_code'] = tafeng_transactions['age_code'].str.strip()\n",
    "tafeng_transactions['residence_area'] = tafeng_transactions['residence_area'].str.strip()\n",
    "tafeng_transactions"
   ]
  },
  {
   "cell_type": "code",
   "execution_count": 51,
   "metadata": {},
   "outputs": [
    {
     "data": {
      "text/html": [
       "<div>\n",
       "<style scoped>\n",
       "    .dataframe tbody tr th:only-of-type {\n",
       "        vertical-align: middle;\n",
       "    }\n",
       "\n",
       "    .dataframe tbody tr th {\n",
       "        vertical-align: top;\n",
       "    }\n",
       "\n",
       "    .dataframe thead th {\n",
       "        text-align: right;\n",
       "    }\n",
       "</style>\n",
       "<table border=\"1\" class=\"dataframe\">\n",
       "  <thead>\n",
       "    <tr style=\"text-align: right;\">\n",
       "      <th></th>\n",
       "      <th>entry_date</th>\n",
       "      <th>transaction_time</th>\n",
       "      <th>customer_id</th>\n",
       "      <th>age_code</th>\n",
       "      <th>residence_area</th>\n",
       "      <th>product_subclass</th>\n",
       "      <th>product_id</th>\n",
       "      <th>amount</th>\n",
       "      <th>asset</th>\n",
       "      <th>sales_price</th>\n",
       "    </tr>\n",
       "  </thead>\n",
       "  <tbody>\n",
       "  </tbody>\n",
       "</table>\n",
       "</div>"
      ],
      "text/plain": [
       "Empty DataFrame\n",
       "Columns: [entry_date, transaction_time, customer_id, age_code, residence_area, product_subclass, product_id, amount, asset, sales_price]\n",
       "Index: []"
      ]
     },
     "execution_count": 51,
     "metadata": {},
     "output_type": "execute_result"
    }
   ],
   "source": [
    "#check for duplicate\n",
    "tafeng_transactions.loc[tafeng_transactions.duplicated(), :]"
   ]
  },
  {
   "cell_type": "markdown",
   "metadata": {
    "id": "fSikcmvntleT"
   },
   "source": [
    "#### Question 2.2.c (10 points)\n",
    "\n",
    "Then, we join all these 3 tables to do analysis for transactions. Therefore, we need to keep every row in `tafeng_tranctions` and add the corresponding information from the other two tables.\n",
    "\n",
    "**Note**: It is important to choose the right join way to fulfill the analysis requirement. Duplicate rows and columns (including two columns of different names but with the same row values) should be avoided."
   ]
  },
  {
   "cell_type": "code",
   "execution_count": 52,
   "metadata": {},
   "outputs": [
    {
     "data": {
      "text/html": [
       "<div>\n",
       "<style scoped>\n",
       "    .dataframe tbody tr th:only-of-type {\n",
       "        vertical-align: middle;\n",
       "    }\n",
       "\n",
       "    .dataframe tbody tr th {\n",
       "        vertical-align: top;\n",
       "    }\n",
       "\n",
       "    .dataframe thead th {\n",
       "        text-align: right;\n",
       "    }\n",
       "</style>\n",
       "<table border=\"1\" class=\"dataframe\">\n",
       "  <thead>\n",
       "    <tr style=\"text-align: right;\">\n",
       "      <th></th>\n",
       "      <th>entry_date</th>\n",
       "      <th>transaction_time</th>\n",
       "      <th>customer_id</th>\n",
       "      <th>age_code</th>\n",
       "      <th>residence_area</th>\n",
       "      <th>product_subclass</th>\n",
       "      <th>product_id</th>\n",
       "      <th>amount</th>\n",
       "      <th>asset</th>\n",
       "      <th>sales_price</th>\n",
       "      <th>value</th>\n",
       "      <th>age_range</th>\n",
       "      <th>age_min</th>\n",
       "      <th>age_max</th>\n",
       "      <th>age_center</th>\n",
       "    </tr>\n",
       "  </thead>\n",
       "  <tbody>\n",
       "    <tr>\n",
       "      <th>0</th>\n",
       "      <td>2016-12-26</td>\n",
       "      <td>2001-01-15 00:00:00</td>\n",
       "      <td>1786439</td>\n",
       "      <td>G</td>\n",
       "      <td>H</td>\n",
       "      <td>110109</td>\n",
       "      <td>4710043552065</td>\n",
       "      <td>1</td>\n",
       "      <td>144</td>\n",
       "      <td>190</td>\n",
       "      <td>unknown</td>\n",
       "      <td>50-54</td>\n",
       "      <td>50.0</td>\n",
       "      <td>54.0</td>\n",
       "      <td>52.0</td>\n",
       "    </tr>\n",
       "    <tr>\n",
       "      <th>1</th>\n",
       "      <td>2016-12-26</td>\n",
       "      <td>2001-01-15 00:00:00</td>\n",
       "      <td>98946</td>\n",
       "      <td>E</td>\n",
       "      <td>E</td>\n",
       "      <td>100312</td>\n",
       "      <td>4710543111014</td>\n",
       "      <td>1</td>\n",
       "      <td>32</td>\n",
       "      <td>38</td>\n",
       "      <td>115</td>\n",
       "      <td>40-44</td>\n",
       "      <td>40.0</td>\n",
       "      <td>44.0</td>\n",
       "      <td>42.0</td>\n",
       "    </tr>\n",
       "    <tr>\n",
       "      <th>2</th>\n",
       "      <td>2016-12-26</td>\n",
       "      <td>2001-01-15 00:00:00</td>\n",
       "      <td>905602</td>\n",
       "      <td>D</td>\n",
       "      <td>E</td>\n",
       "      <td>500206</td>\n",
       "      <td>4710114322115</td>\n",
       "      <td>1</td>\n",
       "      <td>64</td>\n",
       "      <td>79</td>\n",
       "      <td>115</td>\n",
       "      <td>35-39</td>\n",
       "      <td>35.0</td>\n",
       "      <td>39.0</td>\n",
       "      <td>37.0</td>\n",
       "    </tr>\n",
       "    <tr>\n",
       "      <th>3</th>\n",
       "      <td>2016-12-26</td>\n",
       "      <td>2001-01-15 00:00:00</td>\n",
       "      <td>1964295</td>\n",
       "      <td>E</td>\n",
       "      <td>E</td>\n",
       "      <td>530106</td>\n",
       "      <td>4713813010123</td>\n",
       "      <td>1</td>\n",
       "      <td>174</td>\n",
       "      <td>147</td>\n",
       "      <td>115</td>\n",
       "      <td>40-44</td>\n",
       "      <td>40.0</td>\n",
       "      <td>44.0</td>\n",
       "      <td>42.0</td>\n",
       "    </tr>\n",
       "    <tr>\n",
       "      <th>4</th>\n",
       "      <td>2016-12-26</td>\n",
       "      <td>2001-01-15 00:00:00</td>\n",
       "      <td>2146553</td>\n",
       "      <td>B</td>\n",
       "      <td>D</td>\n",
       "      <td>100217</td>\n",
       "      <td>8801019421013</td>\n",
       "      <td>1</td>\n",
       "      <td>47</td>\n",
       "      <td>52</td>\n",
       "      <td>114</td>\n",
       "      <td>25-29</td>\n",
       "      <td>25.0</td>\n",
       "      <td>29.0</td>\n",
       "      <td>27.0</td>\n",
       "    </tr>\n",
       "    <tr>\n",
       "      <th>...</th>\n",
       "      <td>...</td>\n",
       "      <td>...</td>\n",
       "      <td>...</td>\n",
       "      <td>...</td>\n",
       "      <td>...</td>\n",
       "      <td>...</td>\n",
       "      <td>...</td>\n",
       "      <td>...</td>\n",
       "      <td>...</td>\n",
       "      <td>...</td>\n",
       "      <td>...</td>\n",
       "      <td>...</td>\n",
       "      <td>...</td>\n",
       "      <td>...</td>\n",
       "      <td>...</td>\n",
       "    </tr>\n",
       "    <tr>\n",
       "      <th>5828</th>\n",
       "      <td>2016-12-28</td>\n",
       "      <td>2000-12-31 00:00:00</td>\n",
       "      <td>1365252</td>\n",
       "      <td>D</td>\n",
       "      <td>F</td>\n",
       "      <td>100106</td>\n",
       "      <td>8992741956109</td>\n",
       "      <td>1</td>\n",
       "      <td>31</td>\n",
       "      <td>39</td>\n",
       "      <td>221</td>\n",
       "      <td>35-39</td>\n",
       "      <td>35.0</td>\n",
       "      <td>39.0</td>\n",
       "      <td>37.0</td>\n",
       "    </tr>\n",
       "    <tr>\n",
       "      <th>5829</th>\n",
       "      <td>2016-12-28</td>\n",
       "      <td>2000-12-31 00:00:00</td>\n",
       "      <td>1984767</td>\n",
       "      <td>C</td>\n",
       "      <td>F</td>\n",
       "      <td>130206</td>\n",
       "      <td>4711080040195</td>\n",
       "      <td>1</td>\n",
       "      <td>47</td>\n",
       "      <td>60</td>\n",
       "      <td>221</td>\n",
       "      <td>30-34</td>\n",
       "      <td>30.0</td>\n",
       "      <td>34.0</td>\n",
       "      <td>32.0</td>\n",
       "    </tr>\n",
       "    <tr>\n",
       "      <th>5830</th>\n",
       "      <td>2016-12-28</td>\n",
       "      <td>2000-12-31 00:00:00</td>\n",
       "      <td>2065731</td>\n",
       "      <td>E</td>\n",
       "      <td>G</td>\n",
       "      <td>110117</td>\n",
       "      <td>4710008314141</td>\n",
       "      <td>1</td>\n",
       "      <td>53</td>\n",
       "      <td>65</td>\n",
       "      <td>others</td>\n",
       "      <td>40-44</td>\n",
       "      <td>40.0</td>\n",
       "      <td>44.0</td>\n",
       "      <td>42.0</td>\n",
       "    </tr>\n",
       "    <tr>\n",
       "      <th>5831</th>\n",
       "      <td>2016-12-28</td>\n",
       "      <td>2000-12-31 00:00:00</td>\n",
       "      <td>1284423</td>\n",
       "      <td>F</td>\n",
       "      <td>F</td>\n",
       "      <td>110811</td>\n",
       "      <td>4710626844457</td>\n",
       "      <td>1</td>\n",
       "      <td>79</td>\n",
       "      <td>91</td>\n",
       "      <td>221</td>\n",
       "      <td>45-49</td>\n",
       "      <td>45.0</td>\n",
       "      <td>49.0</td>\n",
       "      <td>47.0</td>\n",
       "    </tr>\n",
       "    <tr>\n",
       "      <th>5832</th>\n",
       "      <td>2016-12-28</td>\n",
       "      <td>2000-12-31 00:00:00</td>\n",
       "      <td>1418095</td>\n",
       "      <td>F</td>\n",
       "      <td>F</td>\n",
       "      <td>100511</td>\n",
       "      <td>4710632001318</td>\n",
       "      <td>1</td>\n",
       "      <td>7</td>\n",
       "      <td>9</td>\n",
       "      <td>221</td>\n",
       "      <td>45-49</td>\n",
       "      <td>45.0</td>\n",
       "      <td>49.0</td>\n",
       "      <td>47.0</td>\n",
       "    </tr>\n",
       "  </tbody>\n",
       "</table>\n",
       "<p>5833 rows × 15 columns</p>\n",
       "</div>"
      ],
      "text/plain": [
       "      entry_date     transaction_time  customer_id age_code residence_area  \\\n",
       "0     2016-12-26  2001-01-15 00:00:00      1786439        G              H   \n",
       "1     2016-12-26  2001-01-15 00:00:00        98946        E              E   \n",
       "2     2016-12-26  2001-01-15 00:00:00       905602        D              E   \n",
       "3     2016-12-26  2001-01-15 00:00:00      1964295        E              E   \n",
       "4     2016-12-26  2001-01-15 00:00:00      2146553        B              D   \n",
       "...          ...                  ...          ...      ...            ...   \n",
       "5828  2016-12-28  2000-12-31 00:00:00      1365252        D              F   \n",
       "5829  2016-12-28  2000-12-31 00:00:00      1984767        C              F   \n",
       "5830  2016-12-28  2000-12-31 00:00:00      2065731        E              G   \n",
       "5831  2016-12-28  2000-12-31 00:00:00      1284423        F              F   \n",
       "5832  2016-12-28  2000-12-31 00:00:00      1418095        F              F   \n",
       "\n",
       "      product_subclass     product_id  amount  asset  sales_price    value  \\\n",
       "0               110109  4710043552065       1    144          190  unknown   \n",
       "1               100312  4710543111014       1     32           38      115   \n",
       "2               500206  4710114322115       1     64           79      115   \n",
       "3               530106  4713813010123       1    174          147      115   \n",
       "4               100217  8801019421013       1     47           52      114   \n",
       "...                ...            ...     ...    ...          ...      ...   \n",
       "5828            100106  8992741956109       1     31           39      221   \n",
       "5829            130206  4711080040195       1     47           60      221   \n",
       "5830            110117  4710008314141       1     53           65   others   \n",
       "5831            110811  4710626844457       1     79           91      221   \n",
       "5832            100511  4710632001318       1      7            9      221   \n",
       "\n",
       "     age_range  age_min  age_max  age_center  \n",
       "0        50-54     50.0     54.0        52.0  \n",
       "1        40-44     40.0     44.0        42.0  \n",
       "2        35-39     35.0     39.0        37.0  \n",
       "3        40-44     40.0     44.0        42.0  \n",
       "4        25-29     25.0     29.0        27.0  \n",
       "...        ...      ...      ...         ...  \n",
       "5828     35-39     35.0     39.0        37.0  \n",
       "5829     30-34     30.0     34.0        32.0  \n",
       "5830     40-44     40.0     44.0        42.0  \n",
       "5831     45-49     45.0     49.0        47.0  \n",
       "5832     45-49     45.0     49.0        47.0  \n",
       "\n",
       "[5833 rows x 15 columns]"
      ]
     },
     "execution_count": 52,
     "metadata": {},
     "output_type": "execute_result"
    }
   ],
   "source": [
    "# type your code here\n",
    "res = residence_areas.rename(columns={\"tag\": \"residence_area\"})\n",
    "temp = pd.merge(tafeng_transactions, res, how='left', on='residence_area')\n",
    "\n",
    "age = age_classes.rename(columns={\"code\": \"age_code\"})\n",
    "tafeng_full = pd.merge(temp, age, how='left', on='age_code')\n",
    "tafeng_full\n"
   ]
  },
  {
   "cell_type": "code",
   "execution_count": 53,
   "metadata": {},
   "outputs": [
    {
     "data": {
      "text/html": [
       "<div>\n",
       "<style scoped>\n",
       "    .dataframe tbody tr th:only-of-type {\n",
       "        vertical-align: middle;\n",
       "    }\n",
       "\n",
       "    .dataframe tbody tr th {\n",
       "        vertical-align: top;\n",
       "    }\n",
       "\n",
       "    .dataframe thead th {\n",
       "        text-align: right;\n",
       "    }\n",
       "</style>\n",
       "<table border=\"1\" class=\"dataframe\">\n",
       "  <thead>\n",
       "    <tr style=\"text-align: right;\">\n",
       "      <th></th>\n",
       "      <th>entry_date</th>\n",
       "      <th>transaction_time</th>\n",
       "      <th>customer_id</th>\n",
       "      <th>age_code</th>\n",
       "      <th>residence_area</th>\n",
       "      <th>product_subclass</th>\n",
       "      <th>product_id</th>\n",
       "      <th>amount</th>\n",
       "      <th>asset</th>\n",
       "      <th>sales_price</th>\n",
       "      <th>value</th>\n",
       "      <th>age_range</th>\n",
       "      <th>age_min</th>\n",
       "      <th>age_max</th>\n",
       "      <th>age_center</th>\n",
       "    </tr>\n",
       "  </thead>\n",
       "  <tbody>\n",
       "  </tbody>\n",
       "</table>\n",
       "</div>"
      ],
      "text/plain": [
       "Empty DataFrame\n",
       "Columns: [entry_date, transaction_time, customer_id, age_code, residence_area, product_subclass, product_id, amount, asset, sales_price, value, age_range, age_min, age_max, age_center]\n",
       "Index: []"
      ]
     },
     "execution_count": 53,
     "metadata": {},
     "output_type": "execute_result"
    }
   ],
   "source": [
    "#check for duplicate\n",
    "tafeng_full.loc[tafeng_full.duplicated(), :]"
   ]
  },
  {
   "cell_type": "markdown",
   "metadata": {
    "id": "oR1CdJQ2tleT"
   },
   "source": [
    "#### Guided EDA"
   ]
  },
  {
   "cell_type": "markdown",
   "metadata": {
    "id": "Ye5jpFF5tleU"
   },
   "source": [
    "We may be interested in what the purchase data can tell us about TaFeng's business and the behavior of their customers. While there are many aspects of this data set that we could look into, we start by exploring the customer behavior at the product level to get a feel for the variables, data type, cleanliness, missingness, and distributions. For the moment, assume that the data consists of all transactions in the 3 month period (i.e. no transactions are missing from this data set). \n",
    "\n",
    "**Note**: 0 points for examples, -5 if you do not run, output, and understand"
   ]
  },
  {
   "cell_type": "markdown",
   "metadata": {
    "id": "PGpj7PW-tleV"
   },
   "source": [
    "##### Example 1\n",
    "Calculate the number of shopping trips each customer made in the 3-month period. Then make a histogram that summarizes the information. Assume that transactions occurring on the same day can be grouped together into one trip (e.g. All purchases on January 1 by the same customer should be lumped together)."
   ]
  },
  {
   "cell_type": "code",
   "execution_count": 54,
   "metadata": {
    "id": "TP7QkPrGtleV"
   },
   "outputs": [
    {
     "data": {
      "text/plain": [
       "Text(0.5, 1.0, 'Repeat Business')"
      ]
     },
     "execution_count": 54,
     "metadata": {},
     "output_type": "execute_result"
    },
    {
     "data": {
      "image/png": "[encoded data removed]",
      "text/plain": [
       "<Figure size 432x288 with 1 Axes>"
      ]
     },
     "metadata": {},
     "output_type": "display_data"
    }
   ],
   "source": [
    "rpt_business = tafeng_full.groupby('customer_id')['transaction_time'].nunique()\n",
    "rpt_business.hist(bins=rpt_business.max())\n",
    "\n",
    "plt.xlabel('Number of Trips in 3 Months')\n",
    "plt.ylabel('Number of Customers')\n",
    "plt.title('Repeat Business')"
   ]
  },
  {
   "cell_type": "markdown",
   "metadata": {
    "id": "NbZlmGm2tleW"
   },
   "source": [
    "A customer that is on the left side of the distribution shops only sporadically at TaFeng, and a customer on the right side of the distribution shops at TaFeng very frequently. The distribution is skewed right with nearly all the customers shopping fewer than 3 times in the three month period. Now it is hard to see the distribution for frequent customers (>=4 trips). Let's zoom in to better view the shape of the distribution of frequent customers."
   ]
  },
  {
   "cell_type": "code",
   "execution_count": 55,
   "metadata": {
    "id": "OdfVS6o7tleW"
   },
   "outputs": [
    {
     "data": {
      "text/plain": [
       "(0.0, 20.0)"
      ]
     },
     "execution_count": 55,
     "metadata": {},
     "output_type": "execute_result"
    },
    {
     "data": {
      "image/png": "[encoded data removed]",
      "text/plain": [
       "<Figure size 432x288 with 1 Axes>"
      ]
     },
     "metadata": {},
     "output_type": "display_data"
    }
   ],
   "source": [
    "rpt_business.hist(bins=rpt_business.max())\n",
    "\n",
    "plt.xlabel('Number of Trips in 3 Months')\n",
    "plt.ylabel('Number of Customers')\n",
    "plt.title('Repeat Business')\n",
    "\n",
    "plt.xlim(4, 10)\n",
    "plt.ylim(0, 20)"
   ]
  },
  {
   "cell_type": "markdown",
   "metadata": {
    "id": "noWzBPmXtleX"
   },
   "source": [
    "##### Example 2\n",
    "In this example, we will investigate temporal trends in shopping behavior. We begin with the technical details of date-time data."
   ]
  },
  {
   "cell_type": "code",
   "execution_count": 56,
   "metadata": {
    "id": "HdLpM9NdtleX"
   },
   "outputs": [
    {
     "data": {
      "text/html": [
       "<div>\n",
       "<style scoped>\n",
       "    .dataframe tbody tr th:only-of-type {\n",
       "        vertical-align: middle;\n",
       "    }\n",
       "\n",
       "    .dataframe tbody tr th {\n",
       "        vertical-align: top;\n",
       "    }\n",
       "\n",
       "    .dataframe thead th {\n",
       "        text-align: right;\n",
       "    }\n",
       "</style>\n",
       "<table border=\"1\" class=\"dataframe\">\n",
       "  <thead>\n",
       "    <tr style=\"text-align: right;\">\n",
       "      <th></th>\n",
       "      <th>entry_date</th>\n",
       "      <th>transaction_time</th>\n",
       "      <th>customer_id</th>\n",
       "      <th>age_code</th>\n",
       "      <th>residence_area</th>\n",
       "      <th>product_subclass</th>\n",
       "      <th>product_id</th>\n",
       "      <th>amount</th>\n",
       "      <th>asset</th>\n",
       "      <th>sales_price</th>\n",
       "      <th>value</th>\n",
       "      <th>age_range</th>\n",
       "      <th>age_min</th>\n",
       "      <th>age_max</th>\n",
       "      <th>age_center</th>\n",
       "    </tr>\n",
       "  </thead>\n",
       "  <tbody>\n",
       "    <tr>\n",
       "      <th>0</th>\n",
       "      <td>2016-12-26</td>\n",
       "      <td>2001-01-15</td>\n",
       "      <td>1786439</td>\n",
       "      <td>G</td>\n",
       "      <td>H</td>\n",
       "      <td>110109</td>\n",
       "      <td>4710043552065</td>\n",
       "      <td>1</td>\n",
       "      <td>144</td>\n",
       "      <td>190</td>\n",
       "      <td>unknown</td>\n",
       "      <td>50-54</td>\n",
       "      <td>50.0</td>\n",
       "      <td>54.0</td>\n",
       "      <td>52.0</td>\n",
       "    </tr>\n",
       "    <tr>\n",
       "      <th>1</th>\n",
       "      <td>2016-12-26</td>\n",
       "      <td>2001-01-15</td>\n",
       "      <td>98946</td>\n",
       "      <td>E</td>\n",
       "      <td>E</td>\n",
       "      <td>100312</td>\n",
       "      <td>4710543111014</td>\n",
       "      <td>1</td>\n",
       "      <td>32</td>\n",
       "      <td>38</td>\n",
       "      <td>115</td>\n",
       "      <td>40-44</td>\n",
       "      <td>40.0</td>\n",
       "      <td>44.0</td>\n",
       "      <td>42.0</td>\n",
       "    </tr>\n",
       "    <tr>\n",
       "      <th>2</th>\n",
       "      <td>2016-12-26</td>\n",
       "      <td>2001-01-15</td>\n",
       "      <td>905602</td>\n",
       "      <td>D</td>\n",
       "      <td>E</td>\n",
       "      <td>500206</td>\n",
       "      <td>4710114322115</td>\n",
       "      <td>1</td>\n",
       "      <td>64</td>\n",
       "      <td>79</td>\n",
       "      <td>115</td>\n",
       "      <td>35-39</td>\n",
       "      <td>35.0</td>\n",
       "      <td>39.0</td>\n",
       "      <td>37.0</td>\n",
       "    </tr>\n",
       "    <tr>\n",
       "      <th>3</th>\n",
       "      <td>2016-12-26</td>\n",
       "      <td>2001-01-15</td>\n",
       "      <td>1964295</td>\n",
       "      <td>E</td>\n",
       "      <td>E</td>\n",
       "      <td>530106</td>\n",
       "      <td>4713813010123</td>\n",
       "      <td>1</td>\n",
       "      <td>174</td>\n",
       "      <td>147</td>\n",
       "      <td>115</td>\n",
       "      <td>40-44</td>\n",
       "      <td>40.0</td>\n",
       "      <td>44.0</td>\n",
       "      <td>42.0</td>\n",
       "    </tr>\n",
       "    <tr>\n",
       "      <th>4</th>\n",
       "      <td>2016-12-26</td>\n",
       "      <td>2001-01-15</td>\n",
       "      <td>2146553</td>\n",
       "      <td>B</td>\n",
       "      <td>D</td>\n",
       "      <td>100217</td>\n",
       "      <td>8801019421013</td>\n",
       "      <td>1</td>\n",
       "      <td>47</td>\n",
       "      <td>52</td>\n",
       "      <td>114</td>\n",
       "      <td>25-29</td>\n",
       "      <td>25.0</td>\n",
       "      <td>29.0</td>\n",
       "      <td>27.0</td>\n",
       "    </tr>\n",
       "  </tbody>\n",
       "</table>\n",
       "</div>"
      ],
      "text/plain": [
       "   entry_date transaction_time  customer_id age_code residence_area  \\\n",
       "0  2016-12-26       2001-01-15      1786439        G              H   \n",
       "1  2016-12-26       2001-01-15        98946        E              E   \n",
       "2  2016-12-26       2001-01-15       905602        D              E   \n",
       "3  2016-12-26       2001-01-15      1964295        E              E   \n",
       "4  2016-12-26       2001-01-15      2146553        B              D   \n",
       "\n",
       "   product_subclass     product_id  amount  asset  sales_price    value  \\\n",
       "0            110109  4710043552065       1    144          190  unknown   \n",
       "1            100312  4710543111014       1     32           38      115   \n",
       "2            500206  4710114322115       1     64           79      115   \n",
       "3            530106  4713813010123       1    174          147      115   \n",
       "4            100217  8801019421013       1     47           52      114   \n",
       "\n",
       "  age_range  age_min  age_max  age_center  \n",
       "0     50-54     50.0     54.0        52.0  \n",
       "1     40-44     40.0     44.0        42.0  \n",
       "2     35-39     35.0     39.0        37.0  \n",
       "3     40-44     40.0     44.0        42.0  \n",
       "4     25-29     25.0     29.0        27.0  "
      ]
     },
     "execution_count": 56,
     "metadata": {},
     "output_type": "execute_result"
    }
   ],
   "source": [
    "time_format = \"%Y-%m-%d %H:%M:%S\"\n",
    "tafeng_full['transaction_time'] = pd.to_datetime(tafeng_full['transaction_time'], \n",
    "                                                format = time_format)\n",
    "tafeng_full.head()"
   ]
  },
  {
   "cell_type": "markdown",
   "metadata": {
    "id": "mszfxYfYtleY"
   },
   "source": [
    "Now we have the time data in a usable format, we can start looking into customer trends over time. Make a line plot of the number of unique customers per day against day. Note that we will change the granularity at which we are examining our data."
   ]
  },
  {
   "cell_type": "code",
   "execution_count": 57,
   "metadata": {
    "id": "aBA_PLkitleY"
   },
   "outputs": [
    {
     "data": {
      "text/plain": [
       "Text(0.5, 1.0, 'Unique Customers Per Day')"
      ]
     },
     "execution_count": 57,
     "metadata": {},
     "output_type": "execute_result"
    },
    {
     "data": {
      "image/png": "[encoded data removed]",
      "text/plain": [
       "<Figure size 432x288 with 1 Axes>"
      ]
     },
     "metadata": {},
     "output_type": "display_data"
    }
   ],
   "source": [
    "tafeng_full.groupby('transaction_time')['customer_id'].nunique().plot(color='blue', lw=0.5)\n",
    "plt.xlabel('Day')\n",
    "plt.ylabel('Unique Customers')\n",
    "plt.title('Unique Customers Per Day')"
   ]
  },
  {
   "cell_type": "markdown",
   "metadata": {
    "id": "2M_EVBmGtleZ"
   },
   "source": [
    "What if we are interested in holidays?"
   ]
  },
  {
   "cell_type": "code",
   "execution_count": 58,
   "metadata": {
    "id": "aKn5Y6fPtleZ"
   },
   "outputs": [
    {
     "data": {
      "image/png": "[encoded data removed]",
      "text/plain": [
       "<Figure size 432x288 with 1 Axes>"
      ]
     },
     "metadata": {},
     "output_type": "display_data"
    }
   ],
   "source": [
    "tafeng_full.groupby('transaction_time')['customer_id'].nunique().plot(color='black', lw=1.5)\n",
    "plt.xlabel('Day')\n",
    "plt.ylabel('Unique Customers')\n",
    "plt.title('Unique Customers Per Day')\n",
    "\n",
    "holidays = ['2000-12-25', '2001-01-01', '2001-01-24']\n",
    "for holiday in holidays:\n",
    "    plt.axvline(holiday, lw=1.5, color='#ef8a62', ls='dashed')"
   ]
  },
  {
   "cell_type": "markdown",
   "metadata": {
    "id": "5RjhemDbtleZ"
   },
   "source": [
    "Now, let's play. We are going to investigate the TaFeng Transactions to another level.\n",
    "\n",
    "We will investigate the shopping trips in greater detail. For example, we might be interested in the total number of items purchased, the total amount spent, and the number of unique products purchased on the trip. Since our data are at the level of items purchased, we need to aggregate our data to the shopping cart. Fortunately we have tools to do this; that is, we will change the granularity. For each shopping cart, we find:\n",
    "1. \"num_items\" - the total number of items purchased;\n",
    "1. \"total_value\" - the total value of the cart;\n",
    "1. \"num_unique\" - the number of unique products purchased.\n",
    "\n",
    "**NOTE**: as a data scientist, if not clear about one column, you should contact the person who knows the data well, here is Juhua\n",
    "\n",
    "**Important Information**: \n",
    "1. `product_subclass`: category of a product\n",
    "1. `product_id`: id used to identify a unique product\n",
    "1. `amount`: total number of the corresponding product purchased in the transaction\n",
    "1. `asset`: total number of inventory for the store\n",
    "1. `sales_price`: total amount spent in the transaction (**NOT price per product**)\n",
    "\n",
    "\n",
    "\n"
   ]
  },
  {
   "cell_type": "markdown",
   "metadata": {
    "id": "uHGKeyGltlea"
   },
   "source": [
    "#### Question 2.2.d (8 points)\n",
    "Create a data frame called `carts` that contains the three variables above, as well as \"customer_id\" and \"transaction_time\" (i.e., date). Make sure you use the names specified."
   ]
  },
  {
   "cell_type": "code",
   "execution_count": 59,
   "metadata": {
    "id": "Kh-6QqB0tlea"
   },
   "outputs": [
    {
     "data": {
      "text/html": [
       "<div>\n",
       "<style scoped>\n",
       "    .dataframe tbody tr th:only-of-type {\n",
       "        vertical-align: middle;\n",
       "    }\n",
       "\n",
       "    .dataframe tbody tr th {\n",
       "        vertical-align: top;\n",
       "    }\n",
       "\n",
       "    .dataframe thead th {\n",
       "        text-align: right;\n",
       "    }\n",
       "</style>\n",
       "<table border=\"1\" class=\"dataframe\">\n",
       "  <thead>\n",
       "    <tr style=\"text-align: right;\">\n",
       "      <th></th>\n",
       "      <th></th>\n",
       "      <th>num_items</th>\n",
       "      <th>total_value</th>\n",
       "      <th>num_unique</th>\n",
       "    </tr>\n",
       "    <tr>\n",
       "      <th>customer_id</th>\n",
       "      <th>transaction_time</th>\n",
       "      <th></th>\n",
       "      <th></th>\n",
       "      <th></th>\n",
       "    </tr>\n",
       "  </thead>\n",
       "  <tbody>\n",
       "    <tr>\n",
       "      <th rowspan=\"5\" valign=\"top\">0</th>\n",
       "      <th>2000-11-29</th>\n",
       "      <td>1</td>\n",
       "      <td>85</td>\n",
       "      <td>1</td>\n",
       "    </tr>\n",
       "    <tr>\n",
       "      <th>2000-12-02</th>\n",
       "      <td>4</td>\n",
       "      <td>396</td>\n",
       "      <td>1</td>\n",
       "    </tr>\n",
       "    <tr>\n",
       "      <th>2000-12-23</th>\n",
       "      <td>1</td>\n",
       "      <td>36</td>\n",
       "      <td>1</td>\n",
       "    </tr>\n",
       "    <tr>\n",
       "      <th>2001-01-03</th>\n",
       "      <td>3</td>\n",
       "      <td>207</td>\n",
       "      <td>1</td>\n",
       "    </tr>\n",
       "    <tr>\n",
       "      <th>2001-01-09</th>\n",
       "      <td>1</td>\n",
       "      <td>155</td>\n",
       "      <td>1</td>\n",
       "    </tr>\n",
       "    <tr>\n",
       "      <th>...</th>\n",
       "      <th>...</th>\n",
       "      <td>...</td>\n",
       "      <td>...</td>\n",
       "      <td>...</td>\n",
       "    </tr>\n",
       "    <tr>\n",
       "      <th>2172941</th>\n",
       "      <th>2001-01-22</th>\n",
       "      <td>2</td>\n",
       "      <td>178</td>\n",
       "      <td>1</td>\n",
       "    </tr>\n",
       "    <tr>\n",
       "      <th>2173061</th>\n",
       "      <th>2001-01-22</th>\n",
       "      <td>1</td>\n",
       "      <td>207</td>\n",
       "      <td>1</td>\n",
       "    </tr>\n",
       "    <tr>\n",
       "      <th>2173436</th>\n",
       "      <th>2001-01-27</th>\n",
       "      <td>9</td>\n",
       "      <td>378</td>\n",
       "      <td>1</td>\n",
       "    </tr>\n",
       "    <tr>\n",
       "      <th>2173634</th>\n",
       "      <th>2001-01-28</th>\n",
       "      <td>1</td>\n",
       "      <td>35</td>\n",
       "      <td>1</td>\n",
       "    </tr>\n",
       "    <tr>\n",
       "      <th>20002000</th>\n",
       "      <th>2000-12-13</th>\n",
       "      <td>1</td>\n",
       "      <td>100</td>\n",
       "      <td>1</td>\n",
       "    </tr>\n",
       "  </tbody>\n",
       "</table>\n",
       "<p>5515 rows × 3 columns</p>\n",
       "</div>"
      ],
      "text/plain": [
       "                              num_items  total_value  num_unique\n",
       "customer_id transaction_time                                    \n",
       "0           2000-11-29                1           85           1\n",
       "            2000-12-02                4          396           1\n",
       "            2000-12-23                1           36           1\n",
       "            2001-01-03                3          207           1\n",
       "            2001-01-09                1          155           1\n",
       "...                                 ...          ...         ...\n",
       "2172941     2001-01-22                2          178           1\n",
       "2173061     2001-01-22                1          207           1\n",
       "2173436     2001-01-27                9          378           1\n",
       "2173634     2001-01-28                1           35           1\n",
       "20002000    2000-12-13                1          100           1\n",
       "\n",
       "[5515 rows x 3 columns]"
      ]
     },
     "execution_count": 59,
     "metadata": {},
     "output_type": "execute_result"
    }
   ],
   "source": [
    "# type your code here\n",
    "carts = tafeng_full.groupby(['customer_id','transaction_time']).aggregate({'amount': 'sum',\n",
    "                             'sales_price': 'sum','product_id' : 'nunique' })\n",
    "carts.rename(columns={\"amount\": \"num_items\",\"sales_price\": \"total_value\",\"product_id\" : \"num_unique\"}, \n",
    "             inplace = True)\n",
    "carts"
   ]
  },
  {
   "cell_type": "markdown",
   "metadata": {
    "id": "LC7qP7q3tleb"
   },
   "source": [
    "#### Question 2.2.e (6 points)\n",
    "Now let's take a look at the relationship between the number of items in a cart and the cart's total value. Intuitively the two should be positively correlated. Make a SCATTER plot that will help us inspect the relationship between these two variables.\n",
    "\n",
    "**Note**: Please provide clear information of the plot (e.g., x-axis label, y-axis label, etc.) (-3, if not)"
   ]
  },
  {
   "cell_type": "code",
   "execution_count": 60,
   "metadata": {},
   "outputs": [
    {
     "data": {
      "text/plain": [
       "<AxesSubplot:title={'center':'Relationship between the number of items \\nin a cart and the cart total value'}, xlabel='num_items', ylabel='total_value'>"
      ]
     },
     "execution_count": 60,
     "metadata": {},
     "output_type": "execute_result"
    },
    {
     "data": {
      "image/png": "[encoded data removed]",
      "text/plain": [
       "<Figure size 432x288 with 1 Axes>"
      ]
     },
     "metadata": {},
     "output_type": "display_data"
    }
   ],
   "source": [
    "carts.plot.scatter(x='num_items', y='total_value', \n",
    "                   title='Relationship between the number of items \\nin a cart and the cart total value')"
   ]
  },
  {
   "cell_type": "markdown",
   "metadata": {
    "id": "kcg_BRWKtleb"
   },
   "source": [
    "#### Question 2.2.f (3 points)\n",
    "\n",
    "We might expect from the distribution of the number of trips that there would be a few very large values for the number of items and the total amount spent. Indeed, a handful of observations make it difficult to see the shape of the bulk of the data. Take a log transformation of these two variables. Make another scatter plot, but this time, log-transform both the x and y axes. (2 points)"
   ]
  },
  {
   "cell_type": "code",
   "execution_count": 61,
   "metadata": {
    "id": "rFyP_sgjtlec"
   },
   "outputs": [
    {
     "data": {
      "image/png": "[encoded data removed]",
      "text/plain": [
       "<Figure size 432x288 with 1 Axes>"
      ]
     },
     "metadata": {},
     "output_type": "display_data"
    }
   ],
   "source": [
    "# type your code here\n",
    "num_items_log = np.log(carts.num_items)\n",
    "total_value_log = np.log(carts.total_value)\n",
    "\n",
    "plt.scatter(num_items_log,total_value_log, cmap= 'summer', edgecolor = 'black', linewidth = 1, alpha = 0.75)\n",
    "plt.title('relationship between the number of items\\n in a cart and the cart total value\\n(log log plot)')\n",
    "plt.xlabel('num_items')\n",
    "plt.ylabel('total_value')\n",
    "plt.show()"
   ]
  },
  {
   "cell_type": "markdown",
   "metadata": {
    "id": "pPqdIzM3tlec"
   },
   "source": [
    "#### Question 2.2.g (3 points)\n",
    "\n",
    "Please study the functionality of seaborn's `lmplot` [method](https://seaborn.pydata.org/generated/seaborn.lmplot.html) and use it to simultaneously plot the points and the line-of-best-fit for the above log-log data."
   ]
  },
  {
   "cell_type": "code",
   "execution_count": 62,
   "metadata": {
    "id": "XYL9e6Rytled"
   },
   "outputs": [
    {
     "data": {
      "image/png": "[encoded data removed]",
      "text/plain": [
       "<Figure size 360x360 with 1 Axes>"
      ]
     },
     "metadata": {},
     "output_type": "display_data"
    }
   ],
   "source": [
    "# type your code here\n",
    "carts['num_items_log'] =  num_items_log\n",
    "carts['total_value_log'] = total_value_log\n",
    "sns.lmplot(x= 'num_items_log', y=  'total_value_log', data=carts, x_estimator = np.mean, \n",
    "           x_ci = 90, ci = 90,truncate = False)\n",
    "plt.title('relationship between the number of items \\nin a cart and the cart total value')\n",
    "plt.xlabel('num_items')\n",
    "plt.ylabel('total_value')\n",
    "plt.show()"
   ]
  },
  {
   "cell_type": "markdown",
   "metadata": {
    "id": "3qW0FpL9tled"
   },
   "source": [
    "#### Question 2.2.h (1 point)\n",
    "What kind of relationship between \"num_items\" and \"total_value\" you can see from the seaborn's lmplot? "
   ]
  },
  {
   "cell_type": "markdown",
   "metadata": {
    "id": "TaDhYN62at4K"
   },
   "source": [
    "**Your Answer**: \n",
    "1. As per the graph it is clearly visible that with increase in number of items, total value is also increasing.\n",
    "2. Linear relationship between these two variables.\n",
    "3. Note, The plot does not prove causation between num_items and total_value but these two are positively correlated. \n",
    "4. There are some outliers which needs to be handled while fitting the line. "
   ]
  },
  {
   "cell_type": "markdown",
   "metadata": {
    "id": "Kvo3V47Xtled"
   },
   "source": [
    "#### Self-Directed EDA\n",
    "This last question is intentionally more open-ended and will be graded on the completeness of the plot(s) produced and the insights you gain from them. Be sure to make plots that are appropriate for the variable types. For completeness, be explicit about any assumptions you make in your analysis."
   ]
  },
  {
   "cell_type": "markdown",
   "metadata": {
    "id": "zrlcR17jtlee"
   },
   "source": [
    "#### Question 2.2.i (10 points)\n",
    "Make a visualization of and interpret the age distribution of the shoppers.\n",
    "\n",
    "**Note**: It is important NOT to count one customer multiple times."
   ]
  },
  {
   "cell_type": "code",
   "execution_count": 63,
   "metadata": {
    "id": "YUvch3E0tlee"
   },
   "outputs": [
    {
     "data": {
      "text/plain": [
       "Text(0, 0.5, 'number of unique customer/product')"
      ]
     },
     "execution_count": 63,
     "metadata": {},
     "output_type": "execute_result"
    },
    {
     "data": {
      "image/png": "[encoded data removed]",
      "text/plain": [
       "<Figure size 432x288 with 1 Axes>"
      ]
     },
     "metadata": {},
     "output_type": "display_data"
    }
   ],
   "source": [
    "# type your code here\n",
    "\n",
    "shopper_visualization = tafeng_full.groupby(['age_range']).aggregate({'customer_id': 'nunique', \n",
    "                                                'product_subclass': 'nunique'})\n",
    "\n",
    "shopper_visualization.plot(kind=\"bar\")\n",
    "plt.title('relationship between the age_range \\nnumber of unique customer/product')\n",
    "plt.ylabel('number of unique customer/product')"
   ]
  },
  {
   "cell_type": "markdown",
   "metadata": {
    "id": "hd185EbYb-QF"
   },
   "source": [
    "#### Question 2.2.j (2 points)\n",
    "\n",
    "YOUR OBSERVATIONS from 2.2.i?\n",
    "\n",
    "Following are the observations:\n",
    " \n",
    " 1. I observed that the age group 35-39 customers are visiting to shop the most and buying maximum products. \n",
    " 2. It is visible that after the age 25 the shoping frequency of people is more till the time they cross age 54. \n",
    " 3. The minimum is shopping is for age group 60-64. \n",
    " 4. The distribution seems to be like a normal distribution.  "
   ]
  },
  {
   "cell_type": "markdown",
   "metadata": {
    "id": "mAKWV4ul-Vzk"
   },
   "source": [
    "## Submission\n",
    "\n",
    "Make sure you have run all cells in your notebook in order, so that all images/graphs appear in the output. \n",
    "1. Export as html\n",
    "2. Download ipynb \n",
    "3. Submit both to Canvas (NOT zip)\n"
   ]
  },
  {
   "cell_type": "markdown",
   "metadata": {
    "id": "bnuWihL9IVWg"
   },
   "source": [
    " "
   ]
  }
 ],
 "metadata": {
  "anaconda-cloud": {},
  "celltoolbar": "Create Assignment",
  "colab": {
   "collapsed_sections": [
    "-qSudK2TIVWF",
    "dK_9TzOTIVWH",
    "W1fPqCQZIVWJ",
    "_qrsNTYSIVWL",
    "a643jsPRIVWN",
    "p3QpaFAbIVWN",
    "jTUG_1tCIVWS",
    "2feuR3NrIVWU",
    "R2TacyDJIVWY",
    "w958ezNEIVWa",
    "HJN0CUnvIVWb",
    "vqeduQ9tIVWd"
   ],
   "name": "TCSS 551 A2.ipynb",
   "provenance": [
    {
     "file_id": "1ZIsD5tmXli1ICavfnsIKED9_odwaUt_Q",
     "timestamp": 1617812381033
    }
   ],
   "toc_visible": true
  },
  "history": [
   {
    "code": "fruit_info = pd.DataFrame(\n    data = {'fruit': ['apple', 'orange', 'banana', 'raspberry'],\n          'color': ['red', 'orange', 'yellow', 'pink']\n          })\nfruit_info",
    "id": "2206133de8e0477a8289e0a024c11201",
    "idx": 8,
    "time": "2021-02-01T02:28:33.954Z",
    "type": "execution"
   },
   {
    "id": "2206133de8e0477a8289e0a024c11201",
    "time": "2021-02-01T02:28:34.061Z",
    "type": "completion"
   },
   {
    "code": "import numpy as np\nimport matplotlib.pyplot as plt\nimport pandas as pd\n%matplotlib inline",
    "id": "f0bd0f8f87fa474cabf8217384abc961",
    "idx": 5,
    "time": "2021-02-01T02:28:39.373Z",
    "type": "execution"
   },
   {
    "id": "f0bd0f8f87fa474cabf8217384abc961",
    "time": "2021-02-01T02:28:39.999Z",
    "type": "completion"
   },
   {
    "code": "fruit_info = pd.DataFrame(\n    data = {'fruit': ['apple', 'orange', 'banana', 'raspberry'],\n          'color': ['red', 'orange', 'yellow', 'pink']\n          })\nfruit_info",
    "id": "2206133de8e0477a8289e0a024c11201",
    "idx": 8,
    "time": "2021-02-01T02:28:54.763Z",
    "type": "execution"
   },
   {
    "id": "2206133de8e0477a8289e0a024c11201",
    "time": "2021-02-01T02:28:54.827Z",
    "type": "completion"
   },
   {
    "code": "import numpy as np\nimport matplotlib.pyplot as plt\nimport pandas as pd\n%matplotlib inline",
    "id": "f0bd0f8f87fa474cabf8217384abc961",
    "idx": 5,
    "time": "2021-02-01T02:30:51.212Z",
    "type": "execution"
   },
   {
    "code": "fruit_info = pd.DataFrame(\n    data = {'fruit': ['apple', 'orange', 'banana', 'raspberry'],\n          'color': ['red', 'orange', 'yellow', 'pink']\n          })\nfruit_info",
    "id": "2206133de8e0477a8289e0a024c11201",
    "idx": 8,
    "time": "2021-02-01T02:30:51.218Z",
    "type": "execution"
   },
   {
    "code": "fruit_info2 = pd.DataFrame(\n    [(\"red\", \"apple\"), (\"orange\", \"orange\"), (\"yellow\", \"banana\"),\n     (\"pink\", \"raspberry\")], \n    columns = [\"color\", \"fruit\"])\nfruit_info2",
    "id": "56af03292a924271ae37ec932466f41f",
    "idx": 10,
    "time": "2021-02-01T02:30:51.220Z",
    "type": "execution"
   },
   {
    "code": "fruit_info.shape",
    "id": "6ff0eaa9e66947cc924e7e7ba69ebc42",
    "idx": 12,
    "time": "2021-02-01T02:30:51.226Z",
    "type": "execution"
   },
   {
    "id": "f0bd0f8f87fa474cabf8217384abc961",
    "time": "2021-02-01T02:30:51.274Z",
    "type": "completion"
   },
   {
    "id": "2206133de8e0477a8289e0a024c11201",
    "time": "2021-02-01T02:30:51.286Z",
    "type": "completion"
   },
   {
    "id": "56af03292a924271ae37ec932466f41f",
    "time": "2021-02-01T02:30:51.321Z",
    "type": "completion"
   },
   {
    "id": "6ff0eaa9e66947cc924e7e7ba69ebc42",
    "time": "2021-02-01T02:30:51.324Z",
    "type": "completion"
   },
   {
    "code": "# BEGIN SOLUTION\nfruit_info_caps = fruit_info_original.rename(columns = {\"color\": \"Color\", \"fruit\": \"Fruit\"})\n# END SOLUTION\nfruit_info_caps",
    "id": "0edeb083a8bd41a38abd894b95efd146",
    "idx": 29,
    "time": "2021-02-01T02:33:03.535Z",
    "type": "execution"
   },
   {
    "id": "0edeb083a8bd41a38abd894b95efd146",
    "time": "2021-02-01T02:33:03.635Z",
    "type": "completion"
   },
   {
    "code": "import numpy as np\nimport matplotlib.pyplot as plt\nimport pandas as pd\n%matplotlib inline",
    "id": "f0bd0f8f87fa474cabf8217384abc961",
    "idx": 5,
    "time": "2021-02-01T02:33:08.812Z",
    "type": "execution"
   },
   {
    "code": "fruit_info = pd.DataFrame(\n    data = {'fruit': ['apple', 'orange', 'banana', 'raspberry'],\n          'color': ['red', 'orange', 'yellow', 'pink']\n          })\nfruit_info",
    "id": "2206133de8e0477a8289e0a024c11201",
    "idx": 8,
    "time": "2021-02-01T02:33:08.815Z",
    "type": "execution"
   },
   {
    "code": "fruit_info2 = pd.DataFrame(\n    [(\"red\", \"apple\"), (\"orange\", \"orange\"), (\"yellow\", \"banana\"),\n     (\"pink\", \"raspberry\")], \n    columns = [\"color\", \"fruit\"])\nfruit_info2",
    "id": "56af03292a924271ae37ec932466f41f",
    "idx": 10,
    "time": "2021-02-01T02:33:08.818Z",
    "type": "execution"
   },
   {
    "code": "fruit_info.shape",
    "id": "6ff0eaa9e66947cc924e7e7ba69ebc42",
    "idx": 12,
    "time": "2021-02-01T02:33:08.820Z",
    "type": "execution"
   },
   {
    "code": "fruit_info.values",
    "id": "2f72951aea9341e39051a479c5a48a32",
    "idx": 14,
    "time": "2021-02-01T02:33:08.822Z",
    "type": "execution"
   },
   {
    "code": "# BEGIN SOLUTION\nfruit_info[\"rank1\"] = [2, 1, 4, 3]\n# END SOLUTION\nfruit_info",
    "id": "cd9c52bf56764de4b3dc7a1e23cef5bf",
    "idx": 16,
    "time": "2021-02-01T02:33:08.824Z",
    "type": "execution"
   },
   {
    "code": "# TEST \nfruit_info[\"rank1\"].dtype",
    "id": "0d8ed1e067f1472386c87f1f5a7ad303",
    "idx": 17,
    "time": "2021-02-01T02:33:08.826Z",
    "type": "execution"
   },
   {
    "code": "# TEST\nsorted(fruit_info[\"rank1\"].dropna())",
    "id": "b5ff3c6cc6aa4a1caeb6e7c85a5f78ef",
    "idx": 18,
    "time": "2021-02-01T02:33:08.828Z",
    "type": "execution"
   },
   {
    "code": "# BEGIN SOLUTION\nfruit_info.loc[:, \"rank2\"] = [2, 1, 4, 3]\n# END SOLUTION\nfruit_info",
    "id": "f847e726999e4d98953287cd04043aa0",
    "idx": 20,
    "time": "2021-02-01T02:33:08.830Z",
    "type": "execution"
   },
   {
    "code": "# TEST \nfruit_info[\"rank2\"].dtype",
    "id": "70f5dafbb83b4b6985493e456d65ba45",
    "idx": 21,
    "time": "2021-02-01T02:33:08.832Z",
    "type": "execution"
   },
   {
    "code": "# TEST\nfruit_info[\"rank2\"] == fruit_info[\"rank1\"]",
    "id": "450587c65d6f41648209f4f69a9fb651",
    "idx": 22,
    "time": "2021-02-01T02:33:08.834Z",
    "type": "execution"
   },
   {
    "code": "fruit_info_original = fruit_info.drop([\"rank1\", \"rank2\"], axis = 1) # SOLUTION\nfruit_info_original",
    "id": "3b5eb984164442678fb0e72a6e3fe47c",
    "idx": 24,
    "time": "2021-02-01T02:33:08.836Z",
    "type": "execution"
   },
   {
    "code": "# TEST\nfruit_info_original.shape",
    "id": "bed36ba1df024c16baae5f4298debedb",
    "idx": 25,
    "time": "2021-02-01T02:33:08.838Z",
    "type": "execution"
   },
   {
    "code": "# TEST\nfruit_info.shape",
    "id": "d7b0edaa422f4881858fc650432d4de7",
    "idx": 26,
    "time": "2021-02-01T02:33:08.840Z",
    "type": "execution"
   },
   {
    "code": "# TEST\nfruit_info_original.columns",
    "id": "8fe8e56ca83a4aa1b30f974628ad25e6",
    "idx": 27,
    "time": "2021-02-01T02:33:08.841Z",
    "type": "execution"
   },
   {
    "id": "f0bd0f8f87fa474cabf8217384abc961",
    "time": "2021-02-01T02:33:08.891Z",
    "type": "completion"
   },
   {
    "id": "2206133de8e0477a8289e0a024c11201",
    "time": "2021-02-01T02:33:08.896Z",
    "type": "completion"
   },
   {
    "id": "56af03292a924271ae37ec932466f41f",
    "time": "2021-02-01T02:33:08.938Z",
    "type": "completion"
   },
   {
    "id": "6ff0eaa9e66947cc924e7e7ba69ebc42",
    "time": "2021-02-01T02:33:08.940Z",
    "type": "completion"
   },
   {
    "id": "2f72951aea9341e39051a479c5a48a32",
    "time": "2021-02-01T02:33:08.954Z",
    "type": "completion"
   },
   {
    "id": "cd9c52bf56764de4b3dc7a1e23cef5bf",
    "time": "2021-02-01T02:33:08.956Z",
    "type": "completion"
   },
   {
    "id": "0d8ed1e067f1472386c87f1f5a7ad303",
    "time": "2021-02-01T02:33:08.958Z",
    "type": "completion"
   },
   {
    "id": "b5ff3c6cc6aa4a1caeb6e7c85a5f78ef",
    "time": "2021-02-01T02:33:08.960Z",
    "type": "completion"
   },
   {
    "id": "f847e726999e4d98953287cd04043aa0",
    "time": "2021-02-01T02:33:08.962Z",
    "type": "completion"
   },
   {
    "id": "70f5dafbb83b4b6985493e456d65ba45",
    "time": "2021-02-01T02:33:08.993Z",
    "type": "completion"
   },
   {
    "id": "450587c65d6f41648209f4f69a9fb651",
    "time": "2021-02-01T02:33:08.996Z",
    "type": "completion"
   },
   {
    "id": "3b5eb984164442678fb0e72a6e3fe47c",
    "time": "2021-02-01T02:33:08.998Z",
    "type": "completion"
   },
   {
    "id": "bed36ba1df024c16baae5f4298debedb",
    "time": "2021-02-01T02:33:09.001Z",
    "type": "completion"
   },
   {
    "id": "d7b0edaa422f4881858fc650432d4de7",
    "time": "2021-02-01T02:33:09.008Z",
    "type": "completion"
   },
   {
    "id": "8fe8e56ca83a4aa1b30f974628ad25e6",
    "time": "2021-02-01T02:33:09.010Z",
    "type": "completion"
   },
   {
    "code": "# BEGIN SOLUTION\nfruit_info_caps = fruit_info_original.rename(columns = {\"color\": \"Color\", \"fruit\": \"Fruit\"})\n# END SOLUTION\nfruit_info_caps",
    "id": "0edeb083a8bd41a38abd894b95efd146",
    "idx": 29,
    "time": "2021-02-01T02:33:10.866Z",
    "type": "execution"
   },
   {
    "id": "0edeb083a8bd41a38abd894b95efd146",
    "time": "2021-02-01T02:33:10.931Z",
    "type": "completion"
   },
   {
    "code": "baby_names.loc[2:5, ['Name']]",
    "id": "d5d3c126df1e4eb7b288cd26635fe4dc",
    "idx": 48,
    "time": "2021-02-01T02:38:10.283Z",
    "type": "execution"
   },
   {
    "id": "d5d3c126df1e4eb7b288cd26635fe4dc",
    "time": "2021-02-01T02:38:10.355Z",
    "type": "completion"
   },
   {
    "code": "sorted_baby_names = baby_names.sort_values(by = ['Name'])\nsorted_baby_names.head()",
    "id": "fbbb1cda01dd46fc9483f00ed1db6b3f",
    "idx": 52,
    "time": "2021-02-01T02:42:05.246Z",
    "type": "execution"
   },
   {
    "id": "fbbb1cda01dd46fc9483f00ed1db6b3f",
    "time": "2021-02-01T02:42:05.315Z",
    "type": "completion"
   },
   {
    "code": "df = baby_names[:5].set_index(\"Name\") \ndf",
    "id": "7c0f6ab0935f412c8fd51d68145e7a54",
    "idx": 58,
    "time": "2021-02-01T02:43:20.081Z",
    "type": "execution"
   },
   {
    "id": "7c0f6ab0935f412c8fd51d68145e7a54",
    "time": "2021-02-01T02:43:20.167Z",
    "type": "completion"
   },
   {
    "code": "import numpy as np\nimport matplotlib.pyplot as plt\nimport pandas as pd\n%matplotlib inline",
    "id": "f0bd0f8f87fa474cabf8217384abc961",
    "idx": 5,
    "time": "2021-02-01T02:47:07.911Z",
    "type": "execution"
   },
   {
    "code": "fruit_info = pd.DataFrame(\n    data = {'fruit': ['apple', 'orange', 'banana', 'raspberry'],\n          'color': ['red', 'orange', 'yellow', 'pink']\n          })\nfruit_info",
    "id": "2206133de8e0477a8289e0a024c11201",
    "idx": 8,
    "time": "2021-02-01T02:47:07.917Z",
    "type": "execution"
   },
   {
    "code": "fruit_info2 = pd.DataFrame(\n    [(\"red\", \"apple\"), (\"orange\", \"orange\"), (\"yellow\", \"banana\"),\n     (\"pink\", \"raspberry\")], \n    columns = [\"color\", \"fruit\"])\nfruit_info2",
    "id": "56af03292a924271ae37ec932466f41f",
    "idx": 10,
    "time": "2021-02-01T02:47:07.919Z",
    "type": "execution"
   },
   {
    "code": "fruit_info.shape",
    "id": "6ff0eaa9e66947cc924e7e7ba69ebc42",
    "idx": 12,
    "time": "2021-02-01T02:47:07.922Z",
    "type": "execution"
   },
   {
    "code": "fruit_info.values",
    "id": "2f72951aea9341e39051a479c5a48a32",
    "idx": 14,
    "time": "2021-02-01T02:47:07.924Z",
    "type": "execution"
   },
   {
    "code": "# BEGIN SOLUTION\nfruit_info[\"rank1\"] = [2, 1, 4, 3]\n# END SOLUTION\nfruit_info",
    "id": "cd9c52bf56764de4b3dc7a1e23cef5bf",
    "idx": 16,
    "time": "2021-02-01T02:47:07.926Z",
    "type": "execution"
   },
   {
    "code": "# TEST \nfruit_info[\"rank1\"].dtype",
    "id": "0d8ed1e067f1472386c87f1f5a7ad303",
    "idx": 17,
    "time": "2021-02-01T02:47:07.928Z",
    "type": "execution"
   },
   {
    "code": "# TEST\nsorted(fruit_info[\"rank1\"].dropna())",
    "id": "b5ff3c6cc6aa4a1caeb6e7c85a5f78ef",
    "idx": 18,
    "time": "2021-02-01T02:47:07.930Z",
    "type": "execution"
   },
   {
    "code": "# BEGIN SOLUTION\nfruit_info.loc[:, \"rank2\"] = [2, 1, 4, 3]\n# END SOLUTION\nfruit_info",
    "id": "f847e726999e4d98953287cd04043aa0",
    "idx": 20,
    "time": "2021-02-01T02:47:07.932Z",
    "type": "execution"
   },
   {
    "code": "# TEST \nfruit_info[\"rank2\"].dtype",
    "id": "70f5dafbb83b4b6985493e456d65ba45",
    "idx": 21,
    "time": "2021-02-01T02:47:07.934Z",
    "type": "execution"
   },
   {
    "code": "# TEST\nfruit_info[\"rank2\"] == fruit_info[\"rank1\"]",
    "id": "450587c65d6f41648209f4f69a9fb651",
    "idx": 22,
    "time": "2021-02-01T02:47:07.935Z",
    "type": "execution"
   },
   {
    "code": "fruit_info_original = fruit_info.drop([\"rank1\", \"rank2\"], axis = 1) # SOLUTION\nfruit_info_original",
    "id": "3b5eb984164442678fb0e72a6e3fe47c",
    "idx": 24,
    "time": "2021-02-01T02:47:07.937Z",
    "type": "execution"
   },
   {
    "code": "# TEST\nfruit_info_original.shape",
    "id": "bed36ba1df024c16baae5f4298debedb",
    "idx": 25,
    "time": "2021-02-01T02:47:07.939Z",
    "type": "execution"
   },
   {
    "code": "# TEST\nfruit_info.shape",
    "id": "d7b0edaa422f4881858fc650432d4de7",
    "idx": 26,
    "time": "2021-02-01T02:47:07.941Z",
    "type": "execution"
   },
   {
    "code": "# TEST\nfruit_info_original.columns",
    "id": "8fe8e56ca83a4aa1b30f974628ad25e6",
    "idx": 27,
    "time": "2021-02-01T02:47:07.942Z",
    "type": "execution"
   },
   {
    "code": "# BEGIN SOLUTION\nfruit_info_caps = fruit_info_original.rename(columns = {\"color\": \"Color\", \"fruit\": \"Fruit\"})\n# END SOLUTION\nfruit_info_caps",
    "id": "0edeb083a8bd41a38abd894b95efd146",
    "idx": 29,
    "time": "2021-02-01T02:47:07.944Z",
    "type": "execution"
   },
   {
    "code": "# TEST\nfruit_info_caps.columns",
    "id": "b85d938aca344bb6b4f3bde9a6f21795",
    "idx": 30,
    "time": "2021-02-01T02:47:07.946Z",
    "type": "execution"
   },
   {
    "code": "# TEST\nfruit_info.columns",
    "id": "942f0dae381642bb81414b1ad516b904",
    "idx": 31,
    "time": "2021-02-01T02:47:07.948Z",
    "type": "execution"
   },
   {
    "code": "import requests\nfrom pathlib import Path\n\ndef fetch_and_cache(data_url, file, data_dir=\"data\", force=False):\n    \"\"\"\n    Download and cache a url and return the file object.\n    \n    data_url: the web address to download\n    file: the file in which to save the results.\n    data_dir: (default=\"data\") the location to save the data\n    force: if true the file is always re-downloaded \n    \n    return: The pathlib.Path to the file.\n    \"\"\"\n    data_dir = Path(data_dir)\n    data_dir.mkdir(exist_ok=True)\n    file_path = data_dir/Path(file)\n    if force and file_path.exists():\n        file_path.unlink()\n    if force or not file_path.exists():\n        print('Downloading...', end=' ')\n        resp = requests.get(data_url)\n        with file_path.open('wb') as f:\n            f.write(resp.content)\n        print('Done!')\n    else:\n        import time \n        created = time.ctime(file_path.stat().st_ctime)\n        print(\"Using cached version downloaded at\", created)\n    return file_path",
    "id": "31add3b12b4c4b3997fd438b88215ec1",
    "idx": 34,
    "time": "2021-02-01T02:47:07.951Z",
    "type": "execution"
   },
   {
    "code": "data_url = 'https://www.ssa.gov/oact/babynames/state/namesbystate.zip'\nnamesbystate_path = fetch_and_cache(data_url, 'namesbystate.zip')",
    "id": "8d06ad3d90dd4709812ad51f1fc87470",
    "idx": 37,
    "time": "2021-02-01T02:47:07.953Z",
    "type": "execution"
   },
   {
    "code": "import zipfile\nzf = zipfile.ZipFile(namesbystate_path, 'r')\n\ncolumn_labels = ['State', 'Sex', 'Year', 'Name', 'Count']\n\n...",
    "id": "a4cc1eec37164c06bd8c32c15db15947",
    "idx": 39,
    "time": "2021-02-01T02:47:07.955Z",
    "type": "execution"
   },
   {
    "code": "import zipfile\nzf = zipfile.ZipFile(namesbystate_path, 'r')\n\ncolumn_labels = ['State', 'Sex', 'Year', 'Name', 'Count']\n\ndef load_dataframe_from_zip(zf, f):\n    with zf.open(f) as fh: \n        return pd.read_csv(fh, header=None, names=column_labels)\n\nstates = [\n    load_dataframe_from_zip(zf, f)\n    for f in sorted(zf.filelist, key=lambda x:x.filename) \n    if f.filename.endswith('.TXT')\n]\n\nbaby_names = states[0]\nfor state_df in states[1:]:\n    baby_names = pd.concat([baby_names, state_df])\nbaby_names = baby_names.reset_index().iloc[:, 1:]",
    "id": "55365b5610b14af9a1bec5d332d31cd2",
    "idx": 41,
    "time": "2021-02-01T02:47:07.957Z",
    "type": "execution"
   },
   {
    "code": "len(baby_names)",
    "id": "dd14e7ca16c7444f8fd7279058b15608",
    "idx": 42,
    "time": "2021-02-01T02:47:07.958Z",
    "type": "execution"
   },
   {
    "code": "baby_names.head()",
    "id": "b589085362a0454087d4ae92dd985680",
    "idx": 43,
    "time": "2021-02-01T02:47:07.961Z",
    "type": "execution"
   },
   {
    "code": "baby_names.loc[2:5, 'Name']",
    "id": "97990c54966a430a82f5fc1151f5d367",
    "idx": 46,
    "time": "2021-02-01T02:47:07.963Z",
    "type": "execution"
   },
   {
    "code": "baby_names.loc[2:5, ['Name']]",
    "id": "d5d3c126df1e4eb7b288cd26635fe4dc",
    "idx": 48,
    "time": "2021-02-01T02:47:07.967Z",
    "type": "execution"
   },
   {
    "code": "sorted_baby_names = baby_names.sort_values(by = ['Name'])\nsorted_baby_names.head()",
    "id": "fbbb1cda01dd46fc9483f00ed1db6b3f",
    "idx": 52,
    "time": "2021-02-01T02:47:07.970Z",
    "type": "execution"
   },
   {
    "code": "sorted_baby_names.iloc[1:4, 3]",
    "id": "8cb40bdf6e32411b83a11c3f2ef35401",
    "idx": 54,
    "time": "2021-02-01T02:47:07.971Z",
    "type": "execution"
   },
   {
    "code": "sorted_baby_names.loc[1:4, \"Name\"]",
    "id": "fee54a2e15fc40a088d7cdc815d85798",
    "idx": 56,
    "time": "2021-02-01T02:47:07.973Z",
    "type": "execution"
   },
   {
    "code": "df = baby_names[:5].set_index(\"Name\") \ndf",
    "id": "7c0f6ab0935f412c8fd51d68145e7a54",
    "idx": 58,
    "time": "2021-02-01T02:47:07.975Z",
    "type": "execution"
   },
   {
    "code": "df.loc[['Mary', 'Anna'], :]",
    "id": "b42430a54ec04b2e89dfe0fa8c2627b7",
    "idx": 60,
    "time": "2021-02-01T02:47:07.978Z",
    "type": "execution"
   },
   {
    "code": "#Example: \ndf.iloc[1:4, 2:3]",
    "id": "825a3a42e656450995bbaa2ad32398c4",
    "idx": 62,
    "time": "2021-02-01T02:47:07.980Z",
    "type": "execution"
   },
   {
    "code": "name_and_year = baby_names.loc[:, ['Name', 'Year']] # SOLUTION\nname_and_year[:5]",
    "id": "d51269ea9e9444a481c6aa66dfd47cdf",
    "idx": 64,
    "time": "2021-02-01T02:47:07.982Z",
    "type": "execution"
   },
   {
    "code": "# TEST\nname_and_year.shape",
    "id": "c1780803faf24f2186981df35d7ecba6",
    "idx": 65,
    "time": "2021-02-01T02:47:07.984Z",
    "type": "execution"
   },
   {
    "code": "# TEST\nname_and_year.loc[0, \"Name\"]",
    "id": "df6d892963a64e779bfdb0037008321d",
    "idx": 66,
    "time": "2021-02-01T02:47:07.986Z",
    "type": "execution"
   },
   {
    "code": "# TEST\nname_and_year.loc[0, \"Year\"]",
    "id": "df4df3f1bf28400f847a2d13c3b1fc1e",
    "idx": 67,
    "time": "2021-02-01T02:47:07.988Z",
    "type": "execution"
   },
   {
    "code": "ca = baby_names[baby_names['State'] == 'CA']",
    "id": "c27bb7ad4987412ca9b936426ab4d3b5",
    "idx": 72,
    "time": "2021-02-01T02:47:07.994Z",
    "type": "execution"
   },
   {
    "code": "result = baby_names[(baby_names[\"Year\"] == 2000) & (baby_names[\"Count\"] > 3000)] # SOLUTION\nresult.head()",
    "id": "c46b1b232ba94d9e8a67b8bdee69ef3d",
    "idx": 74,
    "time": "2021-02-01T02:47:07.996Z",
    "type": "execution"
   },
   {
    "code": "# TEST\nlen(result)",
    "id": "c153c8754a03405093654799d1a5288b",
    "idx": 75,
    "time": "2021-02-01T02:47:07.998Z",
    "type": "execution"
   },
   {
    "code": "# TEST\nresult[\"Count\"].sum()",
    "id": "44ed4195df3e4f3fbc0cf5ff524990b5",
    "idx": 76,
    "time": "2021-02-01T02:47:08.000Z",
    "type": "execution"
   },
   {
    "code": "# TEST\nresult[\"Count\"].iloc[0]",
    "id": "14e833435b964ed18185b0c37b646181",
    "idx": 77,
    "time": "2021-02-01T02:47:08.002Z",
    "type": "execution"
   },
   {
    "code": "result_using_query = baby_names.query('Year == 2000 and Count > 3000') # SOLUTION",
    "id": "7d55df371bc14e048a8b66580077b0dd",
    "idx": 79,
    "time": "2021-02-01T02:47:08.003Z",
    "type": "execution"
   },
   {
    "code": "hillary_baby_name = baby_names[(baby_names['Name'] == 'Hillary') & (baby_names['State'] == 'CA') & (baby_names['Sex'] == 'F')]\nplt.plot(hillary_baby_name['Year'], hillary_baby_name['Count'])\nplt.title(\"Hillary Popularity Over Time\")\nplt.xlabel('Year')\nplt.ylabel('Count');",
    "id": "4755fd410db04b7f8308c349c5d60200",
    "idx": 81,
    "time": "2021-02-01T02:47:08.005Z",
    "type": "execution"
   },
   {
    "code": "counts_aggregated_by_name_and_year = baby_names.groupby([\"Name\", \"Year\"])[\"Count\"].sum().reset_index()",
    "id": "7e581b09706047908bd2c86eba7082d5",
    "idx": 85,
    "time": "2021-02-01T02:47:08.007Z",
    "type": "execution"
   },
   {
    "code": "name_of_interest = 'Hillary'\nchosen_baby_name = counts_aggregated_by_name_and_year.query(\"Name == @name_of_interest\")\nplt.plot(chosen_baby_name['Year'], chosen_baby_name['Count'])\nplt.title(f\"Popularity Of {name_of_interest} Over Time\")\nplt.xlabel('Year')\nplt.ylabel('Count');",
    "id": "0ea854e6ea544c3893c078e5a0383a77",
    "idx": 86,
    "time": "2021-02-01T02:47:08.009Z",
    "type": "execution"
   },
   {
    "id": "f0bd0f8f87fa474cabf8217384abc961",
    "time": "2021-02-01T02:47:08.615Z",
    "type": "completion"
   },
   {
    "id": "2206133de8e0477a8289e0a024c11201",
    "time": "2021-02-01T02:47:08.620Z",
    "type": "completion"
   },
   {
    "id": "56af03292a924271ae37ec932466f41f",
    "time": "2021-02-01T02:47:08.656Z",
    "type": "completion"
   },
   {
    "id": "6ff0eaa9e66947cc924e7e7ba69ebc42",
    "time": "2021-02-01T02:47:08.659Z",
    "type": "completion"
   },
   {
    "id": "2f72951aea9341e39051a479c5a48a32",
    "time": "2021-02-01T02:47:08.664Z",
    "type": "completion"
   },
   {
    "id": "cd9c52bf56764de4b3dc7a1e23cef5bf",
    "time": "2021-02-01T02:47:08.666Z",
    "type": "completion"
   },
   {
    "id": "0d8ed1e067f1472386c87f1f5a7ad303",
    "time": "2021-02-01T02:47:08.701Z",
    "type": "completion"
   },
   {
    "id": "b5ff3c6cc6aa4a1caeb6e7c85a5f78ef",
    "time": "2021-02-01T02:47:08.704Z",
    "type": "completion"
   },
   {
    "id": "f847e726999e4d98953287cd04043aa0",
    "time": "2021-02-01T02:47:08.706Z",
    "type": "completion"
   },
   {
    "id": "70f5dafbb83b4b6985493e456d65ba45",
    "time": "2021-02-01T02:47:08.707Z",
    "type": "completion"
   },
   {
    "id": "450587c65d6f41648209f4f69a9fb651",
    "time": "2021-02-01T02:47:08.750Z",
    "type": "completion"
   },
   {
    "id": "3b5eb984164442678fb0e72a6e3fe47c",
    "time": "2021-02-01T02:47:08.752Z",
    "type": "completion"
   },
   {
    "id": "bed36ba1df024c16baae5f4298debedb",
    "time": "2021-02-01T02:47:08.753Z",
    "type": "completion"
   },
   {
    "id": "d7b0edaa422f4881858fc650432d4de7",
    "time": "2021-02-01T02:47:08.755Z",
    "type": "completion"
   },
   {
    "id": "8fe8e56ca83a4aa1b30f974628ad25e6",
    "time": "2021-02-01T02:47:08.799Z",
    "type": "completion"
   },
   {
    "id": "0edeb083a8bd41a38abd894b95efd146",
    "time": "2021-02-01T02:47:08.801Z",
    "type": "completion"
   },
   {
    "id": "b85d938aca344bb6b4f3bde9a6f21795",
    "time": "2021-02-01T02:47:08.803Z",
    "type": "completion"
   },
   {
    "id": "942f0dae381642bb81414b1ad516b904",
    "time": "2021-02-01T02:47:08.805Z",
    "type": "completion"
   },
   {
    "id": "31add3b12b4c4b3997fd438b88215ec1",
    "time": "2021-02-01T02:47:08.834Z",
    "type": "completion"
   },
   {
    "id": "8d06ad3d90dd4709812ad51f1fc87470",
    "time": "2021-02-01T02:47:08.837Z",
    "type": "completion"
   },
   {
    "id": "a4cc1eec37164c06bd8c32c15db15947",
    "time": "2021-02-01T02:47:08.838Z",
    "type": "completion"
   },
   {
    "id": "55365b5610b14af9a1bec5d332d31cd2",
    "time": "2021-02-01T02:47:44.864Z",
    "type": "completion"
   },
   {
    "id": "dd14e7ca16c7444f8fd7279058b15608",
    "time": "2021-02-01T02:47:44.871Z",
    "type": "completion"
   },
   {
    "id": "b589085362a0454087d4ae92dd985680",
    "time": "2021-02-01T02:47:44.904Z",
    "type": "completion"
   },
   {
    "id": "97990c54966a430a82f5fc1151f5d367",
    "time": "2021-02-01T02:47:44.909Z",
    "type": "completion"
   },
   {
    "id": "d5d3c126df1e4eb7b288cd26635fe4dc",
    "time": "2021-02-01T02:47:45.166Z",
    "type": "completion"
   },
   {
    "id": "fbbb1cda01dd46fc9483f00ed1db6b3f",
    "time": "2021-02-01T02:47:57.755Z",
    "type": "completion"
   },
   {
    "id": "8cb40bdf6e32411b83a11c3f2ef35401",
    "time": "2021-02-01T02:47:57.757Z",
    "type": "completion"
   },
   {
    "id": "fee54a2e15fc40a088d7cdc815d85798",
    "time": "2021-02-01T02:47:58.397Z",
    "type": "completion"
   },
   {
    "id": "7c0f6ab0935f412c8fd51d68145e7a54",
    "time": "2021-02-01T02:47:58.402Z",
    "type": "completion"
   },
   {
    "id": "b42430a54ec04b2e89dfe0fa8c2627b7",
    "time": "2021-02-01T02:47:58.428Z",
    "type": "completion"
   },
   {
    "id": "825a3a42e656450995bbaa2ad32398c4",
    "time": "2021-02-01T02:47:58.431Z",
    "type": "completion"
   },
   {
    "id": "d51269ea9e9444a481c6aa66dfd47cdf",
    "time": "2021-02-01T02:47:58.481Z",
    "type": "completion"
   },
   {
    "id": "c1780803faf24f2186981df35d7ecba6",
    "time": "2021-02-01T02:47:58.484Z",
    "type": "completion"
   },
   {
    "id": "df6d892963a64e779bfdb0037008321d",
    "time": "2021-02-01T02:47:58.487Z",
    "type": "completion"
   },
   {
    "id": "df4df3f1bf28400f847a2d13c3b1fc1e",
    "time": "2021-02-01T02:47:58.510Z",
    "type": "completion"
   },
   {
    "id": "c27bb7ad4987412ca9b936426ab4d3b5",
    "time": "2021-02-01T02:47:58.996Z",
    "type": "completion"
   },
   {
    "id": "c46b1b232ba94d9e8a67b8bdee69ef3d",
    "time": "2021-02-01T02:47:58.999Z",
    "type": "completion"
   },
   {
    "id": "c153c8754a03405093654799d1a5288b",
    "time": "2021-02-01T02:47:59.040Z",
    "type": "completion"
   },
   {
    "id": "44ed4195df3e4f3fbc0cf5ff524990b5",
    "time": "2021-02-01T02:47:59.061Z",
    "type": "completion"
   },
   {
    "id": "14e833435b964ed18185b0c37b646181",
    "time": "2021-02-01T02:47:59.062Z",
    "type": "completion"
   },
   {
    "id": "7d55df371bc14e048a8b66580077b0dd",
    "time": "2021-02-01T02:47:59.082Z",
    "type": "completion"
   },
   {
    "id": "4755fd410db04b7f8308c349c5d60200",
    "time": "2021-02-01T02:48:00.481Z",
    "type": "completion"
   },
   {
    "id": "7e581b09706047908bd2c86eba7082d5",
    "time": "2021-02-01T02:48:01.890Z",
    "type": "completion"
   },
   {
    "id": "0ea854e6ea544c3893c078e5a0383a77",
    "time": "2021-02-01T02:48:02.109Z",
    "type": "completion"
   },
   {
    "code": "import numpy as np\nimport matplotlib.pyplot as plt\nimport pandas as pd\n%matplotlib inline",
    "id": "c362ec55b9ba487f830e5cad781bd139",
    "idx": 5,
    "time": "2021-02-01T05:33:55.652Z",
    "type": "execution"
   },
   {
    "code": "fruit_info = pd.DataFrame(\n    data = {'fruit': ['apple', 'orange', 'banana', 'raspberry'],\n          'color': ['red', 'orange', 'yellow', 'pink']\n          })\nfruit_info",
    "id": "70562895bf704eae91b24f86b9cc6eed",
    "idx": 8,
    "time": "2021-02-01T05:33:55.658Z",
    "type": "execution"
   },
   {
    "code": "fruit_info2 = pd.DataFrame(\n    [(\"red\", \"apple\"), (\"orange\", \"orange\"), (\"yellow\", \"banana\"),\n     (\"pink\", \"raspberry\")], \n    columns = [\"color\", \"fruit\"])\nfruit_info2",
    "id": "a65580d3dc124b9281f99be2acc3db38",
    "idx": 10,
    "time": "2021-02-01T05:33:55.661Z",
    "type": "execution"
   },
   {
    "code": "fruit_info.shape",
    "id": "7c97a37cf336487994c9ebdf5ea82042",
    "idx": 12,
    "time": "2021-02-01T05:33:55.664Z",
    "type": "execution"
   },
   {
    "code": "fruit_info.values",
    "id": "0f5d616e99b44cbb809bfb0f820aa3b9",
    "idx": 14,
    "time": "2021-02-01T05:33:55.666Z",
    "type": "execution"
   },
   {
    "code": "# BEGIN SOLUTION\nfruit_info[\"rank1\"] = [2, 1, 4, 3]\n# END SOLUTION\nfruit_info",
    "id": "bda15096c9894fd98d1f298878e05392",
    "idx": 16,
    "time": "2021-02-01T05:33:55.669Z",
    "type": "execution"
   },
   {
    "code": "# TEST \nfruit_info[\"rank1\"].dtype",
    "id": "f4e32e3d69e74ff48a879104b368af6d",
    "idx": 17,
    "time": "2021-02-01T05:33:55.670Z",
    "type": "execution"
   },
   {
    "code": "# TEST\nsorted(fruit_info[\"rank1\"].dropna())",
    "id": "03863906df5e4c6f865e102a28ea8e76",
    "idx": 18,
    "time": "2021-02-01T05:33:55.672Z",
    "type": "execution"
   },
   {
    "code": "# BEGIN SOLUTION\nfruit_info.loc[:, \"rank2\"] = [2, 1, 4, 3]\n# END SOLUTION\nfruit_info",
    "id": "366b742ee5ad496ebf28e067d97eaeca",
    "idx": 20,
    "time": "2021-02-01T05:33:55.674Z",
    "type": "execution"
   },
   {
    "code": "# TEST \nfruit_info[\"rank2\"].dtype",
    "id": "47b2c46893674a5fa80f54cfe9960161",
    "idx": 21,
    "time": "2021-02-01T05:33:55.676Z",
    "type": "execution"
   },
   {
    "code": "# TEST\nfruit_info[\"rank2\"] == fruit_info[\"rank1\"]",
    "id": "5a7ed4df8976469881c642cae58a31c3",
    "idx": 22,
    "time": "2021-02-01T05:33:55.678Z",
    "type": "execution"
   },
   {
    "code": "fruit_info_original = fruit_info.drop([\"rank1\", \"rank2\"], axis = 1) # SOLUTION\nfruit_info_original",
    "id": "2e8f0324a6854247983668603ec7558d",
    "idx": 24,
    "time": "2021-02-01T05:33:55.680Z",
    "type": "execution"
   },
   {
    "code": "# TEST\nfruit_info_original.shape",
    "id": "53631673ba7b494e9665c6a48b1e46a6",
    "idx": 25,
    "time": "2021-02-01T05:33:55.681Z",
    "type": "execution"
   },
   {
    "code": "# TEST\nfruit_info.shape",
    "id": "19bb2758df644fdc9585a8d3eed89378",
    "idx": 26,
    "time": "2021-02-01T05:33:55.683Z",
    "type": "execution"
   },
   {
    "code": "# TEST\nfruit_info_original.columns",
    "id": "1a1e217db406401781f4753f48b2cea9",
    "idx": 27,
    "time": "2021-02-01T05:33:55.684Z",
    "type": "execution"
   },
   {
    "code": "# BEGIN SOLUTION\nfruit_info_caps = fruit_info_original.rename(columns = {\"color\": \"Color\", \"fruit\": \"Fruit\"})\n# END SOLUTION\nfruit_info_caps",
    "id": "af315cd6175a417bac9aa957682119cf",
    "idx": 29,
    "time": "2021-02-01T05:33:55.686Z",
    "type": "execution"
   },
   {
    "code": "# TEST\nfruit_info_caps.columns",
    "id": "1024cf92cef9418d8beb4453b8100ee2",
    "idx": 30,
    "time": "2021-02-01T05:33:55.688Z",
    "type": "execution"
   },
   {
    "code": "# TEST\nfruit_info.columns",
    "id": "71f51f7cc71a410b862c2a73d5d4477f",
    "idx": 31,
    "time": "2021-02-01T05:33:55.690Z",
    "type": "execution"
   },
   {
    "code": "import requests\nfrom pathlib import Path\n\ndef fetch_and_cache(data_url, file, data_dir=\"data\", force=False):\n    \"\"\"\n    Download and cache a url and return the file object.\n    \n    data_url: the web address to download\n    file: the file in which to save the results.\n    data_dir: (default=\"data\") the location to save the data\n    force: if true the file is always re-downloaded \n    \n    return: The pathlib.Path to the file.\n    \"\"\"\n    data_dir = Path(data_dir)\n    data_dir.mkdir(exist_ok=True)\n    file_path = data_dir/Path(file)\n    if force and file_path.exists():\n        file_path.unlink()\n    if force or not file_path.exists():\n        print('Downloading...', end=' ')\n        resp = requests.get(data_url)\n        with file_path.open('wb') as f:\n            f.write(resp.content)\n        print('Done!')\n    else:\n        import time \n        created = time.ctime(file_path.stat().st_ctime)\n        print(\"Using cached version downloaded at\", created)\n    return file_path",
    "id": "d4d6e3913fcc47bf8fdd9891c79e4d74",
    "idx": 34,
    "time": "2021-02-01T05:33:55.693Z",
    "type": "execution"
   },
   {
    "code": "data_url = 'https://www.ssa.gov/oact/babynames/state/namesbystate.zip'\nnamesbystate_path = fetch_and_cache(data_url, 'namesbystate.zip')",
    "id": "04b6a824977245e78341458dfbf20561",
    "idx": 37,
    "time": "2021-02-01T05:33:55.696Z",
    "type": "execution"
   },
   {
    "code": "import zipfile\nzf = zipfile.ZipFile(namesbystate_path, 'r')\n\ncolumn_labels = ['State', 'Sex', 'Year', 'Name', 'Count']\n\n...",
    "id": "49fbdbc00aaa4fb0a11a30c0e5cb0fee",
    "idx": 39,
    "time": "2021-02-01T05:33:55.698Z",
    "type": "execution"
   },
   {
    "code": "import zipfile\nzf = zipfile.ZipFile(namesbystate_path, 'r')\n\ncolumn_labels = ['State', 'Sex', 'Year', 'Name', 'Count']\n\ndef load_dataframe_from_zip(zf, f):\n    with zf.open(f) as fh: \n        return pd.read_csv(fh, header=None, names=column_labels)\n\nstates = [\n    load_dataframe_from_zip(zf, f)\n    for f in sorted(zf.filelist, key=lambda x:x.filename) \n    if f.filename.endswith('.TXT')\n]\n\nbaby_names = states[0]\nfor state_df in states[1:]:\n    baby_names = pd.concat([baby_names, state_df])\nbaby_names = baby_names.reset_index().iloc[:, 1:]",
    "id": "189ed1f4039b472e86eaa47782ada553",
    "idx": 41,
    "time": "2021-02-01T05:33:55.700Z",
    "type": "execution"
   },
   {
    "code": "len(baby_names)",
    "id": "14bafedbf0e14cbeb2bdce0e0972e272",
    "idx": 42,
    "time": "2021-02-01T05:33:55.702Z",
    "type": "execution"
   },
   {
    "code": "baby_names.head()",
    "id": "3a5e72c72a43498a85517cf0dc5ee218",
    "idx": 43,
    "time": "2021-02-01T05:33:55.704Z",
    "type": "execution"
   },
   {
    "code": "baby_names.loc[2:5, 'Name']",
    "id": "b7813796fd0b472c8feec121c1faa765",
    "idx": 46,
    "time": "2021-02-01T05:33:55.707Z",
    "type": "execution"
   },
   {
    "code": "baby_names.loc[2:5, ['Name']]",
    "id": "588d95e301c846468afd9e8095be7ea8",
    "idx": 48,
    "time": "2021-02-01T05:33:55.709Z",
    "type": "execution"
   },
   {
    "code": "sorted_baby_names = baby_names.sort_values(by = ['Name'])\nsorted_baby_names.head()",
    "id": "318e36385beb49d48a01b1696bf40c03",
    "idx": 52,
    "time": "2021-02-01T05:33:55.712Z",
    "type": "execution"
   },
   {
    "code": "sorted_baby_names.iloc[1:4, 3]",
    "id": "b0ebce2cc0d54706bd70c3488233a4ac",
    "idx": 54,
    "time": "2021-02-01T05:33:55.714Z",
    "type": "execution"
   },
   {
    "code": "sorted_baby_names.loc[1:4, \"Name\"]",
    "id": "027a400f6b6a4472978bea2d75ae9467",
    "idx": 56,
    "time": "2021-02-01T05:33:55.717Z",
    "type": "execution"
   },
   {
    "code": "df = baby_names[:5].set_index(\"Name\") \ndf",
    "id": "21d83534e89841df8b7034f1102115ae",
    "idx": 58,
    "time": "2021-02-01T05:33:55.719Z",
    "type": "execution"
   },
   {
    "code": "df.loc[['Mary', 'Anna'], :]",
    "id": "2092949f9c0a4114bde9003c07044269",
    "idx": 60,
    "time": "2021-02-01T05:33:55.721Z",
    "type": "execution"
   },
   {
    "code": "#Example: \ndf.iloc[1:4, 2:3]",
    "id": "f01f197ade8b419c9d40417ba72603b8",
    "idx": 62,
    "time": "2021-02-01T05:33:55.724Z",
    "type": "execution"
   },
   {
    "code": "name_and_year = baby_names.loc[:, ['Name', 'Year']] # SOLUTION\nname_and_year[:5]",
    "id": "84c91e30d74248f88b65c54f23f2a9d4",
    "idx": 64,
    "time": "2021-02-01T05:33:55.726Z",
    "type": "execution"
   },
   {
    "code": "# TEST\nname_and_year.shape",
    "id": "c19e80bed27d412486dfc5404211d768",
    "idx": 65,
    "time": "2021-02-01T05:33:55.728Z",
    "type": "execution"
   },
   {
    "code": "# TEST\nname_and_year.loc[0, \"Name\"]",
    "id": "7b38c0d05a82421893cfef727369b560",
    "idx": 66,
    "time": "2021-02-01T05:33:55.731Z",
    "type": "execution"
   },
   {
    "code": "# TEST\nname_and_year.loc[0, \"Year\"]",
    "id": "b4111c6c76104302a3874e97ab2b38ed",
    "idx": 67,
    "time": "2021-02-01T05:33:55.733Z",
    "type": "execution"
   },
   {
    "code": "ca = baby_names[baby_names['State'] == 'CA']",
    "id": "9f5e7b23358f4a0782e2134795e614a4",
    "idx": 72,
    "time": "2021-02-01T05:33:55.736Z",
    "type": "execution"
   },
   {
    "code": "result = baby_names[(baby_names[\"Year\"] == 2000) & (baby_names[\"Count\"] > 3000)] # SOLUTION\nresult.head()",
    "id": "2cc46a07860142ad813b036371b999fe",
    "idx": 74,
    "time": "2021-02-01T05:33:55.738Z",
    "type": "execution"
   },
   {
    "code": "# TEST\nlen(result)",
    "id": "ee8d1f6d2fe84c62841efc9007f8b515",
    "idx": 75,
    "time": "2021-02-01T05:33:55.740Z",
    "type": "execution"
   },
   {
    "code": "# TEST\nresult[\"Count\"].sum()",
    "id": "dea574e0e1034414879b1d2cba79aec8",
    "idx": 76,
    "time": "2021-02-01T05:33:55.742Z",
    "type": "execution"
   },
   {
    "code": "# TEST\nresult[\"Count\"].iloc[0]",
    "id": "e1d427de61f9404c903289bc43611412",
    "idx": 77,
    "time": "2021-02-01T05:33:55.744Z",
    "type": "execution"
   },
   {
    "code": "result_using_query = baby_names.query('Year == 2000 and Count > 3000') # SOLUTION",
    "id": "bec57ffa60154feda832cb06b53e8916",
    "idx": 79,
    "time": "2021-02-01T05:33:55.746Z",
    "type": "execution"
   },
   {
    "code": "hillary_baby_name = baby_names[(baby_names['Name'] == 'Hillary') & (baby_names['State'] == 'CA') & (baby_names['Sex'] == 'F')]\nplt.plot(hillary_baby_name['Year'], hillary_baby_name['Count'])\nplt.title(\"Hillary Popularity Over Time\")\nplt.xlabel('Year')\nplt.ylabel('Count');",
    "id": "508d40c46c974684b39a74418714abfd",
    "idx": 81,
    "time": "2021-02-01T05:33:55.748Z",
    "type": "execution"
   },
   {
    "code": "counts_aggregated_by_name_and_year = baby_names.groupby([\"Name\", \"Year\"])[\"Count\"].sum().reset_index()",
    "id": "d37de41264cf4daf867d8640a7263123",
    "idx": 85,
    "time": "2021-02-01T05:33:55.751Z",
    "type": "execution"
   },
   {
    "code": "name_of_interest = 'Hillary'\nchosen_baby_name = counts_aggregated_by_name_and_year.query(\"Name == @name_of_interest\")\nplt.plot(chosen_baby_name['Year'], chosen_baby_name['Count'])\nplt.title(f\"Popularity Of {name_of_interest} Over Time\")\nplt.xlabel('Year')\nplt.ylabel('Count');",
    "id": "371c7990ab7940de826a1c5bcf9ceab6",
    "idx": 86,
    "time": "2021-02-01T05:33:55.753Z",
    "type": "execution"
   },
   {
    "id": "c362ec55b9ba487f830e5cad781bd139",
    "time": "2021-02-01T05:33:56.335Z",
    "type": "completion"
   },
   {
    "id": "70562895bf704eae91b24f86b9cc6eed",
    "time": "2021-02-01T05:33:56.344Z",
    "type": "completion"
   },
   {
    "id": "a65580d3dc124b9281f99be2acc3db38",
    "time": "2021-02-01T05:33:56.406Z",
    "type": "completion"
   },
   {
    "id": "7c97a37cf336487994c9ebdf5ea82042",
    "time": "2021-02-01T05:33:56.428Z",
    "type": "completion"
   },
   {
    "id": "0f5d616e99b44cbb809bfb0f820aa3b9",
    "time": "2021-02-01T05:33:56.436Z",
    "type": "completion"
   },
   {
    "id": "bda15096c9894fd98d1f298878e05392",
    "time": "2021-02-01T05:33:56.438Z",
    "type": "completion"
   },
   {
    "id": "f4e32e3d69e74ff48a879104b368af6d",
    "time": "2021-02-01T05:33:56.440Z",
    "type": "completion"
   },
   {
    "id": "03863906df5e4c6f865e102a28ea8e76",
    "time": "2021-02-01T05:33:56.443Z",
    "type": "completion"
   },
   {
    "id": "366b742ee5ad496ebf28e067d97eaeca",
    "time": "2021-02-01T05:33:56.453Z",
    "type": "completion"
   },
   {
    "id": "47b2c46893674a5fa80f54cfe9960161",
    "time": "2021-02-01T05:33:56.456Z",
    "type": "completion"
   },
   {
    "id": "5a7ed4df8976469881c642cae58a31c3",
    "time": "2021-02-01T05:33:56.482Z",
    "type": "completion"
   },
   {
    "id": "2e8f0324a6854247983668603ec7558d",
    "time": "2021-02-01T05:33:56.491Z",
    "type": "completion"
   },
   {
    "id": "53631673ba7b494e9665c6a48b1e46a6",
    "time": "2021-02-01T05:33:56.492Z",
    "type": "completion"
   },
   {
    "id": "19bb2758df644fdc9585a8d3eed89378",
    "time": "2021-02-01T05:33:56.494Z",
    "type": "completion"
   },
   {
    "id": "1a1e217db406401781f4753f48b2cea9",
    "time": "2021-02-01T05:33:56.519Z",
    "type": "completion"
   },
   {
    "id": "af315cd6175a417bac9aa957682119cf",
    "time": "2021-02-01T05:33:56.521Z",
    "type": "completion"
   },
   {
    "id": "1024cf92cef9418d8beb4453b8100ee2",
    "time": "2021-02-01T05:33:56.523Z",
    "type": "completion"
   },
   {
    "id": "71f51f7cc71a410b862c2a73d5d4477f",
    "time": "2021-02-01T05:33:56.526Z",
    "type": "completion"
   },
   {
    "id": "d4d6e3913fcc47bf8fdd9891c79e4d74",
    "time": "2021-02-01T05:33:56.569Z",
    "type": "completion"
   },
   {
    "id": "04b6a824977245e78341458dfbf20561",
    "time": "2021-02-01T05:33:56.573Z",
    "type": "completion"
   },
   {
    "id": "49fbdbc00aaa4fb0a11a30c0e5cb0fee",
    "time": "2021-02-01T05:33:56.665Z",
    "type": "completion"
   },
   {
    "id": "189ed1f4039b472e86eaa47782ada553",
    "time": "2021-02-01T05:34:36.505Z",
    "type": "completion"
   },
   {
    "id": "14bafedbf0e14cbeb2bdce0e0972e272",
    "time": "2021-02-01T05:34:36.520Z",
    "type": "completion"
   },
   {
    "id": "3a5e72c72a43498a85517cf0dc5ee218",
    "time": "2021-02-01T05:34:36.553Z",
    "type": "completion"
   },
   {
    "id": "b7813796fd0b472c8feec121c1faa765",
    "time": "2021-02-01T05:34:36.612Z",
    "type": "completion"
   },
   {
    "id": "588d95e301c846468afd9e8095be7ea8",
    "time": "2021-02-01T05:34:36.614Z",
    "type": "completion"
   },
   {
    "id": "318e36385beb49d48a01b1696bf40c03",
    "time": "2021-02-01T05:34:51.667Z",
    "type": "completion"
   },
   {
    "id": "b0ebce2cc0d54706bd70c3488233a4ac",
    "time": "2021-02-01T05:34:51.669Z",
    "type": "completion"
   },
   {
    "id": "027a400f6b6a4472978bea2d75ae9467",
    "time": "2021-02-01T05:34:52.594Z",
    "type": "completion"
   },
   {
    "id": "21d83534e89841df8b7034f1102115ae",
    "time": "2021-02-01T05:34:52.600Z",
    "type": "completion"
   },
   {
    "id": "2092949f9c0a4114bde9003c07044269",
    "time": "2021-02-01T05:34:52.624Z",
    "type": "completion"
   },
   {
    "id": "f01f197ade8b419c9d40417ba72603b8",
    "time": "2021-02-01T05:34:52.673Z",
    "type": "completion"
   },
   {
    "id": "84c91e30d74248f88b65c54f23f2a9d4",
    "time": "2021-02-01T05:34:52.675Z",
    "type": "completion"
   },
   {
    "id": "c19e80bed27d412486dfc5404211d768",
    "time": "2021-02-01T05:34:52.683Z",
    "type": "completion"
   },
   {
    "id": "7b38c0d05a82421893cfef727369b560",
    "time": "2021-02-01T05:34:52.685Z",
    "type": "completion"
   },
   {
    "id": "b4111c6c76104302a3874e97ab2b38ed",
    "time": "2021-02-01T05:34:52.686Z",
    "type": "completion"
   },
   {
    "id": "9f5e7b23358f4a0782e2134795e614a4",
    "time": "2021-02-01T05:34:53.105Z",
    "type": "completion"
   },
   {
    "id": "2cc46a07860142ad813b036371b999fe",
    "time": "2021-02-01T05:34:53.175Z",
    "type": "completion"
   },
   {
    "id": "ee8d1f6d2fe84c62841efc9007f8b515",
    "time": "2021-02-01T05:34:53.202Z",
    "type": "completion"
   },
   {
    "id": "dea574e0e1034414879b1d2cba79aec8",
    "time": "2021-02-01T05:34:53.222Z",
    "type": "completion"
   },
   {
    "id": "e1d427de61f9404c903289bc43611412",
    "time": "2021-02-01T05:34:53.227Z",
    "type": "completion"
   },
   {
    "id": "bec57ffa60154feda832cb06b53e8916",
    "time": "2021-02-01T05:34:53.598Z",
    "type": "completion"
   },
   {
    "id": "508d40c46c974684b39a74418714abfd",
    "time": "2021-02-01T05:34:54.999Z",
    "type": "completion"
   },
   {
    "id": "d37de41264cf4daf867d8640a7263123",
    "time": "2021-02-01T05:34:57.797Z",
    "type": "completion"
   },
   {
    "id": "371c7990ab7940de826a1c5bcf9ceab6",
    "time": "2021-02-01T05:34:58.088Z",
    "type": "completion"
   },
   {
    "code": "import numpy as np\nimport matplotlib.pyplot as plt\nimport pandas as pd\n%matplotlib inline",
    "id": "1d7ba93111844a98b8454a7c2d6a38cb",
    "idx": 5,
    "time": "2021-02-02T22:03:06.922Z",
    "type": "execution"
   },
   {
    "code": "fruit_info = pd.DataFrame(\n    data = {'fruit': ['apple', 'orange', 'banana', 'raspberry'],\n          'color': ['red', 'orange', 'yellow', 'pink']\n          })\nfruit_info",
    "id": "95832440509e42889755d770003c4940",
    "idx": 8,
    "time": "2021-02-02T22:03:06.936Z",
    "type": "execution"
   },
   {
    "code": "fruit_info2 = pd.DataFrame(\n    [(\"red\", \"apple\"), (\"orange\", \"orange\"), (\"yellow\", \"banana\"),\n     (\"pink\", \"raspberry\")], \n    columns = [\"color\", \"fruit\"])\nfruit_info2",
    "id": "04bfe765788a40e58f69668c053353a7",
    "idx": 10,
    "time": "2021-02-02T22:03:06.944Z",
    "type": "execution"
   },
   {
    "code": "fruit_info.shape",
    "id": "62c407dc645c45938696696d8b23d9a4",
    "idx": 12,
    "time": "2021-02-02T22:03:06.947Z",
    "type": "execution"
   },
   {
    "code": "fruit_info.values",
    "id": "374d962b91a64207bc00e4e60503c2b0",
    "idx": 14,
    "time": "2021-02-02T22:03:06.950Z",
    "type": "execution"
   },
   {
    "code": "# BEGIN SOLUTION\nfruit_info[\"rank1\"] = [2, 1, 4, 3]\n# END SOLUTION\nfruit_info",
    "id": "d7a4ab62d2f5431c8f61c60c2580bb19",
    "idx": 16,
    "time": "2021-02-02T22:03:06.953Z",
    "type": "execution"
   },
   {
    "code": "# TEST \nfruit_info[\"rank1\"].dtype",
    "id": "1d5214da1fd54033907d91cad63cf5df",
    "idx": 17,
    "time": "2021-02-02T22:03:06.956Z",
    "type": "execution"
   },
   {
    "code": "# TEST\nsorted(fruit_info[\"rank1\"].dropna())",
    "id": "51d1fd557f394cdc8f0c64f936296a05",
    "idx": 18,
    "time": "2021-02-02T22:03:06.959Z",
    "type": "execution"
   },
   {
    "code": "# BEGIN SOLUTION\nfruit_info.loc[:, \"rank2\"] = [2, 1, 4, 3]\n# END SOLUTION\nfruit_info",
    "id": "e6b6bf5b87f54b25807cbbc3ccbcfc44",
    "idx": 20,
    "time": "2021-02-02T22:03:06.962Z",
    "type": "execution"
   },
   {
    "code": "# TEST \nfruit_info[\"rank2\"].dtype",
    "id": "dedc786f6d6b4e4b83b7b76cdd4c81fd",
    "idx": 21,
    "time": "2021-02-02T22:03:06.965Z",
    "type": "execution"
   },
   {
    "code": "# TEST\nfruit_info[\"rank2\"] == fruit_info[\"rank1\"]",
    "id": "96b82abca9534f04a8d9af7f87c350a1",
    "idx": 22,
    "time": "2021-02-02T22:03:06.968Z",
    "type": "execution"
   },
   {
    "code": "fruit_info_original = fruit_info.drop([\"rank1\", \"rank2\"], axis = 1) # SOLUTION\nfruit_info_original",
    "id": "400bb16b177c485d8f10dbf021606315",
    "idx": 24,
    "time": "2021-02-02T22:03:06.970Z",
    "type": "execution"
   },
   {
    "code": "# TEST\nfruit_info_original.shape",
    "id": "a56acbda03aa4c3988df433c6e8e8e48",
    "idx": 25,
    "time": "2021-02-02T22:03:06.973Z",
    "type": "execution"
   },
   {
    "code": "# TEST\nfruit_info.shape",
    "id": "ef2b9c19d9fe4ed28be13a3c58cd71e9",
    "idx": 26,
    "time": "2021-02-02T22:03:06.976Z",
    "type": "execution"
   },
   {
    "code": "# TEST\nfruit_info_original.columns",
    "id": "ec0b3f693fe94e158731b3b8eae17316",
    "idx": 27,
    "time": "2021-02-02T22:03:06.980Z",
    "type": "execution"
   },
   {
    "code": "# BEGIN SOLUTION\nfruit_info_caps = fruit_info_original.rename(columns = {\"color\": \"Color\", \"fruit\": \"Fruit\"})\n# END SOLUTION\nfruit_info_caps",
    "id": "7287f0c3671f4e2e95f7e009fe4c0c98",
    "idx": 29,
    "time": "2021-02-02T22:03:06.984Z",
    "type": "execution"
   },
   {
    "code": "# TEST\nfruit_info_caps.columns",
    "id": "e192bb9e67c441c38734bfda2458405a",
    "idx": 30,
    "time": "2021-02-02T22:03:06.986Z",
    "type": "execution"
   },
   {
    "code": "# TEST\nfruit_info.columns",
    "id": "2ebf07663ff542b98ab73711c900ed63",
    "idx": 31,
    "time": "2021-02-02T22:03:06.990Z",
    "type": "execution"
   },
   {
    "code": "import requests\nfrom pathlib import Path\n\ndef fetch_and_cache(data_url, file, data_dir=\"data\", force=False):\n    \"\"\"\n    Download and cache a url and return the file object.\n    \n    data_url: the web address to download\n    file: the file in which to save the results.\n    data_dir: (default=\"data\") the location to save the data\n    force: if true the file is always re-downloaded \n    \n    return: The pathlib.Path to the file.\n    \"\"\"\n    data_dir = Path(data_dir)\n    data_dir.mkdir(exist_ok=True)\n    file_path = data_dir/Path(file)\n    if force and file_path.exists():\n        file_path.unlink()\n    if force or not file_path.exists():\n        print('Downloading...', end=' ')\n        resp = requests.get(data_url)\n        with file_path.open('wb') as f:\n            f.write(resp.content)\n        print('Done!')\n    else:\n        import time \n        created = time.ctime(file_path.stat().st_ctime)\n        print(\"Using cached version downloaded at\", created)\n    return file_path",
    "id": "2f04d4d8167b4ca2a4297f64f7391aba",
    "idx": 34,
    "time": "2021-02-02T22:03:06.993Z",
    "type": "execution"
   },
   {
    "code": "data_url = 'https://www.ssa.gov/oact/babynames/state/namesbystate.zip'\nnamesbystate_path = fetch_and_cache(data_url, 'namesbystate.zip')",
    "id": "2d8430ff4c1e49eca2cf5ad300e1f16c",
    "idx": 37,
    "time": "2021-02-02T22:03:06.996Z",
    "type": "execution"
   },
   {
    "code": "import zipfile\nzf = zipfile.ZipFile(namesbystate_path, 'r')\n\ncolumn_labels = ['State', 'Sex', 'Year', 'Name', 'Count']\n\n...",
    "id": "d1a5e953519041a4884d77fcd0aac3b8",
    "idx": 39,
    "time": "2021-02-02T22:03:06.999Z",
    "type": "execution"
   },
   {
    "code": "import zipfile\nzf = zipfile.ZipFile(namesbystate_path, 'r')\n\ncolumn_labels = ['State', 'Sex', 'Year', 'Name', 'Count']\n\ndef load_dataframe_from_zip(zf, f):\n    with zf.open(f) as fh: \n        return pd.read_csv(fh, header=None, names=column_labels)\n\nstates = [\n    load_dataframe_from_zip(zf, f)\n    for f in sorted(zf.filelist, key=lambda x:x.filename) \n    if f.filename.endswith('.TXT')\n]\n\nbaby_names = states[0]\nfor state_df in states[1:]:\n    baby_names = pd.concat([baby_names, state_df])\nbaby_names = baby_names.reset_index().iloc[:, 1:]",
    "id": "70dc7101a45349d0901252e85c2374c0",
    "idx": 41,
    "time": "2021-02-02T22:03:07.002Z",
    "type": "execution"
   },
   {
    "code": "len(baby_names)",
    "id": "a8a74b11397945acb4863016fd9215c5",
    "idx": 42,
    "time": "2021-02-02T22:03:07.004Z",
    "type": "execution"
   },
   {
    "code": "baby_names.head()",
    "id": "8f724a1f618346d4a3d440668ab209b2",
    "idx": 43,
    "time": "2021-02-02T22:03:07.007Z",
    "type": "execution"
   },
   {
    "code": "baby_names.loc[2:5, 'Name']",
    "id": "ad4ab828fcc5423a8bf35487f9e4bf6c",
    "idx": 46,
    "time": "2021-02-02T22:03:07.010Z",
    "type": "execution"
   },
   {
    "code": "baby_names.loc[2:5, ['Name']]",
    "id": "08bf5eb3a983445d9df78dcdc271d13e",
    "idx": 48,
    "time": "2021-02-02T22:03:07.013Z",
    "type": "execution"
   },
   {
    "code": "sorted_baby_names = baby_names.sort_values(by = ['Name'])\nsorted_baby_names.head()",
    "id": "53226fd453284e10bdaa468e439241fd",
    "idx": 52,
    "time": "2021-02-02T22:03:07.017Z",
    "type": "execution"
   },
   {
    "code": "sorted_baby_names.iloc[1:4, 3]",
    "id": "6147371ba161485783e5512d88af4df6",
    "idx": 54,
    "time": "2021-02-02T22:03:07.020Z",
    "type": "execution"
   },
   {
    "code": "sorted_baby_names.loc[1:4, \"Name\"]",
    "id": "d8aede86134448d58b8399a2d6d88804",
    "idx": 56,
    "time": "2021-02-02T22:03:07.023Z",
    "type": "execution"
   },
   {
    "code": "df = baby_names[:5].set_index(\"Name\") \ndf",
    "id": "31152e658ab8485eb9ce0158eed8a92a",
    "idx": 58,
    "time": "2021-02-02T22:03:07.026Z",
    "type": "execution"
   },
   {
    "code": "df.loc[['Mary', 'Anna'], :]",
    "id": "de9aee38ca1e42ec98479d4112ec1835",
    "idx": 60,
    "time": "2021-02-02T22:03:07.030Z",
    "type": "execution"
   },
   {
    "code": "#Example: \ndf.iloc[1:4, 2:3]",
    "id": "ab9aa073fa914b6bb681791204185e51",
    "idx": 62,
    "time": "2021-02-02T22:03:07.033Z",
    "type": "execution"
   },
   {
    "code": "name_and_year = baby_names.loc[:, ['Name', 'Year']] # SOLUTION\nname_and_year[:5]",
    "id": "15e540f3129d4f6a81a592d7c06a8fe9",
    "idx": 64,
    "time": "2021-02-02T22:03:07.035Z",
    "type": "execution"
   },
   {
    "code": "# TEST\nname_and_year.shape",
    "id": "92f21086c2474d61b0777e99d448d3cc",
    "idx": 65,
    "time": "2021-02-02T22:03:07.040Z",
    "type": "execution"
   },
   {
    "code": "# TEST\nname_and_year.loc[0, \"Name\"]",
    "id": "b943cae34b484a07813bba1dbf16ae84",
    "idx": 66,
    "time": "2021-02-02T22:03:07.042Z",
    "type": "execution"
   },
   {
    "code": "# TEST\nname_and_year.loc[0, \"Year\"]",
    "id": "2cdcca5a466f41c0890a809b0fcad597",
    "idx": 67,
    "time": "2021-02-02T22:03:07.045Z",
    "type": "execution"
   },
   {
    "code": "ca = baby_names[baby_names['State'] == 'CA']",
    "id": "403be8090a094a1587d66ea84349063a",
    "idx": 72,
    "time": "2021-02-02T22:03:07.049Z",
    "type": "execution"
   },
   {
    "code": "result = baby_names[(baby_names[\"Year\"] == 2000) & (baby_names[\"Count\"] > 3000)] # SOLUTION\nresult.head()",
    "id": "6debe6bc68064be783e2a983c8f21643",
    "idx": 74,
    "time": "2021-02-02T22:03:07.060Z",
    "type": "execution"
   },
   {
    "code": "# TEST\nlen(result)",
    "id": "be4263a6dbad49498e08ff5f1619bdfc",
    "idx": 75,
    "time": "2021-02-02T22:03:07.063Z",
    "type": "execution"
   },
   {
    "code": "# TEST\nresult[\"Count\"].sum()",
    "id": "e4624c66285b417fbe60727892470875",
    "idx": 76,
    "time": "2021-02-02T22:03:07.065Z",
    "type": "execution"
   },
   {
    "code": "# TEST\nresult[\"Count\"].iloc[0]",
    "id": "6e1f52278dfe493fbee6f9a6c2eba8c7",
    "idx": 77,
    "time": "2021-02-02T22:03:07.068Z",
    "type": "execution"
   },
   {
    "code": "result_using_query = baby_names.query('Year == 2000 and Count > 3000') # SOLUTION",
    "id": "e1c108dbccc74d528bd90e58cfdcdc8e",
    "idx": 79,
    "time": "2021-02-02T22:03:07.071Z",
    "type": "execution"
   },
   {
    "code": "hillary_baby_name = baby_names[(baby_names['Name'] == 'Hillary') & (baby_names['State'] == 'CA') & (baby_names['Sex'] == 'F')]\nplt.plot(hillary_baby_name['Year'], hillary_baby_name['Count'])\nplt.title(\"Hillary Popularity Over Time\")\nplt.xlabel('Year')\nplt.ylabel('Count');",
    "id": "43afc2baba0a40e7a7b37ad8deb139a1",
    "idx": 81,
    "time": "2021-02-02T22:03:07.073Z",
    "type": "execution"
   },
   {
    "code": "counts_aggregated_by_name_and_year = baby_names.groupby([\"Name\", \"Year\"])[\"Count\"].sum().reset_index()",
    "id": "dc4846d9024645e08185b4ed81d38187",
    "idx": 85,
    "time": "2021-02-02T22:03:07.077Z",
    "type": "execution"
   },
   {
    "code": "name_of_interest = 'Hillary'\nchosen_baby_name = counts_aggregated_by_name_and_year.query(\"Name == @name_of_interest\")\nplt.plot(chosen_baby_name['Year'], chosen_baby_name['Count'])\nplt.title(f\"Popularity Of {name_of_interest} Over Time\")\nplt.xlabel('Year')\nplt.ylabel('Count');",
    "id": "4bcff49f40d24c4b837d68ed414af75e",
    "idx": 86,
    "time": "2021-02-02T22:03:07.080Z",
    "type": "execution"
   },
   {
    "id": "1d7ba93111844a98b8454a7c2d6a38cb",
    "time": "2021-02-02T22:03:07.708Z",
    "type": "completion"
   },
   {
    "id": "95832440509e42889755d770003c4940",
    "time": "2021-02-02T22:03:07.752Z",
    "type": "completion"
   },
   {
    "id": "04bfe765788a40e58f69668c053353a7",
    "time": "2021-02-02T22:03:07.761Z",
    "type": "completion"
   },
   {
    "id": "62c407dc645c45938696696d8b23d9a4",
    "time": "2021-02-02T22:03:07.765Z",
    "type": "completion"
   },
   {
    "id": "374d962b91a64207bc00e4e60503c2b0",
    "time": "2021-02-02T22:03:07.790Z",
    "type": "completion"
   },
   {
    "id": "d7a4ab62d2f5431c8f61c60c2580bb19",
    "time": "2021-02-02T22:03:07.799Z",
    "type": "completion"
   },
   {
    "id": "1d5214da1fd54033907d91cad63cf5df",
    "time": "2021-02-02T22:03:07.803Z",
    "type": "completion"
   },
   {
    "id": "51d1fd557f394cdc8f0c64f936296a05",
    "time": "2021-02-02T22:03:07.833Z",
    "type": "completion"
   },
   {
    "id": "e6b6bf5b87f54b25807cbbc3ccbcfc44",
    "time": "2021-02-02T22:03:07.842Z",
    "type": "completion"
   },
   {
    "id": "dedc786f6d6b4e4b83b7b76cdd4c81fd",
    "time": "2021-02-02T22:03:07.844Z",
    "type": "completion"
   },
   {
    "id": "96b82abca9534f04a8d9af7f87c350a1",
    "time": "2021-02-02T22:03:07.874Z",
    "type": "completion"
   },
   {
    "id": "400bb16b177c485d8f10dbf021606315",
    "time": "2021-02-02T22:03:07.901Z",
    "type": "completion"
   },
   {
    "id": "a56acbda03aa4c3988df433c6e8e8e48",
    "time": "2021-02-02T22:03:07.904Z",
    "type": "completion"
   },
   {
    "id": "ef2b9c19d9fe4ed28be13a3c58cd71e9",
    "time": "2021-02-02T22:03:07.908Z",
    "type": "completion"
   },
   {
    "id": "ec0b3f693fe94e158731b3b8eae17316",
    "time": "2021-02-02T22:03:07.911Z",
    "type": "completion"
   },
   {
    "id": "7287f0c3671f4e2e95f7e009fe4c0c98",
    "time": "2021-02-02T22:03:07.938Z",
    "type": "completion"
   },
   {
    "id": "e192bb9e67c441c38734bfda2458405a",
    "time": "2021-02-02T22:03:07.941Z",
    "type": "completion"
   },
   {
    "id": "2ebf07663ff542b98ab73711c900ed63",
    "time": "2021-02-02T22:03:07.943Z",
    "type": "completion"
   },
   {
    "id": "2f04d4d8167b4ca2a4297f64f7391aba",
    "time": "2021-02-02T22:03:07.975Z",
    "type": "completion"
   },
   {
    "id": "2d8430ff4c1e49eca2cf5ad300e1f16c",
    "time": "2021-02-02T22:03:07.979Z",
    "type": "completion"
   },
   {
    "id": "d1a5e953519041a4884d77fcd0aac3b8",
    "time": "2021-02-02T22:03:08.220Z",
    "type": "completion"
   },
   {
    "id": "70dc7101a45349d0901252e85c2374c0",
    "time": "2021-02-02T22:03:51.629Z",
    "type": "completion"
   },
   {
    "id": "a8a74b11397945acb4863016fd9215c5",
    "time": "2021-02-02T22:03:51.639Z",
    "type": "completion"
   },
   {
    "id": "8f724a1f618346d4a3d440668ab209b2",
    "time": "2021-02-02T22:03:51.677Z",
    "type": "completion"
   },
   {
    "id": "ad4ab828fcc5423a8bf35487f9e4bf6c",
    "time": "2021-02-02T22:03:51.682Z",
    "type": "completion"
   },
   {
    "id": "08bf5eb3a983445d9df78dcdc271d13e",
    "time": "2021-02-02T22:03:51.685Z",
    "type": "completion"
   },
   {
    "id": "53226fd453284e10bdaa468e439241fd",
    "time": "2021-02-02T22:04:08.851Z",
    "type": "completion"
   },
   {
    "id": "6147371ba161485783e5512d88af4df6",
    "time": "2021-02-02T22:04:08.866Z",
    "type": "completion"
   },
   {
    "id": "d8aede86134448d58b8399a2d6d88804",
    "time": "2021-02-02T22:04:09.955Z",
    "type": "completion"
   },
   {
    "id": "31152e658ab8485eb9ce0158eed8a92a",
    "time": "2021-02-02T22:04:09.960Z",
    "type": "completion"
   },
   {
    "id": "de9aee38ca1e42ec98479d4112ec1835",
    "time": "2021-02-02T22:04:10.000Z",
    "type": "completion"
   },
   {
    "id": "ab9aa073fa914b6bb681791204185e51",
    "time": "2021-02-02T22:04:10.007Z",
    "type": "completion"
   },
   {
    "id": "15e540f3129d4f6a81a592d7c06a8fe9",
    "time": "2021-02-02T22:04:10.466Z",
    "type": "completion"
   },
   {
    "id": "92f21086c2474d61b0777e99d448d3cc",
    "time": "2021-02-02T22:04:10.468Z",
    "type": "completion"
   },
   {
    "id": "b943cae34b484a07813bba1dbf16ae84",
    "time": "2021-02-02T22:04:10.524Z",
    "type": "completion"
   },
   {
    "id": "2cdcca5a466f41c0890a809b0fcad597",
    "time": "2021-02-02T22:04:10.528Z",
    "type": "completion"
   },
   {
    "id": "403be8090a094a1587d66ea84349063a",
    "time": "2021-02-02T22:04:10.948Z",
    "type": "completion"
   },
   {
    "id": "6debe6bc68064be783e2a983c8f21643",
    "time": "2021-02-02T22:04:10.996Z",
    "type": "completion"
   },
   {
    "id": "be4263a6dbad49498e08ff5f1619bdfc",
    "time": "2021-02-02T22:04:11.020Z",
    "type": "completion"
   },
   {
    "id": "e4624c66285b417fbe60727892470875",
    "time": "2021-02-02T22:04:11.044Z",
    "type": "completion"
   },
   {
    "id": "6e1f52278dfe493fbee6f9a6c2eba8c7",
    "time": "2021-02-02T22:04:11.051Z",
    "type": "completion"
   },
   {
    "id": "e1c108dbccc74d528bd90e58cfdcdc8e",
    "time": "2021-02-02T22:04:11.491Z",
    "type": "completion"
   },
   {
    "id": "43afc2baba0a40e7a7b37ad8deb139a1",
    "time": "2021-02-02T22:04:12.892Z",
    "type": "completion"
   },
   {
    "id": "dc4846d9024645e08185b4ed81d38187",
    "time": "2021-02-02T22:04:15.279Z",
    "type": "completion"
   },
   {
    "id": "4bcff49f40d24c4b837d68ed414af75e",
    "time": "2021-02-02T22:04:15.457Z",
    "type": "completion"
   },
   {
    "code": "import numpy as np\nimport matplotlib.pyplot as plt\nimport pandas as pd\n%matplotlib inline",
    "id": "04149b0b68fd4ee58a6390aacc92c63d",
    "idx": 5,
    "time": "2021-02-03T03:00:27.186Z",
    "type": "execution"
   },
   {
    "code": "fruit_info = pd.DataFrame(\n    data = {'fruit': ['apple', 'orange', 'banana', 'raspberry'],\n          'color': ['red', 'orange', 'yellow', 'pink']\n          })\nfruit_info",
    "id": "bce91ffcc637403e8c552b5182102e8b",
    "idx": 8,
    "time": "2021-02-03T03:00:27.192Z",
    "type": "execution"
   },
   {
    "code": "fruit_info2 = pd.DataFrame(\n    [(\"red\", \"apple\"), (\"orange\", \"orange\"), (\"yellow\", \"banana\"),\n     (\"pink\", \"raspberry\")], \n    columns = [\"color\", \"fruit\"])\nfruit_info2",
    "id": "f62fbb87075047168f6b52217eca008b",
    "idx": 10,
    "time": "2021-02-03T03:00:27.194Z",
    "type": "execution"
   },
   {
    "code": "fruit_info.shape",
    "id": "b2433e8625e14abc8e6fe9e4fdc17e8e",
    "idx": 12,
    "time": "2021-02-03T03:00:27.197Z",
    "type": "execution"
   },
   {
    "code": "fruit_info.values",
    "id": "7afd5b74e3b14429839edd25b49fa2fb",
    "idx": 14,
    "time": "2021-02-03T03:00:27.200Z",
    "type": "execution"
   },
   {
    "code": "# BEGIN SOLUTION\nfruit_info[\"rank1\"] = [2, 1, 4, 3]\n# END SOLUTION\nfruit_info",
    "id": "09b7000e94aa4d8785c8964de9ecfef3",
    "idx": 16,
    "time": "2021-02-03T03:00:27.202Z",
    "type": "execution"
   },
   {
    "code": "# TEST \nfruit_info[\"rank1\"].dtype",
    "id": "d4ae6369025a4a248f2a0924a4693d2d",
    "idx": 17,
    "time": "2021-02-03T03:00:27.204Z",
    "type": "execution"
   },
   {
    "code": "# TEST\nsorted(fruit_info[\"rank1\"].dropna())",
    "id": "5ee85e5fdf6b46078a3fe03970de6c8a",
    "idx": 18,
    "time": "2021-02-03T03:00:27.206Z",
    "type": "execution"
   },
   {
    "code": "# BEGIN SOLUTION\nfruit_info.loc[:, \"rank2\"] = [2, 1, 4, 3]\n# END SOLUTION\nfruit_info",
    "id": "754e1361b9d744898e666b9ff788dd54",
    "idx": 20,
    "time": "2021-02-03T03:00:27.208Z",
    "type": "execution"
   },
   {
    "code": "# TEST \nfruit_info[\"rank2\"].dtype",
    "id": "94aaaf2167144411853a2771127123eb",
    "idx": 21,
    "time": "2021-02-03T03:00:27.210Z",
    "type": "execution"
   },
   {
    "code": "# TEST\nfruit_info[\"rank2\"] == fruit_info[\"rank1\"]",
    "id": "9c8483d8754f48549054efdc1182fd84",
    "idx": 22,
    "time": "2021-02-03T03:00:27.212Z",
    "type": "execution"
   },
   {
    "code": "fruit_info_original = fruit_info.drop([\"rank1\", \"rank2\"], axis = 1) # SOLUTION\nfruit_info_original",
    "id": "5cdb45663f534170bb7d9a9fdb295eae",
    "idx": 24,
    "time": "2021-02-03T03:00:27.214Z",
    "type": "execution"
   },
   {
    "code": "# TEST\nfruit_info_original.shape",
    "id": "67179c50676e49419f96c49a31b79316",
    "idx": 25,
    "time": "2021-02-03T03:00:27.216Z",
    "type": "execution"
   },
   {
    "code": "# TEST\nfruit_info.shape",
    "id": "fa59e197c6474140a5c2cecdb0c9315b",
    "idx": 26,
    "time": "2021-02-03T03:00:27.218Z",
    "type": "execution"
   },
   {
    "code": "# TEST\nfruit_info_original.columns",
    "id": "4d569c0696df40ae961d1d1753704908",
    "idx": 27,
    "time": "2021-02-03T03:00:27.220Z",
    "type": "execution"
   },
   {
    "code": "# BEGIN SOLUTION\nfruit_info_caps = fruit_info_original.rename(columns = {\"color\": \"Color\", \"fruit\": \"Fruit\"})\n# END SOLUTION\nfruit_info_caps",
    "id": "160dc75fca554dd09ddc106bebab5d0c",
    "idx": 29,
    "time": "2021-02-03T03:00:27.224Z",
    "type": "execution"
   },
   {
    "code": "# TEST\nfruit_info_caps.columns",
    "id": "e14fbdc9a9a14cd2849136b61fcbf065",
    "idx": 30,
    "time": "2021-02-03T03:00:27.226Z",
    "type": "execution"
   },
   {
    "code": "# TEST\nfruit_info.columns",
    "id": "0eab3d64cc184fe8a1d518b1993910f3",
    "idx": 31,
    "time": "2021-02-03T03:00:27.227Z",
    "type": "execution"
   },
   {
    "code": "import requests\nfrom pathlib import Path\n\ndef fetch_and_cache(data_url, file, data_dir=\"data\", force=False):\n    \"\"\"\n    Download and cache a url and return the file object.\n    \n    data_url: the web address to download\n    file: the file in which to save the results.\n    data_dir: (default=\"data\") the location to save the data\n    force: if true the file is always re-downloaded \n    \n    return: The pathlib.Path to the file.\n    \"\"\"\n    data_dir = Path(data_dir)\n    data_dir.mkdir(exist_ok=True)\n    file_path = data_dir/Path(file)\n    if force and file_path.exists():\n        file_path.unlink()\n    if force or not file_path.exists():\n        print('Downloading...', end=' ')\n        resp = requests.get(data_url)\n        with file_path.open('wb') as f:\n            f.write(resp.content)\n        print('Done!')\n    else:\n        import time \n        created = time.ctime(file_path.stat().st_ctime)\n        print(\"Using cached version downloaded at\", created)\n    return file_path",
    "id": "6044035964a34b0d806e4be6707d6fcf",
    "idx": 34,
    "time": "2021-02-03T03:00:27.230Z",
    "type": "execution"
   },
   {
    "code": "data_url = 'https://www.ssa.gov/oact/babynames/state/namesbystate.zip'\nnamesbystate_path = fetch_and_cache(data_url, 'namesbystate.zip')",
    "id": "0ada07c6b5fb48cdb6ed7a5f41141be5",
    "idx": 37,
    "time": "2021-02-03T03:00:27.233Z",
    "type": "execution"
   },
   {
    "code": "import zipfile\nzf = zipfile.ZipFile(namesbystate_path, 'r')\n\ncolumn_labels = ['State', 'Sex', 'Year', 'Name', 'Count']\n\ndef load_dataframe_from_zip(zf, f):\n    with zf.open(f) as fh: \n        return pd.read_csv(fh, header=None, names=column_labels)\n\nstates = [\n    load_dataframe_from_zip(zf, f)\n    for f in sorted(zf.filelist, key=lambda x:x.filename) \n    if f.filename.endswith('.TXT')\n]\n\nbaby_names = states[0]\nfor state_df in states[1:]:\n    baby_names = pd.concat([baby_names, state_df])\nbaby_names = baby_names.reset_index().iloc[:, 1:]",
    "id": "7e7e90bcc07d40f6ac3650b89138d5d5",
    "idx": 39,
    "time": "2021-02-03T03:00:27.235Z",
    "type": "execution"
   },
   {
    "code": "len(baby_names)",
    "id": "936518769a584b289d6fb550984f9b88",
    "idx": 40,
    "time": "2021-02-03T03:00:27.237Z",
    "type": "execution"
   },
   {
    "code": "baby_names.head()",
    "id": "b82e45f109da47db88aa9b35f486daf5",
    "idx": 41,
    "time": "2021-02-03T03:00:27.239Z",
    "type": "execution"
   },
   {
    "code": "baby_names.loc[2:5, 'Name']",
    "id": "97f4d786b32b45bcbabc49f3e3b3f168",
    "idx": 44,
    "time": "2021-02-03T03:00:27.241Z",
    "type": "execution"
   },
   {
    "code": "baby_names.loc[2:5, ['Name']]",
    "id": "7ab8eb1049664cd485869d303873d98c",
    "idx": 46,
    "time": "2021-02-03T03:00:27.243Z",
    "type": "execution"
   },
   {
    "code": "sorted_baby_names = baby_names.sort_values(by = ['Name'])\nsorted_baby_names.head()",
    "id": "669cbb4af8504f718674dbaa26497c59",
    "idx": 50,
    "time": "2021-02-03T03:00:27.246Z",
    "type": "execution"
   },
   {
    "code": "sorted_baby_names.iloc[1:4, 3]",
    "id": "fe0b3bf3013942af8f312233be00f320",
    "idx": 52,
    "time": "2021-02-03T03:00:27.250Z",
    "type": "execution"
   },
   {
    "code": "sorted_baby_names.loc[1:4, \"Name\"]",
    "id": "198a4d33a78a49808013376dda9a5e76",
    "idx": 54,
    "time": "2021-02-03T03:00:27.253Z",
    "type": "execution"
   },
   {
    "code": "df = baby_names[:5].set_index(\"Name\") \ndf",
    "id": "711e9ae3a2f9426886ee4baa691ab3be",
    "idx": 56,
    "time": "2021-02-03T03:00:27.256Z",
    "type": "execution"
   },
   {
    "code": "df.loc[['Mary', 'Anna'], :]",
    "id": "dcf9aa8cbd634f348371d165927a32eb",
    "idx": 58,
    "time": "2021-02-03T03:00:27.258Z",
    "type": "execution"
   },
   {
    "code": "#Example: \ndf.iloc[1:4, 2:3]",
    "id": "211b4ac26c73495a8962d97fe6b41cb4",
    "idx": 60,
    "time": "2021-02-03T03:00:27.260Z",
    "type": "execution"
   },
   {
    "code": "name_and_year = baby_names.loc[:, ['Name', 'Year']] # SOLUTION\nname_and_year[:5]",
    "id": "c44f9f42dd1642069545355cd0594e6e",
    "idx": 62,
    "time": "2021-02-03T03:00:27.262Z",
    "type": "execution"
   },
   {
    "code": "# TEST\nname_and_year.shape",
    "id": "a6c7f13eab82440c85f8f1f6bb72bc05",
    "idx": 63,
    "time": "2021-02-03T03:00:27.264Z",
    "type": "execution"
   },
   {
    "code": "# TEST\nname_and_year.loc[0, \"Name\"]",
    "id": "368248f039f440cf81617ed1f4117be9",
    "idx": 64,
    "time": "2021-02-03T03:00:27.266Z",
    "type": "execution"
   },
   {
    "code": "# TEST\nname_and_year.loc[0, \"Year\"]",
    "id": "14f02c1d20274dec8895989ba7e5dc78",
    "idx": 65,
    "time": "2021-02-03T03:00:27.268Z",
    "type": "execution"
   },
   {
    "code": "ca = baby_names[baby_names['State'] == 'CA']",
    "id": "a5fa303ab7404a6dbf4388de503cac4c",
    "idx": 70,
    "time": "2021-02-03T03:00:27.270Z",
    "type": "execution"
   },
   {
    "code": "result = baby_names[(baby_names[\"Year\"] == 2000) & (baby_names[\"Count\"] > 3000)] # SOLUTION\nresult.head()",
    "id": "53825247a2bb45df843bbf1f806edd58",
    "idx": 72,
    "time": "2021-02-03T03:00:27.273Z",
    "type": "execution"
   },
   {
    "code": "# TEST\nlen(result)",
    "id": "da82ae0a02b64291b997ff7413ad3842",
    "idx": 73,
    "time": "2021-02-03T03:00:27.275Z",
    "type": "execution"
   },
   {
    "code": "# TEST\nresult[\"Count\"].sum()",
    "id": "7d19c9cd29964cadaa2d83ab7f7723de",
    "idx": 74,
    "time": "2021-02-03T03:00:27.276Z",
    "type": "execution"
   },
   {
    "code": "# TEST\nresult[\"Count\"].iloc[0]",
    "id": "cc41b350756446a08e0544944eb74d1e",
    "idx": 75,
    "time": "2021-02-03T03:00:27.278Z",
    "type": "execution"
   },
   {
    "code": "result_using_query = baby_names.query('Year == 2000 and Count > 3000') # SOLUTION",
    "id": "e07888003f1c4ad280f92321d4331fee",
    "idx": 77,
    "time": "2021-02-03T03:00:27.279Z",
    "type": "execution"
   },
   {
    "code": "hillary_baby_name = baby_names[(baby_names['Name'] == 'Hillary') & (baby_names['State'] == 'CA') & (baby_names['Sex'] == 'F')]\nplt.plot(hillary_baby_name['Year'], hillary_baby_name['Count'])\nplt.title(\"Hillary Popularity Over Time\")\nplt.xlabel('Year')\nplt.ylabel('Count');",
    "id": "3964323115f04d08ac58740cfc0b06f2",
    "idx": 79,
    "time": "2021-02-03T03:00:27.281Z",
    "type": "execution"
   },
   {
    "code": "counts_aggregated_by_name_and_year = baby_names.groupby([\"Name\", \"Year\"])[\"Count\"].sum().reset_index()",
    "id": "9ec8347559e6451ebd392d965e924294",
    "idx": 83,
    "time": "2021-02-03T03:00:27.284Z",
    "type": "execution"
   },
   {
    "code": "name_of_interest = 'Hillary'\nchosen_baby_name = counts_aggregated_by_name_and_year.query(\"Name == @name_of_interest\")\nplt.plot(chosen_baby_name['Year'], chosen_baby_name['Count'])\nplt.title(f\"Popularity Of {name_of_interest} Over Time\")\nplt.xlabel('Year')\nplt.ylabel('Count');",
    "id": "a5c2bd19494441f680e4faea3d0433bf",
    "idx": 84,
    "time": "2021-02-03T03:00:27.285Z",
    "type": "execution"
   },
   {
    "id": "04149b0b68fd4ee58a6390aacc92c63d",
    "time": "2021-02-03T03:00:27.985Z",
    "type": "completion"
   },
   {
    "id": "bce91ffcc637403e8c552b5182102e8b",
    "time": "2021-02-03T03:00:28.003Z",
    "type": "completion"
   },
   {
    "id": "f62fbb87075047168f6b52217eca008b",
    "time": "2021-02-03T03:00:28.030Z",
    "type": "completion"
   },
   {
    "id": "b2433e8625e14abc8e6fe9e4fdc17e8e",
    "time": "2021-02-03T03:00:28.032Z",
    "type": "completion"
   },
   {
    "id": "7afd5b74e3b14429839edd25b49fa2fb",
    "time": "2021-02-03T03:00:28.034Z",
    "type": "completion"
   },
   {
    "id": "09b7000e94aa4d8785c8964de9ecfef3",
    "time": "2021-02-03T03:00:28.070Z",
    "type": "completion"
   },
   {
    "id": "d4ae6369025a4a248f2a0924a4693d2d",
    "time": "2021-02-03T03:00:28.075Z",
    "type": "completion"
   },
   {
    "id": "5ee85e5fdf6b46078a3fe03970de6c8a",
    "time": "2021-02-03T03:00:28.077Z",
    "type": "completion"
   },
   {
    "id": "754e1361b9d744898e666b9ff788dd54",
    "time": "2021-02-03T03:00:28.081Z",
    "type": "completion"
   },
   {
    "id": "94aaaf2167144411853a2771127123eb",
    "time": "2021-02-03T03:00:28.088Z",
    "type": "completion"
   },
   {
    "id": "9c8483d8754f48549054efdc1182fd84",
    "time": "2021-02-03T03:00:28.165Z",
    "type": "completion"
   },
   {
    "id": "5cdb45663f534170bb7d9a9fdb295eae",
    "time": "2021-02-03T03:00:28.170Z",
    "type": "completion"
   },
   {
    "id": "67179c50676e49419f96c49a31b79316",
    "time": "2021-02-03T03:00:28.172Z",
    "type": "completion"
   },
   {
    "id": "fa59e197c6474140a5c2cecdb0c9315b",
    "time": "2021-02-03T03:00:28.174Z",
    "type": "completion"
   },
   {
    "id": "4d569c0696df40ae961d1d1753704908",
    "time": "2021-02-03T03:00:28.207Z",
    "type": "completion"
   },
   {
    "id": "160dc75fca554dd09ddc106bebab5d0c",
    "time": "2021-02-03T03:00:28.209Z",
    "type": "completion"
   },
   {
    "id": "e14fbdc9a9a14cd2849136b61fcbf065",
    "time": "2021-02-03T03:00:28.211Z",
    "type": "completion"
   },
   {
    "id": "0eab3d64cc184fe8a1d518b1993910f3",
    "time": "2021-02-03T03:00:28.213Z",
    "type": "completion"
   },
   {
    "id": "6044035964a34b0d806e4be6707d6fcf",
    "time": "2021-02-03T03:00:28.252Z",
    "type": "completion"
   },
   {
    "id": "0ada07c6b5fb48cdb6ed7a5f41141be5",
    "time": "2021-02-03T03:00:28.255Z",
    "type": "completion"
   },
   {
    "id": "7e7e90bcc07d40f6ac3650b89138d5d5",
    "time": "2021-02-03T03:01:10.991Z",
    "type": "completion"
   },
   {
    "id": "936518769a584b289d6fb550984f9b88",
    "time": "2021-02-03T03:01:11.000Z",
    "type": "completion"
   },
   {
    "id": "b82e45f109da47db88aa9b35f486daf5",
    "time": "2021-02-03T03:01:11.067Z",
    "type": "completion"
   },
   {
    "id": "97f4d786b32b45bcbabc49f3e3b3f168",
    "time": "2021-02-03T03:01:11.072Z",
    "type": "completion"
   },
   {
    "id": "7ab8eb1049664cd485869d303873d98c",
    "time": "2021-02-03T03:01:11.219Z",
    "type": "completion"
   },
   {
    "id": "669cbb4af8504f718674dbaa26497c59",
    "time": "2021-02-03T03:01:27.640Z",
    "type": "completion"
   },
   {
    "id": "fe0b3bf3013942af8f312233be00f320",
    "time": "2021-02-03T03:01:27.644Z",
    "type": "completion"
   },
   {
    "id": "198a4d33a78a49808013376dda9a5e76",
    "time": "2021-02-03T03:01:28.577Z",
    "type": "completion"
   },
   {
    "id": "711e9ae3a2f9426886ee4baa691ab3be",
    "time": "2021-02-03T03:01:28.600Z",
    "type": "completion"
   },
   {
    "id": "dcf9aa8cbd634f348371d165927a32eb",
    "time": "2021-02-03T03:01:28.603Z",
    "type": "completion"
   },
   {
    "id": "211b4ac26c73495a8962d97fe6b41cb4",
    "time": "2021-02-03T03:01:28.647Z",
    "type": "completion"
   },
   {
    "id": "c44f9f42dd1642069545355cd0594e6e",
    "time": "2021-02-03T03:01:28.750Z",
    "type": "completion"
   },
   {
    "id": "a6c7f13eab82440c85f8f1f6bb72bc05",
    "time": "2021-02-03T03:01:28.752Z",
    "type": "completion"
   },
   {
    "id": "368248f039f440cf81617ed1f4117be9",
    "time": "2021-02-03T03:01:28.789Z",
    "type": "completion"
   },
   {
    "id": "14f02c1d20274dec8895989ba7e5dc78",
    "time": "2021-02-03T03:01:28.791Z",
    "type": "completion"
   },
   {
    "id": "a5fa303ab7404a6dbf4388de503cac4c",
    "time": "2021-02-03T03:01:29.169Z",
    "type": "completion"
   },
   {
    "id": "53825247a2bb45df843bbf1f806edd58",
    "time": "2021-02-03T03:01:29.230Z",
    "type": "completion"
   },
   {
    "id": "da82ae0a02b64291b997ff7413ad3842",
    "time": "2021-02-03T03:01:29.233Z",
    "type": "completion"
   },
   {
    "id": "7d19c9cd29964cadaa2d83ab7f7723de",
    "time": "2021-02-03T03:01:29.234Z",
    "type": "completion"
   },
   {
    "id": "cc41b350756446a08e0544944eb74d1e",
    "time": "2021-02-03T03:01:29.268Z",
    "type": "completion"
   },
   {
    "id": "e07888003f1c4ad280f92321d4331fee",
    "time": "2021-02-03T03:01:29.532Z",
    "type": "completion"
   },
   {
    "id": "3964323115f04d08ac58740cfc0b06f2",
    "time": "2021-02-03T03:01:30.886Z",
    "type": "completion"
   },
   {
    "id": "9ec8347559e6451ebd392d965e924294",
    "time": "2021-02-03T03:01:33.232Z",
    "type": "completion"
   },
   {
    "id": "a5c2bd19494441f680e4faea3d0433bf",
    "time": "2021-02-03T03:01:33.464Z",
    "type": "completion"
   },
   {
    "code": "import numpy as np\nimport matplotlib.pyplot as plt\nimport pandas as pd\n%matplotlib inline",
    "id": "cb3654909f6e4cb98f5d5c3044038d5d",
    "idx": 5,
    "time": "2021-02-04T02:44:18.448Z",
    "type": "execution"
   },
   {
    "code": "fruit_info = pd.DataFrame(\n    data = {'fruit': ['apple', 'orange', 'banana', 'raspberry'],\n          'color': ['red', 'orange', 'yellow', 'pink']\n          })\nfruit_info",
    "id": "b89b55b36f9e41149ea885f38dbf8b94",
    "idx": 8,
    "time": "2021-02-04T02:44:18.453Z",
    "type": "execution"
   },
   {
    "code": "fruit_info2 = pd.DataFrame(\n    [(\"red\", \"apple\"), (\"orange\", \"orange\"), (\"yellow\", \"banana\"),\n     (\"pink\", \"raspberry\")], \n    columns = [\"color\", \"fruit\"])\nfruit_info2",
    "id": "c32df1c579e54cc781b3dec7ee15d997",
    "idx": 10,
    "time": "2021-02-04T02:44:18.457Z",
    "type": "execution"
   },
   {
    "code": "fruit_info.shape",
    "id": "cc811befb6d74726878500c3cfe045c0",
    "idx": 12,
    "time": "2021-02-04T02:44:18.460Z",
    "type": "execution"
   },
   {
    "code": "fruit_info.values",
    "id": "c406ac8805ca408186e60c9a7dd90509",
    "idx": 14,
    "time": "2021-02-04T02:44:18.462Z",
    "type": "execution"
   },
   {
    "code": "# BEGIN SOLUTION\nfruit_info[\"rank1\"] = [2, 1, 4, 3]\n# END SOLUTION\nfruit_info",
    "id": "0ef745aaa1a14b07b1ba565c6f581e80",
    "idx": 16,
    "time": "2021-02-04T02:44:18.466Z",
    "type": "execution"
   },
   {
    "code": "# TEST \nfruit_info[\"rank1\"].dtype",
    "id": "74161cf82d1349b280be7c9699ac695c",
    "idx": 17,
    "time": "2021-02-04T02:44:18.468Z",
    "type": "execution"
   },
   {
    "code": "# TEST\nsorted(fruit_info[\"rank1\"].dropna())",
    "id": "6eb0af163dbd4b44888e5bf5bce0d6ef",
    "idx": 18,
    "time": "2021-02-04T02:44:18.469Z",
    "type": "execution"
   },
   {
    "code": "# BEGIN SOLUTION\nfruit_info.loc[:, \"rank2\"] = [2, 1, 4, 3]\n# END SOLUTION\nfruit_info",
    "id": "97cf6940242c48ee84055bad6d2fa22c",
    "idx": 20,
    "time": "2021-02-04T02:44:18.472Z",
    "type": "execution"
   },
   {
    "code": "# TEST \nfruit_info[\"rank2\"].dtype",
    "id": "de4975632bb14e07806f5e035a2b677f",
    "idx": 21,
    "time": "2021-02-04T02:44:18.473Z",
    "type": "execution"
   },
   {
    "code": "# TEST\nfruit_info[\"rank2\"] == fruit_info[\"rank1\"]",
    "id": "4bdd96d59a7a448f8dd758f5175ce45c",
    "idx": 22,
    "time": "2021-02-04T02:44:18.475Z",
    "type": "execution"
   },
   {
    "code": "fruit_info_original = fruit_info.drop([\"rank1\", \"rank2\"], axis = 1) # SOLUTION\nfruit_info_original",
    "id": "511c26f1a758456189ffb2d5efab2fb1",
    "idx": 24,
    "time": "2021-02-04T02:44:18.477Z",
    "type": "execution"
   },
   {
    "code": "# TEST\nfruit_info_original.shape",
    "id": "372d7268368346fd9d0b84f1fe7b10c4",
    "idx": 25,
    "time": "2021-02-04T02:44:18.479Z",
    "type": "execution"
   },
   {
    "code": "# TEST\nfruit_info.shape",
    "id": "8be6d2d66c6d4ef8af965cb56254b4cb",
    "idx": 26,
    "time": "2021-02-04T02:44:18.481Z",
    "type": "execution"
   },
   {
    "code": "# TEST\nfruit_info_original.columns",
    "id": "1bceedea26404b04b8e0ed992f4b2809",
    "idx": 27,
    "time": "2021-02-04T02:44:18.482Z",
    "type": "execution"
   },
   {
    "code": "# BEGIN SOLUTION\nfruit_info_caps = fruit_info_original.rename(columns = {\"color\": \"Color\", \"fruit\": \"Fruit\"})\n# END SOLUTION\nfruit_info_caps",
    "id": "f6504ad1d46c4ec58083bccbbbce297a",
    "idx": 29,
    "time": "2021-02-04T02:44:18.485Z",
    "type": "execution"
   },
   {
    "code": "# TEST\nfruit_info_caps.columns",
    "id": "99883042353842ed8dd4785fd51e3226",
    "idx": 30,
    "time": "2021-02-04T02:44:18.486Z",
    "type": "execution"
   },
   {
    "code": "# TEST\nfruit_info.columns",
    "id": "80299b3f88d24888bfc4dd2cb310589f",
    "idx": 31,
    "time": "2021-02-04T02:44:18.488Z",
    "type": "execution"
   },
   {
    "code": "import requests\nfrom pathlib import Path\n\ndef fetch_and_cache(data_url, file, data_dir=\"data\", force=False):\n    \"\"\"\n    Download and cache a url and return the file object.\n    \n    data_url: the web address to download\n    file: the file in which to save the results.\n    data_dir: (default=\"data\") the location to save the data\n    force: if true the file is always re-downloaded \n    \n    return: The pathlib.Path to the file.\n    \"\"\"\n    data_dir = Path(data_dir)\n    data_dir.mkdir(exist_ok=True)\n    file_path = data_dir/Path(file)\n    if force and file_path.exists():\n        file_path.unlink()\n    if force or not file_path.exists():\n        print('Downloading...', end=' ')\n        resp = requests.get(data_url)\n        with file_path.open('wb') as f:\n            f.write(resp.content)\n        print('Done!')\n    else:\n        import time \n        created = time.ctime(file_path.stat().st_ctime)\n        print(\"Using cached version downloaded at\", created)\n    return file_path",
    "id": "abe259236b374174882c73baf8977683",
    "idx": 34,
    "time": "2021-02-04T02:44:18.490Z",
    "type": "execution"
   },
   {
    "code": "data_url = 'https://www.ssa.gov/oact/babynames/state/namesbystate.zip'\nnamesbystate_path = fetch_and_cache(data_url, 'namesbystate.zip')",
    "id": "a40b23e031654f2690a1a4776a30e6fb",
    "idx": 37,
    "time": "2021-02-04T02:44:18.493Z",
    "type": "execution"
   },
   {
    "code": "import zipfile\nzf = zipfile.ZipFile(namesbystate_path, 'r')\n\ncolumn_labels = ['State', 'Sex', 'Year', 'Name', 'Count']\n\ndef load_dataframe_from_zip(zf, f):\n    with zf.open(f) as fh: \n        return pd.read_csv(fh, header=None, names=column_labels)\n\nstates = [\n    load_dataframe_from_zip(zf, f)\n    for f in sorted(zf.filelist, key=lambda x:x.filename) \n    if f.filename.endswith('.TXT')\n]\n\nbaby_names = states[0]\nfor state_df in states[1:]:\n    baby_names = pd.concat([baby_names, state_df])\nbaby_names = baby_names.reset_index().iloc[:, 1:]",
    "id": "7b7dcda608b94ba78f6ba9d5cd98c4e9",
    "idx": 39,
    "time": "2021-02-04T02:44:18.495Z",
    "type": "execution"
   },
   {
    "code": "len(baby_names)",
    "id": "ef510349c8bc4b3a9ecc4fe7456dd360",
    "idx": 40,
    "time": "2021-02-04T02:44:18.497Z",
    "type": "execution"
   },
   {
    "code": "baby_names.head()",
    "id": "becd67d6e6434a868da19c91c98cbf11",
    "idx": 41,
    "time": "2021-02-04T02:44:18.499Z",
    "type": "execution"
   },
   {
    "code": "baby_names.loc[2:5, 'Name']",
    "id": "b6f3c08ad4df451a8e453136d6128f62",
    "idx": 44,
    "time": "2021-02-04T02:44:18.502Z",
    "type": "execution"
   },
   {
    "code": "baby_names.loc[2:5, ['Name']]",
    "id": "1f720fa9724a436a92a97fef64c5d350",
    "idx": 46,
    "time": "2021-02-04T02:44:18.504Z",
    "type": "execution"
   },
   {
    "code": "sorted_baby_names = baby_names.sort_values(by = ['Name'])\nsorted_baby_names.head()",
    "id": "dcff9a0d000d40a08bf5c99e7444e074",
    "idx": 50,
    "time": "2021-02-04T02:44:18.507Z",
    "type": "execution"
   },
   {
    "code": "sorted_baby_names.iloc[1:4, 3]",
    "id": "330230a2f5a549a6838d7c3620fd168a",
    "idx": 52,
    "time": "2021-02-04T02:44:18.509Z",
    "type": "execution"
   },
   {
    "code": "sorted_baby_names.loc[1:4, \"Name\"]",
    "id": "afd5fdc4aafe4cc28856ec846b4db1cc",
    "idx": 54,
    "time": "2021-02-04T02:44:18.511Z",
    "type": "execution"
   },
   {
    "code": "df = baby_names[:5].set_index(\"Name\") \ndf",
    "id": "61973dadb49e47069e83e8ff31d26d04",
    "idx": 56,
    "time": "2021-02-04T02:44:18.513Z",
    "type": "execution"
   },
   {
    "code": "df.loc[['Mary', 'Anna'], :]",
    "id": "e95ebb0bccb348f487373702614f27b7",
    "idx": 58,
    "time": "2021-02-04T02:44:18.515Z",
    "type": "execution"
   },
   {
    "code": "#Example: \ndf.iloc[1:4, 2:3]",
    "id": "6477caf541e6458ba5f7c94a5494616b",
    "idx": 60,
    "time": "2021-02-04T02:44:18.518Z",
    "type": "execution"
   },
   {
    "code": "name_and_year = baby_names.loc[:, ['Name', 'Year']] # SOLUTION\nname_and_year[:5]",
    "id": "615d52380984452b938f711b64759402",
    "idx": 62,
    "time": "2021-02-04T02:44:18.520Z",
    "type": "execution"
   },
   {
    "code": "# TEST\nname_and_year.shape",
    "id": "d57ae72af4be48968b5115629a4e4a38",
    "idx": 63,
    "time": "2021-02-04T02:44:18.522Z",
    "type": "execution"
   },
   {
    "code": "# TEST\nname_and_year.loc[0, \"Name\"]",
    "id": "4c5c7be5e1eb465c830052ce19d675df",
    "idx": 64,
    "time": "2021-02-04T02:44:18.523Z",
    "type": "execution"
   },
   {
    "code": "# TEST\nname_and_year.loc[0, \"Year\"]",
    "id": "814a31a9203847b7ac460335c5705d33",
    "idx": 65,
    "time": "2021-02-04T02:44:18.525Z",
    "type": "execution"
   },
   {
    "code": "ca = baby_names[baby_names['State'] == 'CA']",
    "id": "05e49155a9e74cf38cc6353c24aa96b3",
    "idx": 70,
    "time": "2021-02-04T02:44:18.528Z",
    "type": "execution"
   },
   {
    "code": "result = baby_names[(baby_names[\"Year\"] == 2000) & (baby_names[\"Count\"] > 3000)] # SOLUTION\nresult.head()",
    "id": "b1d6f41c752e42d3b948364b5c60c17f",
    "idx": 72,
    "time": "2021-02-04T02:44:18.530Z",
    "type": "execution"
   },
   {
    "code": "# TEST\nlen(result)",
    "id": "28aa12008dd5424b851aa4cceec42bfb",
    "idx": 73,
    "time": "2021-02-04T02:44:18.534Z",
    "type": "execution"
   },
   {
    "code": "# TEST\nresult[\"Count\"].sum()",
    "id": "0c988671d71549858bb1a027c6e0f791",
    "idx": 74,
    "time": "2021-02-04T02:44:18.536Z",
    "type": "execution"
   },
   {
    "code": "# TEST\nresult[\"Count\"].iloc[0]",
    "id": "5d229a15d64f464b8e6c7c7ed68d0655",
    "idx": 75,
    "time": "2021-02-04T02:44:18.539Z",
    "type": "execution"
   },
   {
    "code": "result_using_query = baby_names.query('Year == 2000 and Count > 3000') # SOLUTION",
    "id": "786b3b70962f43b1b9811bc78db54080",
    "idx": 77,
    "time": "2021-02-04T02:44:18.541Z",
    "type": "execution"
   },
   {
    "code": "hillary_baby_name = baby_names[(baby_names['Name'] == 'Hillary') & (baby_names['State'] == 'CA') & (baby_names['Sex'] == 'F')]\nplt.plot(hillary_baby_name['Year'], hillary_baby_name['Count'])\nplt.title(\"Hillary Popularity Over Time\")\nplt.xlabel('Year')\nplt.ylabel('Count');",
    "id": "b6ff75278b854301844a790335081e3c",
    "idx": 79,
    "time": "2021-02-04T02:44:18.543Z",
    "type": "execution"
   },
   {
    "code": "counts_aggregated_by_name_and_year = baby_names.groupby([\"Name\", \"Year\"])[\"Count\"].sum().reset_index()",
    "id": "b6ce14c1a07d47b6a089c725e64710ab",
    "idx": 83,
    "time": "2021-02-04T02:44:18.546Z",
    "type": "execution"
   },
   {
    "code": "name_of_interest = 'Hillary'\nchosen_baby_name = counts_aggregated_by_name_and_year.query(\"Name == @name_of_interest\")\nplt.plot(chosen_baby_name['Year'], chosen_baby_name['Count'])\nplt.title(f\"Popularity Of {name_of_interest} Over Time\")\nplt.xlabel('Year')\nplt.ylabel('Count');",
    "id": "142433c172c5479cb3b43b30ae34dc0f",
    "idx": 84,
    "time": "2021-02-04T02:44:18.548Z",
    "type": "execution"
   },
   {
    "id": "cb3654909f6e4cb98f5d5c3044038d5d",
    "time": "2021-02-04T02:44:19.253Z",
    "type": "completion"
   },
   {
    "id": "b89b55b36f9e41149ea885f38dbf8b94",
    "time": "2021-02-04T02:44:19.256Z",
    "type": "completion"
   },
   {
    "id": "c32df1c579e54cc781b3dec7ee15d997",
    "time": "2021-02-04T02:44:19.295Z",
    "type": "completion"
   },
   {
    "id": "cc811befb6d74726878500c3cfe045c0",
    "time": "2021-02-04T02:44:19.297Z",
    "type": "completion"
   },
   {
    "id": "c406ac8805ca408186e60c9a7dd90509",
    "time": "2021-02-04T02:44:19.342Z",
    "type": "completion"
   },
   {
    "id": "0ef745aaa1a14b07b1ba565c6f581e80",
    "time": "2021-02-04T02:44:19.351Z",
    "type": "completion"
   },
   {
    "id": "74161cf82d1349b280be7c9699ac695c",
    "time": "2021-02-04T02:44:19.383Z",
    "type": "completion"
   },
   {
    "id": "6eb0af163dbd4b44888e5bf5bce0d6ef",
    "time": "2021-02-04T02:44:19.420Z",
    "type": "completion"
   },
   {
    "id": "97cf6940242c48ee84055bad6d2fa22c",
    "time": "2021-02-04T02:44:19.456Z",
    "type": "completion"
   },
   {
    "id": "de4975632bb14e07806f5e035a2b677f",
    "time": "2021-02-04T02:44:19.458Z",
    "type": "completion"
   },
   {
    "id": "4bdd96d59a7a448f8dd758f5175ce45c",
    "time": "2021-02-04T02:44:19.486Z",
    "type": "completion"
   },
   {
    "id": "511c26f1a758456189ffb2d5efab2fb1",
    "time": "2021-02-04T02:44:19.529Z",
    "type": "completion"
   },
   {
    "id": "372d7268368346fd9d0b84f1fe7b10c4",
    "time": "2021-02-04T02:44:19.535Z",
    "type": "completion"
   },
   {
    "id": "8be6d2d66c6d4ef8af965cb56254b4cb",
    "time": "2021-02-04T02:44:19.563Z",
    "type": "completion"
   },
   {
    "id": "1bceedea26404b04b8e0ed992f4b2809",
    "time": "2021-02-04T02:44:19.589Z",
    "type": "completion"
   },
   {
    "id": "f6504ad1d46c4ec58083bccbbbce297a",
    "time": "2021-02-04T02:44:19.614Z",
    "type": "completion"
   },
   {
    "id": "99883042353842ed8dd4785fd51e3226",
    "time": "2021-02-04T02:44:19.640Z",
    "type": "completion"
   },
   {
    "id": "80299b3f88d24888bfc4dd2cb310589f",
    "time": "2021-02-04T02:44:19.683Z",
    "type": "completion"
   },
   {
    "id": "abe259236b374174882c73baf8977683",
    "time": "2021-02-04T02:44:19.777Z",
    "type": "completion"
   },
   {
    "id": "a40b23e031654f2690a1a4776a30e6fb",
    "time": "2021-02-04T02:44:19.783Z",
    "type": "completion"
   },
   {
    "id": "7b7dcda608b94ba78f6ba9d5cd98c4e9",
    "time": "2021-02-04T02:45:05.138Z",
    "type": "completion"
   },
   {
    "id": "ef510349c8bc4b3a9ecc4fe7456dd360",
    "time": "2021-02-04T02:45:05.141Z",
    "type": "completion"
   },
   {
    "id": "becd67d6e6434a868da19c91c98cbf11",
    "time": "2021-02-04T02:45:05.164Z",
    "type": "completion"
   },
   {
    "id": "b6f3c08ad4df451a8e453136d6128f62",
    "time": "2021-02-04T02:45:05.198Z",
    "type": "completion"
   },
   {
    "id": "1f720fa9724a436a92a97fef64c5d350",
    "time": "2021-02-04T02:45:05.203Z",
    "type": "completion"
   },
   {
    "id": "dcff9a0d000d40a08bf5c99e7444e074",
    "time": "2021-02-04T02:45:24.120Z",
    "type": "completion"
   },
   {
    "id": "330230a2f5a549a6838d7c3620fd168a",
    "time": "2021-02-04T02:45:24.146Z",
    "type": "completion"
   },
   {
    "id": "afd5fdc4aafe4cc28856ec846b4db1cc",
    "time": "2021-02-04T02:45:25.225Z",
    "type": "completion"
   },
   {
    "id": "61973dadb49e47069e83e8ff31d26d04",
    "time": "2021-02-04T02:45:25.228Z",
    "type": "completion"
   },
   {
    "id": "e95ebb0bccb348f487373702614f27b7",
    "time": "2021-02-04T02:45:25.270Z",
    "type": "completion"
   },
   {
    "id": "6477caf541e6458ba5f7c94a5494616b",
    "time": "2021-02-04T02:45:25.272Z",
    "type": "completion"
   },
   {
    "id": "615d52380984452b938f711b64759402",
    "time": "2021-02-04T02:45:25.408Z",
    "type": "completion"
   },
   {
    "id": "d57ae72af4be48968b5115629a4e4a38",
    "time": "2021-02-04T02:45:25.411Z",
    "type": "completion"
   },
   {
    "id": "4c5c7be5e1eb465c830052ce19d675df",
    "time": "2021-02-04T02:45:25.440Z",
    "type": "completion"
   },
   {
    "id": "814a31a9203847b7ac460335c5705d33",
    "time": "2021-02-04T02:45:25.465Z",
    "type": "completion"
   },
   {
    "id": "05e49155a9e74cf38cc6353c24aa96b3",
    "time": "2021-02-04T02:45:25.915Z",
    "type": "completion"
   },
   {
    "id": "b1d6f41c752e42d3b948364b5c60c17f",
    "time": "2021-02-04T02:45:25.931Z",
    "type": "completion"
   },
   {
    "id": "28aa12008dd5424b851aa4cceec42bfb",
    "time": "2021-02-04T02:45:25.959Z",
    "type": "completion"
   },
   {
    "id": "0c988671d71549858bb1a027c6e0f791",
    "time": "2021-02-04T02:45:25.961Z",
    "type": "completion"
   },
   {
    "id": "5d229a15d64f464b8e6c7c7ed68d0655",
    "time": "2021-02-04T02:45:25.989Z",
    "type": "completion"
   },
   {
    "id": "786b3b70962f43b1b9811bc78db54080",
    "time": "2021-02-04T02:45:26.107Z",
    "type": "completion"
   },
   {
    "id": "b6ff75278b854301844a790335081e3c",
    "time": "2021-02-04T02:45:27.543Z",
    "type": "completion"
   },
   {
    "id": "b6ce14c1a07d47b6a089c725e64710ab",
    "time": "2021-02-04T02:45:29.397Z",
    "type": "completion"
   },
   {
    "id": "142433c172c5479cb3b43b30ae34dc0f",
    "time": "2021-02-04T02:45:29.663Z",
    "type": "completion"
   },
   {
    "code": "import numpy as np\nimport matplotlib.pyplot as plt\nimport pandas as pd\n%matplotlib inline",
    "id": "c74b74335be74cafb2cef0506bdd09e8",
    "idx": 5,
    "time": "2021-02-04T06:11:45.379Z",
    "type": "execution"
   },
   {
    "code": "fruit_info = pd.DataFrame(\n    data = {'fruit': ['apple', 'orange', 'banana', 'raspberry'],\n          'color': ['red', 'orange', 'yellow', 'pink']\n          })\nfruit_info",
    "id": "e40f850fc57243dcb308d7631949f4a9",
    "idx": 8,
    "time": "2021-02-04T06:11:45.385Z",
    "type": "execution"
   },
   {
    "code": "fruit_info2 = pd.DataFrame(\n    [(\"red\", \"apple\"), (\"orange\", \"orange\"), (\"yellow\", \"banana\"),\n     (\"pink\", \"raspberry\")], \n    columns = [\"color\", \"fruit\"])\nfruit_info2",
    "id": "18388906fbea4d2782b3484f8edb2555",
    "idx": 10,
    "time": "2021-02-04T06:11:45.388Z",
    "type": "execution"
   },
   {
    "code": "fruit_info.shape",
    "id": "e26d233852504737966a8a5871bfda0a",
    "idx": 12,
    "time": "2021-02-04T06:11:45.391Z",
    "type": "execution"
   },
   {
    "code": "fruit_info.values",
    "id": "3adc33bfa92644529205f34611f7314c",
    "idx": 14,
    "time": "2021-02-04T06:11:45.394Z",
    "type": "execution"
   },
   {
    "code": "# BEGIN SOLUTION\nfruit_info[\"rank1\"] = [2, 1, 4, 3]\n# END SOLUTION\nfruit_info",
    "id": "2ee50d407b984d7b8646e599d3f356fa",
    "idx": 16,
    "time": "2021-02-04T06:11:45.396Z",
    "type": "execution"
   },
   {
    "code": "# TEST \nfruit_info[\"rank1\"].dtype",
    "id": "7bccca9ee4b94cb38cd7a6e5a5bd1a68",
    "idx": 17,
    "time": "2021-02-04T06:11:45.398Z",
    "type": "execution"
   },
   {
    "code": "# TEST\nsorted(fruit_info[\"rank1\"].dropna())",
    "id": "bff72801da02409eb0a96b6f500771d7",
    "idx": 18,
    "time": "2021-02-04T06:11:45.400Z",
    "type": "execution"
   },
   {
    "code": "# BEGIN SOLUTION\nfruit_info.loc[:, \"rank2\"] = [2, 1, 4, 3]\n# END SOLUTION\nfruit_info",
    "id": "883ff4981cb24ca18ea00872a38acb58",
    "idx": 20,
    "time": "2021-02-04T06:11:45.402Z",
    "type": "execution"
   },
   {
    "code": "# TEST \nfruit_info[\"rank2\"].dtype",
    "id": "837110aeb4164d3184e5e1c9ba684704",
    "idx": 21,
    "time": "2021-02-04T06:11:45.404Z",
    "type": "execution"
   },
   {
    "code": "# TEST\nfruit_info[\"rank2\"] == fruit_info[\"rank1\"]",
    "id": "7cca13836c6b4292bb180754e833a567",
    "idx": 22,
    "time": "2021-02-04T06:11:45.405Z",
    "type": "execution"
   },
   {
    "code": "fruit_info_original = fruit_info.drop([\"rank1\", \"rank2\"], axis = 1) # SOLUTION\nfruit_info_original",
    "id": "4005a8cd0736483b84f669d7a4a7aa09",
    "idx": 24,
    "time": "2021-02-04T06:11:45.408Z",
    "type": "execution"
   },
   {
    "code": "# TEST\nfruit_info_original.shape",
    "id": "29b72437a6e244b08a82d36a9267080a",
    "idx": 25,
    "time": "2021-02-04T06:11:45.410Z",
    "type": "execution"
   },
   {
    "code": "# TEST\nfruit_info.shape",
    "id": "f87ed6a6034245b8b9e2d6cc8b7677dd",
    "idx": 26,
    "time": "2021-02-04T06:11:45.412Z",
    "type": "execution"
   },
   {
    "code": "# TEST\nfruit_info_original.columns",
    "id": "5af6c5e3db2e45738ac874dcad581fb5",
    "idx": 27,
    "time": "2021-02-04T06:11:45.413Z",
    "type": "execution"
   },
   {
    "code": "# BEGIN SOLUTION\nfruit_info_caps = fruit_info_original.rename(columns = {\"color\": \"Color\", \"fruit\": \"Fruit\"})\n# END SOLUTION\nfruit_info_caps",
    "id": "7f64cdafa00e4a4e894153d5cbd6e496",
    "idx": 29,
    "time": "2021-02-04T06:11:45.415Z",
    "type": "execution"
   },
   {
    "code": "# TEST\nfruit_info_caps.columns",
    "id": "2a3ceaca6a434b4386b12a4698df973b",
    "idx": 30,
    "time": "2021-02-04T06:11:45.418Z",
    "type": "execution"
   },
   {
    "code": "# TEST\nfruit_info.columns",
    "id": "eaef8dfb97854da1baaca66feabc7205",
    "idx": 31,
    "time": "2021-02-04T06:11:45.420Z",
    "type": "execution"
   },
   {
    "code": "import requests\nfrom pathlib import Path\n\ndef fetch_and_cache(data_url, file, data_dir=\"data\", force=False):\n    \"\"\"\n    Download and cache a url and return the file object.\n    \n    data_url: the web address to download\n    file: the file in which to save the results.\n    data_dir: (default=\"data\") the location to save the data\n    force: if true the file is always re-downloaded \n    \n    return: The pathlib.Path to the file.\n    \"\"\"\n    data_dir = Path(data_dir)\n    data_dir.mkdir(exist_ok=True)\n    file_path = data_dir/Path(file)\n    if force and file_path.exists():\n        file_path.unlink()\n    if force or not file_path.exists():\n        print('Downloading...', end=' ')\n        resp = requests.get(data_url)\n        with file_path.open('wb') as f:\n            f.write(resp.content)\n        print('Done!')\n    else:\n        import time \n        created = time.ctime(file_path.stat().st_ctime)\n        print(\"Using cached version downloaded at\", created)\n    return file_path",
    "id": "63d3ab13114b4b6e819ff65fcf362d74",
    "idx": 34,
    "time": "2021-02-04T06:11:45.422Z",
    "type": "execution"
   },
   {
    "code": "data_url = 'https://www.ssa.gov/oact/babynames/state/namesbystate.zip'\nnamesbystate_path = fetch_and_cache(data_url, 'namesbystate.zip')",
    "id": "f207397687034c5f8b4a2f8e15bcb721",
    "idx": 37,
    "time": "2021-02-04T06:11:45.425Z",
    "type": "execution"
   },
   {
    "code": "import zipfile\nzf = zipfile.ZipFile(namesbystate_path, 'r')\n\ncolumn_labels = ['State', 'Sex', 'Year', 'Name', 'Count']\n\ndef load_dataframe_from_zip(zf, f):\n    with zf.open(f) as fh: \n        return pd.read_csv(fh, header=None, names=column_labels)\n\nstates = [\n    load_dataframe_from_zip(zf, f)\n    for f in sorted(zf.filelist, key=lambda x:x.filename) \n    if f.filename.endswith('.TXT')\n]\n\nbaby_names = states[0]\nfor state_df in states[1:]:\n    baby_names = pd.concat([baby_names, state_df])\nbaby_names = baby_names.reset_index().iloc[:, 1:]",
    "id": "a778ab8acba7449d80bb965107a41527",
    "idx": 39,
    "time": "2021-02-04T06:11:45.428Z",
    "type": "execution"
   },
   {
    "code": "len(baby_names)",
    "id": "8a8b144a3188497e8f6df5c6751d1d01",
    "idx": 40,
    "time": "2021-02-04T06:11:45.430Z",
    "type": "execution"
   },
   {
    "code": "baby_names.head()",
    "id": "da6b44ee1bb54cfb8bb2af5e51080a40",
    "idx": 41,
    "time": "2021-02-04T06:11:45.432Z",
    "type": "execution"
   },
   {
    "code": "baby_names.loc[2:5, 'Name']",
    "id": "cf5287ba3b444a52bc35ec697f427c3f",
    "idx": 44,
    "time": "2021-02-04T06:11:45.434Z",
    "type": "execution"
   },
   {
    "code": "baby_names.loc[2:5, ['Name']]",
    "id": "a2aefb4fa3994c29a7bd8774c038050a",
    "idx": 46,
    "time": "2021-02-04T06:11:45.436Z",
    "type": "execution"
   },
   {
    "code": "sorted_baby_names = baby_names.sort_values(by = ['Name'])\nsorted_baby_names.head()",
    "id": "ae026b7288474acb983abccae3510498",
    "idx": 50,
    "time": "2021-02-04T06:11:45.439Z",
    "type": "execution"
   },
   {
    "code": "sorted_baby_names.iloc[1:4, 3]",
    "id": "bcc61f8c8f74493e9107abf166172b11",
    "idx": 52,
    "time": "2021-02-04T06:11:45.441Z",
    "type": "execution"
   },
   {
    "code": "sorted_baby_names.loc[1:4, \"Name\"]",
    "id": "6e69f803fa9840a389aeb7c423029445",
    "idx": 54,
    "time": "2021-02-04T06:11:45.444Z",
    "type": "execution"
   },
   {
    "code": "df = baby_names[:5].set_index(\"Name\") \ndf",
    "id": "3a56ae28c17e4d52943afb9d921a7618",
    "idx": 56,
    "time": "2021-02-04T06:11:45.446Z",
    "type": "execution"
   },
   {
    "code": "df.loc[['Mary', 'Anna'], :]",
    "id": "fb9476fce6ee4e1782f6f27ad47365bf",
    "idx": 58,
    "time": "2021-02-04T06:11:45.448Z",
    "type": "execution"
   },
   {
    "code": "#Example: \ndf.iloc[1:4, 2:3]",
    "id": "3a477500e29643338cec5d1212fed7aa",
    "idx": 60,
    "time": "2021-02-04T06:11:45.450Z",
    "type": "execution"
   },
   {
    "code": "name_and_year = baby_names.loc[:, ['Name', 'Year']] # SOLUTION\nname_and_year[:5]",
    "id": "a7e16e6056ea4a6693958d1f2b88711e",
    "idx": 62,
    "time": "2021-02-04T06:11:45.452Z",
    "type": "execution"
   },
   {
    "code": "# TEST\nname_and_year.shape",
    "id": "2e4137707420479a97528fe4fe515595",
    "idx": 63,
    "time": "2021-02-04T06:11:45.454Z",
    "type": "execution"
   },
   {
    "code": "# TEST\nname_and_year.loc[0, \"Name\"]",
    "id": "0d6610be7fe74645aeecb59a54fd77bb",
    "idx": 64,
    "time": "2021-02-04T06:11:45.457Z",
    "type": "execution"
   },
   {
    "code": "# TEST\nname_and_year.loc[0, \"Year\"]",
    "id": "fd48d8f2e1974853863843cf10275189",
    "idx": 65,
    "time": "2021-02-04T06:11:45.459Z",
    "type": "execution"
   },
   {
    "code": "ca = baby_names[baby_names['State'] == 'CA']",
    "id": "a3e0cf9a9dd7492788e751b86652b1b2",
    "idx": 70,
    "time": "2021-02-04T06:11:45.462Z",
    "type": "execution"
   },
   {
    "code": "result = baby_names[(baby_names[\"Year\"] == 2000) & (baby_names[\"Count\"] > 3000)] # SOLUTION\nresult.head()",
    "id": "c91db35e7f494def884e30a051a0d933",
    "idx": 72,
    "time": "2021-02-04T06:11:45.465Z",
    "type": "execution"
   },
   {
    "code": "# TEST\nlen(result)",
    "id": "40b721184986425aaf3817abd2c78fa3",
    "idx": 73,
    "time": "2021-02-04T06:11:45.467Z",
    "type": "execution"
   },
   {
    "code": "# TEST\nresult[\"Count\"].sum()",
    "id": "8ffe1d10dbba47309057a0cace474bbd",
    "idx": 74,
    "time": "2021-02-04T06:11:45.468Z",
    "type": "execution"
   },
   {
    "code": "# TEST\nresult[\"Count\"].iloc[0]",
    "id": "8f96b3c7aa8543c99b91f6e27dcaa747",
    "idx": 75,
    "time": "2021-02-04T06:11:45.470Z",
    "type": "execution"
   },
   {
    "code": "result_using_query = baby_names.query('Year == 2000 and Count > 3000') # SOLUTION",
    "id": "8e595c183af847fcb82f803009554050",
    "idx": 77,
    "time": "2021-02-04T06:11:45.472Z",
    "type": "execution"
   },
   {
    "code": "hillary_baby_name = baby_names[(baby_names['Name'] == 'Hillary') & (baby_names['State'] == 'CA') & (baby_names['Sex'] == 'F')]\nplt.plot(hillary_baby_name['Year'], hillary_baby_name['Count'])\nplt.title(\"Hillary Popularity Over Time\")\nplt.xlabel('Year')\nplt.ylabel('Count');",
    "id": "782f8dd75bb5465c9f9747207d957976",
    "idx": 79,
    "time": "2021-02-04T06:11:45.474Z",
    "type": "execution"
   },
   {
    "code": "counts_aggregated_by_name_and_year = baby_names.groupby([\"Name\", \"Year\"])[\"Count\"].sum().reset_index()",
    "id": "b3d80c91c78a4f519edf182b05b66da7",
    "idx": 83,
    "time": "2021-02-04T06:11:45.477Z",
    "type": "execution"
   },
   {
    "code": "name_of_interest = 'Hillary'\nchosen_baby_name = counts_aggregated_by_name_and_year.query(\"Name == @name_of_interest\")\nplt.plot(chosen_baby_name['Year'], chosen_baby_name['Count'])\nplt.title(f\"Popularity Of {name_of_interest} Over Time\")\nplt.xlabel('Year')\nplt.ylabel('Count');",
    "id": "3460874f61af429d830cb523c58bb28d",
    "idx": 84,
    "time": "2021-02-04T06:11:45.479Z",
    "type": "execution"
   },
   {
    "id": "c74b74335be74cafb2cef0506bdd09e8",
    "time": "2021-02-04T06:11:46.188Z",
    "type": "completion"
   },
   {
    "id": "e40f850fc57243dcb308d7631949f4a9",
    "time": "2021-02-04T06:11:46.221Z",
    "type": "completion"
   },
   {
    "id": "18388906fbea4d2782b3484f8edb2555",
    "time": "2021-02-04T06:11:46.236Z",
    "type": "completion"
   },
   {
    "id": "e26d233852504737966a8a5871bfda0a",
    "time": "2021-02-04T06:11:46.242Z",
    "type": "completion"
   },
   {
    "id": "3adc33bfa92644529205f34611f7314c",
    "time": "2021-02-04T06:11:46.290Z",
    "type": "completion"
   },
   {
    "id": "2ee50d407b984d7b8646e599d3f356fa",
    "time": "2021-02-04T06:11:46.297Z",
    "type": "completion"
   },
   {
    "id": "7bccca9ee4b94cb38cd7a6e5a5bd1a68",
    "time": "2021-02-04T06:11:46.324Z",
    "type": "completion"
   },
   {
    "id": "bff72801da02409eb0a96b6f500771d7",
    "time": "2021-02-04T06:11:46.331Z",
    "type": "completion"
   },
   {
    "id": "883ff4981cb24ca18ea00872a38acb58",
    "time": "2021-02-04T06:11:46.358Z",
    "type": "completion"
   },
   {
    "id": "837110aeb4164d3184e5e1c9ba684704",
    "time": "2021-02-04T06:11:46.387Z",
    "type": "completion"
   },
   {
    "id": "7cca13836c6b4292bb180754e833a567",
    "time": "2021-02-04T06:11:46.409Z",
    "type": "completion"
   },
   {
    "id": "4005a8cd0736483b84f669d7a4a7aa09",
    "time": "2021-02-04T06:11:46.435Z",
    "type": "completion"
   },
   {
    "id": "29b72437a6e244b08a82d36a9267080a",
    "time": "2021-02-04T06:11:46.476Z",
    "type": "completion"
   },
   {
    "id": "f87ed6a6034245b8b9e2d6cc8b7677dd",
    "time": "2021-02-04T06:11:46.482Z",
    "type": "completion"
   },
   {
    "id": "5af6c5e3db2e45738ac874dcad581fb5",
    "time": "2021-02-04T06:11:46.484Z",
    "type": "completion"
   },
   {
    "id": "7f64cdafa00e4a4e894153d5cbd6e496",
    "time": "2021-02-04T06:11:46.508Z",
    "type": "completion"
   },
   {
    "id": "2a3ceaca6a434b4386b12a4698df973b",
    "time": "2021-02-04T06:11:46.570Z",
    "type": "completion"
   },
   {
    "id": "eaef8dfb97854da1baaca66feabc7205",
    "time": "2021-02-04T06:11:46.577Z",
    "type": "completion"
   },
   {
    "id": "63d3ab13114b4b6e819ff65fcf362d74",
    "time": "2021-02-04T06:11:46.679Z",
    "type": "completion"
   },
   {
    "id": "f207397687034c5f8b4a2f8e15bcb721",
    "time": "2021-02-04T06:11:46.701Z",
    "type": "completion"
   },
   {
    "code": "import numpy as np\nimport matplotlib.pyplot as plt\nimport pandas as pd\n%matplotlib inline",
    "id": "7b660a01249d442dbeb2ef32825c1099",
    "idx": 5,
    "time": "2021-02-04T06:13:56.664Z",
    "type": "execution"
   },
   {
    "code": "fruit_info = pd.DataFrame(\n    data = {'fruit': ['apple', 'orange', 'banana', 'raspberry'],\n          'color': ['red', 'orange', 'yellow', 'pink']\n          })\nfruit_info",
    "id": "92734850f06f431199903e7bef1ea3e8",
    "idx": 8,
    "time": "2021-02-04T06:13:56.671Z",
    "type": "execution"
   },
   {
    "code": "fruit_info2 = pd.DataFrame(\n    [(\"red\", \"apple\"), (\"orange\", \"orange\"), (\"yellow\", \"banana\"),\n     (\"pink\", \"raspberry\")], \n    columns = [\"color\", \"fruit\"])\nfruit_info2",
    "id": "c6847e7fe0c54438870be60ffc861917",
    "idx": 10,
    "time": "2021-02-04T06:13:56.674Z",
    "type": "execution"
   },
   {
    "code": "fruit_info.shape",
    "id": "59d1b18678484ad7ac570b4aaeaa4daf",
    "idx": 12,
    "time": "2021-02-04T06:13:56.678Z",
    "type": "execution"
   },
   {
    "code": "fruit_info.values",
    "id": "70e0ff20d2c64518a565a407c8d1630c",
    "idx": 14,
    "time": "2021-02-04T06:13:56.681Z",
    "type": "execution"
   },
   {
    "code": "# BEGIN SOLUTION\nfruit_info[\"rank1\"] = [2, 1, 4, 3]\n# END SOLUTION\nfruit_info",
    "id": "09a02498ec8e4b3c9a0f8e25464ba113",
    "idx": 16,
    "time": "2021-02-04T06:13:56.684Z",
    "type": "execution"
   },
   {
    "code": "# TEST \nfruit_info[\"rank1\"].dtype",
    "id": "01a96be3dcc94b01b5ceb884962eb97c",
    "idx": 17,
    "time": "2021-02-04T06:13:56.686Z",
    "type": "execution"
   },
   {
    "code": "# TEST\nsorted(fruit_info[\"rank1\"].dropna())",
    "id": "7ff3169084c14e1683391fb4df97e96a",
    "idx": 18,
    "time": "2021-02-04T06:13:56.689Z",
    "type": "execution"
   },
   {
    "code": "# BEGIN SOLUTION\nfruit_info.loc[:, \"rank2\"] = [2, 1, 4, 3]\n# END SOLUTION\nfruit_info",
    "id": "f494975da3284fb4891fb8ae1b48d62a",
    "idx": 20,
    "time": "2021-02-04T06:13:56.692Z",
    "type": "execution"
   },
   {
    "code": "# TEST \nfruit_info[\"rank2\"].dtype",
    "id": "827c8bfd11144c5f8227446c29f76584",
    "idx": 21,
    "time": "2021-02-04T06:13:56.694Z",
    "type": "execution"
   },
   {
    "code": "# TEST\nfruit_info[\"rank2\"] == fruit_info[\"rank1\"]",
    "id": "b6f3b1c43ee744ce8d44b9f2d1b3ff16",
    "idx": 22,
    "time": "2021-02-04T06:13:56.697Z",
    "type": "execution"
   },
   {
    "code": "fruit_info_original = fruit_info.drop([\"rank1\", \"rank2\"], axis = 1) # SOLUTION\nfruit_info_original",
    "id": "36682426fc7740a38df759fe0ec298ef",
    "idx": 24,
    "time": "2021-02-04T06:13:56.699Z",
    "type": "execution"
   },
   {
    "code": "# TEST\nfruit_info_original.shape",
    "id": "717f84764cd4424384e1b6fd4d7c315c",
    "idx": 25,
    "time": "2021-02-04T06:13:56.701Z",
    "type": "execution"
   },
   {
    "code": "# TEST\nfruit_info.shape",
    "id": "1ef51d36780d405f9a29940a5783e87c",
    "idx": 26,
    "time": "2021-02-04T06:13:56.703Z",
    "type": "execution"
   },
   {
    "code": "# TEST\nfruit_info_original.columns",
    "id": "8405ea93faf2469489566aa439c95462",
    "idx": 27,
    "time": "2021-02-04T06:13:56.706Z",
    "type": "execution"
   },
   {
    "code": "# BEGIN SOLUTION\nfruit_info_caps = fruit_info_original.rename(columns = {\"color\": \"Color\", \"fruit\": \"Fruit\"})\n# END SOLUTION\nfruit_info_caps",
    "id": "9e806901ae1b4c3b86b2ae666c382118",
    "idx": 29,
    "time": "2021-02-04T06:13:56.708Z",
    "type": "execution"
   },
   {
    "code": "# TEST\nfruit_info_caps.columns",
    "id": "8bf5aa1e84c549a9812a59adb54d9bdf",
    "idx": 30,
    "time": "2021-02-04T06:13:56.711Z",
    "type": "execution"
   },
   {
    "code": "# TEST\nfruit_info.columns",
    "id": "b8e9320a4d3f44fd988bafc76ff46c93",
    "idx": 31,
    "time": "2021-02-04T06:13:56.713Z",
    "type": "execution"
   },
   {
    "code": "import requests\nfrom pathlib import Path\n\ndef fetch_and_cache(data_url, file, data_dir=\"data\", force=False):\n    \"\"\"\n    Download and cache a url and return the file object.\n    \n    data_url: the web address to download\n    file: the file in which to save the results.\n    data_dir: (default=\"data\") the location to save the data\n    force: if true the file is always re-downloaded \n    \n    return: The pathlib.Path to the file.\n    \"\"\"\n    data_dir = Path(data_dir)\n    data_dir.mkdir(exist_ok=True)\n    file_path = data_dir/Path(file)\n    if force and file_path.exists():\n        file_path.unlink()\n    if force or not file_path.exists():\n        print('Downloading...', end=' ')\n        resp = requests.get(data_url)\n        with file_path.open('wb') as f:\n            f.write(resp.content)\n        print('Done!')\n    else:\n        import time \n        created = time.ctime(file_path.stat().st_ctime)\n        print(\"Using cached version downloaded at\", created)\n    return file_path",
    "id": "22c1d66c6f5a4af6851512cef0a85155",
    "idx": 34,
    "time": "2021-02-04T06:13:56.715Z",
    "type": "execution"
   },
   {
    "code": "data_url = 'https://www.ssa.gov/oact/babynames/state/namesbystate.zip'\nnamesbystate_path = fetch_and_cache(data_url, 'namesbystate.zip')",
    "id": "9f7fbe3bdff142aa89ff4d138ce63ff4",
    "idx": 37,
    "time": "2021-02-04T06:13:56.718Z",
    "type": "execution"
   },
   {
    "code": "import zipfile\nzf = zipfile.ZipFile(namesbystate_path, 'r')\n\ncolumn_labels = ['State', 'Sex', 'Year', 'Name', 'Count']\n\ndef load_dataframe_from_zip(zf, f):\n    with zf.open(f) as fh: \n        return pd.read_csv(fh, header=None, names=column_labels)\n\nstates = [\n    load_dataframe_from_zip(zf, f)\n    for f in sorted(zf.filelist, key=lambda x:x.filename) \n    if f.filename.endswith('.TXT')\n]\n\nbaby_names = states[0]\nfor state_df in states[1:]:\n    baby_names = pd.concat([baby_names, state_df])\nbaby_names = baby_names.reset_index().iloc[:, 1:]",
    "id": "63d6ba19a0874dca81f09b7655b273dd",
    "idx": 39,
    "time": "2021-02-04T06:13:56.721Z",
    "type": "execution"
   },
   {
    "code": "len(baby_names)",
    "id": "debd7b2ee0844bc3825df495bc233e05",
    "idx": 40,
    "time": "2021-02-04T06:13:56.723Z",
    "type": "execution"
   },
   {
    "code": "baby_names.head()",
    "id": "98c4022e1960468d857ce2068ffded9d",
    "idx": 41,
    "time": "2021-02-04T06:13:56.725Z",
    "type": "execution"
   },
   {
    "code": "baby_names.loc[2:5, 'Name']",
    "id": "a98a03b3e0da4979bdf0c20a76f305ea",
    "idx": 44,
    "time": "2021-02-04T06:13:56.729Z",
    "type": "execution"
   },
   {
    "code": "baby_names.loc[2:5, ['Name']]",
    "id": "ec6d1e0304ee4f18b45150174ba462ac",
    "idx": 46,
    "time": "2021-02-04T06:13:56.731Z",
    "type": "execution"
   },
   {
    "code": "sorted_baby_names = baby_names.sort_values(by = ['Name'])\nsorted_baby_names.head()",
    "id": "c29a829c0ae643d687758a3bd1ffdd0c",
    "idx": 50,
    "time": "2021-02-04T06:13:56.734Z",
    "type": "execution"
   },
   {
    "code": "sorted_baby_names.iloc[1:4, 3]",
    "id": "17240195b76d4610b43e835857f9eeea",
    "idx": 52,
    "time": "2021-02-04T06:13:56.736Z",
    "type": "execution"
   },
   {
    "code": "sorted_baby_names.loc[1:4, \"Name\"]",
    "id": "8a94f564ead24c6f828a494e22b421b7",
    "idx": 54,
    "time": "2021-02-04T06:13:56.739Z",
    "type": "execution"
   },
   {
    "code": "df = baby_names[:5].set_index(\"Name\") \ndf",
    "id": "43ca9f70efbb4ef780f6405f083dff4a",
    "idx": 56,
    "time": "2021-02-04T06:13:56.741Z",
    "type": "execution"
   },
   {
    "code": "df.loc[['Mary', 'Anna'], :]",
    "id": "4707d3773e8b4334815c35927e4dc54f",
    "idx": 58,
    "time": "2021-02-04T06:13:56.743Z",
    "type": "execution"
   },
   {
    "code": "#Example: \ndf.iloc[1:4, 2:3]",
    "id": "98bc07c468da497ca86bf2442189ce9e",
    "idx": 60,
    "time": "2021-02-04T06:13:56.747Z",
    "type": "execution"
   },
   {
    "code": "name_and_year = baby_names.loc[:, ['Name', 'Year']] # SOLUTION\nname_and_year[:5]",
    "id": "956873a920c54923b6bb7399d4da0f5a",
    "idx": 62,
    "time": "2021-02-04T06:13:56.749Z",
    "type": "execution"
   },
   {
    "code": "# TEST\nname_and_year.shape",
    "id": "22d1ce2b68904422b85ca89efaef865b",
    "idx": 63,
    "time": "2021-02-04T06:13:56.752Z",
    "type": "execution"
   },
   {
    "code": "# TEST\nname_and_year.loc[0, \"Name\"]",
    "id": "eeeb51a86d554bbe9da7ac986395c11a",
    "idx": 64,
    "time": "2021-02-04T06:13:56.754Z",
    "type": "execution"
   },
   {
    "code": "# TEST\nname_and_year.loc[0, \"Year\"]",
    "id": "6f615b773ec44441a664997ce8c726d3",
    "idx": 65,
    "time": "2021-02-04T06:13:56.759Z",
    "type": "execution"
   },
   {
    "code": "ca = baby_names[baby_names['State'] == 'CA']",
    "id": "fb2e3be7e93a4f64974d668d5d332f8b",
    "idx": 70,
    "time": "2021-02-04T06:13:56.762Z",
    "type": "execution"
   },
   {
    "code": "result = baby_names[(baby_names[\"Year\"] == 2000) & (baby_names[\"Count\"] > 3000)] # SOLUTION\nresult.head()",
    "id": "b1cc434a7e94432e8afc5ec431492c29",
    "idx": 72,
    "time": "2021-02-04T06:13:56.764Z",
    "type": "execution"
   },
   {
    "code": "# TEST\nlen(result)",
    "id": "25191514114140af87c10fb6920ab3a0",
    "idx": 73,
    "time": "2021-02-04T06:13:56.766Z",
    "type": "execution"
   },
   {
    "code": "# TEST\nresult[\"Count\"].sum()",
    "id": "86c535b956c341cc89e22369829564e5",
    "idx": 74,
    "time": "2021-02-04T06:13:56.768Z",
    "type": "execution"
   },
   {
    "code": "# TEST\nresult[\"Count\"].iloc[0]",
    "id": "8da6f9c06df74c878c9ed6febfab1ab5",
    "idx": 75,
    "time": "2021-02-04T06:13:56.770Z",
    "type": "execution"
   },
   {
    "code": "result_using_query = baby_names.query('Year == 2000 and Count > 3000') # SOLUTION",
    "id": "0049364fb3fa43808938d9a80385965a",
    "idx": 77,
    "time": "2021-02-04T06:13:56.773Z",
    "type": "execution"
   },
   {
    "code": "hillary_baby_name = baby_names[(baby_names['Name'] == 'Hillary') & (baby_names['State'] == 'CA') & (baby_names['Sex'] == 'F')]\nplt.plot(hillary_baby_name['Year'], hillary_baby_name['Count'])\nplt.title(\"Hillary Popularity Over Time\")\nplt.xlabel('Year')\nplt.ylabel('Count');",
    "id": "5c0f6a6fd44c483b893621fb0910cf47",
    "idx": 79,
    "time": "2021-02-04T06:13:56.775Z",
    "type": "execution"
   },
   {
    "code": "counts_aggregated_by_name_and_year = baby_names.groupby([\"Name\", \"Year\"])[\"Count\"].sum().reset_index()",
    "id": "5e989ba712f4418d92853449c0ceafe9",
    "idx": 83,
    "time": "2021-02-04T06:13:56.778Z",
    "type": "execution"
   },
   {
    "code": "name_of_interest = 'Hillary'\nchosen_baby_name = counts_aggregated_by_name_and_year.query(\"Name == @name_of_interest\")\nplt.plot(chosen_baby_name['Year'], chosen_baby_name['Count'])\nplt.title(f\"Popularity Of {name_of_interest} Over Time\")\nplt.xlabel('Year')\nplt.ylabel('Count');",
    "id": "d250f57c65424f4f9d0b5fc09178b043",
    "idx": 84,
    "time": "2021-02-04T06:13:56.779Z",
    "type": "execution"
   },
   {
    "id": "7b660a01249d442dbeb2ef32825c1099",
    "time": "2021-02-04T06:13:57.362Z",
    "type": "completion"
   },
   {
    "id": "92734850f06f431199903e7bef1ea3e8",
    "time": "2021-02-04T06:13:57.381Z",
    "type": "completion"
   },
   {
    "id": "c6847e7fe0c54438870be60ffc861917",
    "time": "2021-02-04T06:13:57.418Z",
    "type": "completion"
   },
   {
    "id": "59d1b18678484ad7ac570b4aaeaa4daf",
    "time": "2021-02-04T06:13:57.424Z",
    "type": "completion"
   },
   {
    "id": "70e0ff20d2c64518a565a407c8d1630c",
    "time": "2021-02-04T06:13:57.468Z",
    "type": "completion"
   },
   {
    "id": "09a02498ec8e4b3c9a0f8e25464ba113",
    "time": "2021-02-04T06:13:57.478Z",
    "type": "completion"
   },
   {
    "id": "01a96be3dcc94b01b5ceb884962eb97c",
    "time": "2021-02-04T06:13:57.523Z",
    "type": "completion"
   },
   {
    "id": "7ff3169084c14e1683391fb4df97e96a",
    "time": "2021-02-04T06:13:57.527Z",
    "type": "completion"
   },
   {
    "id": "f494975da3284fb4891fb8ae1b48d62a",
    "time": "2021-02-04T06:13:57.576Z",
    "type": "completion"
   },
   {
    "id": "827c8bfd11144c5f8227446c29f76584",
    "time": "2021-02-04T06:13:57.580Z",
    "type": "completion"
   },
   {
    "id": "b6f3b1c43ee744ce8d44b9f2d1b3ff16",
    "time": "2021-02-04T06:13:57.604Z",
    "type": "completion"
   },
   {
    "id": "36682426fc7740a38df759fe0ec298ef",
    "time": "2021-02-04T06:13:57.629Z",
    "type": "completion"
   },
   {
    "id": "717f84764cd4424384e1b6fd4d7c315c",
    "time": "2021-02-04T06:13:57.654Z",
    "type": "completion"
   },
   {
    "id": "1ef51d36780d405f9a29940a5783e87c",
    "time": "2021-02-04T06:13:57.678Z",
    "type": "completion"
   },
   {
    "id": "8405ea93faf2469489566aa439c95462",
    "time": "2021-02-04T06:13:57.682Z",
    "type": "completion"
   },
   {
    "id": "9e806901ae1b4c3b86b2ae666c382118",
    "time": "2021-02-04T06:13:57.714Z",
    "type": "completion"
   },
   {
    "id": "8bf5aa1e84c549a9812a59adb54d9bdf",
    "time": "2021-02-04T06:13:57.741Z",
    "type": "completion"
   },
   {
    "id": "b8e9320a4d3f44fd988bafc76ff46c93",
    "time": "2021-02-04T06:13:57.743Z",
    "type": "completion"
   },
   {
    "id": "22c1d66c6f5a4af6851512cef0a85155",
    "time": "2021-02-04T06:13:57.817Z",
    "type": "completion"
   },
   {
    "id": "9f7fbe3bdff142aa89ff4d138ce63ff4",
    "time": "2021-02-04T06:14:07.599Z",
    "type": "completion"
   },
   {
    "id": "63d6ba19a0874dca81f09b7655b273dd",
    "time": "2021-02-04T06:14:48.579Z",
    "type": "completion"
   },
   {
    "id": "debd7b2ee0844bc3825df495bc233e05",
    "time": "2021-02-04T06:14:48.583Z",
    "type": "completion"
   },
   {
    "id": "98c4022e1960468d857ce2068ffded9d",
    "time": "2021-02-04T06:14:48.614Z",
    "type": "completion"
   },
   {
    "id": "a98a03b3e0da4979bdf0c20a76f305ea",
    "time": "2021-02-04T06:14:48.618Z",
    "type": "completion"
   },
   {
    "id": "ec6d1e0304ee4f18b45150174ba462ac",
    "time": "2021-02-04T06:14:48.626Z",
    "type": "completion"
   },
   {
    "id": "c29a829c0ae643d687758a3bd1ffdd0c",
    "time": "2021-02-04T06:15:07.634Z",
    "type": "completion"
   },
   {
    "id": "17240195b76d4610b43e835857f9eeea",
    "time": "2021-02-04T06:15:07.640Z",
    "type": "completion"
   },
   {
    "id": "8a94f564ead24c6f828a494e22b421b7",
    "time": "2021-02-04T06:15:08.448Z",
    "type": "completion"
   },
   {
    "id": "43ca9f70efbb4ef780f6405f083dff4a",
    "time": "2021-02-04T06:15:08.453Z",
    "type": "completion"
   },
   {
    "id": "4707d3773e8b4334815c35927e4dc54f",
    "time": "2021-02-04T06:15:08.479Z",
    "type": "completion"
   },
   {
    "id": "98bc07c468da497ca86bf2442189ce9e",
    "time": "2021-02-04T06:15:08.482Z",
    "type": "completion"
   },
   {
    "id": "956873a920c54923b6bb7399d4da0f5a",
    "time": "2021-02-04T06:15:08.585Z",
    "type": "completion"
   },
   {
    "id": "22d1ce2b68904422b85ca89efaef865b",
    "time": "2021-02-04T06:15:08.610Z",
    "type": "completion"
   },
   {
    "id": "eeeb51a86d554bbe9da7ac986395c11a",
    "time": "2021-02-04T06:15:08.659Z",
    "type": "completion"
   },
   {
    "id": "6f615b773ec44441a664997ce8c726d3",
    "time": "2021-02-04T06:15:08.662Z",
    "type": "completion"
   },
   {
    "id": "fb2e3be7e93a4f64974d668d5d332f8b",
    "time": "2021-02-04T06:15:09.160Z",
    "type": "completion"
   },
   {
    "id": "b1cc434a7e94432e8afc5ec431492c29",
    "time": "2021-02-04T06:15:09.191Z",
    "type": "completion"
   },
   {
    "id": "25191514114140af87c10fb6920ab3a0",
    "time": "2021-02-04T06:15:09.217Z",
    "type": "completion"
   },
   {
    "id": "86c535b956c341cc89e22369829564e5",
    "time": "2021-02-04T06:15:09.253Z",
    "type": "completion"
   },
   {
    "id": "8da6f9c06df74c878c9ed6febfab1ab5",
    "time": "2021-02-04T06:15:09.289Z",
    "type": "completion"
   },
   {
    "id": "0049364fb3fa43808938d9a80385965a",
    "time": "2021-02-04T06:15:09.469Z",
    "type": "completion"
   },
   {
    "id": "5c0f6a6fd44c483b893621fb0910cf47",
    "time": "2021-02-04T06:15:10.960Z",
    "type": "completion"
   },
   {
    "id": "5e989ba712f4418d92853449c0ceafe9",
    "time": "2021-02-04T06:15:14.163Z",
    "type": "completion"
   },
   {
    "id": "d250f57c65424f4f9d0b5fc09178b043",
    "time": "2021-02-04T06:15:14.431Z",
    "type": "completion"
   },
   {
    "code": "from IPython.display import YouTubeVideo\nYouTubeVideo(\"_TCClJFP7dM\")",
    "id": "3ee109cc676143ea8cb9e2f0baa14736",
    "idx": 4,
    "time": "2021-02-05T22:39:20.163Z",
    "type": "execution"
   },
   {
    "id": "3ee109cc676143ea8cb9e2f0baa14736",
    "time": "2021-02-05T22:39:21.125Z",
    "type": "completion"
   }
  ],
  "kernelspec": {
   "display_name": "Python 3",
   "language": "python",
   "name": "python3"
  },
  "language_info": {
   "codemirror_mode": {
    "name": "ipython",
    "version": 3
   },
   "file_extension": ".py",
   "mimetype": "text/x-python",
   "name": "python",
   "nbconvert_exporter": "python",
   "pygments_lexer": "ipython3",
   "version": "3.8.8"
  }
 },
 "nbformat": 4,
 "nbformat_minor": 4
}
