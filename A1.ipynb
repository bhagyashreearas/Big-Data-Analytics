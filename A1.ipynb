{
 "cells": [
  {
   "cell_type": "markdown",
   "metadata": {
    "id": "YPCiIkAQqBM3",
    "nbgrader": {
     "grade": false,
     "grade_id": "intro",
     "locked": true,
     "schema_version": 2,
     "solution": false
    }
   },
   "source": [
    "# Assignment 1\n",
    "\n",
    "This assignment is meant to help you familiarize yourself with Jupyter Notebook, review Python and `numpy`, and introduce you to `matplotlib`, a Python visualization library. \n",
    "\n",
    "To receive credit, answer all questions correctly and submit to Canvas before the deadline.\n",
    "\n",
    "**This assignment is due Tuesday, Oct. 12 at 11:59 PM.**"
   ]
  },
  {
   "cell_type": "markdown",
   "metadata": {
    "id": "2ubOP7WIyJaj"
   },
   "source": [
    "**YOUR FULL NAME (1 POINT)**: *Bhagyashree Aras*"
   ]
  },
  {
   "cell_type": "markdown",
   "metadata": {
    "id": "-iX4wlC7qBM4"
   },
   "source": [
    "### Collaboration Policy\n",
    "\n",
    "Data science is a collaborative activity. While you may talk with others about the assignment, we ask that you **write your solutions individually**. If you do discuss the assignments with others please **include their names** below. (That's a good way to learn your classmates' names.)"
   ]
  },
  {
   "cell_type": "markdown",
   "metadata": {
    "id": "uAZav0BiqBM5"
   },
   "source": [
    "**Collaborators**: *list collaborators here*"
   ]
  },
  {
   "cell_type": "markdown",
   "metadata": {},
   "source": [
    "### Initialize Grader\n",
    "\n",
    "Go to Terminal and install otter using `pip install otter-grader`\n"
   ]
  },
  {
   "cell_type": "code",
   "execution_count": 1,
   "metadata": {},
   "outputs": [
    {
     "name": "stdout",
     "output_type": "stream",
     "text": [
      "Requirement already satisfied: otter-grader in /opt/conda/lib/python3.8/site-packages (3.1.4)\n",
      "Requirement already satisfied: google-auth-oauthlib in /opt/conda/lib/python3.8/site-packages (from otter-grader) (0.4.1)\n",
      "Requirement already satisfied: pdfkit in /opt/conda/lib/python3.8/site-packages (from otter-grader) (0.6.1)\n",
      "Requirement already satisfied: pandas in /opt/conda/lib/python3.8/site-packages (from otter-grader) (1.2.4)\n",
      "Requirement already satisfied: PyPDF2 in /opt/conda/lib/python3.8/site-packages (from otter-grader) (1.26.0)\n",
      "Requirement already satisfied: dill in /opt/conda/lib/python3.8/site-packages (from otter-grader) (0.3.3)\n",
      "Requirement already satisfied: google-api-python-client in /opt/conda/lib/python3.8/site-packages (from otter-grader) (2.26.1)\n",
      "Requirement already satisfied: matplotlib in /opt/conda/lib/python3.8/site-packages (from otter-grader) (3.4.1)\n",
      "Requirement already satisfied: jupyter-client in /opt/conda/lib/python3.8/site-packages (from otter-grader) (6.1.12)\n",
      "Requirement already satisfied: ipykernel in /opt/conda/lib/python3.8/site-packages (from otter-grader) (5.5.3)\n",
      "Requirement already satisfied: jinja2 in /opt/conda/lib/python3.8/site-packages (from otter-grader) (2.11.3)\n",
      "Requirement already satisfied: gspread in /opt/conda/lib/python3.8/site-packages (from otter-grader) (4.0.1)\n",
      "Requirement already satisfied: PyYAML in /opt/conda/lib/python3.8/site-packages (from otter-grader) (5.4.1)\n",
      "Requirement already satisfied: nbconvert in /opt/conda/lib/python3.8/site-packages (from otter-grader) (6.0.7)\n",
      "Requirement already satisfied: python-on-whales in /opt/conda/lib/python3.8/site-packages (from otter-grader) (0.27.0)\n",
      "Requirement already satisfied: requests in /opt/conda/lib/python3.8/site-packages (from otter-grader) (2.25.1)\n",
      "Requirement already satisfied: nbformat in /opt/conda/lib/python3.8/site-packages (from otter-grader) (5.1.3)\n",
      "Requirement already satisfied: six in /opt/conda/lib/python3.8/site-packages (from otter-grader) (1.15.0)\n",
      "Requirement already satisfied: httplib2<1dev,>=0.15.0 in /opt/conda/lib/python3.8/site-packages (from google-api-python-client->otter-grader) (0.20.1)\n",
      "Requirement already satisfied: google-auth-httplib2>=0.1.0 in /opt/conda/lib/python3.8/site-packages (from google-api-python-client->otter-grader) (0.1.0)\n",
      "Requirement already satisfied: uritemplate<5,>=3.0.0 in /opt/conda/lib/python3.8/site-packages (from google-api-python-client->otter-grader) (4.0.0)\n",
      "Requirement already satisfied: google-auth<3.0.0dev,>=1.16.0 in /opt/conda/lib/python3.8/site-packages (from google-api-python-client->otter-grader) (1.30.0)\n",
      "Requirement already satisfied: google-api-core<3.0.0dev,>=1.21.0 in /opt/conda/lib/python3.8/site-packages (from google-api-python-client->otter-grader) (1.26.3)\n",
      "Requirement already satisfied: googleapis-common-protos<2.0dev,>=1.6.0 in /opt/conda/lib/python3.8/site-packages (from google-api-core<3.0.0dev,>=1.21.0->google-api-python-client->otter-grader) (1.53.0)\n",
      "Requirement already satisfied: pytz in /opt/conda/lib/python3.8/site-packages (from google-api-core<3.0.0dev,>=1.21.0->google-api-python-client->otter-grader) (2021.1)\n",
      "Requirement already satisfied: protobuf>=3.12.0 in /opt/conda/lib/python3.8/site-packages (from google-api-core<3.0.0dev,>=1.21.0->google-api-python-client->otter-grader) (3.15.8)\n",
      "Requirement already satisfied: setuptools>=40.3.0 in /opt/conda/lib/python3.8/site-packages (from google-api-core<3.0.0dev,>=1.21.0->google-api-python-client->otter-grader) (49.6.0.post20210108)\n",
      "Requirement already satisfied: packaging>=14.3 in /opt/conda/lib/python3.8/site-packages (from google-api-core<3.0.0dev,>=1.21.0->google-api-python-client->otter-grader) (20.9)\n",
      "Requirement already satisfied: pyasn1-modules>=0.2.1 in /opt/conda/lib/python3.8/site-packages (from google-auth<3.0.0dev,>=1.16.0->google-api-python-client->otter-grader) (0.2.7)\n",
      "Requirement already satisfied: rsa<5,>=3.1.4 in /opt/conda/lib/python3.8/site-packages (from google-auth<3.0.0dev,>=1.16.0->google-api-python-client->otter-grader) (4.7.2)\n",
      "Requirement already satisfied: cachetools<5.0,>=2.0.0 in /opt/conda/lib/python3.8/site-packages (from google-auth<3.0.0dev,>=1.16.0->google-api-python-client->otter-grader) (4.2.2)\n",
      "Requirement already satisfied: pyparsing<3,>=2.4.2 in /opt/conda/lib/python3.8/site-packages (from httplib2<1dev,>=0.15.0->google-api-python-client->otter-grader) (2.4.7)\n",
      "Requirement already satisfied: pyasn1<0.5.0,>=0.4.6 in /opt/conda/lib/python3.8/site-packages (from pyasn1-modules>=0.2.1->google-auth<3.0.0dev,>=1.16.0->google-api-python-client->otter-grader) (0.4.8)\n",
      "Requirement already satisfied: idna<3,>=2.5 in /opt/conda/lib/python3.8/site-packages (from requests->otter-grader) (2.10)\n",
      "Requirement already satisfied: certifi>=2017.4.17 in /opt/conda/lib/python3.8/site-packages (from requests->otter-grader) (2021.5.30)\n",
      "Requirement already satisfied: chardet<5,>=3.0.2 in /opt/conda/lib/python3.8/site-packages (from requests->otter-grader) (4.0.0)\n",
      "Requirement already satisfied: urllib3<1.27,>=1.21.1 in /opt/conda/lib/python3.8/site-packages (from requests->otter-grader) (1.26.4)\n",
      "Requirement already satisfied: requests-oauthlib>=0.7.0 in /opt/conda/lib/python3.8/site-packages (from google-auth-oauthlib->otter-grader) (1.3.0)\n",
      "Requirement already satisfied: oauthlib>=3.0.0 in /opt/conda/lib/python3.8/site-packages (from requests-oauthlib>=0.7.0->google-auth-oauthlib->otter-grader) (3.0.1)\n",
      "Requirement already satisfied: traitlets>=4.1.0 in /opt/conda/lib/python3.8/site-packages (from ipykernel->otter-grader) (5.0.5)\n",
      "Requirement already satisfied: ipython>=5.0.0 in /opt/conda/lib/python3.8/site-packages (from ipykernel->otter-grader) (7.23.0)\n",
      "Requirement already satisfied: tornado>=4.2 in /opt/conda/lib/python3.8/site-packages (from ipykernel->otter-grader) (6.1)\n",
      "Requirement already satisfied: decorator in /opt/conda/lib/python3.8/site-packages (from ipython>=5.0.0->ipykernel->otter-grader) (5.0.7)\n",
      "Requirement already satisfied: matplotlib-inline in /opt/conda/lib/python3.8/site-packages (from ipython>=5.0.0->ipykernel->otter-grader) (0.1.2)\n",
      "Requirement already satisfied: prompt-toolkit!=3.0.0,!=3.0.1,<3.1.0,>=2.0.0 in /opt/conda/lib/python3.8/site-packages (from ipython>=5.0.0->ipykernel->otter-grader) (3.0.18)\n",
      "Requirement already satisfied: pexpect>4.3 in /opt/conda/lib/python3.8/site-packages (from ipython>=5.0.0->ipykernel->otter-grader) (4.8.0)\n",
      "Requirement already satisfied: pickleshare in /opt/conda/lib/python3.8/site-packages (from ipython>=5.0.0->ipykernel->otter-grader) (0.7.5)\n",
      "Requirement already satisfied: pygments in /opt/conda/lib/python3.8/site-packages (from ipython>=5.0.0->ipykernel->otter-grader) (2.8.1)\n",
      "Requirement already satisfied: backcall in /opt/conda/lib/python3.8/site-packages (from ipython>=5.0.0->ipykernel->otter-grader) (0.2.0)\n",
      "Requirement already satisfied: jedi>=0.16 in /opt/conda/lib/python3.8/site-packages (from ipython>=5.0.0->ipykernel->otter-grader) (0.18.0)\n",
      "Requirement already satisfied: parso<0.9.0,>=0.8.0 in /opt/conda/lib/python3.8/site-packages (from jedi>=0.16->ipython>=5.0.0->ipykernel->otter-grader) (0.8.2)\n",
      "Requirement already satisfied: ptyprocess>=0.5 in /opt/conda/lib/python3.8/site-packages (from pexpect>4.3->ipython>=5.0.0->ipykernel->otter-grader) (0.7.0)\n",
      "Requirement already satisfied: wcwidth in /opt/conda/lib/python3.8/site-packages (from prompt-toolkit!=3.0.0,!=3.0.1,<3.1.0,>=2.0.0->ipython>=5.0.0->ipykernel->otter-grader) (0.2.5)\n",
      "Requirement already satisfied: ipython-genutils in /opt/conda/lib/python3.8/site-packages (from traitlets>=4.1.0->ipykernel->otter-grader) (0.2.0)\n",
      "Requirement already satisfied: MarkupSafe>=0.23 in /opt/conda/lib/python3.8/site-packages (from jinja2->otter-grader) (1.1.1)\n",
      "Requirement already satisfied: pyzmq>=13 in /opt/conda/lib/python3.8/site-packages (from jupyter-client->otter-grader) (22.0.3)\n",
      "Requirement already satisfied: python-dateutil>=2.1 in /opt/conda/lib/python3.8/site-packages (from jupyter-client->otter-grader) (2.8.1)\n",
      "Requirement already satisfied: jupyter-core>=4.6.0 in /opt/conda/lib/python3.8/site-packages (from jupyter-client->otter-grader) (4.7.1)\n",
      "Requirement already satisfied: numpy>=1.16 in /opt/conda/lib/python3.8/site-packages (from matplotlib->otter-grader) (1.20.2)\n",
      "Requirement already satisfied: pillow>=6.2.0 in /opt/conda/lib/python3.8/site-packages (from matplotlib->otter-grader) (8.1.2)\n",
      "Requirement already satisfied: kiwisolver>=1.0.1 in /opt/conda/lib/python3.8/site-packages (from matplotlib->otter-grader) (1.3.1)\n",
      "Requirement already satisfied: cycler>=0.10 in /opt/conda/lib/python3.8/site-packages (from matplotlib->otter-grader) (0.10.0)\n",
      "Requirement already satisfied: jupyterlab-pygments in /opt/conda/lib/python3.8/site-packages (from nbconvert->otter-grader) (0.1.2)\n",
      "Requirement already satisfied: entrypoints>=0.2.2 in /opt/conda/lib/python3.8/site-packages (from nbconvert->otter-grader) (0.3)\n",
      "Requirement already satisfied: pandocfilters>=1.4.1 in /opt/conda/lib/python3.8/site-packages (from nbconvert->otter-grader) (1.4.2)\n",
      "Requirement already satisfied: testpath in /opt/conda/lib/python3.8/site-packages (from nbconvert->otter-grader) (0.4.4)\n",
      "Requirement already satisfied: defusedxml in /opt/conda/lib/python3.8/site-packages (from nbconvert->otter-grader) (0.7.1)\n",
      "Requirement already satisfied: bleach in /opt/conda/lib/python3.8/site-packages (from nbconvert->otter-grader) (3.3.0)\n",
      "Requirement already satisfied: nbclient<0.6.0,>=0.5.0 in /opt/conda/lib/python3.8/site-packages (from nbconvert->otter-grader) (0.5.3)\n",
      "Requirement already satisfied: mistune<2,>=0.8.1 in /opt/conda/lib/python3.8/site-packages (from nbconvert->otter-grader) (0.8.4)\n",
      "Requirement already satisfied: nest-asyncio in /opt/conda/lib/python3.8/site-packages (from nbclient<0.6.0,>=0.5.0->nbconvert->otter-grader) (1.5.1)\n",
      "Requirement already satisfied: async-generator in /opt/conda/lib/python3.8/site-packages (from nbclient<0.6.0,>=0.5.0->nbconvert->otter-grader) (1.10)\n",
      "Requirement already satisfied: jsonschema!=2.5.0,>=2.4 in /opt/conda/lib/python3.8/site-packages (from nbformat->otter-grader) (3.2.0)\n",
      "Requirement already satisfied: pyrsistent>=0.14.0 in /opt/conda/lib/python3.8/site-packages (from jsonschema!=2.5.0,>=2.4->nbformat->otter-grader) (0.17.3)\n",
      "Requirement already satisfied: attrs>=17.4.0 in /opt/conda/lib/python3.8/site-packages (from jsonschema!=2.5.0,>=2.4->nbformat->otter-grader) (20.3.0)\n",
      "Requirement already satisfied: webencodings in /opt/conda/lib/python3.8/site-packages (from bleach->nbconvert->otter-grader) (0.5.1)\n",
      "Requirement already satisfied: pydantic in /opt/conda/lib/python3.8/site-packages (from python-on-whales->otter-grader) (1.7.3)\n",
      "Requirement already satisfied: tqdm in /opt/conda/lib/python3.8/site-packages (from python-on-whales->otter-grader) (4.60.0)\n",
      "Requirement already satisfied: typer in /opt/conda/lib/python3.8/site-packages (from python-on-whales->otter-grader) (0.3.2)\n",
      "Requirement already satisfied: click<7.2.0,>=7.1.1 in /opt/conda/lib/python3.8/site-packages (from typer->python-on-whales->otter-grader) (7.1.2)\n"
     ]
    }
   ],
   "source": [
    "# We can also install otter here\n",
    "! pip install otter-grader"
   ]
  },
  {
   "cell_type": "code",
   "execution_count": 2,
   "metadata": {},
   "outputs": [],
   "source": [
    "# Initialize Otter\n",
    "import otter\n",
    "grader = otter.Notebook(\"A1.ipynb\")"
   ]
  },
  {
   "cell_type": "markdown",
   "metadata": {
    "id": "Z-U3uRF6qBM5",
    "nbgrader": {
     "grade": false,
     "grade_id": "running-a-cell",
     "locked": true,
     "schema_version": 2,
     "solution": false
    }
   },
   "source": [
    "---\n",
    "## Part 1: Jupyter Tips (0 points)\n",
    "\n",
    "**NOTE: (-1) If YOU DO NOT RUN, OUTPUT, AND UNDERSTAND**\n",
    "\n"
   ]
  },
  {
   "cell_type": "markdown",
   "metadata": {
    "id": "45z1nhgzqBM6"
   },
   "source": [
    "### Viewing Documentation\n",
    "\n",
    "To output the documentation for a function, use the `help` function."
   ]
  },
  {
   "cell_type": "code",
   "execution_count": 3,
   "metadata": {
    "ExecuteTime": {
     "end_time": "2019-01-18T23:27:51.618364Z",
     "start_time": "2019-01-18T23:27:51.596329Z"
    },
    "id": "oNm7Ni0hqBM6"
   },
   "outputs": [
    {
     "name": "stdout",
     "output_type": "stream",
     "text": [
      "Help on built-in function print in module builtins:\n",
      "\n",
      "print(...)\n",
      "    print(value, ..., sep=' ', end='\\n', file=sys.stdout, flush=False)\n",
      "    \n",
      "    Prints the values to a stream, or to sys.stdout by default.\n",
      "    Optional keyword arguments:\n",
      "    file:  a file-like object (stream); defaults to the current sys.stdout.\n",
      "    sep:   string inserted between values, default a space.\n",
      "    end:   string appended after the last value, default a newline.\n",
      "    flush: whether to forcibly flush the stream.\n",
      "\n"
     ]
    }
   ],
   "source": [
    "help(print)"
   ]
  },
  {
   "cell_type": "code",
   "execution_count": 4,
   "metadata": {
    "ExecuteTime": {
     "end_time": "2019-01-18T23:27:51.642969Z",
     "start_time": "2019-01-18T23:27:51.620450Z"
    },
    "id": "48zjzIbCqBM7"
   },
   "outputs": [
    {
     "name": "stdout",
     "output_type": "stream",
     "text": [
      "Welcome to TCSS 551.\n"
     ]
    }
   ],
   "source": [
    "print('Welcome to TCSS 551.')"
   ]
  },
  {
   "cell_type": "markdown",
   "metadata": {
    "id": "XZG0MRtVqBM7"
   },
   "source": [
    "### Importing Libraries and Magic Commands\n",
    "\n",
    "In TCSS 551, we will be using common Python libraries to help us process data. By convention, we import all libraries at the very top of the notebook. There are also a set of standard aliases that are used to shorten the library names. Below are some of the libraries that you may encounter throughout the course, along with their respective aliases."
   ]
  },
  {
   "cell_type": "code",
   "execution_count": 5,
   "metadata": {
    "ExecuteTime": {
     "end_time": "2019-01-18T23:27:53.746048Z",
     "start_time": "2019-01-18T23:27:51.644613Z"
    },
    "id": "jf490aBNqBM7"
   },
   "outputs": [],
   "source": [
    "import pandas as pd\n",
    "import numpy as np\n",
    "import matplotlib.pyplot as plt\n",
    "plt.style.use('fivethirtyeight')\n",
    "%matplotlib inline"
   ]
  },
  {
   "cell_type": "markdown",
   "metadata": {
    "id": "Uf9BpMUdqBM8"
   },
   "source": [
    "`%matplotlib inline` is a [Jupyter magic command](https://ipython.readthedocs.io/en/stable/interactive/magics.html) that configures the notebook so that Matplotlib displays any plots that you draw directly in the notebook rather than to a file, allowing you to view the plots upon executing your code. (Note: In practice, this is no longer necessary, but we're showing it to you now anyway.)\n",
    "\n",
    "Another useful magic command is `%%time`, which times the execution of that cell. You can use this by writing it as the first line of a cell. (Note that `%%` is used for *cell magic commands* that apply to the entire cell, whereas `%` is used for *line magic commands* that only apply to a single line.)"
   ]
  },
  {
   "cell_type": "code",
   "execution_count": 6,
   "metadata": {
    "ExecuteTime": {
     "end_time": "2019-01-18T23:27:53.755085Z",
     "start_time": "2019-01-18T23:27:53.749765Z"
    },
    "id": "a0yMezfpqBM9"
   },
   "outputs": [
    {
     "name": "stdout",
     "output_type": "stream",
     "text": [
      "CPU times: user 14 µs, sys: 2 µs, total: 16 µs\n",
      "Wall time: 19.6 µs\n"
     ]
    }
   ],
   "source": [
    "%%time\n",
    "\n",
    "lst = []\n",
    "for i in range(100):\n",
    "    lst.append(i)"
   ]
  },
  {
   "cell_type": "markdown",
   "metadata": {
    "id": "7N6E5nPDqBM-",
    "nbgrader": {
     "grade": false,
     "grade_id": "shortcuts",
     "locked": true,
     "schema_version": 2,
     "solution": false
    }
   },
   "source": [
    "### Keyboard Shortcuts\n",
    "\n",
    "Even if you are familiar with Jupyter, we strongly encourage you to become proficient with keyboard shortcuts (this will save you time in the future).\n",
    "\n",
    "Here are a few that we like:\n",
    "1. `Ctrl` + `Return` (or `Cmd` + `Return` on Mac): *Evaluate the current cell*\n",
    "1. `Shift` + `Return`: *Evaluate the current cell and move to the next*\n",
    "1. `ESC` : *command mode* (may need to press before using any of the commands below)\n",
    "1. `a` : *create a cell above*\n",
    "1. `b` : *create a cell below*\n",
    "1. `dd` : *delete a cell*\n",
    "1. `z` : *undo the last cell operation*\n",
    "1. `m` : *convert a cell to markdown*\n",
    "1. `y` : *convert a cell to code*"
   ]
  },
  {
   "cell_type": "markdown",
   "metadata": {
    "id": "BZT_0-CkqBM_"
   },
   "source": [
    "---\n",
    "## Part 2: Prerequisites\n",
    "\n",
    "It's time to answer some review questions. Each question has a response cell directly below it.\n",
    "\n",
    "If you have extra content in a response cell, such as an example call to a function you're implementing, that's fine. Also, feel free to add cells. Any extra cells you add will be considered part of your submission. Finally, when you finish an assignment, make sure to \"restart and run all cells\" to ensure everything works properly. \n",
    "\n",
    "We **strongly recommend** that you check your solutions yourself using various test cases including extreme cases."
   ]
  },
  {
   "cell_type": "markdown",
   "metadata": {
    "id": "vlGPONe7qBNA"
   },
   "source": [
    "### Python\n",
    "\n",
    "Python is the main programming language we'll use in the course. If any of the following exercises are challenging (or if you would like to refresh your Python knowledge), please review one or more of the following materials.\n",
    "\n",
    "- **[Python Tutorial](https://docs.python.org/3.8/tutorial/)**: Introduction to Python from the creators of Python.\n",
    "- **[Composing Programs Chapter 1](http://composingprograms.com/pages/11-getting-started.html)**: This is more of an introduction to programming with Python.\n",
    "- **[Advanced Crash Course](http://cs231n.github.io/python-numpy-tutorial/)**: A fast crash course which assumes some programming background."
   ]
  },
  {
   "cell_type": "markdown",
   "metadata": {
    "id": "YPoqImdoqBNA"
   },
   "source": [
    "### NumPy\n",
    "\n",
    "NumPy is the numerical computing module. Here's a quick recap of NumPy. For more review, read the following materials.\n",
    "\n",
    "- **[NumPy Quick Start Tutorial](https://numpy.org/doc/stable/user/quickstart.html)**\n",
    "- **[Stanford CS231n NumPy Tutorial](http://cs231n.github.io/python-numpy-tutorial/#numpy)**"
   ]
  },
  {
   "cell_type": "markdown",
   "metadata": {
    "id": "sgV411AD62P6"
   },
   "source": [
    "### Simple Python Code Review (0 points)\n",
    "\n",
    "**NOTE: (-1) IF YOU DO NOT RUN, OUTPUT, and UNDERSTAND**\n",
    "\n",
    "You should feel confident explaining what each cell is doing. If not, please brush up using the above materials."
   ]
  },
  {
   "cell_type": "code",
   "execution_count": 7,
   "metadata": {
    "id": "yuTKy7bB7Oi9"
   },
   "outputs": [
    {
     "data": {
      "text/plain": [
       "3"
      ]
     },
     "execution_count": 7,
     "metadata": {},
     "output_type": "execute_result"
    }
   ],
   "source": [
    "1 + 2"
   ]
  },
  {
   "cell_type": "code",
   "execution_count": 8,
   "metadata": {
    "id": "1xh6tsbv7hwB"
   },
   "outputs": [
    {
     "data": {
      "text/plain": [
       "16"
      ]
     },
     "execution_count": 8,
     "metadata": {},
     "output_type": "execute_result"
    }
   ],
   "source": [
    "# This is a comment.\n",
    "# In Python, the ** operator performs exponentiation.\n",
    "2**4"
   ]
  },
  {
   "cell_type": "code",
   "execution_count": 9,
   "metadata": {
    "id": "Bvl1Mm4z7oqI"
   },
   "outputs": [
    {
     "data": {
      "text/plain": [
       "0.36787944117144233"
      ]
     },
     "execution_count": 9,
     "metadata": {},
     "output_type": "execute_result"
    }
   ],
   "source": [
    "import math\n",
    "math.e**(-1)"
   ]
  },
  {
   "cell_type": "code",
   "execution_count": 10,
   "metadata": {
    "id": "PXV956ca7tbp"
   },
   "outputs": [
    {
     "data": {
      "text/plain": [
       "7"
      ]
     },
     "execution_count": 10,
     "metadata": {},
     "output_type": "execute_result"
    }
   ],
   "source": [
    "def add_v1(x):\n",
    "    \"\"\"This docstring explains what this function does: it adds 2 to a number.\"\"\"\n",
    "    return x + 2\n",
    "\n",
    "add_v1(5)"
   ]
  },
  {
   "cell_type": "code",
   "execution_count": 11,
   "metadata": {
    "id": "INzsEJ3p7z8m"
   },
   "outputs": [
    {
     "data": {
      "text/plain": [
       "7"
      ]
     },
     "execution_count": 11,
     "metadata": {},
     "output_type": "execute_result"
    }
   ],
   "source": [
    "# add_v2 is very similar to add_v1, but it's been created using a lambda expression.\n",
    "# THIS IS MORE PYTHONIC\n",
    "add_v2 = lambda x: x + 2\n",
    "add_v2(5)"
   ]
  },
  {
   "cell_type": "code",
   "execution_count": 12,
   "metadata": {
    "id": "acHmOCTM7_IF"
   },
   "outputs": [
    {
     "data": {
      "text/plain": [
       "5"
      ]
     },
     "execution_count": 12,
     "metadata": {},
     "output_type": "execute_result"
    }
   ],
   "source": [
    "def fib(n):\n",
    "    if n <= 1:\n",
    "        return 1\n",
    "    # Functions can call themselves recursively.\n",
    "    return fib(n-1) + fib(n-2)\n",
    "\n",
    "fib(4)"
   ]
  },
  {
   "cell_type": "code",
   "execution_count": 13,
   "metadata": {
    "id": "G0AY_lxj8ClN"
   },
   "outputs": [
    {
     "name": "stdout",
     "output_type": "stream",
     "text": [
      "1\n",
      "Odd power of 2\n",
      "4\n",
      "Odd power of 2\n",
      "16\n"
     ]
    }
   ],
   "source": [
    "# A for loop repeats a block of code once for each element in a given collection.\n",
    "for i in range(5):\n",
    "    if i % 2 == 0:\n",
    "        print(2**i)\n",
    "    else:\n",
    "        print(\"Odd power of 2\")"
   ]
  },
  {
   "cell_type": "code",
   "execution_count": 14,
   "metadata": {
    "id": "kN0vU-ik8HIr"
   },
   "outputs": [
    {
     "name": "stdout",
     "output_type": "stream",
     "text": [
      "1\n",
      "Odd power of 2\n",
      "4\n",
      "Odd power of 2\n",
      "16\n"
     ]
    }
   ],
   "source": [
    "# A list comprehension is a convenient way to apply a function\n",
    "# to each element in a given collection.\n",
    "# The String method join appends together all its arguments\n",
    "# separated by the given string.  So we append each element produced\n",
    "# by the list comprehension, each separated by a newline (\"\\n\").\n",
    "# THIS IS MORE PYTHONIC\n",
    "print(\"\\n\".join([str(2**i) if i % 2 == 0 else \"Odd power of 2\" for i in range(5)]))"
   ]
  },
  {
   "cell_type": "markdown",
   "metadata": {
    "id": "ZommQR8h8hR0"
   },
   "source": [
    "### Question 2.a (5 points)\n",
    "\n",
    "Write a function named nums_reversed that takes in a non-negative integer *n* (extreme case: 0) and returns a string containing the numbers **1 through n** including *n* in reverse order, separated by space. For example:\n",
    "\n",
    "nums_reversed(5)\n",
    "\n",
    "5 4 3 2 1\n",
    "\n",
    "nums_reversed(0)\n",
    "\n",
    "\n",
    "(NOTHING TO OUTPUT)\n",
    "\n",
    "\n",
    "**Bonus Point: +0.5 if you are pythonic**"
   ]
  },
  {
   "cell_type": "code",
   "execution_count": 15,
   "metadata": {
    "id": "zZhEloYT_-ol"
   },
   "outputs": [],
   "source": [
    "def nums_reversed(n):\n",
    "    space = ' '\n",
    "    return space.join([str(i) for i in range(1,n+1)[::-1]])\n",
    "    "
   ]
  },
  {
   "cell_type": "code",
   "execution_count": 16,
   "metadata": {},
   "outputs": [
    {
     "data": {
      "text/html": [
       "<p><strong><pre style='display: inline;'>Question 2.a</pre></strong> passed!</p>"
      ],
      "text/plain": [
       "Question 2.a results: All test cases passed!"
      ]
     },
     "execution_count": 16,
     "metadata": {},
     "output_type": "execute_result"
    }
   ],
   "source": [
    "grader.check(\"q02a\")"
   ]
  },
  {
   "cell_type": "markdown",
   "metadata": {
    "id": "D4qxAJnmA4CP"
   },
   "source": [
    "### Question 2.b (5 points)\n",
    "\n",
    "Write a function median that takes in a list of numbers (integers or float/double numbers that can be in random order) and returns the median element of the list. If the list has even length, it returns the mean (float/double value) of the two elements in the middle. For example:\n",
    "\n",
    "median([3, 4, 1])\n",
    "\n",
    "3\n",
    "\n",
    "median([2, 1, 0, 3])\n",
    "\n",
    "1.5\n",
    "\n",
    "median([0])\n",
    "\n",
    "0\n",
    "\n",
    "median([1, 2])\n",
    "\n",
    "1.5\n",
    "\n",
    "**HINT: YOU MAY WANT TO CHECK THE FUNCTION OF sorted()**\n"
   ]
  },
  {
   "cell_type": "code",
   "execution_count": 17,
   "metadata": {
    "id": "IVBLYdPbG-Eh"
   },
   "outputs": [],
   "source": [
    "def median(number_list):\n",
    "  # type your code here\n",
    "    n = len(number_list)\n",
    "    number_list.sort()\n",
    "    \n",
    "    if n % 2 == 0:\n",
    "        val = n//2\n",
    "        median1 = number_list[val]\n",
    "        median2 = number_list[val - 1]\n",
    "        median = (median1 + median2)/2\n",
    "    else:\n",
    "        median = number_list[n//2]\n",
    "    \n",
    "    return median\n",
    "\n",
    "\n"
   ]
  },
  {
   "cell_type": "code",
   "execution_count": 18,
   "metadata": {},
   "outputs": [
    {
     "data": {
      "text/html": [
       "<p><strong><pre style='display: inline;'>Question 2.b</pre></strong> passed!</p>"
      ],
      "text/plain": [
       "Question 2.b results: All test cases passed!"
      ]
     },
     "execution_count": 18,
     "metadata": {},
     "output_type": "execute_result"
    }
   ],
   "source": [
    "grader.check(\"q02b\")"
   ]
  },
  {
   "cell_type": "markdown",
   "metadata": {
    "id": "xVbGN9e5PpJt"
   },
   "source": [
    "## Part 3: NumPy\n",
    "\n",
    "The core of NumPy is the array. Like Python lists, arrays store data; however, they store data in a more efficient manner. In many cases, this allows for faster computation and data manipulation."
   ]
  },
  {
   "cell_type": "markdown",
   "metadata": {
    "id": "6SmyuRymBHWc"
   },
   "source": [
    "### 3.1 Arrays\n",
    "\n",
    "We can use `np.array` to create an array. It takes a sequence, such as a list or range. \n",
    "\n",
    "Below, we create an array `arr` containing the values 1, 2, 3, 4, and 5 (in that order).\n",
    "\n",
    "**NOTE: CODE EXAMPLES (0 POINTS), (-1) if you do not run, output, and understand**"
   ]
  },
  {
   "cell_type": "code",
   "execution_count": 19,
   "metadata": {
    "ExecuteTime": {
     "end_time": "2019-01-18T23:27:53.985409Z",
     "start_time": "2019-01-18T23:27:53.949516Z"
    },
    "id": "f9-kRTGXqBNE"
   },
   "outputs": [
    {
     "data": {
      "text/plain": [
       "array([1, 2, 3, 4, 5])"
      ]
     },
     "execution_count": 19,
     "metadata": {},
     "output_type": "execute_result"
    }
   ],
   "source": [
    "arr1 = np.array([1, 2, 3, 4, 5])\n",
    "arr1"
   ]
  },
  {
   "cell_type": "code",
   "execution_count": 20,
   "metadata": {
    "id": "2XQ-3dLiEquo"
   },
   "outputs": [
    {
     "data": {
      "text/plain": [
       "array([1, 2, 3, 4, 5])"
      ]
     },
     "execution_count": 20,
     "metadata": {},
     "output_type": "execute_result"
    }
   ],
   "source": [
    "# A more generic and efficient way\n",
    "arr2 = np.array(np.arange(1, 6))\n",
    "arr2"
   ]
  },
  {
   "cell_type": "markdown",
   "metadata": {
    "id": "Q5zrWqEqqBNG"
   },
   "source": [
    "In addition to values in the array, we can access attributes such as shape and data type."
   ]
  },
  {
   "cell_type": "code",
   "execution_count": 21,
   "metadata": {
    "ExecuteTime": {
     "end_time": "2019-01-18T23:27:54.069669Z",
     "start_time": "2019-01-18T23:27:54.036105Z"
    },
    "id": "kKGLvwnQqBNH"
   },
   "outputs": [
    {
     "data": {
      "text/plain": [
       "4"
      ]
     },
     "execution_count": 21,
     "metadata": {},
     "output_type": "execute_result"
    }
   ],
   "source": [
    "arr1[3]"
   ]
  },
  {
   "cell_type": "code",
   "execution_count": 22,
   "metadata": {
    "ExecuteTime": {
     "end_time": "2019-01-18T23:27:54.099933Z",
     "start_time": "2019-01-18T23:27:54.072605Z"
    },
    "id": "iSDSxPlCqBNI"
   },
   "outputs": [
    {
     "data": {
      "text/plain": [
       "array([3, 4])"
      ]
     },
     "execution_count": 22,
     "metadata": {},
     "output_type": "execute_result"
    }
   ],
   "source": [
    "arr1[2:4]"
   ]
  },
  {
   "cell_type": "code",
   "execution_count": 23,
   "metadata": {
    "ExecuteTime": {
     "end_time": "2019-01-18T23:27:54.124874Z",
     "start_time": "2019-01-18T23:27:54.101938Z"
    },
    "id": "HBUkbZOHqBNJ"
   },
   "outputs": [
    {
     "data": {
      "text/plain": [
       "(5,)"
      ]
     },
     "execution_count": 23,
     "metadata": {},
     "output_type": "execute_result"
    }
   ],
   "source": [
    "arr1.shape"
   ]
  },
  {
   "cell_type": "code",
   "execution_count": 24,
   "metadata": {
    "ExecuteTime": {
     "end_time": "2019-01-18T23:27:54.148914Z",
     "start_time": "2019-01-18T23:27:54.127372Z"
    },
    "id": "K4LyhQnTqBNJ",
    "scrolled": true
   },
   "outputs": [
    {
     "data": {
      "text/plain": [
       "dtype('int64')"
      ]
     },
     "execution_count": 24,
     "metadata": {},
     "output_type": "execute_result"
    }
   ],
   "source": [
    "arr1.dtype"
   ]
  },
  {
   "cell_type": "markdown",
   "metadata": {
    "id": "YyblAPe4qBNK"
   },
   "source": [
    "Arrays, unlike Python lists, cannot store items of different data types."
   ]
  },
  {
   "cell_type": "code",
   "execution_count": 25,
   "metadata": {
    "ExecuteTime": {
     "end_time": "2019-01-18T23:27:54.173873Z",
     "start_time": "2019-01-18T23:27:54.150888Z"
    },
    "id": "9bkVDOjhqBNL"
   },
   "outputs": [
    {
     "data": {
      "text/plain": [
       "[1, '3']"
      ]
     },
     "execution_count": 25,
     "metadata": {},
     "output_type": "execute_result"
    }
   ],
   "source": [
    "# A regular Python list can store items of different data types\n",
    "[1, '3']"
   ]
  },
  {
   "cell_type": "code",
   "execution_count": 26,
   "metadata": {
    "ExecuteTime": {
     "end_time": "2019-01-18T23:27:54.198281Z",
     "start_time": "2019-01-18T23:27:54.176631Z"
    },
    "id": "x_5XojQ8qBNM"
   },
   "outputs": [
    {
     "data": {
      "text/plain": [
       "array(['1', '3'], dtype='<U21')"
      ]
     },
     "execution_count": 26,
     "metadata": {},
     "output_type": "execute_result"
    }
   ],
   "source": [
    "# Arrays will convert everything to the same data type\n",
    "np.array([1, '3'])"
   ]
  },
  {
   "cell_type": "code",
   "execution_count": 27,
   "metadata": {
    "ExecuteTime": {
     "end_time": "2019-01-18T23:27:54.227988Z",
     "start_time": "2019-01-18T23:27:54.200270Z"
    },
    "id": "1rQmWi2gqBNM"
   },
   "outputs": [
    {
     "data": {
      "text/plain": [
       "array([5. , 8.3])"
      ]
     },
     "execution_count": 27,
     "metadata": {},
     "output_type": "execute_result"
    }
   ],
   "source": [
    "# Another example of array type conversion\n",
    "np.array([5, 8.3])"
   ]
  },
  {
   "cell_type": "markdown",
   "metadata": {
    "id": "Gagg3nFzqBNN"
   },
   "source": [
    "Arrays are also useful in performing *vectorized operations*. Given two or more arrays of equal length, arithmetic will perform element-wise computations across the arrays. \n",
    "\n",
    "For example, observe the following:"
   ]
  },
  {
   "cell_type": "code",
   "execution_count": 28,
   "metadata": {
    "ExecuteTime": {
     "end_time": "2019-01-18T23:27:54.266157Z",
     "start_time": "2019-01-18T23:27:54.231648Z"
    },
    "id": "KGlCVpySqBNO"
   },
   "outputs": [
    {
     "data": {
      "text/plain": [
       "[1, 2, 3, 4, 5, 6]"
      ]
     },
     "execution_count": 28,
     "metadata": {},
     "output_type": "execute_result"
    }
   ],
   "source": [
    "# Python list addition will concatenate the two lists\n",
    "[1, 2, 3] + [4, 5, 6]"
   ]
  },
  {
   "cell_type": "code",
   "execution_count": 29,
   "metadata": {
    "ExecuteTime": {
     "end_time": "2019-01-18T23:27:54.299682Z",
     "start_time": "2019-01-18T23:27:54.269136Z"
    },
    "id": "eHISo0P3qBNP"
   },
   "outputs": [
    {
     "data": {
      "text/plain": [
       "array([5, 7, 9])"
      ]
     },
     "execution_count": 29,
     "metadata": {},
     "output_type": "execute_result"
    }
   ],
   "source": [
    "# NumPy array addition will add them element-wise\n",
    "np.array([1, 2, 3]) + np.array([4, 5, 6])"
   ]
  },
  {
   "cell_type": "markdown",
   "metadata": {
    "id": "aD_S3bReQaNn"
   },
   "source": [
    "Math operations on arrays happen element-wise as follows."
   ]
  },
  {
   "cell_type": "code",
   "execution_count": 30,
   "metadata": {
    "id": "l-wkRUppQSnb"
   },
   "outputs": [
    {
     "data": {
      "text/plain": [
       "array([ 2,  4,  6,  8, 10])"
      ]
     },
     "execution_count": 30,
     "metadata": {},
     "output_type": "execute_result"
    }
   ],
   "source": [
    "arr1 * 2"
   ]
  },
  {
   "cell_type": "code",
   "execution_count": 31,
   "metadata": {
    "id": "Hil6TaN4QWyk"
   },
   "outputs": [
    {
     "data": {
      "text/plain": [
       "array([ 1,  4,  9, 16, 25])"
      ]
     },
     "execution_count": 31,
     "metadata": {},
     "output_type": "execute_result"
    }
   ],
   "source": [
    "arr1 * arr2"
   ]
  },
  {
   "cell_type": "code",
   "execution_count": 32,
   "metadata": {
    "id": "Co0dWd8hQkPs"
   },
   "outputs": [
    {
     "data": {
      "text/plain": [
       "array([   1,    4,   27,  256, 3125])"
      ]
     },
     "execution_count": 32,
     "metadata": {},
     "output_type": "execute_result"
    }
   ],
   "source": [
    "arr1 ** arr2"
   ]
  },
  {
   "cell_type": "markdown",
   "metadata": {
    "id": "8R34fqt8Qvww"
   },
   "source": [
    "This is not only very convenient (fewer for loops!) but also fast. NumPy is designed to run operations on arrays much faster than equivalent Python code on lists. Data Science sometimes involves working with large datasets where speed is important - even the constant factors!"
   ]
  },
  {
   "cell_type": "markdown",
   "metadata": {
    "deletable": false,
    "editable": false,
    "id": "1pfTIdUHvYsN"
   },
   "source": [
    "#### More Guidelines \n",
    "\n",
    "**NOTE: 0 POINTS. -5 IF YOU DO NOT ENTER YOUR ANSWER, RUN, AND OUTPUT**\n",
    "\n",
    "Data science is a rapidly expanding field and no degree program can hope to teach you everything that will be helpful to you as a data scientist. So it's important that you become familiar with looking up documentation and learning how to read it. \n",
    "\n",
    "Below is a section of code that plots a three-dimensional \"wireframe\" plot. You'll see what that means when you draw it. Replace each `# Your answer here` with a description of what the line above does, what the arguments being passed in are, and how the arguments are used in the function. For example,\n",
    "\n",
    "```\n",
    "np.arange(2, 5, 0.2)\n",
    "# This returns an array of numbers from 2 to 5 with an interval size of 0.2\n",
    "```"
   ]
  },
  {
   "cell_type": "code",
   "execution_count": 33,
   "metadata": {
    "id": "5r0jtL7TvvY4"
   },
   "outputs": [
    {
     "data": {
      "image/png": "[encoded data removed]",
      "text/plain": [
       "<Figure size 432x432 with 1 Axes>"
      ]
     },
     "metadata": {},
     "output_type": "display_data"
    }
   ],
   "source": [
    "from mpl_toolkits.mplot3d import axes3d\n",
    "\n",
    "u = np.linspace(1.5 * np.pi, -1.5 * np.pi, 100)\n",
    "# returns an ndarray with equally spaced intervals between the start and stop values\n",
    "[x, y] = np.meshgrid(u, u)\n",
    "# return coordinate matrices from coordinate vectors.\n",
    "squared = np.sqrt(x.flatten() ** 2 + y.flatten() ** 2)\n",
    "z = np.cos(squared)\n",
    "# calculate trigonometric cosine for given value\n",
    "z = z.reshape(x.shape)\n",
    "# give a new shape to an array without changing its data.\n",
    "\n",
    "fig = plt.figure(figsize = (6, 6))\n",
    "ax = fig.add_subplot(111, projection = '3d')\n",
    "# add an axes to the figure as part of a subplot arrangement\n",
    "ax.plot_wireframe(x, y, z, rstride = 5, cstride = 5, lw = 2)\n",
    "# takes a grid of values and projects onto the 3d surfaces\n",
    "ax.view_init(elev = 60, azim = 25)\n",
    "# set the elevation and azimuth of the axes. It can be used to rotate the axes.\n",
    "plt.savefig(\"figure1.png\")\n",
    "# save the figure created after plotting data"
   ]
  },
  {
   "cell_type": "markdown",
   "metadata": {
    "id": "6Z89XNk9qQnQ"
   },
   "source": [
    "#### Question 3.1.a (5 points)\n",
    "\n",
    "Using the ```np.linspace``` function, create an array called xs that contains 100 evenly spaced points between ```0``` and ```2*np.pi```. Then, create an array called ys that contains the value of ```sin(x)``` at each of those 100 points of xs.\n",
    "\n",
    "HINT: Use the np.sin function. You should be able to define each variable (i.e., xs and ys) with one line of code."
   ]
  },
  {
   "cell_type": "code",
   "execution_count": 34,
   "metadata": {
    "id": "3YNd_TqRrHef"
   },
   "outputs": [],
   "source": [
    "# define xs and ys here\n",
    "# type your code here\n",
    "xs = np.linspace(0, 2 * np.pi, 100)\n",
    "ys = np.sin(xs)"
   ]
  },
  {
   "cell_type": "code",
   "execution_count": 35,
   "metadata": {},
   "outputs": [
    {
     "data": {
      "text/html": [
       "<p><strong><pre style='display: inline;'>Question 3.1.a</pre></strong> passed!</p>"
      ],
      "text/plain": [
       "Question 3.1.a results: All test cases passed!"
      ]
     },
     "execution_count": 35,
     "metadata": {},
     "output_type": "execute_result"
    }
   ],
   "source": [
    "grader.check('q0301a')"
   ]
  },
  {
   "cell_type": "markdown",
   "metadata": {
    "id": "IXVJJYKgrOSd"
   },
   "source": [
    "Here, we give an example how we can use matplotlib to plot our sin wave defined above. Specifically, it makes a scatter plot of the (x, y) pairs and connects points with line segments. If you give it enough points, it will appear to create a smooth curve."
   ]
  },
  {
   "cell_type": "code",
   "execution_count": 36,
   "metadata": {
    "id": "P_ez8LTsr4yv"
   },
   "outputs": [
    {
     "data": {
      "text/plain": [
       "Text(0, 0.5, 'ys')"
      ]
     },
     "execution_count": 36,
     "metadata": {},
     "output_type": "execute_result"
    },
    {
     "data": {
      "image/png": "[encoded data removed]",
      "text/plain": [
       "<Figure size 432x288 with 1 Axes>"
      ]
     },
     "metadata": {},
     "output_type": "display_data"
    }
   ],
   "source": [
    "plt.plot(xs, ys)\n",
    "\n",
    "# Add communication information for your plot\n",
    "plt.title('sin function')\n",
    "plt.xlabel('xs')\n",
    "plt.ylabel('ys')"
   ]
  },
  {
   "cell_type": "markdown",
   "metadata": {
    "deletable": false,
    "editable": false,
    "id": "wu3bOlZ_qBNR"
   },
   "source": [
    "#### Question 3.1.b (5 points)\n",
    "\n",
    "Write a function `elementwise_array_sum` that computes the square of each value in `list_1`, the cube of each value in `list_2`, then returns a list containing the element-wise sum of these results. Assume that `list_1` and `list_2` have the same number of elements.\n",
    "\n",
    "The input parameters will both be **python lists**, so you may need to convert the lists into arrays before performing your operations. The output should be a **numpy array.**\n",
    "\n",
    "**Note**: You should not use `for` loops in your solution (if so, 0 point). Check the [NumPy documentation](https://numpy.org/doc/1.18/reference/index.html). If you're stuck, try a search engine! Searching the web for examples of how to use modules is very common in data science."
   ]
  },
  {
   "cell_type": "code",
   "execution_count": 37,
   "metadata": {
    "ExecuteTime": {
     "end_time": "2019-01-18T23:27:53.847700Z",
     "start_time": "2019-01-18T23:27:53.812524Z"
    },
    "id": "1JaFokrhqBNS"
   },
   "outputs": [],
   "source": [
    "def elementwise_array_sum(list_1, list_2):\n",
    "    \"\"\"Compute x^2 + y^3 for each x, y in list_1, list_2. \n",
    "    \n",
    "    Assume list_1 and list_2 have the same length.\n",
    "    \n",
    "    Return a NumPy array.\n",
    "    \"\"\"\n",
    "    assert len(list_1) == len(list_2), \"both args must have the same number of elements\"\n",
    "    # type your code here\n",
    "    list_1 = np.power(list_1, 2)\n",
    "    list_2 = np.power(list_2, 3)\n",
    "    list = np.add(list_1, list_2)\n",
    "    return list"
   ]
  },
  {
   "cell_type": "code",
   "execution_count": 38,
   "metadata": {},
   "outputs": [
    {
     "data": {
      "text/html": [
       "<p><strong><pre style='display: inline;'>Question 3.1.b</pre></strong> passed!</p>"
      ],
      "text/plain": [
       "Question 3.1.b results: All test cases passed!"
      ]
     },
     "execution_count": 38,
     "metadata": {},
     "output_type": "execute_result"
    }
   ],
   "source": [
    "grader.check('q0301b')"
   ]
  },
  {
   "cell_type": "markdown",
   "metadata": {
    "id": "31sNGYORqBNU"
   },
   "source": [
    "You might have been told that Python is slow, but array arithmetic is carried out very fast, even for large arrays. Below is an implementation of the above code that does not use NumPy arrays.\n",
    "\n",
    "**NOTE: 0 points for the following guideline code, -1 if you do not run, output and understand.**"
   ]
  },
  {
   "cell_type": "code",
   "execution_count": 39,
   "metadata": {
    "id": "_WTO301gqBNU"
   },
   "outputs": [],
   "source": [
    "def elementwise_list_sum(list_1, list_2):\n",
    "    \"\"\"Compute x^2 + y^3 for each x, y in list_1, list_2. \n",
    "    \n",
    "    Assume list_1 and list_2 have the same length.\n",
    "    \"\"\"\n",
    "\n",
    "    return [x ** 2 + y ** 3 for x, y in zip(list_1, list_2)]"
   ]
  },
  {
   "cell_type": "markdown",
   "metadata": {
    "id": "FS3-yBfoqBNV"
   },
   "source": [
    "For ten numbers, `elementwise_list_sum` and `elementwise_array_sum` both take a similar amount of time."
   ]
  },
  {
   "cell_type": "code",
   "execution_count": 40,
   "metadata": {
    "ExecuteTime": {
     "end_time": "2019-01-18T23:27:54.532950Z",
     "start_time": "2019-01-18T23:27:54.499655Z"
    },
    "id": "q0ltGhsmqBNW"
   },
   "outputs": [],
   "source": [
    "sample_list_1 = list(range(10))\n",
    "sample_array_1 = np.arange(10)"
   ]
  },
  {
   "cell_type": "code",
   "execution_count": 41,
   "metadata": {
    "ExecuteTime": {
     "end_time": "2019-01-18T23:27:54.565618Z",
     "start_time": "2019-01-18T23:27:54.537177Z"
    },
    "id": "nIDxl4r-qBNW"
   },
   "outputs": [
    {
     "name": "stdout",
     "output_type": "stream",
     "text": [
      "CPU times: user 11 µs, sys: 1 µs, total: 12 µs\n",
      "Wall time: 16.2 µs\n"
     ]
    },
    {
     "data": {
      "text/plain": [
       "[0, 2, 12, 36, 80, 150, 252, 392, 576, 810]"
      ]
     },
     "execution_count": 41,
     "metadata": {},
     "output_type": "execute_result"
    }
   ],
   "source": [
    "%%time\n",
    "elementwise_list_sum(sample_list_1, sample_list_1)"
   ]
  },
  {
   "cell_type": "code",
   "execution_count": 42,
   "metadata": {
    "ExecuteTime": {
     "end_time": "2019-01-18T23:27:54.598741Z",
     "start_time": "2019-01-18T23:27:54.568363Z"
    },
    "id": "hb12maB8qBNX"
   },
   "outputs": [
    {
     "name": "stdout",
     "output_type": "stream",
     "text": [
      "CPU times: user 34 µs, sys: 5 µs, total: 39 µs\n",
      "Wall time: 41.7 µs\n"
     ]
    },
    {
     "data": {
      "text/plain": [
       "array([  0,   2,  12,  36,  80, 150, 252, 392, 576, 810])"
      ]
     },
     "execution_count": 42,
     "metadata": {},
     "output_type": "execute_result"
    }
   ],
   "source": [
    "%%time\n",
    "elementwise_array_sum(sample_array_1, sample_array_1)"
   ]
  },
  {
   "cell_type": "markdown",
   "metadata": {
    "id": "Az3474ZeqBNX"
   },
   "source": [
    "The time difference seems negligible for a list/array of size 10; depending on your setup, you may even observe that `elementwise_list_sum` executes faster than `elementwise_array_sum`! However, we will commonly be working with much larger datasets:"
   ]
  },
  {
   "cell_type": "code",
   "execution_count": 43,
   "metadata": {
    "ExecuteTime": {
     "end_time": "2019-01-18T23:27:54.639977Z",
     "start_time": "2019-01-18T23:27:54.604370Z"
    },
    "id": "j-O8l3JkqBNY"
   },
   "outputs": [],
   "source": [
    "sample_list_2 = list(range(100000))\n",
    "sample_array_2 = np.arange(100000)"
   ]
  },
  {
   "cell_type": "code",
   "execution_count": 44,
   "metadata": {
    "ExecuteTime": {
     "end_time": "2019-01-18T23:27:54.822043Z",
     "start_time": "2019-01-18T23:27:54.643966Z"
    },
    "id": "s1AfNCGKqBNY",
    "scrolled": true
   },
   "outputs": [
    {
     "name": "stdout",
     "output_type": "stream",
     "text": [
      "CPU times: user 54.8 ms, sys: 5.9 ms, total: 60.7 ms\n",
      "Wall time: 60 ms\n"
     ]
    },
    {
     "data": {
      "text/plain": [
       "''"
      ]
     },
     "execution_count": 44,
     "metadata": {},
     "output_type": "execute_result"
    }
   ],
   "source": [
    "%%time\n",
    "elementwise_list_sum(sample_list_2, sample_list_2)\n",
    "# The semicolon hides the output\n",
    "; "
   ]
  },
  {
   "cell_type": "code",
   "execution_count": 45,
   "metadata": {
    "ExecuteTime": {
     "end_time": "2019-01-18T23:27:54.835570Z",
     "start_time": "2019-01-18T23:27:54.825798Z"
    },
    "id": "nwdfE0maqBNZ"
   },
   "outputs": [
    {
     "name": "stdout",
     "output_type": "stream",
     "text": [
      "CPU times: user 761 µs, sys: 2.02 ms, total: 2.78 ms\n",
      "Wall time: 1.87 ms\n"
     ]
    },
    {
     "data": {
      "text/plain": [
       "''"
      ]
     },
     "execution_count": 45,
     "metadata": {},
     "output_type": "execute_result"
    }
   ],
   "source": [
    "%%time\n",
    "elementwise_array_sum(sample_array_2, sample_array_2)\n",
    ";"
   ]
  },
  {
   "cell_type": "markdown",
   "metadata": {
    "id": "JPmil7RmqBNZ"
   },
   "source": [
    "With the larger dataset, we see that using NumPy results in code that executes way faster! Throughout this course (and in the real world), you will find that writing efficient code will be important; arrays and vectorized operations are the most common way of making Python programs run quickly."
   ]
  },
  {
   "cell_type": "markdown",
   "metadata": {
    "id": "QP8ni2SRxpWi"
   },
   "source": [
    "### 3.2 Multidimensional Arrays\n",
    "\n",
    "A multidimensional array is a primitive version of a table, containing only one kind of data and having no column labels. A 2-dimensional array is useful for working with matrices of numbers.\n",
    "\n",
    "**NOTE: 0 points for guidelines, -1 if you do not run, output and understand**"
   ]
  },
  {
   "cell_type": "code",
   "execution_count": 46,
   "metadata": {
    "id": "5GWgaaJPpX0D"
   },
   "outputs": [
    {
     "data": {
      "text/plain": [
       "array([[0., 0., 0., 0., 0.],\n",
       "       [0., 0., 0., 0., 0.],\n",
       "       [0., 0., 0., 0., 0.],\n",
       "       [0., 0., 0., 0., 0.]])"
      ]
     },
     "execution_count": 46,
     "metadata": {},
     "output_type": "execute_result"
    }
   ],
   "source": [
    "# The zeros function creates an array with the given shape.\n",
    "# For a 2-dimensional array like this one, the first\n",
    "# coordinate says how far the array goes *down*, and the\n",
    "# second says how far it goes *right*.\n",
    "arr3 = np.zeros((4, 5))\n",
    "arr3"
   ]
  },
  {
   "cell_type": "code",
   "execution_count": 47,
   "metadata": {
    "id": "PR6cMedIpX0E"
   },
   "outputs": [
    {
     "data": {
      "text/plain": [
       "(4, 5)"
      ]
     },
     "execution_count": 47,
     "metadata": {},
     "output_type": "execute_result"
    }
   ],
   "source": [
    "# The shape attribute returns the dimensions of the array.\n",
    "arr3.shape"
   ]
  },
  {
   "cell_type": "code",
   "execution_count": 48,
   "metadata": {
    "id": "dEs8p52PpX0E"
   },
   "outputs": [
    {
     "data": {
      "text/plain": [
       "array([[0., 0., 0., 0., 0.],\n",
       "       [0., 0., 7., 0., 0.],\n",
       "       [0., 0., 0., 0., 0.],\n",
       "       [0., 0., 0., 0., 0.]])"
      ]
     },
     "execution_count": 48,
     "metadata": {},
     "output_type": "execute_result"
    }
   ],
   "source": [
    "# You can think of array3 as an array containing 4 arrays, each\n",
    "# containing 5 zeros.  Accordingly, we can set or get the third\n",
    "# element of the second array in array 3 using standard Python\n",
    "# array indexing syntax twice:\n",
    "arr3[1][2] = 7\n",
    "arr3"
   ]
  },
  {
   "cell_type": "code",
   "execution_count": 49,
   "metadata": {
    "id": "Ft-iZqSspX0E"
   },
   "outputs": [
    {
     "data": {
      "text/plain": [
       "array([[0., 0., 0., 0., 0.],\n",
       "       [0., 0., 8., 0., 0.],\n",
       "       [0., 0., 0., 0., 0.],\n",
       "       [0., 0., 0., 0., 0.]])"
      ]
     },
     "execution_count": 49,
     "metadata": {},
     "output_type": "execute_result"
    }
   ],
   "source": [
    "# This comes up so often that there is special syntax provided\n",
    "# for it.  The comma syntax is equivalent to using multiple\n",
    "# brackets:\n",
    "arr3[1, 2] = 8\n",
    "arr3"
   ]
  },
  {
   "cell_type": "markdown",
   "metadata": {
    "id": "RwdyKN_4yb20"
   },
   "source": [
    "Arrays allow you to assign to multiple places at once. The special character : means \"everything\"."
   ]
  },
  {
   "cell_type": "code",
   "execution_count": 50,
   "metadata": {
    "id": "uMtbnTfPpX0F"
   },
   "outputs": [
    {
     "data": {
      "text/plain": [
       "array([[0., 0., 5., 0., 0.],\n",
       "       [0., 0., 5., 0., 0.],\n",
       "       [0., 0., 5., 0., 0.]])"
      ]
     },
     "execution_count": 50,
     "metadata": {},
     "output_type": "execute_result"
    }
   ],
   "source": [
    "arr4 = np.zeros((3, 5))\n",
    "arr4[:, 2] = 5\n",
    "arr4"
   ]
  },
  {
   "cell_type": "markdown",
   "metadata": {
    "id": "Pb4mPA-DpX0F"
   },
   "source": [
    "In fact, you can use arrays of indices to assign to multiple places. Study the next example and make sure you understand how it works."
   ]
  },
  {
   "cell_type": "code",
   "execution_count": 51,
   "metadata": {
    "id": "-Bgq_6STpX0G"
   },
   "outputs": [
    {
     "data": {
      "text/plain": [
       "array([[0., 3., 0., 0., 0.],\n",
       "       [0., 0., 0., 3., 0.],\n",
       "       [0., 0., 0., 0., 3.]])"
      ]
     },
     "execution_count": 51,
     "metadata": {},
     "output_type": "execute_result"
    }
   ],
   "source": [
    "arr5 = np.zeros((3, 5))\n",
    "rows = np.array([1, 0, 2])\n",
    "cols = np.array([3, 1, 4])\n",
    "\n",
    "# Indices (1,3), (0,1), and (2,4) will be set.\n",
    "arr5[rows, cols] = 3\n",
    "arr5"
   ]
  },
  {
   "cell_type": "markdown",
   "metadata": {
    "id": "H_e47doPpX0G"
   },
   "source": [
    "#### Question 3.2.a (5 points) \n",
    "Create a 50x50 array called twice_identity that contains all zeros except on the diagonal, where it contains the value 2.\n",
    "\n",
    "Start by making a 50x50 array of all zeros, then set the values. **Use indexing, not a for loop! (Don't use np.eye either, though you might find that function useful later. Don't use np.diag_indices or np.fill_diagonal)**"
   ]
  },
  {
   "cell_type": "code",
   "execution_count": 52,
   "metadata": {
    "id": "s76W8Yn4pX0G"
   },
   "outputs": [],
   "source": [
    "# type your code here\n",
    "...\n",
    "twice_identity= np.zeros((50, 50))\n",
    "list = []\n",
    "start, end = 0, 50\n",
    "list.extend(range(start, end))\n",
    "rows = np.array(list)\n",
    "cols = np.array(list)\n",
    "twice_identity[rows,cols] = 2\n"
   ]
  },
  {
   "cell_type": "code",
   "execution_count": 53,
   "metadata": {},
   "outputs": [
    {
     "data": {
      "text/html": [
       "<p><strong><pre style='display: inline;'>Question 3.2.a</pre></strong> passed!</p>"
      ],
      "text/plain": [
       "Question 3.2.a results: All test cases passed!"
      ]
     },
     "execution_count": 53,
     "metadata": {},
     "output_type": "execute_result"
    }
   ],
   "source": [
    "grader.check('q0302a')"
   ]
  },
  {
   "cell_type": "markdown",
   "metadata": {
    "id": "mAKWV4ul-Vzk"
   },
   "source": [
    "---\n",
    "\n",
    "To double-check your work, the cell below will rerun all of the autograder tests."
   ]
  },
  {
   "cell_type": "markdown",
   "metadata": {
    "id": "br3c22JkqBNg"
   },
   "source": [
    " "
   ]
  },
  {
   "cell_type": "code",
   "execution_count": 54,
   "metadata": {},
   "outputs": [
    {
     "data": {
      "text/plain": [
       "Question 2.a results: All test cases passed!\n",
       "\n",
       "Question 2.b results: All test cases passed!\n",
       "\n",
       "Question 3.1.a results: All test cases passed!\n",
       "\n",
       "Question 3.1.b results: All test cases passed!\n",
       "\n",
       "Question 3.2.a results: All test cases passed!"
      ]
     },
     "execution_count": 54,
     "metadata": {},
     "output_type": "execute_result"
    }
   ],
   "source": [
    "grader.check_all()"
   ]
  },
  {
   "cell_type": "markdown",
   "metadata": {},
   "source": [
    "## Submission\n",
    "\n",
    "Make sure you have run all cells in your notebook in order, so that all images/graphs appear in the output. \n",
    "1. Export as html\n",
    "2. Download ipynb \n",
    "3. Submit both to Canvas (NOT zip)"
   ]
  }
 ],
 "metadata": {
  "celltoolbar": "Create Assignment",
  "colab": {
   "collapsed_sections": [],
   "name": "TCSS 551 A1.ipynb",
   "provenance": [
    {
     "file_id": "18zSdosPH8gcA81hMeREGgKeUAfUxka7t",
     "timestamp": 1617238933428
    }
   ],
   "toc_visible": true
  },
  "history": [
   {
    "code": "help(print)",
    "id": "21c6b7fb3065458f8591a0467aa81a56",
    "idx": 6,
    "time": "2021-01-17T17:53:03.207Z",
    "type": "execution"
   },
   {
    "code": "print('Welcome to Data 100.')",
    "id": "71536419fa0644878bab6a05bfb46b48",
    "idx": 8,
    "time": "2021-01-17T17:53:03.212Z",
    "type": "execution"
   },
   {
    "code": "import pandas as pd\nimport numpy as np\nimport matplotlib.pyplot as plt\nplt.style.use('fivethirtyeight')\n%matplotlib inline",
    "id": "d31e1a7848594799bdbc9781d8514eca",
    "idx": 10,
    "time": "2021-01-17T17:53:03.215Z",
    "type": "execution"
   },
   {
    "code": "%%time\n\nlst = []\nfor i in range(100):\n    lst.append(i)",
    "id": "5131f80f4a5144648673527ae8000eca",
    "idx": 12,
    "time": "2021-01-17T17:53:03.218Z",
    "type": "execution"
   },
   {
    "code": "arr = np.array([1, 2, 3, 4, 5]) # SOLUTION",
    "id": "5d8c705fe5564bb08274a8222e279473",
    "idx": 18,
    "time": "2021-01-17T17:53:03.222Z",
    "type": "execution"
   },
   {
    "code": "# TEST\narr",
    "id": "870b019e59a944debaabf55ef641c9d9",
    "idx": 19,
    "time": "2021-01-17T17:53:03.224Z",
    "type": "execution"
   },
   {
    "code": "# TEST\ntype(arr) is np.ndarray",
    "id": "fe11a4121bc0456c9d4933a7119fa838",
    "idx": 20,
    "time": "2021-01-17T17:53:03.226Z",
    "type": "execution"
   },
   {
    "code": "arr[3]",
    "id": "76522a92888c403887a7be67aa1440a3",
    "idx": 22,
    "time": "2021-01-17T17:53:03.229Z",
    "type": "execution"
   },
   {
    "code": "arr[2:4]",
    "id": "ed9ab994b9e54a6791ed5cce6c1fbadf",
    "idx": 23,
    "time": "2021-01-17T17:53:03.231Z",
    "type": "execution"
   },
   {
    "code": "arr.shape",
    "id": "e4345b9e8f004df5875b1ba93c1a540a",
    "idx": 24,
    "time": "2021-01-17T17:53:03.233Z",
    "type": "execution"
   },
   {
    "code": "arr.dtype",
    "id": "43bf1ee7e1054f828a3ba8b3387d87b2",
    "idx": 25,
    "time": "2021-01-17T17:53:03.235Z",
    "type": "execution"
   },
   {
    "code": "# A regular Python list can store items of different data types\n[1, '3']",
    "id": "938b69f75016474f8f6697f55f78eb64",
    "idx": 27,
    "time": "2021-01-17T17:53:03.237Z",
    "type": "execution"
   },
   {
    "code": "# Arrays will convert everything to the same data type\nnp.array([1, '3'])",
    "id": "cc5505a0451e4d1da35a657e643ef2b0",
    "idx": 28,
    "time": "2021-01-17T17:53:03.240Z",
    "type": "execution"
   },
   {
    "code": "# Another example of array type conversion\nnp.array([5, 8.3])",
    "id": "fb021471af0642738134c0177757cec2",
    "idx": 29,
    "time": "2021-01-17T17:53:03.244Z",
    "type": "execution"
   },
   {
    "code": "# Python list addition will concatenate the two lists\n[1, 2, 3] + [4, 5, 6]",
    "id": "81e9992a430a49948144d551ff92fbed",
    "idx": 31,
    "time": "2021-01-17T17:53:03.246Z",
    "type": "execution"
   },
   {
    "code": "# NumPy array addition will add them element-wise\nnp.array([1, 2, 3]) + np.array([4, 5, 6])",
    "id": "8a7f9f456c014f2986f62d1107cc8f5d",
    "idx": 32,
    "time": "2021-01-17T17:53:03.248Z",
    "type": "execution"
   },
   {
    "code": "def summation(n):\n    \"\"\"Compute the summation i^3 + 3 * i^2 for 1 <= i <= n.\"\"\"\n    # BEGIN SOLUTION\n    if n < 1:\n        raise ValueError(\"n must be greater than or equal to 1\")\n    return sum((np.arange(1, n + 1) ** 3) + (3 * np.arange(1, n + 1) ** 2))\n    # END SOLUTION",
    "id": "173dcf4447e04bcc8ccb7e946ac015ad",
    "idx": 35,
    "time": "2021-01-17T17:53:03.252Z",
    "type": "execution"
   },
   {
    "code": "# TEST\nsummation(1)",
    "id": "0e5135e223c14eed82d1f6c94877ebc3",
    "idx": 36,
    "time": "2021-01-17T17:53:03.254Z",
    "type": "execution"
   },
   {
    "code": "# TEST\nsummation(2)",
    "id": "fc22eaabb2664b85878b9cada521c153",
    "idx": 37,
    "time": "2021-01-17T17:53:03.256Z",
    "type": "execution"
   },
   {
    "code": "# TEST\nsummation(100)",
    "id": "bbc73f423f38459d9601fb62ded404f6",
    "idx": 38,
    "time": "2021-01-17T17:53:03.258Z",
    "type": "execution"
   },
   {
    "code": "def elementwise_array_sum(list_1, list_2):\n    \"\"\"Compute x^2 + y^3 for each x, y in list_1, list_2. \n    \n    Assume list_1 and list_2 have the same length.\n    \n    Return a NumPy array.\n    \"\"\"\n    assert len(list_1) == len(list_2), \"both args must have the same number of elements\"\n    # BEGIN SOLUTION\n    # Solution 1\n    return np.square(list_1) + np.power(list_2, 3)\n    # Solution 2\n    return np.array(list_1) ** 2 + np.array(list_2) ** 3\n    # END SOLUTION",
    "id": "393599edb3f54b9a861baefb22a64ea0",
    "idx": 40,
    "time": "2021-01-17T17:53:03.265Z",
    "type": "execution"
   },
   {
    "code": "# TEST\nelementwise_array_sum([], [])",
    "id": "ba38bde9c06749d2a7e5f2191986a0df",
    "idx": 41,
    "time": "2021-01-17T17:53:03.267Z",
    "type": "execution"
   },
   {
    "code": "# TEST\nelementwise_array_sum([1], [1])",
    "id": "b4d0bf11de70475a8c8b6fda90e7fcab",
    "idx": 42,
    "time": "2021-01-17T17:53:03.269Z",
    "type": "execution"
   },
   {
    "code": "# TEST\nelementwise_array_sum([-1], [1])",
    "id": "e8f962319d834c2a8e101d566a4fe5bc",
    "idx": 43,
    "time": "2021-01-17T17:53:03.271Z",
    "type": "execution"
   },
   {
    "code": "# TEST\nelementwise_array_sum([1], [-1])",
    "id": "4c99d6088c8241c7bce131d46e7e3889",
    "idx": 44,
    "time": "2021-01-17T17:53:03.273Z",
    "type": "execution"
   },
   {
    "code": "# TEST\nelementwise_array_sum([1, 2, 3], [1, 2, 3])",
    "id": "829e1cf6d0104a90a2a3a583bf8fc899",
    "idx": 45,
    "time": "2021-01-17T17:53:03.274Z",
    "type": "execution"
   },
   {
    "code": "# TEST\nelementwise_array_sum([1, 5, 2], [3, 6, 6])",
    "id": "01f01274813a4ec59a7a0d04cc663f84",
    "idx": 46,
    "time": "2021-01-17T17:53:03.277Z",
    "type": "execution"
   },
   {
    "code": "# TEST\ntype(elementwise_array_sum([], [])) is np.ndarray",
    "id": "c35b73570a7e4cba89540dc791617642",
    "idx": 47,
    "time": "2021-01-17T17:53:03.279Z",
    "type": "execution"
   },
   {
    "code": "def elementwise_list_sum(list_1, list_2):\n    \"\"\"Compute x^2 + y^3 for each x, y in list_1, list_2. \n    \n    Assume list_1 and list_2 have the same length.\n    \"\"\"\n\n    return [x ** 2 + y ** 3 for x, y in zip(list_1, list_2)]",
    "id": "17b006abc8df460c98db7ca9c29e77b9",
    "idx": 49,
    "time": "2021-01-17T17:53:03.281Z",
    "type": "execution"
   },
   {
    "code": "sample_list_1 = list(range(10))\nsample_array_1 = np.arange(10)",
    "id": "5469540a13e14dab81d05dde08ade13b",
    "idx": 51,
    "time": "2021-01-17T17:53:03.283Z",
    "type": "execution"
   },
   {
    "code": "%%time\nelementwise_list_sum(sample_list_1, sample_list_1)",
    "id": "aac04bd4435145948982283317d32487",
    "idx": 52,
    "time": "2021-01-17T17:53:03.286Z",
    "type": "execution"
   },
   {
    "code": "%%time\nelementwise_array_sum(sample_array_1, sample_array_1)",
    "id": "6f3a213601e24fc088f8e74b8e7a610c",
    "idx": 53,
    "time": "2021-01-17T17:53:03.290Z",
    "type": "execution"
   },
   {
    "code": "sample_list_2 = list(range(100000))\nsample_array_2 = np.arange(100000)",
    "id": "c2f7d2cc24154dd48cfa3698ec5552bd",
    "idx": 55,
    "time": "2021-01-17T17:53:03.292Z",
    "type": "execution"
   },
   {
    "code": "%%time\nelementwise_list_sum(sample_list_2, sample_list_2)\n; # The semicolon hides the output",
    "id": "46c0b3d804194df09f9f24730365aa29",
    "idx": 56,
    "time": "2021-01-17T17:53:03.294Z",
    "type": "execution"
   },
   {
    "code": "%%time\nelementwise_array_sum(sample_array_2, sample_array_2)\n;",
    "id": "f9dc636981d64d3c90ad7924e0f248c9",
    "idx": 57,
    "time": "2021-01-17T17:53:03.296Z",
    "type": "execution"
   },
   {
    "code": "def mean(population):\n    \"\"\"\n    Returns the mean of population (mu)\n    \n    Keyword arguments:\n    population -- a numpy array of numbers\n    \"\"\"\n    # Calculate the mean of a population\n    return sum(population) / len(population) # SOLUTION\n\ndef variance(population):\n    \"\"\"\n    Returns the variance of population (sigma squared)\n    \n    Keyword arguments:\n    population -- a numpy array of numbers\n    \"\"\"\n    # Calculate the variance of a population\n    # BEGIN SOLUTION\n    m = mean(population)\n    return sum((population - m) ** 2) / len(population)\n    # END SOLUTION",
    "id": "7b192c8e91be4bddaab73f93398dc7c6",
    "idx": 60,
    "time": "2021-01-17T17:53:03.299Z",
    "type": "execution"
   },
   {
    "code": "# TEST\npopulation_0 = np.random.randn(100)\nnp.isclose(mean(population_0), np.mean(population_0), atol=1e-6)",
    "id": "d566605090dc424087eecfb22600b232",
    "idx": 61,
    "time": "2021-01-17T17:53:03.301Z",
    "type": "execution"
   },
   {
    "code": "# HIDDEN TEST\npopulation_1 = 3 * np.random.randn(100) + 5\nnp.isclose(mean(population_1), np.mean(population_1), atol=1e-6)",
    "id": "fa5bbfed1daf4287bc6d683f207aaaaa",
    "idx": 62,
    "time": "2021-01-17T17:53:03.303Z",
    "type": "execution"
   },
   {
    "code": "# TEST\npopulation_0 = np.random.randn(100)\nnp.isclose(variance(population_0), np.var(population_0), atol=1e-6)",
    "id": "43dc728e51d34d448cbcc0b07ee4bf54",
    "idx": 63,
    "time": "2021-01-17T17:53:03.309Z",
    "type": "execution"
   },
   {
    "code": "# HIDDEN TEST\npopulation_1 = 3 * np.random.randn(100) + 5\nnp.isclose(variance(population_1), np.var(population_1), atol=1e-6)",
    "id": "59f96df1e503472188668ae33ce05fa8",
    "idx": 64,
    "time": "2021-01-17T17:53:03.313Z",
    "type": "execution"
   },
   {
    "code": "np.random.seed(42)\nrandom_arr = np.random.rand(60)\nvalid_values = random_arr[(2 * random_arr ** 4 > 1)] # SOLUTION",
    "id": "7f8d35d2151c40148b516ab7678d9c1b",
    "idx": 66,
    "time": "2021-01-17T17:53:03.315Z",
    "type": "execution"
   },
   {
    "code": "# TEST\nvalid_values",
    "id": "513e64a52091401582941a713823d603",
    "idx": 67,
    "time": "2021-01-17T17:53:03.317Z",
    "type": "execution"
   },
   {
    "code": "# TEST\nlen(valid_values) == 10",
    "id": "eb4edb69609a4900960c4687bf5e4056",
    "idx": 68,
    "time": "2021-01-17T17:53:03.319Z",
    "type": "execution"
   },
   {
    "code": "# TEST\nnp.allclose(valid_values, [0.95071431, 0.86617615, 0.96990985, 0.94888554, 0.96563203,\n       0.9093204 , 0.96958463, 0.93949894, 0.89482735, 0.92187424])",
    "id": "39e0aac3d33e422a969cd15ff428829f",
    "idx": 69,
    "time": "2021-01-17T17:53:03.322Z",
    "type": "execution"
   },
   {
    "code": "def f(x):\n    return x ** 2 # SOLUTION\n    \ndef df(x):\n    return 2 * x # SOLUTION\n\ndef plot(f, df):              \n    # BEGIN SOLUTION\n    x = np.linspace(-15, 15, 100)\n\n    plt.figure(figsize = (4, 4))\n    plt.plot(x, f(x))\n    plt.plot(x, np.zeros(x.shape[0]))\n    plt.plot(x, df(8) * (x - 8) + f(8))\n    \n    plt.xlim(-15, 15)\n    plt.ylim(-100, 300)\n    # END SOLUTION\n\nplot(f, df)",
    "id": "094decd551aa44fb8a03a3770fe72f6f",
    "idx": 76,
    "time": "2021-01-17T17:53:03.326Z",
    "type": "execution"
   },
   {
    "code": "from mpl_toolkits.mplot3d import axes3d\n\nu = np.linspace(1.5 * np.pi, -1.5 * np.pi, 100)\n# Your answer here\n[x, y] = np.meshgrid(u, u)\n# Your answer here\nsquared = np.sqrt(x.flatten() ** 2 + y.flatten() ** 2)\nz = np.cos(squared)\n# Your answer here\nz = z.reshape(x.shape)\n# Your answer here\n\nfig = plt.figure(figsize = (6, 6))\nax = fig.add_subplot(111, projection = '3d')\n# Your answer here\nax.plot_wireframe(x, y, z, rstride = 5, cstride = 5, lw = 2)\n# Your answer here\nax.view_init(elev = 60, azim = 25)\n# Your answer here\nplt.savefig(\"figure1.png\")\n# Your answer here",
    "id": "9a1da5416f9643bd8e0522e43244bdec",
    "idx": 78,
    "time": "2021-01-17T17:53:03.328Z",
    "type": "execution"
   },
   {
    "id": "21c6b7fb3065458f8591a0467aa81a56",
    "time": "2021-01-17T17:53:03.472Z",
    "type": "completion"
   },
   {
    "id": "71536419fa0644878bab6a05bfb46b48",
    "time": "2021-01-17T17:53:03.474Z",
    "type": "completion"
   },
   {
    "id": "d31e1a7848594799bdbc9781d8514eca",
    "time": "2021-01-17T17:53:06.583Z",
    "type": "completion"
   },
   {
    "id": "5131f80f4a5144648673527ae8000eca",
    "time": "2021-01-17T17:53:06.589Z",
    "type": "completion"
   },
   {
    "id": "5d8c705fe5564bb08274a8222e279473",
    "time": "2021-01-17T17:53:06.658Z",
    "type": "completion"
   },
   {
    "id": "870b019e59a944debaabf55ef641c9d9",
    "time": "2021-01-17T17:53:06.663Z",
    "type": "completion"
   },
   {
    "id": "fe11a4121bc0456c9d4933a7119fa838",
    "time": "2021-01-17T17:53:06.665Z",
    "type": "completion"
   },
   {
    "id": "76522a92888c403887a7be67aa1440a3",
    "time": "2021-01-17T17:53:06.668Z",
    "type": "completion"
   },
   {
    "id": "ed9ab994b9e54a6791ed5cce6c1fbadf",
    "time": "2021-01-17T17:53:06.670Z",
    "type": "completion"
   },
   {
    "id": "e4345b9e8f004df5875b1ba93c1a540a",
    "time": "2021-01-17T17:53:06.672Z",
    "type": "completion"
   },
   {
    "id": "43bf1ee7e1054f828a3ba8b3387d87b2",
    "time": "2021-01-17T17:53:06.673Z",
    "type": "completion"
   },
   {
    "id": "938b69f75016474f8f6697f55f78eb64",
    "time": "2021-01-17T17:53:06.702Z",
    "type": "completion"
   },
   {
    "id": "cc5505a0451e4d1da35a657e643ef2b0",
    "time": "2021-01-17T17:53:06.725Z",
    "type": "completion"
   },
   {
    "id": "fb021471af0642738134c0177757cec2",
    "time": "2021-01-17T17:53:06.757Z",
    "type": "completion"
   },
   {
    "id": "81e9992a430a49948144d551ff92fbed",
    "time": "2021-01-17T17:53:06.766Z",
    "type": "completion"
   },
   {
    "id": "8a7f9f456c014f2986f62d1107cc8f5d",
    "time": "2021-01-17T17:53:06.769Z",
    "type": "completion"
   },
   {
    "id": "173dcf4447e04bcc8ccb7e946ac015ad",
    "time": "2021-01-17T17:53:06.772Z",
    "type": "completion"
   },
   {
    "id": "0e5135e223c14eed82d1f6c94877ebc3",
    "time": "2021-01-17T17:53:06.773Z",
    "type": "completion"
   },
   {
    "id": "fc22eaabb2664b85878b9cada521c153",
    "time": "2021-01-17T17:53:06.775Z",
    "type": "completion"
   },
   {
    "id": "bbc73f423f38459d9601fb62ded404f6",
    "time": "2021-01-17T17:53:06.777Z",
    "type": "completion"
   },
   {
    "id": "393599edb3f54b9a861baefb22a64ea0",
    "time": "2021-01-17T17:53:06.779Z",
    "type": "completion"
   },
   {
    "id": "ba38bde9c06749d2a7e5f2191986a0df",
    "time": "2021-01-17T17:53:06.780Z",
    "type": "completion"
   },
   {
    "id": "b4d0bf11de70475a8c8b6fda90e7fcab",
    "time": "2021-01-17T17:53:06.782Z",
    "type": "completion"
   },
   {
    "id": "e8f962319d834c2a8e101d566a4fe5bc",
    "time": "2021-01-17T17:53:06.817Z",
    "type": "completion"
   },
   {
    "id": "4c99d6088c8241c7bce131d46e7e3889",
    "time": "2021-01-17T17:53:06.820Z",
    "type": "completion"
   },
   {
    "id": "829e1cf6d0104a90a2a3a583bf8fc899",
    "time": "2021-01-17T17:53:06.822Z",
    "type": "completion"
   },
   {
    "id": "01f01274813a4ec59a7a0d04cc663f84",
    "time": "2021-01-17T17:53:06.823Z",
    "type": "completion"
   },
   {
    "id": "c35b73570a7e4cba89540dc791617642",
    "time": "2021-01-17T17:53:06.825Z",
    "type": "completion"
   },
   {
    "id": "17b006abc8df460c98db7ca9c29e77b9",
    "time": "2021-01-17T17:53:06.848Z",
    "type": "completion"
   },
   {
    "id": "5469540a13e14dab81d05dde08ade13b",
    "time": "2021-01-17T17:53:06.851Z",
    "type": "completion"
   },
   {
    "id": "aac04bd4435145948982283317d32487",
    "time": "2021-01-17T17:53:06.855Z",
    "type": "completion"
   },
   {
    "id": "6f3a213601e24fc088f8e74b8e7a610c",
    "time": "2021-01-17T17:53:06.857Z",
    "type": "completion"
   },
   {
    "id": "c2f7d2cc24154dd48cfa3698ec5552bd",
    "time": "2021-01-17T17:53:06.863Z",
    "type": "completion"
   },
   {
    "id": "46c0b3d804194df09f9f24730365aa29",
    "time": "2021-01-17T17:53:06.897Z",
    "type": "completion"
   },
   {
    "id": "f9dc636981d64d3c90ad7924e0f248c9",
    "time": "2021-01-17T17:53:06.907Z",
    "type": "completion"
   },
   {
    "id": "7b192c8e91be4bddaab73f93398dc7c6",
    "time": "2021-01-17T17:53:06.931Z",
    "type": "completion"
   },
   {
    "id": "d566605090dc424087eecfb22600b232",
    "time": "2021-01-17T17:53:06.933Z",
    "type": "completion"
   },
   {
    "id": "fa5bbfed1daf4287bc6d683f207aaaaa",
    "time": "2021-01-17T17:53:06.936Z",
    "type": "completion"
   },
   {
    "id": "43dc728e51d34d448cbcc0b07ee4bf54",
    "time": "2021-01-17T17:53:06.965Z",
    "type": "completion"
   },
   {
    "id": "59f96df1e503472188668ae33ce05fa8",
    "time": "2021-01-17T17:53:06.967Z",
    "type": "completion"
   },
   {
    "id": "7f8d35d2151c40148b516ab7678d9c1b",
    "time": "2021-01-17T17:53:06.991Z",
    "type": "completion"
   },
   {
    "id": "513e64a52091401582941a713823d603",
    "time": "2021-01-17T17:53:06.993Z",
    "type": "completion"
   },
   {
    "id": "eb4edb69609a4900960c4687bf5e4056",
    "time": "2021-01-17T17:53:06.997Z",
    "type": "completion"
   },
   {
    "id": "39e0aac3d33e422a969cd15ff428829f",
    "time": "2021-01-17T17:53:07.000Z",
    "type": "completion"
   },
   {
    "id": "094decd551aa44fb8a03a3770fe72f6f",
    "time": "2021-01-17T17:53:07.121Z",
    "type": "completion"
   },
   {
    "id": "9a1da5416f9643bd8e0522e43244bdec",
    "time": "2021-01-17T17:53:07.548Z",
    "type": "completion"
   },
   {
    "code": "help(print)",
    "id": "21c6b7fb3065458f8591a0467aa81a56",
    "idx": 6,
    "time": "2021-01-17T17:57:50.619Z",
    "type": "execution"
   },
   {
    "code": "print('Welcome to Data 100.')",
    "id": "71536419fa0644878bab6a05bfb46b48",
    "idx": 8,
    "time": "2021-01-17T17:57:50.628Z",
    "type": "execution"
   },
   {
    "code": "import pandas as pd\nimport numpy as np\nimport matplotlib.pyplot as plt\nplt.style.use('fivethirtyeight')\n%matplotlib inline",
    "id": "d31e1a7848594799bdbc9781d8514eca",
    "idx": 10,
    "time": "2021-01-17T17:57:50.630Z",
    "type": "execution"
   },
   {
    "code": "%%time\n\nlst = []\nfor i in range(100):\n    lst.append(i)",
    "id": "5131f80f4a5144648673527ae8000eca",
    "idx": 12,
    "time": "2021-01-17T17:57:50.633Z",
    "type": "execution"
   },
   {
    "code": "arr = np.array([1, 2, 3, 4, 5]) # SOLUTION",
    "id": "5d8c705fe5564bb08274a8222e279473",
    "idx": 18,
    "time": "2021-01-17T17:57:50.638Z",
    "type": "execution"
   },
   {
    "code": "# TEST\narr",
    "id": "870b019e59a944debaabf55ef641c9d9",
    "idx": 19,
    "time": "2021-01-17T17:57:50.640Z",
    "type": "execution"
   },
   {
    "code": "# TEST\ntype(arr) is np.ndarray",
    "id": "fe11a4121bc0456c9d4933a7119fa838",
    "idx": 20,
    "time": "2021-01-17T17:57:50.643Z",
    "type": "execution"
   },
   {
    "code": "arr[3]",
    "id": "76522a92888c403887a7be67aa1440a3",
    "idx": 22,
    "time": "2021-01-17T17:57:50.646Z",
    "type": "execution"
   },
   {
    "code": "arr[2:4]",
    "id": "ed9ab994b9e54a6791ed5cce6c1fbadf",
    "idx": 23,
    "time": "2021-01-17T17:57:50.648Z",
    "type": "execution"
   },
   {
    "code": "arr.shape",
    "id": "e4345b9e8f004df5875b1ba93c1a540a",
    "idx": 24,
    "time": "2021-01-17T17:57:50.653Z",
    "type": "execution"
   },
   {
    "code": "arr.dtype",
    "id": "43bf1ee7e1054f828a3ba8b3387d87b2",
    "idx": 25,
    "time": "2021-01-17T17:57:50.655Z",
    "type": "execution"
   },
   {
    "code": "# A regular Python list can store items of different data types\n[1, '3']",
    "id": "938b69f75016474f8f6697f55f78eb64",
    "idx": 27,
    "time": "2021-01-17T17:57:50.658Z",
    "type": "execution"
   },
   {
    "code": "# Arrays will convert everything to the same data type\nnp.array([1, '3'])",
    "id": "cc5505a0451e4d1da35a657e643ef2b0",
    "idx": 28,
    "time": "2021-01-17T17:57:50.661Z",
    "type": "execution"
   },
   {
    "code": "# Another example of array type conversion\nnp.array([5, 8.3])",
    "id": "fb021471af0642738134c0177757cec2",
    "idx": 29,
    "time": "2021-01-17T17:57:50.663Z",
    "type": "execution"
   },
   {
    "code": "# Python list addition will concatenate the two lists\n[1, 2, 3] + [4, 5, 6]",
    "id": "81e9992a430a49948144d551ff92fbed",
    "idx": 31,
    "time": "2021-01-17T17:57:50.666Z",
    "type": "execution"
   },
   {
    "code": "# NumPy array addition will add them element-wise\nnp.array([1, 2, 3]) + np.array([4, 5, 6])",
    "id": "8a7f9f456c014f2986f62d1107cc8f5d",
    "idx": 32,
    "time": "2021-01-17T17:57:50.668Z",
    "type": "execution"
   },
   {
    "code": "def summation(n):\n    \"\"\"Compute the summation i^3 + 3 * i^2 for 1 <= i <= n.\"\"\"\n    # BEGIN SOLUTION\n    if n < 1:\n        raise ValueError(\"n must be greater than or equal to 1\")\n    return sum((np.arange(1, n + 1) ** 3) + (3 * np.arange(1, n + 1) ** 2))\n    # END SOLUTION",
    "id": "173dcf4447e04bcc8ccb7e946ac015ad",
    "idx": 35,
    "time": "2021-01-17T17:57:50.671Z",
    "type": "execution"
   },
   {
    "code": "# TEST\nsummation(1)",
    "id": "0e5135e223c14eed82d1f6c94877ebc3",
    "idx": 36,
    "time": "2021-01-17T17:57:50.672Z",
    "type": "execution"
   },
   {
    "code": "# TEST\nsummation(2)",
    "id": "fc22eaabb2664b85878b9cada521c153",
    "idx": 37,
    "time": "2021-01-17T17:57:50.674Z",
    "type": "execution"
   },
   {
    "code": "# TEST\nsummation(100)",
    "id": "bbc73f423f38459d9601fb62ded404f6",
    "idx": 38,
    "time": "2021-01-17T17:57:50.676Z",
    "type": "execution"
   },
   {
    "code": "def elementwise_array_sum(list_1, list_2):\n    \"\"\"Compute x^2 + y^3 for each x, y in list_1, list_2. \n    \n    Assume list_1 and list_2 have the same length.\n    \n    Return a NumPy array.\n    \"\"\"\n    assert len(list_1) == len(list_2), \"both args must have the same number of elements\"\n    # BEGIN SOLUTION\n    # Solution 1\n    return np.square(list_1) + np.power(list_2, 3)\n    # Solution 2\n    return np.array(list_1) ** 2 + np.array(list_2) ** 3\n    # END SOLUTION",
    "id": "393599edb3f54b9a861baefb22a64ea0",
    "idx": 40,
    "time": "2021-01-17T17:57:50.678Z",
    "type": "execution"
   },
   {
    "code": "# TEST\nelementwise_array_sum([], [])",
    "id": "ba38bde9c06749d2a7e5f2191986a0df",
    "idx": 41,
    "time": "2021-01-17T17:57:50.680Z",
    "type": "execution"
   },
   {
    "code": "# TEST\nelementwise_array_sum([1], [1])",
    "id": "b4d0bf11de70475a8c8b6fda90e7fcab",
    "idx": 42,
    "time": "2021-01-17T17:57:50.682Z",
    "type": "execution"
   },
   {
    "code": "# TEST\nelementwise_array_sum([-1], [1])",
    "id": "e8f962319d834c2a8e101d566a4fe5bc",
    "idx": 43,
    "time": "2021-01-17T17:57:50.684Z",
    "type": "execution"
   },
   {
    "code": "# TEST\nelementwise_array_sum([1], [-1])",
    "id": "4c99d6088c8241c7bce131d46e7e3889",
    "idx": 44,
    "time": "2021-01-17T17:57:50.687Z",
    "type": "execution"
   },
   {
    "code": "# TEST\nelementwise_array_sum([1, 2, 3], [1, 2, 3])",
    "id": "829e1cf6d0104a90a2a3a583bf8fc899",
    "idx": 45,
    "time": "2021-01-17T17:57:50.690Z",
    "type": "execution"
   },
   {
    "code": "# TEST\nelementwise_array_sum([1, 5, 2], [3, 6, 6])",
    "id": "01f01274813a4ec59a7a0d04cc663f84",
    "idx": 46,
    "time": "2021-01-17T17:57:50.694Z",
    "type": "execution"
   },
   {
    "code": "# TEST\ntype(elementwise_array_sum([], [])) is np.ndarray",
    "id": "c35b73570a7e4cba89540dc791617642",
    "idx": 47,
    "time": "2021-01-17T17:57:50.695Z",
    "type": "execution"
   },
   {
    "code": "def elementwise_list_sum(list_1, list_2):\n    \"\"\"Compute x^2 + y^3 for each x, y in list_1, list_2. \n    \n    Assume list_1 and list_2 have the same length.\n    \"\"\"\n\n    return [x ** 2 + y ** 3 for x, y in zip(list_1, list_2)]",
    "id": "17b006abc8df460c98db7ca9c29e77b9",
    "idx": 49,
    "time": "2021-01-17T17:57:50.698Z",
    "type": "execution"
   },
   {
    "code": "sample_list_1 = list(range(10))\nsample_array_1 = np.arange(10)",
    "id": "5469540a13e14dab81d05dde08ade13b",
    "idx": 51,
    "time": "2021-01-17T17:57:50.704Z",
    "type": "execution"
   },
   {
    "code": "%%time\nelementwise_list_sum(sample_list_1, sample_list_1)",
    "id": "aac04bd4435145948982283317d32487",
    "idx": 52,
    "time": "2021-01-17T17:57:50.707Z",
    "type": "execution"
   },
   {
    "code": "%%time\nelementwise_array_sum(sample_array_1, sample_array_1)",
    "id": "6f3a213601e24fc088f8e74b8e7a610c",
    "idx": 53,
    "time": "2021-01-17T17:57:50.710Z",
    "type": "execution"
   },
   {
    "code": "sample_list_2 = list(range(100000))\nsample_array_2 = np.arange(100000)",
    "id": "c2f7d2cc24154dd48cfa3698ec5552bd",
    "idx": 55,
    "time": "2021-01-17T17:57:50.713Z",
    "type": "execution"
   },
   {
    "code": "%%time\nelementwise_list_sum(sample_list_2, sample_list_2)\n; # The semicolon hides the output",
    "id": "46c0b3d804194df09f9f24730365aa29",
    "idx": 56,
    "time": "2021-01-17T17:57:50.717Z",
    "type": "execution"
   },
   {
    "code": "%%time\nelementwise_array_sum(sample_array_2, sample_array_2)\n;",
    "id": "f9dc636981d64d3c90ad7924e0f248c9",
    "idx": 57,
    "time": "2021-01-17T17:57:50.721Z",
    "type": "execution"
   },
   {
    "code": "def mean(population):\n    \"\"\"\n    Returns the mean of population (mu)\n    \n    Keyword arguments:\n    population -- a numpy array of numbers\n    \"\"\"\n    # Calculate the mean of a population\n    return sum(population) / len(population) # SOLUTION\n\ndef variance(population):\n    \"\"\"\n    Returns the variance of population (sigma squared)\n    \n    Keyword arguments:\n    population -- a numpy array of numbers\n    \"\"\"\n    # Calculate the variance of a population\n    # BEGIN SOLUTION\n    m = mean(population)\n    return sum((population - m) ** 2) / len(population)\n    # END SOLUTION",
    "id": "7b192c8e91be4bddaab73f93398dc7c6",
    "idx": 60,
    "time": "2021-01-17T17:57:50.725Z",
    "type": "execution"
   },
   {
    "code": "# TEST\npopulation_0 = np.random.randn(100)\nnp.isclose(mean(population_0), np.mean(population_0), atol=1e-6)",
    "id": "d566605090dc424087eecfb22600b232",
    "idx": 61,
    "time": "2021-01-17T17:57:50.727Z",
    "type": "execution"
   },
   {
    "code": "# HIDDEN TEST\npopulation_1 = 3 * np.random.randn(100) + 5\nnp.isclose(mean(population_1), np.mean(population_1), atol=1e-6)",
    "id": "fa5bbfed1daf4287bc6d683f207aaaaa",
    "idx": 62,
    "time": "2021-01-17T17:57:50.729Z",
    "type": "execution"
   },
   {
    "code": "# TEST\npopulation_0 = np.random.randn(100)\nnp.isclose(variance(population_0), np.var(population_0), atol=1e-6)",
    "id": "43dc728e51d34d448cbcc0b07ee4bf54",
    "idx": 63,
    "time": "2021-01-17T17:57:50.731Z",
    "type": "execution"
   },
   {
    "code": "# HIDDEN TEST\npopulation_1 = 3 * np.random.randn(100) + 5\nnp.isclose(variance(population_1), np.var(population_1), atol=1e-6)",
    "id": "59f96df1e503472188668ae33ce05fa8",
    "idx": 64,
    "time": "2021-01-17T17:57:50.733Z",
    "type": "execution"
   },
   {
    "code": "np.random.seed(42)\nrandom_arr = np.random.rand(60)\nvalid_values = random_arr[(2 * random_arr ** 4 > 1)] # SOLUTION",
    "id": "7f8d35d2151c40148b516ab7678d9c1b",
    "idx": 66,
    "time": "2021-01-17T17:57:50.735Z",
    "type": "execution"
   },
   {
    "code": "# TEST\nvalid_values",
    "id": "513e64a52091401582941a713823d603",
    "idx": 67,
    "time": "2021-01-17T17:57:50.737Z",
    "type": "execution"
   },
   {
    "code": "# TEST\nlen(valid_values) == 10",
    "id": "eb4edb69609a4900960c4687bf5e4056",
    "idx": 68,
    "time": "2021-01-17T17:57:50.739Z",
    "type": "execution"
   },
   {
    "code": "# TEST\nnp.allclose(valid_values, [0.95071431, 0.86617615, 0.96990985, 0.94888554, 0.96563203,\n       0.9093204 , 0.96958463, 0.93949894, 0.89482735, 0.92187424])",
    "id": "39e0aac3d33e422a969cd15ff428829f",
    "idx": 69,
    "time": "2021-01-17T17:57:50.740Z",
    "type": "execution"
   },
   {
    "code": "def f(x):\n    return x ** 2 # SOLUTION\n    \ndef df(x):\n    return 2 * x # SOLUTION\n\ndef plot(f, df):              \n    # BEGIN SOLUTION\n    x = np.linspace(-15, 15, 100)\n\n    plt.figure(figsize = (4, 4))\n    plt.plot(x, f(x))\n    plt.plot(x, np.zeros(x.shape[0]))\n    plt.plot(x, df(8) * (x - 8) + f(8))\n    \n    plt.xlim(-15, 15)\n    plt.ylim(-100, 300)\n    # END SOLUTION\n\nplot(f, df)",
    "id": "094decd551aa44fb8a03a3770fe72f6f",
    "idx": 76,
    "time": "2021-01-17T17:57:50.744Z",
    "type": "execution"
   },
   {
    "code": "from mpl_toolkits.mplot3d import axes3d\n\nu = np.linspace(1.5 * np.pi, -1.5 * np.pi, 100)\n# Your answer here\n[x, y] = np.meshgrid(u, u)\n# Your answer here\nsquared = np.sqrt(x.flatten() ** 2 + y.flatten() ** 2)\nz = np.cos(squared)\n# Your answer here\nz = z.reshape(x.shape)\n# Your answer here\n\nfig = plt.figure(figsize = (6, 6))\nax = fig.add_subplot(111, projection = '3d')\n# Your answer here\nax.plot_wireframe(x, y, z, rstride = 5, cstride = 5, lw = 2)\n# Your answer here\nax.view_init(elev = 60, azim = 25)\n# Your answer here\nplt.savefig(\"figure1.png\")\n# Your answer here",
    "id": "9a1da5416f9643bd8e0522e43244bdec",
    "idx": 78,
    "time": "2021-01-17T17:57:50.746Z",
    "type": "execution"
   },
   {
    "id": "21c6b7fb3065458f8591a0467aa81a56",
    "time": "2021-01-17T17:57:50.780Z",
    "type": "completion"
   },
   {
    "id": "71536419fa0644878bab6a05bfb46b48",
    "time": "2021-01-17T17:57:50.783Z",
    "type": "completion"
   },
   {
    "id": "d31e1a7848594799bdbc9781d8514eca",
    "time": "2021-01-17T17:57:51.323Z",
    "type": "completion"
   },
   {
    "id": "5131f80f4a5144648673527ae8000eca",
    "time": "2021-01-17T17:57:51.328Z",
    "type": "completion"
   },
   {
    "id": "5d8c705fe5564bb08274a8222e279473",
    "time": "2021-01-17T17:57:51.334Z",
    "type": "completion"
   },
   {
    "id": "870b019e59a944debaabf55ef641c9d9",
    "time": "2021-01-17T17:57:51.395Z",
    "type": "completion"
   },
   {
    "id": "fe11a4121bc0456c9d4933a7119fa838",
    "time": "2021-01-17T17:57:51.404Z",
    "type": "completion"
   },
   {
    "id": "76522a92888c403887a7be67aa1440a3",
    "time": "2021-01-17T17:57:51.406Z",
    "type": "completion"
   },
   {
    "id": "ed9ab994b9e54a6791ed5cce6c1fbadf",
    "time": "2021-01-17T17:57:51.409Z",
    "type": "completion"
   },
   {
    "id": "e4345b9e8f004df5875b1ba93c1a540a",
    "time": "2021-01-17T17:57:51.412Z",
    "type": "completion"
   },
   {
    "id": "43bf1ee7e1054f828a3ba8b3387d87b2",
    "time": "2021-01-17T17:57:51.414Z",
    "type": "completion"
   },
   {
    "id": "938b69f75016474f8f6697f55f78eb64",
    "time": "2021-01-17T17:57:51.416Z",
    "type": "completion"
   },
   {
    "id": "cc5505a0451e4d1da35a657e643ef2b0",
    "time": "2021-01-17T17:57:51.469Z",
    "type": "completion"
   },
   {
    "id": "fb021471af0642738134c0177757cec2",
    "time": "2021-01-17T17:57:51.504Z",
    "type": "completion"
   },
   {
    "id": "81e9992a430a49948144d551ff92fbed",
    "time": "2021-01-17T17:57:51.511Z",
    "type": "completion"
   },
   {
    "id": "8a7f9f456c014f2986f62d1107cc8f5d",
    "time": "2021-01-17T17:57:51.518Z",
    "type": "completion"
   },
   {
    "id": "173dcf4447e04bcc8ccb7e946ac015ad",
    "time": "2021-01-17T17:57:51.522Z",
    "type": "completion"
   },
   {
    "id": "0e5135e223c14eed82d1f6c94877ebc3",
    "time": "2021-01-17T17:57:51.527Z",
    "type": "completion"
   },
   {
    "id": "fc22eaabb2664b85878b9cada521c153",
    "time": "2021-01-17T17:57:51.545Z",
    "type": "completion"
   },
   {
    "id": "bbc73f423f38459d9601fb62ded404f6",
    "time": "2021-01-17T17:57:51.547Z",
    "type": "completion"
   },
   {
    "id": "393599edb3f54b9a861baefb22a64ea0",
    "time": "2021-01-17T17:57:51.577Z",
    "type": "completion"
   },
   {
    "id": "ba38bde9c06749d2a7e5f2191986a0df",
    "time": "2021-01-17T17:57:51.583Z",
    "type": "completion"
   },
   {
    "id": "b4d0bf11de70475a8c8b6fda90e7fcab",
    "time": "2021-01-17T17:57:51.585Z",
    "type": "completion"
   },
   {
    "id": "e8f962319d834c2a8e101d566a4fe5bc",
    "time": "2021-01-17T17:57:51.587Z",
    "type": "completion"
   },
   {
    "id": "4c99d6088c8241c7bce131d46e7e3889",
    "time": "2021-01-17T17:57:51.589Z",
    "type": "completion"
   },
   {
    "id": "829e1cf6d0104a90a2a3a583bf8fc899",
    "time": "2021-01-17T17:57:51.590Z",
    "type": "completion"
   },
   {
    "id": "01f01274813a4ec59a7a0d04cc663f84",
    "time": "2021-01-17T17:57:51.592Z",
    "type": "completion"
   },
   {
    "id": "c35b73570a7e4cba89540dc791617642",
    "time": "2021-01-17T17:57:51.593Z",
    "type": "completion"
   },
   {
    "id": "17b006abc8df460c98db7ca9c29e77b9",
    "time": "2021-01-17T17:57:51.597Z",
    "type": "completion"
   },
   {
    "id": "5469540a13e14dab81d05dde08ade13b",
    "time": "2021-01-17T17:57:51.598Z",
    "type": "completion"
   },
   {
    "id": "aac04bd4435145948982283317d32487",
    "time": "2021-01-17T17:57:51.600Z",
    "type": "completion"
   },
   {
    "id": "6f3a213601e24fc088f8e74b8e7a610c",
    "time": "2021-01-17T17:57:51.602Z",
    "type": "completion"
   },
   {
    "id": "c2f7d2cc24154dd48cfa3698ec5552bd",
    "time": "2021-01-17T17:57:51.603Z",
    "type": "completion"
   },
   {
    "id": "46c0b3d804194df09f9f24730365aa29",
    "time": "2021-01-17T17:57:51.607Z",
    "type": "completion"
   },
   {
    "id": "f9dc636981d64d3c90ad7924e0f248c9",
    "time": "2021-01-17T17:57:51.609Z",
    "type": "completion"
   },
   {
    "id": "7b192c8e91be4bddaab73f93398dc7c6",
    "time": "2021-01-17T17:57:51.610Z",
    "type": "completion"
   },
   {
    "id": "d566605090dc424087eecfb22600b232",
    "time": "2021-01-17T17:57:51.615Z",
    "type": "completion"
   },
   {
    "id": "fa5bbfed1daf4287bc6d683f207aaaaa",
    "time": "2021-01-17T17:57:51.618Z",
    "type": "completion"
   },
   {
    "id": "43dc728e51d34d448cbcc0b07ee4bf54",
    "time": "2021-01-17T17:57:51.623Z",
    "type": "completion"
   },
   {
    "id": "59f96df1e503472188668ae33ce05fa8",
    "time": "2021-01-17T17:57:51.626Z",
    "type": "completion"
   },
   {
    "id": "7f8d35d2151c40148b516ab7678d9c1b",
    "time": "2021-01-17T17:57:51.631Z",
    "type": "completion"
   },
   {
    "id": "513e64a52091401582941a713823d603",
    "time": "2021-01-17T17:57:51.634Z",
    "type": "completion"
   },
   {
    "id": "eb4edb69609a4900960c4687bf5e4056",
    "time": "2021-01-17T17:57:51.638Z",
    "type": "completion"
   },
   {
    "id": "39e0aac3d33e422a969cd15ff428829f",
    "time": "2021-01-17T17:57:51.720Z",
    "type": "completion"
   },
   {
    "id": "094decd551aa44fb8a03a3770fe72f6f",
    "time": "2021-01-17T17:57:51.809Z",
    "type": "completion"
   },
   {
    "id": "9a1da5416f9643bd8e0522e43244bdec",
    "time": "2021-01-17T17:57:52.618Z",
    "type": "completion"
   },
   {
    "code": "help(print)",
    "id": "e5c03488e6f64c8d81ba921def348ed8",
    "idx": 6,
    "time": "2021-01-19T22:35:10.198Z",
    "type": "execution"
   },
   {
    "code": "print('Welcome to Data 100.')",
    "id": "0c633be24e794914b48a97ce53dd9e0c",
    "idx": 8,
    "time": "2021-01-19T22:35:10.203Z",
    "type": "execution"
   },
   {
    "code": "import pandas as pd\nimport numpy as np\nimport matplotlib.pyplot as plt\nplt.style.use('fivethirtyeight')\n%matplotlib inline",
    "id": "62f60f90e06d40e9877a19b1d310460a",
    "idx": 10,
    "time": "2021-01-19T22:35:10.206Z",
    "type": "execution"
   },
   {
    "code": "%%time\n\nlst = []\nfor i in range(100):\n    lst.append(i)",
    "id": "e4be99a69e1e4fd896be268ec0df0c39",
    "idx": 12,
    "time": "2021-01-19T22:35:10.209Z",
    "type": "execution"
   },
   {
    "code": "arr = np.array([1, 2, 3, 4, 5]) # SOLUTION",
    "id": "1ddcee3b8c7d41f4bb6f54262cb1f9f0",
    "idx": 18,
    "time": "2021-01-19T22:35:10.213Z",
    "type": "execution"
   },
   {
    "code": "# TEST\narr",
    "id": "d9f037fbe9184c7b84472633fed8c029",
    "idx": 19,
    "time": "2021-01-19T22:35:10.215Z",
    "type": "execution"
   },
   {
    "code": "# TEST\ntype(arr) is np.ndarray",
    "id": "60779946465e438e912defc77609f276",
    "idx": 20,
    "time": "2021-01-19T22:35:10.218Z",
    "type": "execution"
   },
   {
    "code": "arr[3]",
    "id": "8a9b22beba5d485db487c7ede156a814",
    "idx": 22,
    "time": "2021-01-19T22:35:10.220Z",
    "type": "execution"
   },
   {
    "code": "arr[2:4]",
    "id": "4039ec128ad54a2b84d286436a7cb55c",
    "idx": 23,
    "time": "2021-01-19T22:35:10.222Z",
    "type": "execution"
   },
   {
    "code": "arr.shape",
    "id": "2c44fd1bc07b465a80ff2d4dd1cef962",
    "idx": 24,
    "time": "2021-01-19T22:35:10.224Z",
    "type": "execution"
   },
   {
    "code": "arr.dtype",
    "id": "b2542c53df024e419ffc9767c1f40e4f",
    "idx": 25,
    "time": "2021-01-19T22:35:10.226Z",
    "type": "execution"
   },
   {
    "code": "# A regular Python list can store items of different data types\n[1, '3']",
    "id": "660659e62dd0485181096c4d0c57d44c",
    "idx": 27,
    "time": "2021-01-19T22:35:10.229Z",
    "type": "execution"
   },
   {
    "code": "# Arrays will convert everything to the same data type\nnp.array([1, '3'])",
    "id": "674ee8aa67974a5a8ced66b4095bb7f5",
    "idx": 28,
    "time": "2021-01-19T22:35:10.231Z",
    "type": "execution"
   },
   {
    "code": "# Another example of array type conversion\nnp.array([5, 8.3])",
    "id": "4c264a773416498d8a1965d37279efec",
    "idx": 29,
    "time": "2021-01-19T22:35:10.234Z",
    "type": "execution"
   },
   {
    "code": "# Python list addition will concatenate the two lists\n[1, 2, 3] + [4, 5, 6]",
    "id": "2a56a1ca919046249bd8446c6cc06a6a",
    "idx": 31,
    "time": "2021-01-19T22:35:10.236Z",
    "type": "execution"
   },
   {
    "code": "# NumPy array addition will add them element-wise\nnp.array([1, 2, 3]) + np.array([4, 5, 6])",
    "id": "a633d68728ee46c0869f07837947642d",
    "idx": 32,
    "time": "2021-01-19T22:35:10.238Z",
    "type": "execution"
   },
   {
    "code": "def summation(n):\n    \"\"\"Compute the summation i^3 + 3 * i^2 for 1 <= i <= n.\"\"\"\n    # BEGIN SOLUTION\n    if n < 1:\n        raise ValueError(\"n must be greater than or equal to 1\")\n    return sum((np.arange(1, n + 1) ** 3) + (3 * np.arange(1, n + 1) ** 2))\n    # END SOLUTION",
    "id": "d25639ea687e44568fd8101a9a7827fd",
    "idx": 35,
    "time": "2021-01-19T22:35:10.241Z",
    "type": "execution"
   },
   {
    "code": "# TEST\nsummation(1)",
    "id": "c1f912c11bd948ec9de222e60fa3e897",
    "idx": 36,
    "time": "2021-01-19T22:35:10.244Z",
    "type": "execution"
   },
   {
    "code": "# TEST\nsummation(2)",
    "id": "b0989035a7d44fa982c20d374f123534",
    "idx": 37,
    "time": "2021-01-19T22:35:10.245Z",
    "type": "execution"
   },
   {
    "code": "# TEST\nsummation(100)",
    "id": "dcb3f98cdfc04ab28c7dd2ce0e60339b",
    "idx": 38,
    "time": "2021-01-19T22:35:10.247Z",
    "type": "execution"
   },
   {
    "code": "def elementwise_array_sum(list_1, list_2):\n    \"\"\"Compute x^2 + y^3 for each x, y in list_1, list_2. \n    \n    Assume list_1 and list_2 have the same length.\n    \n    Return a NumPy array.\n    \"\"\"\n    assert len(list_1) == len(list_2), \"both args must have the same number of elements\"\n    # BEGIN SOLUTION\n    # Solution 1\n    return np.square(list_1) + np.power(list_2, 3)\n    # Solution 2\n    return np.array(list_1) ** 2 + np.array(list_2) ** 3\n    # END SOLUTION",
    "id": "d346b378219d4776847f450f8f482297",
    "idx": 40,
    "time": "2021-01-19T22:35:10.250Z",
    "type": "execution"
   },
   {
    "code": "# TEST\nelementwise_array_sum([], [])",
    "id": "76fda371d14b42148fc08521aa198de7",
    "idx": 41,
    "time": "2021-01-19T22:35:10.252Z",
    "type": "execution"
   },
   {
    "code": "# TEST\nelementwise_array_sum([1], [1])",
    "id": "2f171aaf1c3446958e8402b1881b86ff",
    "idx": 42,
    "time": "2021-01-19T22:35:10.254Z",
    "type": "execution"
   },
   {
    "code": "# TEST\nelementwise_array_sum([-1], [1])",
    "id": "a598feada4e04535bf140425a677804b",
    "idx": 43,
    "time": "2021-01-19T22:35:10.256Z",
    "type": "execution"
   },
   {
    "code": "# TEST\nelementwise_array_sum([1], [-1])",
    "id": "78795bf6d8664eddb79947b019d0550e",
    "idx": 44,
    "time": "2021-01-19T22:35:10.258Z",
    "type": "execution"
   },
   {
    "code": "# TEST\nelementwise_array_sum([1, 2, 3], [1, 2, 3])",
    "id": "09f7753e4bc14249852e76e8de20544b",
    "idx": 45,
    "time": "2021-01-19T22:35:10.262Z",
    "type": "execution"
   },
   {
    "code": "# TEST\nelementwise_array_sum([1, 5, 2], [3, 6, 6])",
    "id": "bf51a38678c84fe68ec932b8f0a25e6d",
    "idx": 46,
    "time": "2021-01-19T22:35:10.265Z",
    "type": "execution"
   },
   {
    "code": "# TEST\ntype(elementwise_array_sum([], [])) is np.ndarray",
    "id": "8703e1b78f9f42cf8298408a6a6efdda",
    "idx": 47,
    "time": "2021-01-19T22:35:10.266Z",
    "type": "execution"
   },
   {
    "code": "def elementwise_list_sum(list_1, list_2):\n    \"\"\"Compute x^2 + y^3 for each x, y in list_1, list_2. \n    \n    Assume list_1 and list_2 have the same length.\n    \"\"\"\n\n    return [x ** 2 + y ** 3 for x, y in zip(list_1, list_2)]",
    "id": "a12d6261489441b4866c3bc0dceead70",
    "idx": 49,
    "time": "2021-01-19T22:35:10.269Z",
    "type": "execution"
   },
   {
    "code": "sample_list_1 = list(range(10))\nsample_array_1 = np.arange(10)",
    "id": "98df6803a0ee4f40b7f3e903152eddd5",
    "idx": 51,
    "time": "2021-01-19T22:35:10.271Z",
    "type": "execution"
   },
   {
    "code": "%%time\nelementwise_list_sum(sample_list_1, sample_list_1)",
    "id": "506540992b35409c833be03884d4c5b3",
    "idx": 52,
    "time": "2021-01-19T22:35:10.273Z",
    "type": "execution"
   },
   {
    "code": "%%time\nelementwise_array_sum(sample_array_1, sample_array_1)",
    "id": "cdfdf0f9eb164d2ab21f9d5f27076950",
    "idx": 53,
    "time": "2021-01-19T22:35:10.275Z",
    "type": "execution"
   },
   {
    "code": "sample_list_2 = list(range(100000))\nsample_array_2 = np.arange(100000)",
    "id": "ce7388a0b0c94ed38a9564f60344edb9",
    "idx": 55,
    "time": "2021-01-19T22:35:10.277Z",
    "type": "execution"
   },
   {
    "code": "%%time\nelementwise_list_sum(sample_list_2, sample_list_2)\n; # The semicolon hides the output",
    "id": "6f17fa1e1ec541ac900380e36c48b606",
    "idx": 56,
    "time": "2021-01-19T22:35:10.279Z",
    "type": "execution"
   },
   {
    "code": "%%time\nelementwise_array_sum(sample_array_2, sample_array_2)\n;",
    "id": "69e6fbcbda924faf8ae38e9436bfab4c",
    "idx": 57,
    "time": "2021-01-19T22:35:10.281Z",
    "type": "execution"
   },
   {
    "code": "def mean(population):\n    \"\"\"\n    Returns the mean of population (mu)\n    \n    Keyword arguments:\n    population -- a numpy array of numbers\n    \"\"\"\n    # Calculate the mean of a population\n    return sum(population) / len(population) # SOLUTION\n\ndef variance(population):\n    \"\"\"\n    Returns the variance of population (sigma squared)\n    \n    Keyword arguments:\n    population -- a numpy array of numbers\n    \"\"\"\n    # Calculate the variance of a population\n    # BEGIN SOLUTION\n    m = mean(population)\n    return sum((population - m) ** 2) / len(population)\n    # END SOLUTION",
    "id": "db2a93c1e0d14b7c8a26bb08d2a90067",
    "idx": 60,
    "time": "2021-01-19T22:35:10.284Z",
    "type": "execution"
   },
   {
    "code": "# TEST\npopulation_0 = np.random.randn(100)\nnp.isclose(mean(population_0), np.mean(population_0), atol=1e-6)",
    "id": "72001c9d41ad465a8eca73b2f3bc860a",
    "idx": 61,
    "time": "2021-01-19T22:35:10.286Z",
    "type": "execution"
   },
   {
    "code": "# HIDDEN TEST\npopulation_1 = 3 * np.random.randn(100) + 5\nnp.isclose(mean(population_1), np.mean(population_1), atol=1e-6)",
    "id": "b23d11b380d64dc49bdb036c175b52a9",
    "idx": 62,
    "time": "2021-01-19T22:35:10.288Z",
    "type": "execution"
   },
   {
    "code": "# TEST\npopulation_0 = np.random.randn(100)\nnp.isclose(variance(population_0), np.var(population_0), atol=1e-6)",
    "id": "c187214fcaec4be4ba46db6fb20ca2c1",
    "idx": 63,
    "time": "2021-01-19T22:35:10.290Z",
    "type": "execution"
   },
   {
    "code": "# HIDDEN TEST\npopulation_1 = 3 * np.random.randn(100) + 5\nnp.isclose(variance(population_1), np.var(population_1), atol=1e-6)",
    "id": "ea1f1b7669274834a70922e242ffcbf3",
    "idx": 64,
    "time": "2021-01-19T22:35:10.292Z",
    "type": "execution"
   },
   {
    "code": "np.random.seed(42)\nrandom_arr = np.random.rand(60)\nvalid_values = random_arr[(2 * random_arr ** 4 > 1)] # SOLUTION",
    "id": "246465d01156499a8f22746c1399794f",
    "idx": 66,
    "time": "2021-01-19T22:35:10.294Z",
    "type": "execution"
   },
   {
    "code": "# TEST\nvalid_values",
    "id": "38ea0a45ee96410e8bf08ef064554a9c",
    "idx": 67,
    "time": "2021-01-19T22:35:10.296Z",
    "type": "execution"
   },
   {
    "code": "# TEST\nlen(valid_values) == 10",
    "id": "1a2adb969d0c463ea36d795e0352334c",
    "idx": 68,
    "time": "2021-01-19T22:35:10.298Z",
    "type": "execution"
   },
   {
    "code": "# TEST\nnp.allclose(valid_values, [0.95071431, 0.86617615, 0.96990985, 0.94888554, 0.96563203,\n       0.9093204 , 0.96958463, 0.93949894, 0.89482735, 0.92187424])",
    "id": "6afed6d72e54438cbf0a3bb6b4171fa6",
    "idx": 69,
    "time": "2021-01-19T22:35:10.299Z",
    "type": "execution"
   },
   {
    "code": "def f(x):\n    return x ** 2 # SOLUTION\n    \ndef df(x):\n    return 2 * x # SOLUTION\n\ndef plot(f, df):              \n    # BEGIN SOLUTION\n    x = np.linspace(-15, 15, 100)\n\n    plt.figure(figsize = (4, 4))\n    plt.plot(x, f(x))\n    plt.plot(x, np.zeros(x.shape[0]))\n    plt.plot(x, df(8) * (x - 8) + f(8))\n    \n    plt.xlim(-15, 15)\n    plt.ylim(-100, 300)\n    # END SOLUTION\n\nplot(f, df)",
    "id": "e6461cf26aa444219d83dad65eae2314",
    "idx": 76,
    "time": "2021-01-19T22:35:10.310Z",
    "type": "execution"
   },
   {
    "code": "from mpl_toolkits.mplot3d import axes3d\n\nu = np.linspace(1.5 * np.pi, -1.5 * np.pi, 100)\n# Your answer here\n[x, y] = np.meshgrid(u, u)\n# Your answer here\nsquared = np.sqrt(x.flatten() ** 2 + y.flatten() ** 2)\nz = np.cos(squared)\n# Your answer here\nz = z.reshape(x.shape)\n# Your answer here\n\nfig = plt.figure(figsize = (6, 6))\nax = fig.add_subplot(111, projection = '3d')\n# Your answer here\nax.plot_wireframe(x, y, z, rstride = 5, cstride = 5, lw = 2)\n# Your answer here\nax.view_init(elev = 60, azim = 25)\n# Your answer here\nplt.savefig(\"figure1.png\")\n# Your answer here",
    "id": "74e66ee7ea5447298fc67c3e1b5e641e",
    "idx": 78,
    "time": "2021-01-19T22:35:10.312Z",
    "type": "execution"
   },
   {
    "id": "e5c03488e6f64c8d81ba921def348ed8",
    "time": "2021-01-19T22:35:10.453Z",
    "type": "completion"
   },
   {
    "id": "0c633be24e794914b48a97ce53dd9e0c",
    "time": "2021-01-19T22:35:10.455Z",
    "type": "completion"
   },
   {
    "id": "62f60f90e06d40e9877a19b1d310460a",
    "time": "2021-01-19T22:35:10.836Z",
    "type": "completion"
   },
   {
    "id": "e4be99a69e1e4fd896be268ec0df0c39",
    "time": "2021-01-19T22:35:10.842Z",
    "type": "completion"
   },
   {
    "id": "1ddcee3b8c7d41f4bb6f54262cb1f9f0",
    "time": "2021-01-19T22:35:10.870Z",
    "type": "completion"
   },
   {
    "id": "d9f037fbe9184c7b84472633fed8c029",
    "time": "2021-01-19T22:35:10.889Z",
    "type": "completion"
   },
   {
    "id": "60779946465e438e912defc77609f276",
    "time": "2021-01-19T22:35:10.895Z",
    "type": "completion"
   },
   {
    "id": "8a9b22beba5d485db487c7ede156a814",
    "time": "2021-01-19T22:35:10.897Z",
    "type": "completion"
   },
   {
    "id": "4039ec128ad54a2b84d286436a7cb55c",
    "time": "2021-01-19T22:35:10.924Z",
    "type": "completion"
   },
   {
    "id": "2c44fd1bc07b465a80ff2d4dd1cef962",
    "time": "2021-01-19T22:35:10.933Z",
    "type": "completion"
   },
   {
    "id": "b2542c53df024e419ffc9767c1f40e4f",
    "time": "2021-01-19T22:35:10.935Z",
    "type": "completion"
   },
   {
    "id": "660659e62dd0485181096c4d0c57d44c",
    "time": "2021-01-19T22:35:10.941Z",
    "type": "completion"
   },
   {
    "id": "674ee8aa67974a5a8ced66b4095bb7f5",
    "time": "2021-01-19T22:35:10.945Z",
    "type": "completion"
   },
   {
    "id": "4c264a773416498d8a1965d37279efec",
    "time": "2021-01-19T22:35:10.947Z",
    "type": "completion"
   },
   {
    "id": "2a56a1ca919046249bd8446c6cc06a6a",
    "time": "2021-01-19T22:35:10.950Z",
    "type": "completion"
   },
   {
    "id": "a633d68728ee46c0869f07837947642d",
    "time": "2021-01-19T22:35:10.951Z",
    "type": "completion"
   },
   {
    "id": "d25639ea687e44568fd8101a9a7827fd",
    "time": "2021-01-19T22:35:10.953Z",
    "type": "completion"
   },
   {
    "id": "c1f912c11bd948ec9de222e60fa3e897",
    "time": "2021-01-19T22:35:10.977Z",
    "type": "completion"
   },
   {
    "id": "b0989035a7d44fa982c20d374f123534",
    "time": "2021-01-19T22:35:10.984Z",
    "type": "completion"
   },
   {
    "id": "dcb3f98cdfc04ab28c7dd2ce0e60339b",
    "time": "2021-01-19T22:35:10.985Z",
    "type": "completion"
   },
   {
    "id": "d346b378219d4776847f450f8f482297",
    "time": "2021-01-19T22:35:10.990Z",
    "type": "completion"
   },
   {
    "id": "76fda371d14b42148fc08521aa198de7",
    "time": "2021-01-19T22:35:10.993Z",
    "type": "completion"
   },
   {
    "id": "2f171aaf1c3446958e8402b1881b86ff",
    "time": "2021-01-19T22:35:10.996Z",
    "type": "completion"
   },
   {
    "id": "a598feada4e04535bf140425a677804b",
    "time": "2021-01-19T22:35:11.002Z",
    "type": "completion"
   },
   {
    "id": "78795bf6d8664eddb79947b019d0550e",
    "time": "2021-01-19T22:35:11.003Z",
    "type": "completion"
   },
   {
    "id": "09f7753e4bc14249852e76e8de20544b",
    "time": "2021-01-19T22:35:11.005Z",
    "type": "completion"
   },
   {
    "id": "bf51a38678c84fe68ec932b8f0a25e6d",
    "time": "2021-01-19T22:35:11.006Z",
    "type": "completion"
   },
   {
    "id": "8703e1b78f9f42cf8298408a6a6efdda",
    "time": "2021-01-19T22:35:11.008Z",
    "type": "completion"
   },
   {
    "id": "a12d6261489441b4866c3bc0dceead70",
    "time": "2021-01-19T22:35:11.033Z",
    "type": "completion"
   },
   {
    "id": "98df6803a0ee4f40b7f3e903152eddd5",
    "time": "2021-01-19T22:35:11.039Z",
    "type": "completion"
   },
   {
    "id": "506540992b35409c833be03884d4c5b3",
    "time": "2021-01-19T22:35:11.044Z",
    "type": "completion"
   },
   {
    "id": "cdfdf0f9eb164d2ab21f9d5f27076950",
    "time": "2021-01-19T22:35:11.047Z",
    "type": "completion"
   },
   {
    "id": "ce7388a0b0c94ed38a9564f60344edb9",
    "time": "2021-01-19T22:35:11.072Z",
    "type": "completion"
   },
   {
    "id": "6f17fa1e1ec541ac900380e36c48b606",
    "time": "2021-01-19T22:35:11.133Z",
    "type": "completion"
   },
   {
    "id": "69e6fbcbda924faf8ae38e9436bfab4c",
    "time": "2021-01-19T22:35:11.136Z",
    "type": "completion"
   },
   {
    "id": "db2a93c1e0d14b7c8a26bb08d2a90067",
    "time": "2021-01-19T22:35:11.138Z",
    "type": "completion"
   },
   {
    "id": "72001c9d41ad465a8eca73b2f3bc860a",
    "time": "2021-01-19T22:35:11.140Z",
    "type": "completion"
   },
   {
    "id": "b23d11b380d64dc49bdb036c175b52a9",
    "time": "2021-01-19T22:35:11.165Z",
    "type": "completion"
   },
   {
    "id": "c187214fcaec4be4ba46db6fb20ca2c1",
    "time": "2021-01-19T22:35:11.168Z",
    "type": "completion"
   },
   {
    "id": "ea1f1b7669274834a70922e242ffcbf3",
    "time": "2021-01-19T22:35:11.170Z",
    "type": "completion"
   },
   {
    "id": "246465d01156499a8f22746c1399794f",
    "time": "2021-01-19T22:35:11.171Z",
    "type": "completion"
   },
   {
    "id": "38ea0a45ee96410e8bf08ef064554a9c",
    "time": "2021-01-19T22:35:11.176Z",
    "type": "completion"
   },
   {
    "id": "1a2adb969d0c463ea36d795e0352334c",
    "time": "2021-01-19T22:35:11.179Z",
    "type": "completion"
   },
   {
    "id": "6afed6d72e54438cbf0a3bb6b4171fa6",
    "time": "2021-01-19T22:35:11.180Z",
    "type": "completion"
   },
   {
    "id": "e6461cf26aa444219d83dad65eae2314",
    "time": "2021-01-19T22:35:11.331Z",
    "type": "completion"
   },
   {
    "id": "74e66ee7ea5447298fc67c3e1b5e641e",
    "time": "2021-01-19T22:35:11.651Z",
    "type": "completion"
   },
   {
    "code": "help(print)",
    "id": "e5c03488e6f64c8d81ba921def348ed8",
    "idx": 6,
    "time": "2021-01-19T22:53:32.355Z",
    "type": "execution"
   },
   {
    "code": "print('Welcome to Data 100.')",
    "id": "0c633be24e794914b48a97ce53dd9e0c",
    "idx": 8,
    "time": "2021-01-19T22:53:32.397Z",
    "type": "execution"
   },
   {
    "code": "import pandas as pd\nimport numpy as np\nimport matplotlib.pyplot as plt\nplt.style.use('fivethirtyeight')\n%matplotlib inline",
    "id": "62f60f90e06d40e9877a19b1d310460a",
    "idx": 10,
    "time": "2021-01-19T22:53:32.406Z",
    "type": "execution"
   },
   {
    "code": "%%time\n\nlst = []\nfor i in range(100):\n    lst.append(i)",
    "id": "e4be99a69e1e4fd896be268ec0df0c39",
    "idx": 12,
    "time": "2021-01-19T22:53:32.410Z",
    "type": "execution"
   },
   {
    "code": "arr = np.array([1, 2, 3, 4, 5]) # SOLUTION",
    "id": "1ddcee3b8c7d41f4bb6f54262cb1f9f0",
    "idx": 18,
    "time": "2021-01-19T22:53:32.475Z",
    "type": "execution"
   },
   {
    "code": "# TEST\narr",
    "id": "d9f037fbe9184c7b84472633fed8c029",
    "idx": 19,
    "time": "2021-01-19T22:53:32.478Z",
    "type": "execution"
   },
   {
    "code": "# TEST\ntype(arr) is np.ndarray",
    "id": "60779946465e438e912defc77609f276",
    "idx": 20,
    "time": "2021-01-19T22:53:32.480Z",
    "type": "execution"
   },
   {
    "code": "arr[3]",
    "id": "8a9b22beba5d485db487c7ede156a814",
    "idx": 22,
    "time": "2021-01-19T22:53:32.486Z",
    "type": "execution"
   },
   {
    "code": "arr[2:4]",
    "id": "4039ec128ad54a2b84d286436a7cb55c",
    "idx": 23,
    "time": "2021-01-19T22:53:32.488Z",
    "type": "execution"
   },
   {
    "code": "arr.shape",
    "id": "2c44fd1bc07b465a80ff2d4dd1cef962",
    "idx": 24,
    "time": "2021-01-19T22:53:32.490Z",
    "type": "execution"
   },
   {
    "code": "arr.dtype",
    "id": "b2542c53df024e419ffc9767c1f40e4f",
    "idx": 25,
    "time": "2021-01-19T22:53:32.492Z",
    "type": "execution"
   },
   {
    "code": "# A regular Python list can store items of different data types\n[1, '3']",
    "id": "660659e62dd0485181096c4d0c57d44c",
    "idx": 27,
    "time": "2021-01-19T22:53:32.497Z",
    "type": "execution"
   },
   {
    "code": "# Arrays will convert everything to the same data type\nnp.array([1, '3'])",
    "id": "674ee8aa67974a5a8ced66b4095bb7f5",
    "idx": 28,
    "time": "2021-01-19T22:53:32.500Z",
    "type": "execution"
   },
   {
    "code": "# Another example of array type conversion\nnp.array([5, 8.3])",
    "id": "4c264a773416498d8a1965d37279efec",
    "idx": 29,
    "time": "2021-01-19T22:53:32.502Z",
    "type": "execution"
   },
   {
    "code": "# Python list addition will concatenate the two lists\n[1, 2, 3] + [4, 5, 6]",
    "id": "2a56a1ca919046249bd8446c6cc06a6a",
    "idx": 31,
    "time": "2021-01-19T22:53:32.505Z",
    "type": "execution"
   },
   {
    "code": "# NumPy array addition will add them element-wise\nnp.array([1, 2, 3]) + np.array([4, 5, 6])",
    "id": "a633d68728ee46c0869f07837947642d",
    "idx": 32,
    "time": "2021-01-19T22:53:32.511Z",
    "type": "execution"
   },
   {
    "code": "def summation(n):\n    \"\"\"Compute the summation i^3 + 3 * i^2 for 1 <= i <= n.\"\"\"\n    # BEGIN SOLUTION\n    if n < 1:\n        raise ValueError(\"n must be greater than or equal to 1\")\n    return sum((np.arange(1, n + 1) ** 3) + (3 * np.arange(1, n + 1) ** 2))\n    # END SOLUTION",
    "id": "d25639ea687e44568fd8101a9a7827fd",
    "idx": 35,
    "time": "2021-01-19T22:53:32.518Z",
    "type": "execution"
   },
   {
    "code": "# TEST\nsummation(1)",
    "id": "c1f912c11bd948ec9de222e60fa3e897",
    "idx": 36,
    "time": "2021-01-19T22:53:32.520Z",
    "type": "execution"
   },
   {
    "code": "# TEST\nsummation(2)",
    "id": "b0989035a7d44fa982c20d374f123534",
    "idx": 37,
    "time": "2021-01-19T22:53:32.522Z",
    "type": "execution"
   },
   {
    "code": "# TEST\nsummation(100)",
    "id": "dcb3f98cdfc04ab28c7dd2ce0e60339b",
    "idx": 38,
    "time": "2021-01-19T22:53:32.524Z",
    "type": "execution"
   },
   {
    "code": "def elementwise_array_sum(list_1, list_2):\n    \"\"\"Compute x^2 + y^3 for each x, y in list_1, list_2. \n    \n    Assume list_1 and list_2 have the same length.\n    \n    Return a NumPy array.\n    \"\"\"\n    assert len(list_1) == len(list_2), \"both args must have the same number of elements\"\n    # BEGIN SOLUTION\n    # Solution 1\n    return np.square(list_1) + np.power(list_2, 3)\n    # Solution 2\n    return np.array(list_1) ** 2 + np.array(list_2) ** 3\n    # END SOLUTION",
    "id": "d346b378219d4776847f450f8f482297",
    "idx": 40,
    "time": "2021-01-19T22:53:32.526Z",
    "type": "execution"
   },
   {
    "code": "# TEST\nelementwise_array_sum([], [])",
    "id": "76fda371d14b42148fc08521aa198de7",
    "idx": 41,
    "time": "2021-01-19T22:53:32.528Z",
    "type": "execution"
   },
   {
    "code": "# TEST\nelementwise_array_sum([1], [1])",
    "id": "2f171aaf1c3446958e8402b1881b86ff",
    "idx": 42,
    "time": "2021-01-19T22:53:32.531Z",
    "type": "execution"
   },
   {
    "code": "# TEST\nelementwise_array_sum([-1], [1])",
    "id": "a598feada4e04535bf140425a677804b",
    "idx": 43,
    "time": "2021-01-19T22:53:32.533Z",
    "type": "execution"
   },
   {
    "code": "# TEST\nelementwise_array_sum([1], [-1])",
    "id": "78795bf6d8664eddb79947b019d0550e",
    "idx": 44,
    "time": "2021-01-19T22:53:32.534Z",
    "type": "execution"
   },
   {
    "code": "# TEST\nelementwise_array_sum([1, 2, 3], [1, 2, 3])",
    "id": "09f7753e4bc14249852e76e8de20544b",
    "idx": 45,
    "time": "2021-01-19T22:53:32.538Z",
    "type": "execution"
   },
   {
    "code": "# TEST\nelementwise_array_sum([1, 5, 2], [3, 6, 6])",
    "id": "bf51a38678c84fe68ec932b8f0a25e6d",
    "idx": 46,
    "time": "2021-01-19T22:53:32.541Z",
    "type": "execution"
   },
   {
    "code": "# TEST\ntype(elementwise_array_sum([], [])) is np.ndarray",
    "id": "8703e1b78f9f42cf8298408a6a6efdda",
    "idx": 47,
    "time": "2021-01-19T22:53:32.543Z",
    "type": "execution"
   },
   {
    "code": "def elementwise_list_sum(list_1, list_2):\n    \"\"\"Compute x^2 + y^3 for each x, y in list_1, list_2. \n    \n    Assume list_1 and list_2 have the same length.\n    \"\"\"\n\n    return [x ** 2 + y ** 3 for x, y in zip(list_1, list_2)]",
    "id": "a12d6261489441b4866c3bc0dceead70",
    "idx": 49,
    "time": "2021-01-19T22:53:32.546Z",
    "type": "execution"
   },
   {
    "code": "sample_list_1 = list(range(10))\nsample_array_1 = np.arange(10)",
    "id": "98df6803a0ee4f40b7f3e903152eddd5",
    "idx": 51,
    "time": "2021-01-19T22:53:32.548Z",
    "type": "execution"
   },
   {
    "code": "%%time\nelementwise_list_sum(sample_list_1, sample_list_1)",
    "id": "506540992b35409c833be03884d4c5b3",
    "idx": 52,
    "time": "2021-01-19T22:53:32.551Z",
    "type": "execution"
   },
   {
    "code": "%%time\nelementwise_array_sum(sample_array_1, sample_array_1)",
    "id": "cdfdf0f9eb164d2ab21f9d5f27076950",
    "idx": 53,
    "time": "2021-01-19T22:53:32.553Z",
    "type": "execution"
   },
   {
    "code": "sample_list_2 = list(range(100000))\nsample_array_2 = np.arange(100000)",
    "id": "ce7388a0b0c94ed38a9564f60344edb9",
    "idx": 55,
    "time": "2021-01-19T22:53:32.555Z",
    "type": "execution"
   },
   {
    "code": "%%time\nelementwise_list_sum(sample_list_2, sample_list_2)\n; # The semicolon hides the output",
    "id": "6f17fa1e1ec541ac900380e36c48b606",
    "idx": 56,
    "time": "2021-01-19T22:53:32.557Z",
    "type": "execution"
   },
   {
    "code": "%%time\nelementwise_array_sum(sample_array_2, sample_array_2)\n;",
    "id": "69e6fbcbda924faf8ae38e9436bfab4c",
    "idx": 57,
    "time": "2021-01-19T22:53:32.559Z",
    "type": "execution"
   },
   {
    "code": "def mean(population):\n    \"\"\"\n    Returns the mean of population (mu)\n    \n    Keyword arguments:\n    population -- a numpy array of numbers\n    \"\"\"\n    # Calculate the mean of a population\n    return sum(population) / len(population) # SOLUTION\n\ndef variance(population):\n    \"\"\"\n    Returns the variance of population (sigma squared)\n    \n    Keyword arguments:\n    population -- a numpy array of numbers\n    \"\"\"\n    # Calculate the variance of a population\n    # BEGIN SOLUTION\n    m = mean(population)\n    return sum((population - m) ** 2) / len(population)\n    # END SOLUTION",
    "id": "db2a93c1e0d14b7c8a26bb08d2a90067",
    "idx": 60,
    "time": "2021-01-19T22:53:32.562Z",
    "type": "execution"
   },
   {
    "code": "# TEST\npopulation_0 = np.random.randn(100)\nnp.isclose(mean(population_0), np.mean(population_0), atol=1e-6)",
    "id": "72001c9d41ad465a8eca73b2f3bc860a",
    "idx": 61,
    "time": "2021-01-19T22:53:32.564Z",
    "type": "execution"
   },
   {
    "code": "# HIDDEN TEST\npopulation_1 = 3 * np.random.randn(100) + 5\nnp.isclose(mean(population_1), np.mean(population_1), atol=1e-6)",
    "id": "b23d11b380d64dc49bdb036c175b52a9",
    "idx": 62,
    "time": "2021-01-19T22:53:32.566Z",
    "type": "execution"
   },
   {
    "code": "# TEST\npopulation_0 = np.random.randn(100)\nnp.isclose(variance(population_0), np.var(population_0), atol=1e-6)",
    "id": "c187214fcaec4be4ba46db6fb20ca2c1",
    "idx": 63,
    "time": "2021-01-19T22:53:32.567Z",
    "type": "execution"
   },
   {
    "code": "# HIDDEN TEST\npopulation_1 = 3 * np.random.randn(100) + 5\nnp.isclose(variance(population_1), np.var(population_1), atol=1e-6)",
    "id": "ea1f1b7669274834a70922e242ffcbf3",
    "idx": 64,
    "time": "2021-01-19T22:53:32.569Z",
    "type": "execution"
   },
   {
    "code": "np.random.seed(42)\nrandom_arr = np.random.rand(60)\nvalid_values = random_arr[(2 * random_arr ** 4 > 1)] # SOLUTION",
    "id": "246465d01156499a8f22746c1399794f",
    "idx": 66,
    "time": "2021-01-19T22:53:32.572Z",
    "type": "execution"
   },
   {
    "code": "# TEST\nvalid_values",
    "id": "38ea0a45ee96410e8bf08ef064554a9c",
    "idx": 67,
    "time": "2021-01-19T22:53:32.574Z",
    "type": "execution"
   },
   {
    "code": "# TEST\nlen(valid_values) == 10",
    "id": "1a2adb969d0c463ea36d795e0352334c",
    "idx": 68,
    "time": "2021-01-19T22:53:32.576Z",
    "type": "execution"
   },
   {
    "code": "# TEST\nnp.allclose(valid_values, [0.95071431, 0.86617615, 0.96990985, 0.94888554, 0.96563203,\n       0.9093204 , 0.96958463, 0.93949894, 0.89482735, 0.92187424])",
    "id": "6afed6d72e54438cbf0a3bb6b4171fa6",
    "idx": 69,
    "time": "2021-01-19T22:53:32.578Z",
    "type": "execution"
   },
   {
    "code": "def f(x):\n    return x ** 2 # SOLUTION\n    \ndef df(x):\n    return 2 * x # SOLUTION\n\ndef plot(f, df):              \n    # BEGIN SOLUTION\n    x = np.linspace(-15, 15, 100)\n\n    plt.figure(figsize = (4, 4))\n    plt.plot(x, f(x))\n    plt.plot(x, np.zeros(x.shape[0]))\n    plt.plot(x, df(8) * (x - 8) + f(8))\n    \n    plt.xlim(-15, 15)\n    plt.ylim(-100, 300)\n    # END SOLUTION\n\nplot(f, df)",
    "id": "e6461cf26aa444219d83dad65eae2314",
    "idx": 76,
    "time": "2021-01-19T22:53:32.583Z",
    "type": "execution"
   },
   {
    "code": "from mpl_toolkits.mplot3d import axes3d\n\nu = np.linspace(1.5 * np.pi, -1.5 * np.pi, 100)\n# Your answer here\n[x, y] = np.meshgrid(u, u)\n# Your answer here\nsquared = np.sqrt(x.flatten() ** 2 + y.flatten() ** 2)\nz = np.cos(squared)\n# Your answer here\nz = z.reshape(x.shape)\n# Your answer here\n\nfig = plt.figure(figsize = (6, 6))\nax = fig.add_subplot(111, projection = '3d')\n# Your answer here\nax.plot_wireframe(x, y, z, rstride = 5, cstride = 5, lw = 2)\n# Your answer here\nax.view_init(elev = 60, azim = 25)\n# Your answer here\nplt.savefig(\"figure1.png\")\n# Your answer here",
    "id": "74e66ee7ea5447298fc67c3e1b5e641e",
    "idx": 78,
    "time": "2021-01-19T22:53:32.587Z",
    "type": "execution"
   },
   {
    "id": "e5c03488e6f64c8d81ba921def348ed8",
    "time": "2021-01-19T22:53:32.836Z",
    "type": "completion"
   },
   {
    "id": "0c633be24e794914b48a97ce53dd9e0c",
    "time": "2021-01-19T22:53:32.839Z",
    "type": "completion"
   },
   {
    "id": "62f60f90e06d40e9877a19b1d310460a",
    "time": "2021-01-19T22:53:33.025Z",
    "type": "completion"
   },
   {
    "id": "e4be99a69e1e4fd896be268ec0df0c39",
    "time": "2021-01-19T22:53:33.030Z",
    "type": "completion"
   },
   {
    "id": "1ddcee3b8c7d41f4bb6f54262cb1f9f0",
    "time": "2021-01-19T22:53:33.064Z",
    "type": "completion"
   },
   {
    "id": "d9f037fbe9184c7b84472633fed8c029",
    "time": "2021-01-19T22:53:33.082Z",
    "type": "completion"
   },
   {
    "id": "60779946465e438e912defc77609f276",
    "time": "2021-01-19T22:53:33.085Z",
    "type": "completion"
   },
   {
    "id": "8a9b22beba5d485db487c7ede156a814",
    "time": "2021-01-19T22:53:33.087Z",
    "type": "completion"
   },
   {
    "id": "4039ec128ad54a2b84d286436a7cb55c",
    "time": "2021-01-19T22:53:33.089Z",
    "type": "completion"
   },
   {
    "id": "2c44fd1bc07b465a80ff2d4dd1cef962",
    "time": "2021-01-19T22:53:33.090Z",
    "type": "completion"
   },
   {
    "id": "b2542c53df024e419ffc9767c1f40e4f",
    "time": "2021-01-19T22:53:33.092Z",
    "type": "completion"
   },
   {
    "id": "660659e62dd0485181096c4d0c57d44c",
    "time": "2021-01-19T22:53:33.093Z",
    "type": "completion"
   },
   {
    "id": "674ee8aa67974a5a8ced66b4095bb7f5",
    "time": "2021-01-19T22:53:33.132Z",
    "type": "completion"
   },
   {
    "id": "4c264a773416498d8a1965d37279efec",
    "time": "2021-01-19T22:53:33.136Z",
    "type": "completion"
   },
   {
    "id": "2a56a1ca919046249bd8446c6cc06a6a",
    "time": "2021-01-19T22:53:33.138Z",
    "type": "completion"
   },
   {
    "id": "a633d68728ee46c0869f07837947642d",
    "time": "2021-01-19T22:53:33.141Z",
    "type": "completion"
   },
   {
    "id": "d25639ea687e44568fd8101a9a7827fd",
    "time": "2021-01-19T22:53:33.142Z",
    "type": "completion"
   },
   {
    "id": "c1f912c11bd948ec9de222e60fa3e897",
    "time": "2021-01-19T22:53:33.144Z",
    "type": "completion"
   },
   {
    "id": "b0989035a7d44fa982c20d374f123534",
    "time": "2021-01-19T22:53:33.145Z",
    "type": "completion"
   },
   {
    "id": "dcb3f98cdfc04ab28c7dd2ce0e60339b",
    "time": "2021-01-19T22:53:33.151Z",
    "type": "completion"
   },
   {
    "id": "d346b378219d4776847f450f8f482297",
    "time": "2021-01-19T22:53:33.153Z",
    "type": "completion"
   },
   {
    "id": "76fda371d14b42148fc08521aa198de7",
    "time": "2021-01-19T22:53:33.155Z",
    "type": "completion"
   },
   {
    "id": "2f171aaf1c3446958e8402b1881b86ff",
    "time": "2021-01-19T22:53:33.156Z",
    "type": "completion"
   },
   {
    "id": "a598feada4e04535bf140425a677804b",
    "time": "2021-01-19T22:53:33.158Z",
    "type": "completion"
   },
   {
    "id": "78795bf6d8664eddb79947b019d0550e",
    "time": "2021-01-19T22:53:33.188Z",
    "type": "completion"
   },
   {
    "id": "09f7753e4bc14249852e76e8de20544b",
    "time": "2021-01-19T22:53:33.191Z",
    "type": "completion"
   },
   {
    "id": "bf51a38678c84fe68ec932b8f0a25e6d",
    "time": "2021-01-19T22:53:33.192Z",
    "type": "completion"
   },
   {
    "id": "8703e1b78f9f42cf8298408a6a6efdda",
    "time": "2021-01-19T22:53:33.197Z",
    "type": "completion"
   },
   {
    "id": "a12d6261489441b4866c3bc0dceead70",
    "time": "2021-01-19T22:53:33.198Z",
    "type": "completion"
   },
   {
    "id": "98df6803a0ee4f40b7f3e903152eddd5",
    "time": "2021-01-19T22:53:33.201Z",
    "type": "completion"
   },
   {
    "id": "506540992b35409c833be03884d4c5b3",
    "time": "2021-01-19T22:53:33.228Z",
    "type": "completion"
   },
   {
    "id": "cdfdf0f9eb164d2ab21f9d5f27076950",
    "time": "2021-01-19T22:53:33.232Z",
    "type": "completion"
   },
   {
    "id": "ce7388a0b0c94ed38a9564f60344edb9",
    "time": "2021-01-19T22:53:33.237Z",
    "type": "completion"
   },
   {
    "id": "6f17fa1e1ec541ac900380e36c48b606",
    "time": "2021-01-19T22:53:33.267Z",
    "type": "completion"
   },
   {
    "id": "69e6fbcbda924faf8ae38e9436bfab4c",
    "time": "2021-01-19T22:53:33.270Z",
    "type": "completion"
   },
   {
    "id": "db2a93c1e0d14b7c8a26bb08d2a90067",
    "time": "2021-01-19T22:53:33.303Z",
    "type": "completion"
   },
   {
    "id": "72001c9d41ad465a8eca73b2f3bc860a",
    "time": "2021-01-19T22:53:33.312Z",
    "type": "completion"
   },
   {
    "id": "b23d11b380d64dc49bdb036c175b52a9",
    "time": "2021-01-19T22:53:33.317Z",
    "type": "completion"
   },
   {
    "id": "c187214fcaec4be4ba46db6fb20ca2c1",
    "time": "2021-01-19T22:53:33.319Z",
    "type": "completion"
   },
   {
    "id": "ea1f1b7669274834a70922e242ffcbf3",
    "time": "2021-01-19T22:53:33.321Z",
    "type": "completion"
   },
   {
    "id": "246465d01156499a8f22746c1399794f",
    "time": "2021-01-19T22:53:33.322Z",
    "type": "completion"
   },
   {
    "id": "38ea0a45ee96410e8bf08ef064554a9c",
    "time": "2021-01-19T22:53:33.323Z",
    "type": "completion"
   },
   {
    "id": "1a2adb969d0c463ea36d795e0352334c",
    "time": "2021-01-19T22:53:33.352Z",
    "type": "completion"
   },
   {
    "id": "6afed6d72e54438cbf0a3bb6b4171fa6",
    "time": "2021-01-19T22:53:33.357Z",
    "type": "completion"
   },
   {
    "id": "e6461cf26aa444219d83dad65eae2314",
    "time": "2021-01-19T22:53:33.479Z",
    "type": "completion"
   },
   {
    "id": "74e66ee7ea5447298fc67c3e1b5e641e",
    "time": "2021-01-19T22:53:33.921Z",
    "type": "completion"
   },
   {
    "code": "help(print)",
    "id": "807e162b55dd45268f4875933415b47d",
    "idx": 6,
    "time": "2021-01-20T04:07:55.823Z",
    "type": "execution"
   },
   {
    "code": "print('Welcome to Data 100.')",
    "id": "242d58b36c814c338b4727ca3c4e2549",
    "idx": 8,
    "time": "2021-01-20T04:07:55.829Z",
    "type": "execution"
   },
   {
    "code": "import pandas as pd\nimport numpy as np\nimport matplotlib.pyplot as plt\nplt.style.use('fivethirtyeight')\n%matplotlib inline",
    "id": "fa2541590ca841538efcb8cba37bc837",
    "idx": 10,
    "time": "2021-01-20T04:07:55.832Z",
    "type": "execution"
   },
   {
    "code": "%%time\n\nlst = []\nfor i in range(100):\n    lst.append(i)",
    "id": "f8f4557ca5e946d883be7d5cafa5b4c6",
    "idx": 12,
    "time": "2021-01-20T04:07:55.835Z",
    "type": "execution"
   },
   {
    "code": "arr = np.array([1, 2, 3, 4, 5]) # SOLUTION",
    "id": "b7023548740749068c12194cafd51054",
    "idx": 18,
    "time": "2021-01-20T04:07:55.840Z",
    "type": "execution"
   },
   {
    "code": "# TEST\narr",
    "id": "dd201ff489714308b8bcf0e12a56d8e8",
    "idx": 19,
    "time": "2021-01-20T04:07:55.843Z",
    "type": "execution"
   },
   {
    "code": "# TEST\ntype(arr) is np.ndarray",
    "id": "000eedbc928e4b2a8eabd69127d442bc",
    "idx": 20,
    "time": "2021-01-20T04:07:55.846Z",
    "type": "execution"
   },
   {
    "code": "arr[3]",
    "id": "6b47bf4f1dcb4632894a91a43e80b9b6",
    "idx": 22,
    "time": "2021-01-20T04:07:55.849Z",
    "type": "execution"
   },
   {
    "code": "arr[2:4]",
    "id": "222425d5d3394b74822cd9ad8483d235",
    "idx": 23,
    "time": "2021-01-20T04:07:55.853Z",
    "type": "execution"
   },
   {
    "code": "arr.shape",
    "id": "bdf3d5bc4c84478c9b07da233fce2f27",
    "idx": 24,
    "time": "2021-01-20T04:07:55.855Z",
    "type": "execution"
   },
   {
    "code": "arr.dtype",
    "id": "10a0d109a1b141d1b70d329b1aa11976",
    "idx": 25,
    "time": "2021-01-20T04:07:55.857Z",
    "type": "execution"
   },
   {
    "code": "# A regular Python list can store items of different data types\n[1, '3']",
    "id": "a298bdaab3444858994db09f45d57bda",
    "idx": 27,
    "time": "2021-01-20T04:07:55.859Z",
    "type": "execution"
   },
   {
    "code": "# Arrays will convert everything to the same data type\nnp.array([1, '3'])",
    "id": "f129c21f8fbc44ae9dde3b08ea17a9c6",
    "idx": 28,
    "time": "2021-01-20T04:07:55.861Z",
    "type": "execution"
   },
   {
    "code": "# Another example of array type conversion\nnp.array([5, 8.3])",
    "id": "ffb7286e199246cc9d8ea66d47928895",
    "idx": 29,
    "time": "2021-01-20T04:07:55.864Z",
    "type": "execution"
   },
   {
    "code": "# Python list addition will concatenate the two lists\n[1, 2, 3] + [4, 5, 6]",
    "id": "4c5805d787bd422c861c9ed5e42b1371",
    "idx": 31,
    "time": "2021-01-20T04:07:55.866Z",
    "type": "execution"
   },
   {
    "code": "# NumPy array addition will add them element-wise\nnp.array([1, 2, 3]) + np.array([4, 5, 6])",
    "id": "0b29c34b2550477785fe215f97d13604",
    "idx": 32,
    "time": "2021-01-20T04:07:55.868Z",
    "type": "execution"
   },
   {
    "code": "def summation(n):\n    \"\"\"Compute the summation i^3 + 3 * i^2 for 1 <= i <= n.\"\"\"\n    # BEGIN SOLUTION\n    if n < 1:\n        raise ValueError(\"n must be greater than or equal to 1\")\n    return sum((np.arange(1, n + 1) ** 3) + (3 * np.arange(1, n + 1) ** 2))\n    # END SOLUTION",
    "id": "b46a6ee98b1c42d48b9ddc1e4263169b",
    "idx": 35,
    "time": "2021-01-20T04:07:55.871Z",
    "type": "execution"
   },
   {
    "code": "# TEST\nsummation(1)",
    "id": "2f245094d7624eed8bbb87b2f50fc405",
    "idx": 36,
    "time": "2021-01-20T04:07:55.874Z",
    "type": "execution"
   },
   {
    "code": "# TEST\nsummation(2)",
    "id": "9635426415ab4d9b8a853ebf2f2b31fe",
    "idx": 37,
    "time": "2021-01-20T04:07:55.876Z",
    "type": "execution"
   },
   {
    "code": "# TEST\nsummation(100)",
    "id": "0e9da3b9554049a184ffb5dee206700a",
    "idx": 38,
    "time": "2021-01-20T04:07:55.878Z",
    "type": "execution"
   },
   {
    "code": "def elementwise_array_sum(list_1, list_2):\n    \"\"\"Compute x^2 + y^3 for each x, y in list_1, list_2. \n    \n    Assume list_1 and list_2 have the same length.\n    \n    Return a NumPy array.\n    \"\"\"\n    assert len(list_1) == len(list_2), \"both args must have the same number of elements\"\n    # BEGIN SOLUTION\n    # Solution 1\n    return np.square(list_1) + np.power(list_2, 3)\n    # Solution 2\n    return np.array(list_1) ** 2 + np.array(list_2) ** 3\n    # END SOLUTION",
    "id": "763d5f5df54e4913846efe3351195ed8",
    "idx": 40,
    "time": "2021-01-20T04:07:55.881Z",
    "type": "execution"
   },
   {
    "code": "# TEST\nelementwise_array_sum([], [])",
    "id": "b7afd360f3e941e1855ea24206be8dcc",
    "idx": 41,
    "time": "2021-01-20T04:07:55.884Z",
    "type": "execution"
   },
   {
    "code": "# TEST\nelementwise_array_sum([1], [1])",
    "id": "f489590c233b424bbfcf8c6787e9e57f",
    "idx": 42,
    "time": "2021-01-20T04:07:55.886Z",
    "type": "execution"
   },
   {
    "code": "# TEST\nelementwise_array_sum([-1], [1])",
    "id": "792d848910884ff48d91f4035ed2e464",
    "idx": 43,
    "time": "2021-01-20T04:07:55.888Z",
    "type": "execution"
   },
   {
    "code": "# TEST\nelementwise_array_sum([1], [-1])",
    "id": "f08c8a34cbfe4d8abb2b4d643a316c5b",
    "idx": 44,
    "time": "2021-01-20T04:07:55.890Z",
    "type": "execution"
   },
   {
    "code": "# TEST\nelementwise_array_sum([1, 2, 3], [1, 2, 3])",
    "id": "097914010efa4c5d840d4cd02a67dacf",
    "idx": 45,
    "time": "2021-01-20T04:07:55.893Z",
    "type": "execution"
   },
   {
    "code": "# TEST\nelementwise_array_sum([1, 5, 2], [3, 6, 6])",
    "id": "f789f115d1954ad199598c037b5c61fb",
    "idx": 46,
    "time": "2021-01-20T04:07:55.895Z",
    "type": "execution"
   },
   {
    "code": "# TEST\ntype(elementwise_array_sum([], [])) is np.ndarray",
    "id": "1ad148f4cf2e417684dd81b8a4534d5f",
    "idx": 47,
    "time": "2021-01-20T04:07:55.897Z",
    "type": "execution"
   },
   {
    "code": "def elementwise_list_sum(list_1, list_2):\n    \"\"\"Compute x^2 + y^3 for each x, y in list_1, list_2. \n    \n    Assume list_1 and list_2 have the same length.\n    \"\"\"\n\n    return [x ** 2 + y ** 3 for x, y in zip(list_1, list_2)]",
    "id": "cd9bd8148bdf4855a1a7f35dd8186595",
    "idx": 49,
    "time": "2021-01-20T04:07:55.899Z",
    "type": "execution"
   },
   {
    "code": "sample_list_1 = list(range(10))\nsample_array_1 = np.arange(10)",
    "id": "28b5a64027f1474287e46c447ad4534d",
    "idx": 51,
    "time": "2021-01-20T04:07:55.905Z",
    "type": "execution"
   },
   {
    "code": "%%time\nelementwise_list_sum(sample_list_1, sample_list_1)",
    "id": "50c5455db68c476a8328d732020b8c6e",
    "idx": 52,
    "time": "2021-01-20T04:07:55.907Z",
    "type": "execution"
   },
   {
    "code": "%%time\nelementwise_array_sum(sample_array_1, sample_array_1)",
    "id": "f9c91e126ac34f43bc0ade2d6dea0660",
    "idx": 53,
    "time": "2021-01-20T04:07:55.908Z",
    "type": "execution"
   },
   {
    "code": "sample_list_2 = list(range(100000))\nsample_array_2 = np.arange(100000)",
    "id": "b4e6d47b35f24c9ca24194ec3edd7be3",
    "idx": 55,
    "time": "2021-01-20T04:07:55.910Z",
    "type": "execution"
   },
   {
    "code": "%%time\nelementwise_list_sum(sample_list_2, sample_list_2)\n; # The semicolon hides the output",
    "id": "4bd9d4bb5cfb40728575a08f5bf62dbf",
    "idx": 56,
    "time": "2021-01-20T04:07:55.912Z",
    "type": "execution"
   },
   {
    "code": "%%time\nelementwise_array_sum(sample_array_2, sample_array_2)\n;",
    "id": "2606c05039bc48b882a20ebf5b3193ee",
    "idx": 57,
    "time": "2021-01-20T04:07:55.915Z",
    "type": "execution"
   },
   {
    "code": "def mean(population):\n    \"\"\"\n    Returns the mean of population (mu)\n    \n    Keyword arguments:\n    population -- a numpy array of numbers\n    \"\"\"\n    # Calculate the mean of a population\n    return sum(population) / len(population) # SOLUTION\n\ndef variance(population):\n    \"\"\"\n    Returns the variance of population (sigma squared)\n    \n    Keyword arguments:\n    population -- a numpy array of numbers\n    \"\"\"\n    # Calculate the variance of a population\n    # BEGIN SOLUTION\n    m = mean(population)\n    return sum((population - m) ** 2) / len(population)\n    # END SOLUTION",
    "id": "97830029429f4f4f8e012d1b775e58b7",
    "idx": 60,
    "time": "2021-01-20T04:07:55.917Z",
    "type": "execution"
   },
   {
    "code": "# TEST\npopulation_0 = np.random.randn(100)\nnp.isclose(mean(population_0), np.mean(population_0), atol=1e-6)",
    "id": "1fad5816e9794eb29d262f433b6f479a",
    "idx": 61,
    "time": "2021-01-20T04:07:55.920Z",
    "type": "execution"
   },
   {
    "code": "# HIDDEN TEST\npopulation_1 = 3 * np.random.randn(100) + 5\nnp.isclose(mean(population_1), np.mean(population_1), atol=1e-6)",
    "id": "f405ce7f587d4e0e84f685e629788b1d",
    "idx": 62,
    "time": "2021-01-20T04:07:55.922Z",
    "type": "execution"
   },
   {
    "code": "# TEST\npopulation_0 = np.random.randn(100)\nnp.isclose(variance(population_0), np.var(population_0), atol=1e-6)",
    "id": "57727c80327441d9ba5495b8ffee2b73",
    "idx": 63,
    "time": "2021-01-20T04:07:55.924Z",
    "type": "execution"
   },
   {
    "code": "# HIDDEN TEST\npopulation_1 = 3 * np.random.randn(100) + 5\nnp.isclose(variance(population_1), np.var(population_1), atol=1e-6)",
    "id": "918d1dd31d0e49d2b49f5385889e9512",
    "idx": 64,
    "time": "2021-01-20T04:07:55.926Z",
    "type": "execution"
   },
   {
    "code": "np.random.seed(42)\nrandom_arr = np.random.rand(60)\nvalid_values = random_arr[(2 * random_arr ** 4 > 1)] # SOLUTION",
    "id": "72d8e5dc69f0402bb5c7fdff9c72ef1d",
    "idx": 66,
    "time": "2021-01-20T04:07:55.929Z",
    "type": "execution"
   },
   {
    "code": "# TEST\nvalid_values",
    "id": "d1e4cbf47296448a8f4f1b77ae8da776",
    "idx": 67,
    "time": "2021-01-20T04:07:55.931Z",
    "type": "execution"
   },
   {
    "code": "# TEST\nlen(valid_values) == 10",
    "id": "abde7e2237d745dc866612ceed1bf39f",
    "idx": 68,
    "time": "2021-01-20T04:07:55.933Z",
    "type": "execution"
   },
   {
    "code": "# TEST\nnp.allclose(valid_values, [0.95071431, 0.86617615, 0.96990985, 0.94888554, 0.96563203,\n       0.9093204 , 0.96958463, 0.93949894, 0.89482735, 0.92187424])",
    "id": "683e67f62f8f45b9a71f0b7c67cf1534",
    "idx": 69,
    "time": "2021-01-20T04:07:55.936Z",
    "type": "execution"
   },
   {
    "code": "def f(x):\n    return x ** 2 # SOLUTION\n    \ndef df(x):\n    return 2 * x # SOLUTION\n\ndef plot(f, df):              \n    # BEGIN SOLUTION\n    x = np.linspace(-15, 15, 100)\n\n    plt.figure(figsize = (4, 4))\n    plt.plot(x, f(x))\n    plt.plot(x, np.zeros(x.shape[0]))\n    plt.plot(x, df(8) * (x - 8) + f(8))\n    \n    plt.xlim(-15, 15)\n    plt.ylim(-100, 300)\n    # END SOLUTION\n\nplot(f, df)",
    "id": "3c17971900634539b93c4b69290429c3",
    "idx": 76,
    "time": "2021-01-20T04:07:55.940Z",
    "type": "execution"
   },
   {
    "code": "from mpl_toolkits.mplot3d import axes3d\n\nu = np.linspace(1.5 * np.pi, -1.5 * np.pi, 100)\n# Your answer here\n[x, y] = np.meshgrid(u, u)\n# Your answer here\nsquared = np.sqrt(x.flatten() ** 2 + y.flatten() ** 2)\nz = np.cos(squared)\n# Your answer here\nz = z.reshape(x.shape)\n# Your answer here\n\nfig = plt.figure(figsize = (6, 6))\nax = fig.add_subplot(111, projection = '3d')\n# Your answer here\nax.plot_wireframe(x, y, z, rstride = 5, cstride = 5, lw = 2)\n# Your answer here\nax.view_init(elev = 60, azim = 25)\n# Your answer here\nplt.savefig(\"figure1.png\")\n# Your answer here",
    "id": "37753460f8d74baa81ef72ab24ef79fa",
    "idx": 78,
    "time": "2021-01-20T04:07:55.943Z",
    "type": "execution"
   },
   {
    "id": "807e162b55dd45268f4875933415b47d",
    "time": "2021-01-20T04:07:56.033Z",
    "type": "completion"
   },
   {
    "id": "242d58b36c814c338b4727ca3c4e2549",
    "time": "2021-01-20T04:07:56.036Z",
    "type": "completion"
   },
   {
    "id": "fa2541590ca841538efcb8cba37bc837",
    "time": "2021-01-20T04:07:56.446Z",
    "type": "completion"
   },
   {
    "id": "f8f4557ca5e946d883be7d5cafa5b4c6",
    "time": "2021-01-20T04:07:56.451Z",
    "type": "completion"
   },
   {
    "id": "b7023548740749068c12194cafd51054",
    "time": "2021-01-20T04:07:56.487Z",
    "type": "completion"
   },
   {
    "id": "dd201ff489714308b8bcf0e12a56d8e8",
    "time": "2021-01-20T04:07:56.495Z",
    "type": "completion"
   },
   {
    "id": "000eedbc928e4b2a8eabd69127d442bc",
    "time": "2021-01-20T04:07:56.501Z",
    "type": "completion"
   },
   {
    "id": "6b47bf4f1dcb4632894a91a43e80b9b6",
    "time": "2021-01-20T04:07:56.503Z",
    "type": "completion"
   },
   {
    "id": "222425d5d3394b74822cd9ad8483d235",
    "time": "2021-01-20T04:07:56.506Z",
    "type": "completion"
   },
   {
    "id": "bdf3d5bc4c84478c9b07da233fce2f27",
    "time": "2021-01-20T04:07:56.548Z",
    "type": "completion"
   },
   {
    "id": "10a0d109a1b141d1b70d329b1aa11976",
    "time": "2021-01-20T04:07:56.552Z",
    "type": "completion"
   },
   {
    "id": "a298bdaab3444858994db09f45d57bda",
    "time": "2021-01-20T04:07:56.553Z",
    "type": "completion"
   },
   {
    "id": "f129c21f8fbc44ae9dde3b08ea17a9c6",
    "time": "2021-01-20T04:07:56.556Z",
    "type": "completion"
   },
   {
    "id": "ffb7286e199246cc9d8ea66d47928895",
    "time": "2021-01-20T04:07:56.557Z",
    "type": "completion"
   },
   {
    "id": "4c5805d787bd422c861c9ed5e42b1371",
    "time": "2021-01-20T04:07:56.610Z",
    "type": "completion"
   },
   {
    "id": "0b29c34b2550477785fe215f97d13604",
    "time": "2021-01-20T04:07:56.613Z",
    "type": "completion"
   },
   {
    "id": "b46a6ee98b1c42d48b9ddc1e4263169b",
    "time": "2021-01-20T04:07:56.614Z",
    "type": "completion"
   },
   {
    "id": "2f245094d7624eed8bbb87b2f50fc405",
    "time": "2021-01-20T04:07:56.616Z",
    "type": "completion"
   },
   {
    "id": "9635426415ab4d9b8a853ebf2f2b31fe",
    "time": "2021-01-20T04:07:56.660Z",
    "type": "completion"
   },
   {
    "id": "0e9da3b9554049a184ffb5dee206700a",
    "time": "2021-01-20T04:07:56.664Z",
    "type": "completion"
   },
   {
    "id": "763d5f5df54e4913846efe3351195ed8",
    "time": "2021-01-20T04:07:56.665Z",
    "type": "completion"
   },
   {
    "id": "b7afd360f3e941e1855ea24206be8dcc",
    "time": "2021-01-20T04:07:56.667Z",
    "type": "completion"
   },
   {
    "id": "f489590c233b424bbfcf8c6787e9e57f",
    "time": "2021-01-20T04:07:56.670Z",
    "type": "completion"
   },
   {
    "id": "792d848910884ff48d91f4035ed2e464",
    "time": "2021-01-20T04:07:56.712Z",
    "type": "completion"
   },
   {
    "id": "f08c8a34cbfe4d8abb2b4d643a316c5b",
    "time": "2021-01-20T04:07:56.715Z",
    "type": "completion"
   },
   {
    "id": "097914010efa4c5d840d4cd02a67dacf",
    "time": "2021-01-20T04:07:56.716Z",
    "type": "completion"
   },
   {
    "id": "f789f115d1954ad199598c037b5c61fb",
    "time": "2021-01-20T04:07:56.719Z",
    "type": "completion"
   },
   {
    "id": "1ad148f4cf2e417684dd81b8a4534d5f",
    "time": "2021-01-20T04:07:56.721Z",
    "type": "completion"
   },
   {
    "id": "cd9bd8148bdf4855a1a7f35dd8186595",
    "time": "2021-01-20T04:07:56.818Z",
    "type": "completion"
   },
   {
    "id": "28b5a64027f1474287e46c447ad4534d",
    "time": "2021-01-20T04:07:56.825Z",
    "type": "completion"
   },
   {
    "id": "50c5455db68c476a8328d732020b8c6e",
    "time": "2021-01-20T04:07:56.827Z",
    "type": "completion"
   },
   {
    "id": "f9c91e126ac34f43bc0ade2d6dea0660",
    "time": "2021-01-20T04:07:56.829Z",
    "type": "completion"
   },
   {
    "id": "b4e6d47b35f24c9ca24194ec3edd7be3",
    "time": "2021-01-20T04:07:56.831Z",
    "type": "completion"
   },
   {
    "id": "4bd9d4bb5cfb40728575a08f5bf62dbf",
    "time": "2021-01-20T04:07:56.832Z",
    "type": "completion"
   },
   {
    "id": "2606c05039bc48b882a20ebf5b3193ee",
    "time": "2021-01-20T04:07:56.866Z",
    "type": "completion"
   },
   {
    "id": "97830029429f4f4f8e012d1b775e58b7",
    "time": "2021-01-20T04:07:56.867Z",
    "type": "completion"
   },
   {
    "id": "1fad5816e9794eb29d262f433b6f479a",
    "time": "2021-01-20T04:07:56.869Z",
    "type": "completion"
   },
   {
    "id": "f405ce7f587d4e0e84f685e629788b1d",
    "time": "2021-01-20T04:07:56.870Z",
    "type": "completion"
   },
   {
    "id": "57727c80327441d9ba5495b8ffee2b73",
    "time": "2021-01-20T04:07:56.871Z",
    "type": "completion"
   },
   {
    "id": "918d1dd31d0e49d2b49f5385889e9512",
    "time": "2021-01-20T04:07:56.909Z",
    "type": "completion"
   },
   {
    "id": "72d8e5dc69f0402bb5c7fdff9c72ef1d",
    "time": "2021-01-20T04:07:56.911Z",
    "type": "completion"
   },
   {
    "id": "d1e4cbf47296448a8f4f1b77ae8da776",
    "time": "2021-01-20T04:07:56.935Z",
    "type": "completion"
   },
   {
    "id": "abde7e2237d745dc866612ceed1bf39f",
    "time": "2021-01-20T04:07:56.940Z",
    "type": "completion"
   },
   {
    "id": "683e67f62f8f45b9a71f0b7c67cf1534",
    "time": "2021-01-20T04:07:56.942Z",
    "type": "completion"
   },
   {
    "id": "3c17971900634539b93c4b69290429c3",
    "time": "2021-01-20T04:07:56.967Z",
    "type": "completion"
   },
   {
    "id": "37753460f8d74baa81ef72ab24ef79fa",
    "time": "2021-01-20T04:07:57.446Z",
    "type": "completion"
   },
   {
    "code": "from IPython.display import YouTube\nYouTube(\"OOrH9ziDJI4\")",
    "id": "d139117a96734105868c4332b0dc0a3c",
    "idx": 3,
    "time": "2021-01-22T20:17:34.790Z",
    "type": "execution"
   },
   {
    "id": "d139117a96734105868c4332b0dc0a3c",
    "time": "2021-01-22T20:17:34.941Z",
    "type": "completion"
   },
   {
    "code": "from IPython import YouTube\nYouTube(\"OOrH9ziDJI4\")",
    "id": "d139117a96734105868c4332b0dc0a3c",
    "idx": 3,
    "time": "2021-01-22T20:17:39.107Z",
    "type": "execution"
   },
   {
    "id": "d139117a96734105868c4332b0dc0a3c",
    "time": "2021-01-22T20:17:39.220Z",
    "type": "completion"
   },
   {
    "code": "from IPython.displau import YouTubeVideo\nYouTubeVideo(\"OOrH9ziDJI4\")",
    "id": "d139117a96734105868c4332b0dc0a3c",
    "idx": 3,
    "time": "2021-01-22T20:17:53.827Z",
    "type": "execution"
   },
   {
    "id": "d139117a96734105868c4332b0dc0a3c",
    "time": "2021-01-22T20:17:53.921Z",
    "type": "completion"
   },
   {
    "code": "from IPython.display import YouTubeVideo\nYouTubeVideo(\"OOrH9ziDJI4\")",
    "id": "d139117a96734105868c4332b0dc0a3c",
    "idx": 3,
    "time": "2021-01-22T20:17:56.204Z",
    "type": "execution"
   },
   {
    "id": "d139117a96734105868c4332b0dc0a3c",
    "time": "2021-01-22T20:17:56.645Z",
    "type": "completion"
   },
   {
    "code": "from IPython.display import YouTubeVideo\nYouTubeVideo(\"OOrH9ziDJI4\", width=600)",
    "id": "d139117a96734105868c4332b0dc0a3c",
    "idx": 3,
    "time": "2021-01-22T20:18:01.533Z",
    "type": "execution"
   },
   {
    "id": "d139117a96734105868c4332b0dc0a3c",
    "time": "2021-01-22T20:18:01.865Z",
    "type": "completion"
   },
   {
    "code": "from IPython.display import YouTubeVideo\nYouTubeVideo(\"OOrH9ziDJI4\", width=600, height=400)",
    "id": "d139117a96734105868c4332b0dc0a3c",
    "idx": 3,
    "time": "2021-01-22T20:18:06.130Z",
    "type": "execution"
   },
   {
    "id": "d139117a96734105868c4332b0dc0a3c",
    "time": "2021-01-22T20:18:06.397Z",
    "type": "completion"
   },
   {
    "code": "from IPython.display import YouTubeVideo\nYouTubeVideo(\"OOrH9ziDJI4\")",
    "id": "d139117a96734105868c4332b0dc0a3c",
    "idx": 3,
    "time": "2021-01-22T20:20:26.675Z",
    "type": "execution"
   },
   {
    "id": "d139117a96734105868c4332b0dc0a3c",
    "time": "2021-01-22T20:20:27.000Z",
    "type": "completion"
   }
  ],
  "kernelspec": {
   "display_name": "Python 3",
   "language": "python",
   "name": "python3"
  },
  "language_info": {
   "codemirror_mode": {
    "name": "ipython",
    "version": 3
   },
   "file_extension": ".py",
   "mimetype": "text/x-python",
   "name": "python",
   "nbconvert_exporter": "python",
   "pygments_lexer": "ipython3",
   "version": "3.8.8"
  },
  "toc": {
   "colors": {
    "hover_highlight": "#DAA520",
    "running_highlight": "#FF0000",
    "selected_highlight": "#FFD700"
   },
   "moveMenuLeft": true,
   "nav_menu": {
    "height": "156px",
    "width": "252px"
   },
   "navigate_menu": true,
   "number_sections": true,
   "sideBar": true,
   "threshold": 4,
   "toc_cell": true,
   "toc_section_display": "block",
   "toc_window_display": true
  }
 },
 "nbformat": 4,
 "nbformat_minor": 4
}
