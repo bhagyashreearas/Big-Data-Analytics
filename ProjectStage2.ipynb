{
 "cells": [
  {
   "cell_type": "markdown",
   "id": "6086b82b-f5dc-4d00-88a6-f8670c8a9242",
   "metadata": {
    "id": "1becc6d4-ddd6-4db3-8c6d-78a6b30828c1"
   },
   "source": [
    "# Project Stage 1"
   ]
  },
  {
   "cell_type": "markdown",
   "id": "1d7a9203-8b95-4715-98d9-4b88e9b194de",
   "metadata": {},
   "source": [
    "**2.1: Group Members [Bhagyashree Aras and Supraja Amrutha]**"
   ]
  },
  {
   "cell_type": "markdown",
   "id": "142b5f62-dc55-4d3b-855f-d4b30eda74f2",
   "metadata": {
    "id": "bwq6qBpRoauR"
   },
   "source": [
    "**2.2: Problem Formulation/Introduction**\n",
    "\n",
    "**2.2.1: GIVEN PASSENGER IMFORMATION, WILL PASSENGER SURVIVE THE TITANIC SINKING?**\n",
    ">We are given the passenger data of Titanic ship on it's first voyage on April 15, 1912, with their age, gender and socio-economic class etc. \n",
    "There were a total of 2224 passengers on board, out of which a subset of 1309 data set has been provided with a split of 891 X 12 train data \n",
    "set and 418 X 11 test data set. we have to build a machine learning model which can predict what sort of passengers are likely to survive the \n",
    "sinking of Titanic. The model will be trained on train data set and the predictions are made for test data set. According to our understanding\n",
    "we consider this problem statement as a discovery problem as there is no prior evidence to prove that a particualr passenger will survive or not.\n",
    "\n",
    "**2.2.2: According to the problem, what's the data population?**\n",
    "\n",
    "DATA POPULATION: PASSENGER DATA\n",
    "\n",
    "**(correction from stage 1 comments) The data population for this problem is the data of passengers that were on board on the day of titanic sinking**\n"
   ]
  },
  {
   "cell_type": "markdown",
   "id": "72b0dfbe-ea2d-471e-b101-44d84c40593d",
   "metadata": {},
   "source": [
    "**2.3: Data**"
   ]
  },
  {
   "cell_type": "markdown",
   "id": "9c275724-23e1-47cc-95c3-4207fc79481a",
   "metadata": {
    "id": "b1f3bc33-cdfe-451f-a939-1f3a1547e5fe"
   },
   "source": [
    "**2.3.1: Kaggle account username for our team: bhagyashreearas**"
   ]
  },
  {
   "cell_type": "markdown",
   "id": "28c42b84-e4b7-4941-b4dc-aaf207c75424",
   "metadata": {
    "id": "4c7c5af0-26dd-4a9f-9ca2-b5ae876fa889"
   },
   "source": [
    "**2.3.2: Downloading the data, displaying several lines of data and description of what data is about**"
   ]
  },
  {
   "cell_type": "code",
   "execution_count": 1,
   "id": "f8d31dcd-04d1-4942-ab1f-84f8245a58ee",
   "metadata": {},
   "outputs": [
    {
     "name": "stdout",
     "output_type": "stream",
     "text": [
      "Requirement already satisfied: imblearn in /opt/conda/lib/python3.8/site-packages (0.0)\n",
      "Requirement already satisfied: imbalanced-learn in /opt/conda/lib/python3.8/site-packages (from imblearn) (0.8.1)\n",
      "Requirement already satisfied: scikit-learn>=0.24 in /opt/conda/lib/python3.8/site-packages (from imbalanced-learn->imblearn) (0.24.2)\n",
      "Requirement already satisfied: joblib>=0.11 in /opt/conda/lib/python3.8/site-packages (from imbalanced-learn->imblearn) (1.0.1)\n",
      "Requirement already satisfied: numpy>=1.13.3 in /opt/conda/lib/python3.8/site-packages (from imbalanced-learn->imblearn) (1.20.2)\n",
      "Requirement already satisfied: scipy>=0.19.1 in /opt/conda/lib/python3.8/site-packages (from imbalanced-learn->imblearn) (1.6.3)\n",
      "Requirement already satisfied: threadpoolctl>=2.0.0 in /opt/conda/lib/python3.8/site-packages (from scikit-learn>=0.24->imbalanced-learn->imblearn) (2.1.0)\n",
      "Note: you may need to restart the kernel to use updated packages.\n"
     ]
    }
   ],
   "source": [
    "pip install imblearn"
   ]
  },
  {
   "cell_type": "code",
   "execution_count": 2,
   "id": "jndeRa85i_lz",
   "metadata": {
    "id": "jndeRa85i_lz"
   },
   "outputs": [],
   "source": [
    "# IMPORTING THE STANDARD LIBRARIES\n",
    "import pandas as pd \n",
    "import numpy as np\n",
    "import matplotlib.pyplot as plt\n",
    "%matplotlib inline\n",
    "import seaborn as sns\n",
    "from sklearn.metrics import  accuracy_score\n",
    "from sklearn.ensemble import  RandomForestClassifier\n",
    "from sklearn import preprocessing \n",
    "from sklearn import svm\n",
    "from sklearn.linear_model import LogisticRegression\n",
    "from sklearn.preprocessing import StandardScaler\n",
    "import imblearn\n",
    "#from imblearn.over_sampling import RandomOverSampler\n",
    "from imblearn.under_sampling import RandomUnderSampler\n",
    "from collections import Counter\n",
    "from IPython.display import Image"
   ]
  },
  {
   "cell_type": "code",
   "execution_count": 3,
   "id": "DA3vlOyjUfmw",
   "metadata": {
    "colab": {
     "base_uri": "https://localhost:8080/"
    },
    "id": "DA3vlOyjUfmw",
    "outputId": "5028b6d9-43d9-442f-b0b7-225225c4d486"
   },
   "outputs": [
    {
     "name": "stdout",
     "output_type": "stream",
     "text": [
      "train.csv ======================\n",
      "0 \t 'PassengerId,Survived,Pclass,Name,Sex,Age,SibSp,Parch,Ticket,Fare,Cabin,Embarked\\n'\n",
      "1 \t '1,0,3,\"Braund, Mr. Owen Harris\",male,22,1,0,A/5 21171,7.25,,S\\n'\n",
      "2 \t '2,1,1,\"Cumings, Mrs. John Bradley (Florence Briggs Thayer)\",female,38,1,0,PC 17599,71.2833,C85,C\\n'\n",
      "3 \t '3,1,3,\"Heikkinen, Miss. Laina\",female,26,0,0,STON/O2. 3101282,7.925,,S\\n'\n",
      "4 \t '4,1,1,\"Futrelle, Mrs. Jacques Heath (Lily May Peel)\",female,35,1,0,113803,53.1,C123,S\\n'\n",
      "5 \t '5,0,3,\"Allen, Mr. William Henry\",male,35,0,0,373450,8.05,,S\\n'\n",
      "6 \t '6,0,3,\"Moran, Mr. James\",male,,0,0,330877,8.4583,,Q\\n'\n",
      "7 \t '7,0,1,\"McCarthy, Mr. Timothy J\",male,54,0,0,17463,51.8625,E46,S\\n'\n",
      "8 \t '8,0,3,\"Palsson, Master. Gosta Leonard\",male,2,3,1,349909,21.075,,S\\n'\n",
      "9 \t '9,1,3,\"Johnson, Mrs. Oscar W (Elisabeth Vilhelmina Berg)\",female,27,0,2,347742,11.1333,,S\\n'\n"
     ]
    }
   ],
   "source": [
    "training_file='train.csv'\n",
    "print(training_file, \"======================\")\n",
    "with open(training_file, \"r\") as f:\n",
    "    for i in range(10):\n",
    "        print(i, \"\\t\", repr(f.readline()))"
   ]
  },
  {
   "cell_type": "code",
   "execution_count": 4,
   "id": "hk2n8oSPUrBo",
   "metadata": {
    "colab": {
     "base_uri": "https://localhost:8080/"
    },
    "id": "hk2n8oSPUrBo",
    "outputId": "4519c9cf-949b-4c05-e5dc-842b103f2755"
   },
   "outputs": [
    {
     "name": "stdout",
     "output_type": "stream",
     "text": [
      "test.csv ======================\n",
      "0 \t 'PassengerId,Pclass,Name,Sex,Age,SibSp,Parch,Ticket,Fare,Cabin,Embarked\\n'\n",
      "1 \t '892,3,\"Kelly, Mr. James\",male,34.5,0,0,330911,7.8292,,Q\\n'\n",
      "2 \t '893,3,\"Wilkes, Mrs. James (Ellen Needs)\",female,47,1,0,363272,7,,S\\n'\n",
      "3 \t '894,2,\"Myles, Mr. Thomas Francis\",male,62,0,0,240276,9.6875,,Q\\n'\n",
      "4 \t '895,3,\"Wirz, Mr. Albert\",male,27,0,0,315154,8.6625,,S\\n'\n",
      "5 \t '896,3,\"Hirvonen, Mrs. Alexander (Helga E Lindqvist)\",female,22,1,1,3101298,12.2875,,S\\n'\n",
      "6 \t '897,3,\"Svensson, Mr. Johan Cervin\",male,14,0,0,7538,9.225,,S\\n'\n",
      "7 \t '898,3,\"Connolly, Miss. Kate\",female,30,0,0,330972,7.6292,,Q\\n'\n",
      "8 \t '899,2,\"Caldwell, Mr. Albert Francis\",male,26,1,1,248738,29,,S\\n'\n",
      "9 \t '900,3,\"Abrahim, Mrs. Joseph (Sophie Halaut Easu)\",female,18,0,0,2657,7.2292,,C\\n'\n"
     ]
    }
   ],
   "source": [
    "testing_file='test.csv'\n",
    "print(testing_file, \"======================\")\n",
    "with open(testing_file, \"r\") as f:\n",
    "    for i in range(10):\n",
    "        print(i, \"\\t\", repr(f.readline()))"
   ]
  },
  {
   "cell_type": "markdown",
   "id": "9a6d0d05-ca61-4f76-a3a5-b277273c1d24",
   "metadata": {
    "id": "9S5noASbt-pH"
   },
   "source": [
    "Description of train and test data:\n",
    "\n",
    ">In the training data set there are 891 rows and 12 columns. Each row in the data set represents a passenger's information with unique passenger ID. the columns in the train data set are : \n",
    "* PassengerId: Unique ID to identify passenger, \n",
    "* Survived: whether that particular passenger survived or not,\n",
    "* Pclass: is ticket class which also represents their socio-economic status\n",
    "* Name: name of the passenger\n",
    "* Sex: It determines the sex of the passenger whether male or female.\n",
    "* Age: Represnets age of passenger and the data type is float. age can be less than 1.\n",
    "* sibsp: This includes total of siblings and spouse of the passenger (mistresses and fiancés were ignored)\n",
    "* parch: This includes number of parents or children they are travelling with, if children travelling with nanny then this number will be 0\n",
    "* Ticket: Ticket number of the passenger\n",
    "* Fare: fare of their ticket purchased\n",
    "* Cabin: cabin number alloted to the passenger\n",
    "* Embarked: it is the Port of Embarkation including C = Cherbourg, Q = Queenstown, S = Southampton\n",
    "\n",
    "In test data, each and every column of train data is present except for survided column which we need to predict\n"
   ]
  },
  {
   "cell_type": "markdown",
   "id": "dcba23fa-e5ed-4721-8603-4160d42decfc",
   "metadata": {
    "colab": {
     "base_uri": "https://localhost:8080/",
     "height": 340
    },
    "id": "lib_TaxWjuKe",
    "outputId": "3b117c0a-0efb-4acb-a1f7-4238a3ea56bd"
   },
   "source": [
    "**2.3.3: Data Wrangling:**"
   ]
  },
  {
   "cell_type": "code",
   "execution_count": 5,
   "id": "b0340fc8-5590-4839-bddf-96c3be03d89c",
   "metadata": {},
   "outputs": [
    {
     "data": {
      "text/html": [
       "<div>\n",
       "<style scoped>\n",
       "    .dataframe tbody tr th:only-of-type {\n",
       "        vertical-align: middle;\n",
       "    }\n",
       "\n",
       "    .dataframe tbody tr th {\n",
       "        vertical-align: top;\n",
       "    }\n",
       "\n",
       "    .dataframe thead th {\n",
       "        text-align: right;\n",
       "    }\n",
       "</style>\n",
       "<table border=\"1\" class=\"dataframe\">\n",
       "  <thead>\n",
       "    <tr style=\"text-align: right;\">\n",
       "      <th></th>\n",
       "      <th>PassengerId</th>\n",
       "      <th>Survived</th>\n",
       "      <th>Pclass</th>\n",
       "      <th>Name</th>\n",
       "      <th>Sex</th>\n",
       "      <th>Age</th>\n",
       "      <th>SibSp</th>\n",
       "      <th>Parch</th>\n",
       "      <th>Ticket</th>\n",
       "      <th>Fare</th>\n",
       "      <th>Cabin</th>\n",
       "      <th>Embarked</th>\n",
       "    </tr>\n",
       "  </thead>\n",
       "  <tbody>\n",
       "    <tr>\n",
       "      <th>0</th>\n",
       "      <td>1</td>\n",
       "      <td>0</td>\n",
       "      <td>3</td>\n",
       "      <td>Braund, Mr. Owen Harris</td>\n",
       "      <td>male</td>\n",
       "      <td>22.0</td>\n",
       "      <td>1</td>\n",
       "      <td>0</td>\n",
       "      <td>A/5 21171</td>\n",
       "      <td>7.2500</td>\n",
       "      <td>NaN</td>\n",
       "      <td>S</td>\n",
       "    </tr>\n",
       "    <tr>\n",
       "      <th>1</th>\n",
       "      <td>2</td>\n",
       "      <td>1</td>\n",
       "      <td>1</td>\n",
       "      <td>Cumings, Mrs. John Bradley (Florence Briggs Th...</td>\n",
       "      <td>female</td>\n",
       "      <td>38.0</td>\n",
       "      <td>1</td>\n",
       "      <td>0</td>\n",
       "      <td>PC 17599</td>\n",
       "      <td>71.2833</td>\n",
       "      <td>C85</td>\n",
       "      <td>C</td>\n",
       "    </tr>\n",
       "    <tr>\n",
       "      <th>2</th>\n",
       "      <td>3</td>\n",
       "      <td>1</td>\n",
       "      <td>3</td>\n",
       "      <td>Heikkinen, Miss. Laina</td>\n",
       "      <td>female</td>\n",
       "      <td>26.0</td>\n",
       "      <td>0</td>\n",
       "      <td>0</td>\n",
       "      <td>STON/O2. 3101282</td>\n",
       "      <td>7.9250</td>\n",
       "      <td>NaN</td>\n",
       "      <td>S</td>\n",
       "    </tr>\n",
       "    <tr>\n",
       "      <th>3</th>\n",
       "      <td>4</td>\n",
       "      <td>1</td>\n",
       "      <td>1</td>\n",
       "      <td>Futrelle, Mrs. Jacques Heath (Lily May Peel)</td>\n",
       "      <td>female</td>\n",
       "      <td>35.0</td>\n",
       "      <td>1</td>\n",
       "      <td>0</td>\n",
       "      <td>113803</td>\n",
       "      <td>53.1000</td>\n",
       "      <td>C123</td>\n",
       "      <td>S</td>\n",
       "    </tr>\n",
       "    <tr>\n",
       "      <th>4</th>\n",
       "      <td>5</td>\n",
       "      <td>0</td>\n",
       "      <td>3</td>\n",
       "      <td>Allen, Mr. William Henry</td>\n",
       "      <td>male</td>\n",
       "      <td>35.0</td>\n",
       "      <td>0</td>\n",
       "      <td>0</td>\n",
       "      <td>373450</td>\n",
       "      <td>8.0500</td>\n",
       "      <td>NaN</td>\n",
       "      <td>S</td>\n",
       "    </tr>\n",
       "  </tbody>\n",
       "</table>\n",
       "</div>"
      ],
      "text/plain": [
       "   PassengerId  Survived  Pclass  \\\n",
       "0            1         0       3   \n",
       "1            2         1       1   \n",
       "2            3         1       3   \n",
       "3            4         1       1   \n",
       "4            5         0       3   \n",
       "\n",
       "                                                Name     Sex   Age  SibSp  \\\n",
       "0                            Braund, Mr. Owen Harris    male  22.0      1   \n",
       "1  Cumings, Mrs. John Bradley (Florence Briggs Th...  female  38.0      1   \n",
       "2                             Heikkinen, Miss. Laina  female  26.0      0   \n",
       "3       Futrelle, Mrs. Jacques Heath (Lily May Peel)  female  35.0      1   \n",
       "4                           Allen, Mr. William Henry    male  35.0      0   \n",
       "\n",
       "   Parch            Ticket     Fare Cabin Embarked  \n",
       "0      0         A/5 21171   7.2500   NaN        S  \n",
       "1      0          PC 17599  71.2833   C85        C  \n",
       "2      0  STON/O2. 3101282   7.9250   NaN        S  \n",
       "3      0            113803  53.1000  C123        S  \n",
       "4      0            373450   8.0500   NaN        S  "
      ]
     },
     "execution_count": 5,
     "metadata": {},
     "output_type": "execute_result"
    }
   ],
   "source": [
    "# importing the data and transforming the data into a data frame or data frames for analysis or visualization\n",
    "\n",
    "train_data = pd.read_csv(\"train.csv\")\n",
    "train_data.head()"
   ]
  },
  {
   "cell_type": "code",
   "execution_count": 6,
   "id": "Tf3XP8wYTtwx",
   "metadata": {
    "colab": {
     "base_uri": "https://localhost:8080/",
     "height": 221
    },
    "id": "Tf3XP8wYTtwx",
    "outputId": "da76e010-c04c-4694-ea27-187c7fec2736"
   },
   "outputs": [
    {
     "data": {
      "text/html": [
       "<div>\n",
       "<style scoped>\n",
       "    .dataframe tbody tr th:only-of-type {\n",
       "        vertical-align: middle;\n",
       "    }\n",
       "\n",
       "    .dataframe tbody tr th {\n",
       "        vertical-align: top;\n",
       "    }\n",
       "\n",
       "    .dataframe thead th {\n",
       "        text-align: right;\n",
       "    }\n",
       "</style>\n",
       "<table border=\"1\" class=\"dataframe\">\n",
       "  <thead>\n",
       "    <tr style=\"text-align: right;\">\n",
       "      <th></th>\n",
       "      <th>PassengerId</th>\n",
       "      <th>Pclass</th>\n",
       "      <th>Name</th>\n",
       "      <th>Sex</th>\n",
       "      <th>Age</th>\n",
       "      <th>SibSp</th>\n",
       "      <th>Parch</th>\n",
       "      <th>Ticket</th>\n",
       "      <th>Fare</th>\n",
       "      <th>Cabin</th>\n",
       "      <th>Embarked</th>\n",
       "    </tr>\n",
       "  </thead>\n",
       "  <tbody>\n",
       "    <tr>\n",
       "      <th>0</th>\n",
       "      <td>892</td>\n",
       "      <td>3</td>\n",
       "      <td>Kelly, Mr. James</td>\n",
       "      <td>male</td>\n",
       "      <td>34.5</td>\n",
       "      <td>0</td>\n",
       "      <td>0</td>\n",
       "      <td>330911</td>\n",
       "      <td>7.8292</td>\n",
       "      <td>NaN</td>\n",
       "      <td>Q</td>\n",
       "    </tr>\n",
       "    <tr>\n",
       "      <th>1</th>\n",
       "      <td>893</td>\n",
       "      <td>3</td>\n",
       "      <td>Wilkes, Mrs. James (Ellen Needs)</td>\n",
       "      <td>female</td>\n",
       "      <td>47.0</td>\n",
       "      <td>1</td>\n",
       "      <td>0</td>\n",
       "      <td>363272</td>\n",
       "      <td>7.0000</td>\n",
       "      <td>NaN</td>\n",
       "      <td>S</td>\n",
       "    </tr>\n",
       "    <tr>\n",
       "      <th>2</th>\n",
       "      <td>894</td>\n",
       "      <td>2</td>\n",
       "      <td>Myles, Mr. Thomas Francis</td>\n",
       "      <td>male</td>\n",
       "      <td>62.0</td>\n",
       "      <td>0</td>\n",
       "      <td>0</td>\n",
       "      <td>240276</td>\n",
       "      <td>9.6875</td>\n",
       "      <td>NaN</td>\n",
       "      <td>Q</td>\n",
       "    </tr>\n",
       "    <tr>\n",
       "      <th>3</th>\n",
       "      <td>895</td>\n",
       "      <td>3</td>\n",
       "      <td>Wirz, Mr. Albert</td>\n",
       "      <td>male</td>\n",
       "      <td>27.0</td>\n",
       "      <td>0</td>\n",
       "      <td>0</td>\n",
       "      <td>315154</td>\n",
       "      <td>8.6625</td>\n",
       "      <td>NaN</td>\n",
       "      <td>S</td>\n",
       "    </tr>\n",
       "    <tr>\n",
       "      <th>4</th>\n",
       "      <td>896</td>\n",
       "      <td>3</td>\n",
       "      <td>Hirvonen, Mrs. Alexander (Helga E Lindqvist)</td>\n",
       "      <td>female</td>\n",
       "      <td>22.0</td>\n",
       "      <td>1</td>\n",
       "      <td>1</td>\n",
       "      <td>3101298</td>\n",
       "      <td>12.2875</td>\n",
       "      <td>NaN</td>\n",
       "      <td>S</td>\n",
       "    </tr>\n",
       "  </tbody>\n",
       "</table>\n",
       "</div>"
      ],
      "text/plain": [
       "   PassengerId  Pclass                                          Name     Sex  \\\n",
       "0          892       3                              Kelly, Mr. James    male   \n",
       "1          893       3              Wilkes, Mrs. James (Ellen Needs)  female   \n",
       "2          894       2                     Myles, Mr. Thomas Francis    male   \n",
       "3          895       3                              Wirz, Mr. Albert    male   \n",
       "4          896       3  Hirvonen, Mrs. Alexander (Helga E Lindqvist)  female   \n",
       "\n",
       "    Age  SibSp  Parch   Ticket     Fare Cabin Embarked  \n",
       "0  34.5      0      0   330911   7.8292   NaN        Q  \n",
       "1  47.0      1      0   363272   7.0000   NaN        S  \n",
       "2  62.0      0      0   240276   9.6875   NaN        Q  \n",
       "3  27.0      0      0   315154   8.6625   NaN        S  \n",
       "4  22.0      1      1  3101298  12.2875   NaN        S  "
      ]
     },
     "execution_count": 6,
     "metadata": {},
     "output_type": "execute_result"
    }
   ],
   "source": [
    "test_data = pd.read_csv(\"test.csv\")\n",
    "test_data.head()"
   ]
  },
  {
   "cell_type": "markdown",
   "id": "4dcba00f-3b1d-452e-bb3d-7e115fd93794",
   "metadata": {},
   "source": [
    "**STRUCTURE**"
   ]
  },
  {
   "cell_type": "code",
   "execution_count": 7,
   "id": "tGhbw7Ub1mE6",
   "metadata": {
    "colab": {
     "base_uri": "https://localhost:8080/"
    },
    "id": "tGhbw7Ub1mE6",
    "outputId": "ed4c6f2a-771b-4096-8c98-18f64f88af38"
   },
   "outputs": [
    {
     "data": {
      "text/plain": [
       "(891, 12)"
      ]
     },
     "execution_count": 7,
     "metadata": {},
     "output_type": "execute_result"
    }
   ],
   "source": [
    "#Checking for the shape of train data whether it is rectangle\n",
    "train_data.shape"
   ]
  },
  {
   "cell_type": "code",
   "execution_count": 8,
   "id": "PnXquSEwuXQu",
   "metadata": {
    "colab": {
     "base_uri": "https://localhost:8080/"
    },
    "id": "PnXquSEwuXQu",
    "outputId": "f0986bd1-6e52-4f1a-ffce-a5854ecdb0da"
   },
   "outputs": [
    {
     "data": {
      "text/plain": [
       "(418, 11)"
      ]
     },
     "execution_count": 8,
     "metadata": {},
     "output_type": "execute_result"
    }
   ],
   "source": [
    "#Checking for the shape of test data whether it is rectangle\n",
    "test_data.shape"
   ]
  },
  {
   "cell_type": "code",
   "execution_count": 9,
   "id": "iKKgaGeKVT1v",
   "metadata": {
    "colab": {
     "base_uri": "https://localhost:8080/"
    },
    "id": "iKKgaGeKVT1v",
    "outputId": "0c609d67-c608-4020-f3fb-1323849787bf"
   },
   "outputs": [
    {
     "name": "stdout",
     "output_type": "stream",
     "text": [
      "<class 'pandas.core.frame.DataFrame'>\n",
      "RangeIndex: 891 entries, 0 to 890\n",
      "Data columns (total 12 columns):\n",
      " #   Column       Non-Null Count  Dtype  \n",
      "---  ------       --------------  -----  \n",
      " 0   PassengerId  891 non-null    int64  \n",
      " 1   Survived     891 non-null    int64  \n",
      " 2   Pclass       891 non-null    int64  \n",
      " 3   Name         891 non-null    object \n",
      " 4   Sex          891 non-null    object \n",
      " 5   Age          714 non-null    float64\n",
      " 6   SibSp        891 non-null    int64  \n",
      " 7   Parch        891 non-null    int64  \n",
      " 8   Ticket       891 non-null    object \n",
      " 9   Fare         891 non-null    float64\n",
      " 10  Cabin        204 non-null    object \n",
      " 11  Embarked     889 non-null    object \n",
      "dtypes: float64(2), int64(5), object(5)\n",
      "memory usage: 83.7+ KB\n"
     ]
    }
   ],
   "source": [
    "#Checking for the data types of the each column in train data\n",
    "train_data.info()"
   ]
  },
  {
   "cell_type": "code",
   "execution_count": 10,
   "id": "Z0m-zTdgWk8v",
   "metadata": {
    "colab": {
     "base_uri": "https://localhost:8080/"
    },
    "id": "Z0m-zTdgWk8v",
    "outputId": "07831e4e-ac83-49b3-ea39-98630eb633ee"
   },
   "outputs": [
    {
     "name": "stdout",
     "output_type": "stream",
     "text": [
      "<class 'pandas.core.frame.DataFrame'>\n",
      "RangeIndex: 418 entries, 0 to 417\n",
      "Data columns (total 11 columns):\n",
      " #   Column       Non-Null Count  Dtype  \n",
      "---  ------       --------------  -----  \n",
      " 0   PassengerId  418 non-null    int64  \n",
      " 1   Pclass       418 non-null    int64  \n",
      " 2   Name         418 non-null    object \n",
      " 3   Sex          418 non-null    object \n",
      " 4   Age          332 non-null    float64\n",
      " 5   SibSp        418 non-null    int64  \n",
      " 6   Parch        418 non-null    int64  \n",
      " 7   Ticket       418 non-null    object \n",
      " 8   Fare         417 non-null    float64\n",
      " 9   Cabin        91 non-null     object \n",
      " 10  Embarked     418 non-null    object \n",
      "dtypes: float64(2), int64(4), object(5)\n",
      "memory usage: 36.0+ KB\n"
     ]
    }
   ],
   "source": [
    "#Checking for the data types of the each column in test data\n",
    "test_data.info()"
   ]
  },
  {
   "cell_type": "code",
   "execution_count": 11,
   "id": "Q0RMJO-JVbjh",
   "metadata": {
    "colab": {
     "base_uri": "https://localhost:8080/",
     "height": 297
    },
    "id": "Q0RMJO-JVbjh",
    "outputId": "5caa2439-26ce-4685-a771-0a34599e8a54"
   },
   "outputs": [
    {
     "data": {
      "text/html": [
       "<div>\n",
       "<style scoped>\n",
       "    .dataframe tbody tr th:only-of-type {\n",
       "        vertical-align: middle;\n",
       "    }\n",
       "\n",
       "    .dataframe tbody tr th {\n",
       "        vertical-align: top;\n",
       "    }\n",
       "\n",
       "    .dataframe thead th {\n",
       "        text-align: right;\n",
       "    }\n",
       "</style>\n",
       "<table border=\"1\" class=\"dataframe\">\n",
       "  <thead>\n",
       "    <tr style=\"text-align: right;\">\n",
       "      <th></th>\n",
       "      <th>PassengerId</th>\n",
       "      <th>Survived</th>\n",
       "      <th>Pclass</th>\n",
       "      <th>Age</th>\n",
       "      <th>SibSp</th>\n",
       "      <th>Parch</th>\n",
       "      <th>Fare</th>\n",
       "    </tr>\n",
       "  </thead>\n",
       "  <tbody>\n",
       "    <tr>\n",
       "      <th>count</th>\n",
       "      <td>891.000000</td>\n",
       "      <td>891.000000</td>\n",
       "      <td>891.000000</td>\n",
       "      <td>714.000000</td>\n",
       "      <td>891.000000</td>\n",
       "      <td>891.000000</td>\n",
       "      <td>891.000000</td>\n",
       "    </tr>\n",
       "    <tr>\n",
       "      <th>mean</th>\n",
       "      <td>446.000000</td>\n",
       "      <td>0.383838</td>\n",
       "      <td>2.308642</td>\n",
       "      <td>29.699118</td>\n",
       "      <td>0.523008</td>\n",
       "      <td>0.381594</td>\n",
       "      <td>32.204208</td>\n",
       "    </tr>\n",
       "    <tr>\n",
       "      <th>std</th>\n",
       "      <td>257.353842</td>\n",
       "      <td>0.486592</td>\n",
       "      <td>0.836071</td>\n",
       "      <td>14.526497</td>\n",
       "      <td>1.102743</td>\n",
       "      <td>0.806057</td>\n",
       "      <td>49.693429</td>\n",
       "    </tr>\n",
       "    <tr>\n",
       "      <th>min</th>\n",
       "      <td>1.000000</td>\n",
       "      <td>0.000000</td>\n",
       "      <td>1.000000</td>\n",
       "      <td>0.420000</td>\n",
       "      <td>0.000000</td>\n",
       "      <td>0.000000</td>\n",
       "      <td>0.000000</td>\n",
       "    </tr>\n",
       "    <tr>\n",
       "      <th>25%</th>\n",
       "      <td>223.500000</td>\n",
       "      <td>0.000000</td>\n",
       "      <td>2.000000</td>\n",
       "      <td>20.125000</td>\n",
       "      <td>0.000000</td>\n",
       "      <td>0.000000</td>\n",
       "      <td>7.910400</td>\n",
       "    </tr>\n",
       "    <tr>\n",
       "      <th>50%</th>\n",
       "      <td>446.000000</td>\n",
       "      <td>0.000000</td>\n",
       "      <td>3.000000</td>\n",
       "      <td>28.000000</td>\n",
       "      <td>0.000000</td>\n",
       "      <td>0.000000</td>\n",
       "      <td>14.454200</td>\n",
       "    </tr>\n",
       "    <tr>\n",
       "      <th>75%</th>\n",
       "      <td>668.500000</td>\n",
       "      <td>1.000000</td>\n",
       "      <td>3.000000</td>\n",
       "      <td>38.000000</td>\n",
       "      <td>1.000000</td>\n",
       "      <td>0.000000</td>\n",
       "      <td>31.000000</td>\n",
       "    </tr>\n",
       "    <tr>\n",
       "      <th>max</th>\n",
       "      <td>891.000000</td>\n",
       "      <td>1.000000</td>\n",
       "      <td>3.000000</td>\n",
       "      <td>80.000000</td>\n",
       "      <td>8.000000</td>\n",
       "      <td>6.000000</td>\n",
       "      <td>512.329200</td>\n",
       "    </tr>\n",
       "  </tbody>\n",
       "</table>\n",
       "</div>"
      ],
      "text/plain": [
       "       PassengerId    Survived      Pclass         Age       SibSp  \\\n",
       "count   891.000000  891.000000  891.000000  714.000000  891.000000   \n",
       "mean    446.000000    0.383838    2.308642   29.699118    0.523008   \n",
       "std     257.353842    0.486592    0.836071   14.526497    1.102743   \n",
       "min       1.000000    0.000000    1.000000    0.420000    0.000000   \n",
       "25%     223.500000    0.000000    2.000000   20.125000    0.000000   \n",
       "50%     446.000000    0.000000    3.000000   28.000000    0.000000   \n",
       "75%     668.500000    1.000000    3.000000   38.000000    1.000000   \n",
       "max     891.000000    1.000000    3.000000   80.000000    8.000000   \n",
       "\n",
       "            Parch        Fare  \n",
       "count  891.000000  891.000000  \n",
       "mean     0.381594   32.204208  \n",
       "std      0.806057   49.693429  \n",
       "min      0.000000    0.000000  \n",
       "25%      0.000000    7.910400  \n",
       "50%      0.000000   14.454200  \n",
       "75%      0.000000   31.000000  \n",
       "max      6.000000  512.329200  "
      ]
     },
     "execution_count": 11,
     "metadata": {},
     "output_type": "execute_result"
    }
   ],
   "source": [
    "#understanding the train data\n",
    "train_data.describe()"
   ]
  },
  {
   "cell_type": "code",
   "execution_count": 12,
   "id": "b0PzK6DRc6_m",
   "metadata": {
    "colab": {
     "base_uri": "https://localhost:8080/"
    },
    "id": "b0PzK6DRc6_m",
    "outputId": "7add3f8e-2ed4-4ced-dbb1-416875007e6f"
   },
   "outputs": [
    {
     "data": {
      "text/plain": [
       "0    549\n",
       "1    342\n",
       "Name: Survived, dtype: int64"
      ]
     },
     "execution_count": 12,
     "metadata": {},
     "output_type": "execute_result"
    }
   ],
   "source": [
    "#Understanding data\n",
    "train_data['Survived'].value_counts()"
   ]
  },
  {
   "cell_type": "code",
   "execution_count": 13,
   "id": "t0K5m6W0cP7E",
   "metadata": {
    "colab": {
     "base_uri": "https://localhost:8080/"
    },
    "id": "t0K5m6W0cP7E",
    "outputId": "55ebefd9-3e1b-44fd-8389-cc650d7314e9"
   },
   "outputs": [
    {
     "data": {
      "text/plain": [
       "Sex     Survived\n",
       "female  1           233\n",
       "        0            81\n",
       "male    0           468\n",
       "        1           109\n",
       "Name: Survived, dtype: int64"
      ]
     },
     "execution_count": 13,
     "metadata": {},
     "output_type": "execute_result"
    }
   ],
   "source": [
    "# Checking how many survived\n",
    "train_data.groupby(['Sex'])['Survived'].value_counts()"
   ]
  },
  {
   "cell_type": "code",
   "execution_count": 14,
   "id": "MLBzOF6IR6qm",
   "metadata": {
    "colab": {
     "base_uri": "https://localhost:8080/",
     "height": 300
    },
    "id": "MLBzOF6IR6qm",
    "outputId": "6f1556a6-fec3-4ee7-d4b5-9dc1636870f2"
   },
   "outputs": [
    {
     "data": {
      "text/plain": [
       "Text(0, 0.5, 'Density')"
      ]
     },
     "execution_count": 14,
     "metadata": {},
     "output_type": "execute_result"
    },
    {
     "data": {
      "image/png": "[encoded data removed]",
      "text/plain": [
       "<Figure size 432x288 with 1 Axes>"
      ]
     },
     "metadata": {
      "needs_background": "light"
     },
     "output_type": "display_data"
    }
   ],
   "source": [
    "sns.rugplot(data = train_data, x=\"Age\")\n",
    "plt.title('Rug plot for age')\n",
    "plt.ylabel('Density')"
   ]
  },
  {
   "cell_type": "markdown",
   "id": "bdb90956-a56a-4083-a75f-43803acb8d02",
   "metadata": {
    "id": "Yd0VVrVNaaKD"
   },
   "source": [
    ">Structure of the data is rectangular after converting it into the data frame. We can see the shape of the data also as shown above as it contains 891 rows and 12 columns. The info() function also gives us information about the train data types and number of rows with non-null vallues etc. As we can see above, data types for the columns are what we expect.\n",
    "\n",
    ">For example, Passenger ID is int type and age is taken as float because there are infants and children in the data who might be less than an 1 year old. We also checked for ouliers in age column but we did not find many ouliers which should be avoided. Similarly for ticket column, it is an object because the ticket can consist of string and value combined. \n"
   ]
  },
  {
   "cell_type": "markdown",
   "id": "33e780c6-75c4-4561-a996-d42d3ada1f16",
   "metadata": {},
   "source": [
    "**GRANULARITY**"
   ]
  },
  {
   "cell_type": "code",
   "execution_count": 15,
   "id": "N_LBQhEzqZaY",
   "metadata": {
    "colab": {
     "base_uri": "https://localhost:8080/",
     "height": 450
    },
    "id": "N_LBQhEzqZaY",
    "outputId": "dfddda2c-7823-4d36-f91c-e13143c44597"
   },
   "outputs": [
    {
     "data": {
      "text/html": [
       "<div>\n",
       "<style scoped>\n",
       "    .dataframe tbody tr th:only-of-type {\n",
       "        vertical-align: middle;\n",
       "    }\n",
       "\n",
       "    .dataframe tbody tr th {\n",
       "        vertical-align: top;\n",
       "    }\n",
       "\n",
       "    .dataframe thead th {\n",
       "        text-align: right;\n",
       "    }\n",
       "</style>\n",
       "<table border=\"1\" class=\"dataframe\">\n",
       "  <thead>\n",
       "    <tr style=\"text-align: right;\">\n",
       "      <th></th>\n",
       "      <th>Survived</th>\n",
       "      <th>Pclass</th>\n",
       "      <th>Name</th>\n",
       "      <th>Sex</th>\n",
       "      <th>Age</th>\n",
       "      <th>SibSp</th>\n",
       "      <th>Parch</th>\n",
       "      <th>Ticket</th>\n",
       "      <th>Fare</th>\n",
       "      <th>Cabin</th>\n",
       "      <th>Embarked</th>\n",
       "    </tr>\n",
       "    <tr>\n",
       "      <th>PassengerId</th>\n",
       "      <th></th>\n",
       "      <th></th>\n",
       "      <th></th>\n",
       "      <th></th>\n",
       "      <th></th>\n",
       "      <th></th>\n",
       "      <th></th>\n",
       "      <th></th>\n",
       "      <th></th>\n",
       "      <th></th>\n",
       "      <th></th>\n",
       "    </tr>\n",
       "  </thead>\n",
       "  <tbody>\n",
       "    <tr>\n",
       "      <th>1</th>\n",
       "      <td>1</td>\n",
       "      <td>1</td>\n",
       "      <td>1</td>\n",
       "      <td>1</td>\n",
       "      <td>1</td>\n",
       "      <td>1</td>\n",
       "      <td>1</td>\n",
       "      <td>1</td>\n",
       "      <td>1</td>\n",
       "      <td>0</td>\n",
       "      <td>1</td>\n",
       "    </tr>\n",
       "    <tr>\n",
       "      <th>2</th>\n",
       "      <td>1</td>\n",
       "      <td>1</td>\n",
       "      <td>1</td>\n",
       "      <td>1</td>\n",
       "      <td>1</td>\n",
       "      <td>1</td>\n",
       "      <td>1</td>\n",
       "      <td>1</td>\n",
       "      <td>1</td>\n",
       "      <td>1</td>\n",
       "      <td>1</td>\n",
       "    </tr>\n",
       "    <tr>\n",
       "      <th>3</th>\n",
       "      <td>1</td>\n",
       "      <td>1</td>\n",
       "      <td>1</td>\n",
       "      <td>1</td>\n",
       "      <td>1</td>\n",
       "      <td>1</td>\n",
       "      <td>1</td>\n",
       "      <td>1</td>\n",
       "      <td>1</td>\n",
       "      <td>0</td>\n",
       "      <td>1</td>\n",
       "    </tr>\n",
       "    <tr>\n",
       "      <th>4</th>\n",
       "      <td>1</td>\n",
       "      <td>1</td>\n",
       "      <td>1</td>\n",
       "      <td>1</td>\n",
       "      <td>1</td>\n",
       "      <td>1</td>\n",
       "      <td>1</td>\n",
       "      <td>1</td>\n",
       "      <td>1</td>\n",
       "      <td>1</td>\n",
       "      <td>1</td>\n",
       "    </tr>\n",
       "    <tr>\n",
       "      <th>5</th>\n",
       "      <td>1</td>\n",
       "      <td>1</td>\n",
       "      <td>1</td>\n",
       "      <td>1</td>\n",
       "      <td>1</td>\n",
       "      <td>1</td>\n",
       "      <td>1</td>\n",
       "      <td>1</td>\n",
       "      <td>1</td>\n",
       "      <td>0</td>\n",
       "      <td>1</td>\n",
       "    </tr>\n",
       "    <tr>\n",
       "      <th>...</th>\n",
       "      <td>...</td>\n",
       "      <td>...</td>\n",
       "      <td>...</td>\n",
       "      <td>...</td>\n",
       "      <td>...</td>\n",
       "      <td>...</td>\n",
       "      <td>...</td>\n",
       "      <td>...</td>\n",
       "      <td>...</td>\n",
       "      <td>...</td>\n",
       "      <td>...</td>\n",
       "    </tr>\n",
       "    <tr>\n",
       "      <th>887</th>\n",
       "      <td>1</td>\n",
       "      <td>1</td>\n",
       "      <td>1</td>\n",
       "      <td>1</td>\n",
       "      <td>1</td>\n",
       "      <td>1</td>\n",
       "      <td>1</td>\n",
       "      <td>1</td>\n",
       "      <td>1</td>\n",
       "      <td>0</td>\n",
       "      <td>1</td>\n",
       "    </tr>\n",
       "    <tr>\n",
       "      <th>888</th>\n",
       "      <td>1</td>\n",
       "      <td>1</td>\n",
       "      <td>1</td>\n",
       "      <td>1</td>\n",
       "      <td>1</td>\n",
       "      <td>1</td>\n",
       "      <td>1</td>\n",
       "      <td>1</td>\n",
       "      <td>1</td>\n",
       "      <td>1</td>\n",
       "      <td>1</td>\n",
       "    </tr>\n",
       "    <tr>\n",
       "      <th>889</th>\n",
       "      <td>1</td>\n",
       "      <td>1</td>\n",
       "      <td>1</td>\n",
       "      <td>1</td>\n",
       "      <td>0</td>\n",
       "      <td>1</td>\n",
       "      <td>1</td>\n",
       "      <td>1</td>\n",
       "      <td>1</td>\n",
       "      <td>0</td>\n",
       "      <td>1</td>\n",
       "    </tr>\n",
       "    <tr>\n",
       "      <th>890</th>\n",
       "      <td>1</td>\n",
       "      <td>1</td>\n",
       "      <td>1</td>\n",
       "      <td>1</td>\n",
       "      <td>1</td>\n",
       "      <td>1</td>\n",
       "      <td>1</td>\n",
       "      <td>1</td>\n",
       "      <td>1</td>\n",
       "      <td>1</td>\n",
       "      <td>1</td>\n",
       "    </tr>\n",
       "    <tr>\n",
       "      <th>891</th>\n",
       "      <td>1</td>\n",
       "      <td>1</td>\n",
       "      <td>1</td>\n",
       "      <td>1</td>\n",
       "      <td>1</td>\n",
       "      <td>1</td>\n",
       "      <td>1</td>\n",
       "      <td>1</td>\n",
       "      <td>1</td>\n",
       "      <td>0</td>\n",
       "      <td>1</td>\n",
       "    </tr>\n",
       "  </tbody>\n",
       "</table>\n",
       "<p>891 rows × 11 columns</p>\n",
       "</div>"
      ],
      "text/plain": [
       "             Survived  Pclass  Name  Sex  Age  SibSp  Parch  Ticket  Fare  \\\n",
       "PassengerId                                                                 \n",
       "1                   1       1     1    1    1      1      1       1     1   \n",
       "2                   1       1     1    1    1      1      1       1     1   \n",
       "3                   1       1     1    1    1      1      1       1     1   \n",
       "4                   1       1     1    1    1      1      1       1     1   \n",
       "5                   1       1     1    1    1      1      1       1     1   \n",
       "...               ...     ...   ...  ...  ...    ...    ...     ...   ...   \n",
       "887                 1       1     1    1    1      1      1       1     1   \n",
       "888                 1       1     1    1    1      1      1       1     1   \n",
       "889                 1       1     1    1    0      1      1       1     1   \n",
       "890                 1       1     1    1    1      1      1       1     1   \n",
       "891                 1       1     1    1    1      1      1       1     1   \n",
       "\n",
       "             Cabin  Embarked  \n",
       "PassengerId                   \n",
       "1                0         1  \n",
       "2                1         1  \n",
       "3                0         1  \n",
       "4                1         1  \n",
       "5                0         1  \n",
       "...            ...       ...  \n",
       "887              0         1  \n",
       "888              1         1  \n",
       "889              0         1  \n",
       "890              1         1  \n",
       "891              0         1  \n",
       "\n",
       "[891 rows x 11 columns]"
      ]
     },
     "execution_count": 15,
     "metadata": {},
     "output_type": "execute_result"
    }
   ],
   "source": [
    "#Checking unique number of passenger id for train dataset\n",
    "train_data.groupby('PassengerId').nunique()"
   ]
  },
  {
   "cell_type": "code",
   "execution_count": 16,
   "id": "v_5UJyfpq05D",
   "metadata": {
    "colab": {
     "base_uri": "https://localhost:8080/",
     "height": 450
    },
    "id": "v_5UJyfpq05D",
    "outputId": "fc9ad0f9-851a-4007-a4a3-0f17c053246c"
   },
   "outputs": [
    {
     "data": {
      "text/html": [
       "<div>\n",
       "<style scoped>\n",
       "    .dataframe tbody tr th:only-of-type {\n",
       "        vertical-align: middle;\n",
       "    }\n",
       "\n",
       "    .dataframe tbody tr th {\n",
       "        vertical-align: top;\n",
       "    }\n",
       "\n",
       "    .dataframe thead th {\n",
       "        text-align: right;\n",
       "    }\n",
       "</style>\n",
       "<table border=\"1\" class=\"dataframe\">\n",
       "  <thead>\n",
       "    <tr style=\"text-align: right;\">\n",
       "      <th></th>\n",
       "      <th>Pclass</th>\n",
       "      <th>Name</th>\n",
       "      <th>Sex</th>\n",
       "      <th>Age</th>\n",
       "      <th>SibSp</th>\n",
       "      <th>Parch</th>\n",
       "      <th>Ticket</th>\n",
       "      <th>Fare</th>\n",
       "      <th>Cabin</th>\n",
       "      <th>Embarked</th>\n",
       "    </tr>\n",
       "    <tr>\n",
       "      <th>PassengerId</th>\n",
       "      <th></th>\n",
       "      <th></th>\n",
       "      <th></th>\n",
       "      <th></th>\n",
       "      <th></th>\n",
       "      <th></th>\n",
       "      <th></th>\n",
       "      <th></th>\n",
       "      <th></th>\n",
       "      <th></th>\n",
       "    </tr>\n",
       "  </thead>\n",
       "  <tbody>\n",
       "    <tr>\n",
       "      <th>892</th>\n",
       "      <td>1</td>\n",
       "      <td>1</td>\n",
       "      <td>1</td>\n",
       "      <td>1</td>\n",
       "      <td>1</td>\n",
       "      <td>1</td>\n",
       "      <td>1</td>\n",
       "      <td>1</td>\n",
       "      <td>0</td>\n",
       "      <td>1</td>\n",
       "    </tr>\n",
       "    <tr>\n",
       "      <th>893</th>\n",
       "      <td>1</td>\n",
       "      <td>1</td>\n",
       "      <td>1</td>\n",
       "      <td>1</td>\n",
       "      <td>1</td>\n",
       "      <td>1</td>\n",
       "      <td>1</td>\n",
       "      <td>1</td>\n",
       "      <td>0</td>\n",
       "      <td>1</td>\n",
       "    </tr>\n",
       "    <tr>\n",
       "      <th>894</th>\n",
       "      <td>1</td>\n",
       "      <td>1</td>\n",
       "      <td>1</td>\n",
       "      <td>1</td>\n",
       "      <td>1</td>\n",
       "      <td>1</td>\n",
       "      <td>1</td>\n",
       "      <td>1</td>\n",
       "      <td>0</td>\n",
       "      <td>1</td>\n",
       "    </tr>\n",
       "    <tr>\n",
       "      <th>895</th>\n",
       "      <td>1</td>\n",
       "      <td>1</td>\n",
       "      <td>1</td>\n",
       "      <td>1</td>\n",
       "      <td>1</td>\n",
       "      <td>1</td>\n",
       "      <td>1</td>\n",
       "      <td>1</td>\n",
       "      <td>0</td>\n",
       "      <td>1</td>\n",
       "    </tr>\n",
       "    <tr>\n",
       "      <th>896</th>\n",
       "      <td>1</td>\n",
       "      <td>1</td>\n",
       "      <td>1</td>\n",
       "      <td>1</td>\n",
       "      <td>1</td>\n",
       "      <td>1</td>\n",
       "      <td>1</td>\n",
       "      <td>1</td>\n",
       "      <td>0</td>\n",
       "      <td>1</td>\n",
       "    </tr>\n",
       "    <tr>\n",
       "      <th>...</th>\n",
       "      <td>...</td>\n",
       "      <td>...</td>\n",
       "      <td>...</td>\n",
       "      <td>...</td>\n",
       "      <td>...</td>\n",
       "      <td>...</td>\n",
       "      <td>...</td>\n",
       "      <td>...</td>\n",
       "      <td>...</td>\n",
       "      <td>...</td>\n",
       "    </tr>\n",
       "    <tr>\n",
       "      <th>1305</th>\n",
       "      <td>1</td>\n",
       "      <td>1</td>\n",
       "      <td>1</td>\n",
       "      <td>0</td>\n",
       "      <td>1</td>\n",
       "      <td>1</td>\n",
       "      <td>1</td>\n",
       "      <td>1</td>\n",
       "      <td>0</td>\n",
       "      <td>1</td>\n",
       "    </tr>\n",
       "    <tr>\n",
       "      <th>1306</th>\n",
       "      <td>1</td>\n",
       "      <td>1</td>\n",
       "      <td>1</td>\n",
       "      <td>1</td>\n",
       "      <td>1</td>\n",
       "      <td>1</td>\n",
       "      <td>1</td>\n",
       "      <td>1</td>\n",
       "      <td>1</td>\n",
       "      <td>1</td>\n",
       "    </tr>\n",
       "    <tr>\n",
       "      <th>1307</th>\n",
       "      <td>1</td>\n",
       "      <td>1</td>\n",
       "      <td>1</td>\n",
       "      <td>1</td>\n",
       "      <td>1</td>\n",
       "      <td>1</td>\n",
       "      <td>1</td>\n",
       "      <td>1</td>\n",
       "      <td>0</td>\n",
       "      <td>1</td>\n",
       "    </tr>\n",
       "    <tr>\n",
       "      <th>1308</th>\n",
       "      <td>1</td>\n",
       "      <td>1</td>\n",
       "      <td>1</td>\n",
       "      <td>0</td>\n",
       "      <td>1</td>\n",
       "      <td>1</td>\n",
       "      <td>1</td>\n",
       "      <td>1</td>\n",
       "      <td>0</td>\n",
       "      <td>1</td>\n",
       "    </tr>\n",
       "    <tr>\n",
       "      <th>1309</th>\n",
       "      <td>1</td>\n",
       "      <td>1</td>\n",
       "      <td>1</td>\n",
       "      <td>0</td>\n",
       "      <td>1</td>\n",
       "      <td>1</td>\n",
       "      <td>1</td>\n",
       "      <td>1</td>\n",
       "      <td>0</td>\n",
       "      <td>1</td>\n",
       "    </tr>\n",
       "  </tbody>\n",
       "</table>\n",
       "<p>418 rows × 10 columns</p>\n",
       "</div>"
      ],
      "text/plain": [
       "             Pclass  Name  Sex  Age  SibSp  Parch  Ticket  Fare  Cabin  \\\n",
       "PassengerId                                                              \n",
       "892               1     1    1    1      1      1       1     1      0   \n",
       "893               1     1    1    1      1      1       1     1      0   \n",
       "894               1     1    1    1      1      1       1     1      0   \n",
       "895               1     1    1    1      1      1       1     1      0   \n",
       "896               1     1    1    1      1      1       1     1      0   \n",
       "...             ...   ...  ...  ...    ...    ...     ...   ...    ...   \n",
       "1305              1     1    1    0      1      1       1     1      0   \n",
       "1306              1     1    1    1      1      1       1     1      1   \n",
       "1307              1     1    1    1      1      1       1     1      0   \n",
       "1308              1     1    1    0      1      1       1     1      0   \n",
       "1309              1     1    1    0      1      1       1     1      0   \n",
       "\n",
       "             Embarked  \n",
       "PassengerId            \n",
       "892                 1  \n",
       "893                 1  \n",
       "894                 1  \n",
       "895                 1  \n",
       "896                 1  \n",
       "...               ...  \n",
       "1305                1  \n",
       "1306                1  \n",
       "1307                1  \n",
       "1308                1  \n",
       "1309                1  \n",
       "\n",
       "[418 rows x 10 columns]"
      ]
     },
     "execution_count": 16,
     "metadata": {},
     "output_type": "execute_result"
    }
   ],
   "source": [
    "#Checking unique number of passenger id for test dataset\n",
    "\n",
    "test_data.groupby('PassengerId').nunique()"
   ]
  },
  {
   "cell_type": "markdown",
   "id": "1b1fec61-b6d8-4a24-ad61-9e293f6da95d",
   "metadata": {
    "id": "IB07iALApz4f"
   },
   "source": [
    ">Granularity: In the train and test data sets, each row represents information of exactly one individual person which is what we require. The property of granularity can be see above from the nunique fucntion which gives all the unique values which are equal to the number of rows in both data sets which proves that each row represents that the information is for\n",
    "one unique individual. Hence the property of granularity is maintained in data."
   ]
  },
  {
   "cell_type": "markdown",
   "id": "92bc39bc-c927-4f9a-97ef-ff5acddc205f",
   "metadata": {},
   "source": [
    "**SCOPE**"
   ]
  },
  {
   "cell_type": "code",
   "execution_count": 17,
   "id": "tFFrxRNrNkmJ",
   "metadata": {
    "colab": {
     "base_uri": "https://localhost:8080/",
     "height": 309
    },
    "id": "tFFrxRNrNkmJ",
    "outputId": "491acc25-47bf-45ba-8778-f37b66929402"
   },
   "outputs": [
    {
     "data": {
      "text/plain": [
       "Text(0.5, 1.0, 'Relationship between Passenger class and Number of passengers survived')"
      ]
     },
     "execution_count": 17,
     "metadata": {},
     "output_type": "execute_result"
    },
    {
     "data": {
      "image/png": "[encoded data removed]",
      "text/plain": [
       "<Figure size 432x288 with 1 Axes>"
      ]
     },
     "metadata": {
      "needs_background": "light"
     },
     "output_type": "display_data"
    }
   ],
   "source": [
    "#Finding relationship between passenger class and number of passengers survived.\n",
    "pclass_survived = train_data[(train_data[\"Survived\"] == 1)]\n",
    "pclass_survived = pclass_survived.groupby('Pclass').count()\n",
    "pclass_survived = pclass_survived.iloc[:, 1]\n",
    "pclass_survived.plot(kind=\"bar\")\n",
    "plt.ylabel('Number of passengers survived')\n",
    "plt.xlabel('Passenger class')\n",
    "plt.title('Relationship between Passenger class and Number of passengers survived')"
   ]
  },
  {
   "cell_type": "code",
   "execution_count": 18,
   "id": "Av159FiQhBus",
   "metadata": {
    "colab": {
     "base_uri": "https://localhost:8080/"
    },
    "id": "Av159FiQhBus",
    "outputId": "fb523277-d051-4591-9042-b4fc4a55d74d"
   },
   "outputs": [
    {
     "data": {
      "text/plain": [
       "Pclass\n",
       "1    216\n",
       "2    184\n",
       "3    491\n",
       "Name: PassengerId, dtype: int64"
      ]
     },
     "execution_count": 18,
     "metadata": {},
     "output_type": "execute_result"
    }
   ],
   "source": [
    "#Checking passengers in each class\n",
    "train_data.groupby('Pclass')['PassengerId'].nunique()"
   ]
  },
  {
   "cell_type": "code",
   "execution_count": 19,
   "id": "Nkzp2OFvSqGn",
   "metadata": {
    "colab": {
     "base_uri": "https://localhost:8080/",
     "height": 142
    },
    "id": "Nkzp2OFvSqGn",
    "outputId": "13a6bd8f-8c97-4c73-918b-48c863bc351f"
   },
   "outputs": [
    {
     "data": {
      "text/html": [
       "<div>\n",
       "<style scoped>\n",
       "    .dataframe tbody tr th:only-of-type {\n",
       "        vertical-align: middle;\n",
       "    }\n",
       "\n",
       "    .dataframe tbody tr th {\n",
       "        vertical-align: top;\n",
       "    }\n",
       "\n",
       "    .dataframe thead th {\n",
       "        text-align: right;\n",
       "    }\n",
       "</style>\n",
       "<table border=\"1\" class=\"dataframe\">\n",
       "  <thead>\n",
       "    <tr style=\"text-align: right;\">\n",
       "      <th></th>\n",
       "      <th>Pclass</th>\n",
       "      <th>total_passengers</th>\n",
       "      <th>total_survived</th>\n",
       "      <th>percent_survived</th>\n",
       "    </tr>\n",
       "  </thead>\n",
       "  <tbody>\n",
       "    <tr>\n",
       "      <th>0</th>\n",
       "      <td>1</td>\n",
       "      <td>216</td>\n",
       "      <td>136</td>\n",
       "      <td>62.962963</td>\n",
       "    </tr>\n",
       "    <tr>\n",
       "      <th>1</th>\n",
       "      <td>2</td>\n",
       "      <td>184</td>\n",
       "      <td>87</td>\n",
       "      <td>47.282609</td>\n",
       "    </tr>\n",
       "    <tr>\n",
       "      <th>2</th>\n",
       "      <td>3</td>\n",
       "      <td>491</td>\n",
       "      <td>119</td>\n",
       "      <td>24.236253</td>\n",
       "    </tr>\n",
       "  </tbody>\n",
       "</table>\n",
       "</div>"
      ],
      "text/plain": [
       "   Pclass  total_passengers  total_survived  percent_survived\n",
       "0       1               216             136         62.962963\n",
       "1       2               184              87         47.282609\n",
       "2       3               491             119         24.236253"
      ]
     },
     "execution_count": 19,
     "metadata": {},
     "output_type": "execute_result"
    }
   ],
   "source": [
    "#Checking percentage of passengers survived from each class\n",
    "pclass_gender_survived = train_data[(train_data[\"Survived\"] == 1)]\n",
    "pclass_gender_survived = pclass_gender_survived.groupby(['Pclass']).count()\n",
    "pclass_gender_survived = pclass_gender_survived.iloc[:, 1]\n",
    "pclass_gender_survived = pclass_gender_survived.to_frame(name = 'total_survived').reset_index()\n",
    "pclass_total =  train_data.groupby(['Pclass']).nunique()\n",
    "pclass_total = pclass_total.iloc[:,0]\n",
    "pclass_total = pclass_total.to_frame(name = 'total_passengers' ).reset_index()\n",
    "pclass_gender_survived = pd.merge(pclass_total, pclass_gender_survived, how='left', on='Pclass' )\n",
    "pclass_gender_survived['percent_survived'] = (pclass_gender_survived['total_survived'] / pclass_gender_survived['total_passengers'] ) * 100\n",
    "pclass_gender_survived"
   ]
  },
  {
   "cell_type": "markdown",
   "id": "20c5832e-a720-4baa-94a4-e549371c490f",
   "metadata": {
    "id": "1C7D8GIGsTfy"
   },
   "source": [
    ">Scope: Scope of the model is limited for only titanic passengers who are on board as the data contains socio economic class which is unique to titanic ship and we assume that pclass can \n",
    "vary for other commute. As you can see from above summary maximum  people survived from pclass 1 \n",
    "followed by class 2 and class 3   "
   ]
  },
  {
   "cell_type": "markdown",
   "id": "3ccb7f47-f812-40bc-a480-121745d59e23",
   "metadata": {},
   "source": [
    "**TEMPORALITY**"
   ]
  },
  {
   "cell_type": "markdown",
   "id": "75747581-e8a4-4a3a-a33c-9929d9a2dfde",
   "metadata": {
    "id": "K2ImwUSKu57K"
   },
   "source": [
    ">Temporality: \n",
    "As it is shown above, there is no specific column containing the time stamp of occurence of this event \n",
    "because according to information on kaggle, this event occured at the same time for all passengers on the ship on April 15, 1912"
   ]
  },
  {
   "cell_type": "markdown",
   "id": "fe7b2cc4-3f19-45ae-8717-21bfce383033",
   "metadata": {},
   "source": [
    "**FAITHFULLNESS**"
   ]
  },
  {
   "cell_type": "code",
   "execution_count": 20,
   "id": "9IaLElrMtzk3",
   "metadata": {
    "colab": {
     "base_uri": "https://localhost:8080/",
     "height": 266
    },
    "id": "9IaLElrMtzk3",
    "outputId": "0af542e6-0cb5-4015-8877-e616efb2c4d6"
   },
   "outputs": [
    {
     "data": {
      "text/html": [
       "<div>\n",
       "<style scoped>\n",
       "    .dataframe tbody tr th:only-of-type {\n",
       "        vertical-align: middle;\n",
       "    }\n",
       "\n",
       "    .dataframe tbody tr th {\n",
       "        vertical-align: top;\n",
       "    }\n",
       "\n",
       "    .dataframe thead th {\n",
       "        text-align: right;\n",
       "    }\n",
       "</style>\n",
       "<table border=\"1\" class=\"dataframe\">\n",
       "  <thead>\n",
       "    <tr style=\"text-align: right;\">\n",
       "      <th></th>\n",
       "      <th>PassengerId</th>\n",
       "      <th>Survived</th>\n",
       "      <th>Pclass</th>\n",
       "      <th>Age</th>\n",
       "      <th>SibSp</th>\n",
       "      <th>Parch</th>\n",
       "      <th>Fare</th>\n",
       "    </tr>\n",
       "  </thead>\n",
       "  <tbody>\n",
       "    <tr>\n",
       "      <th>PassengerId</th>\n",
       "      <td>1.000000</td>\n",
       "      <td>-0.005007</td>\n",
       "      <td>-0.035144</td>\n",
       "      <td>0.036847</td>\n",
       "      <td>-0.057527</td>\n",
       "      <td>-0.001652</td>\n",
       "      <td>0.012658</td>\n",
       "    </tr>\n",
       "    <tr>\n",
       "      <th>Survived</th>\n",
       "      <td>-0.005007</td>\n",
       "      <td>1.000000</td>\n",
       "      <td>-0.338481</td>\n",
       "      <td>-0.077221</td>\n",
       "      <td>-0.035322</td>\n",
       "      <td>0.081629</td>\n",
       "      <td>0.257307</td>\n",
       "    </tr>\n",
       "    <tr>\n",
       "      <th>Pclass</th>\n",
       "      <td>-0.035144</td>\n",
       "      <td>-0.338481</td>\n",
       "      <td>1.000000</td>\n",
       "      <td>-0.369226</td>\n",
       "      <td>0.083081</td>\n",
       "      <td>0.018443</td>\n",
       "      <td>-0.549500</td>\n",
       "    </tr>\n",
       "    <tr>\n",
       "      <th>Age</th>\n",
       "      <td>0.036847</td>\n",
       "      <td>-0.077221</td>\n",
       "      <td>-0.369226</td>\n",
       "      <td>1.000000</td>\n",
       "      <td>-0.308247</td>\n",
       "      <td>-0.189119</td>\n",
       "      <td>0.096067</td>\n",
       "    </tr>\n",
       "    <tr>\n",
       "      <th>SibSp</th>\n",
       "      <td>-0.057527</td>\n",
       "      <td>-0.035322</td>\n",
       "      <td>0.083081</td>\n",
       "      <td>-0.308247</td>\n",
       "      <td>1.000000</td>\n",
       "      <td>0.414838</td>\n",
       "      <td>0.159651</td>\n",
       "    </tr>\n",
       "    <tr>\n",
       "      <th>Parch</th>\n",
       "      <td>-0.001652</td>\n",
       "      <td>0.081629</td>\n",
       "      <td>0.018443</td>\n",
       "      <td>-0.189119</td>\n",
       "      <td>0.414838</td>\n",
       "      <td>1.000000</td>\n",
       "      <td>0.216225</td>\n",
       "    </tr>\n",
       "    <tr>\n",
       "      <th>Fare</th>\n",
       "      <td>0.012658</td>\n",
       "      <td>0.257307</td>\n",
       "      <td>-0.549500</td>\n",
       "      <td>0.096067</td>\n",
       "      <td>0.159651</td>\n",
       "      <td>0.216225</td>\n",
       "      <td>1.000000</td>\n",
       "    </tr>\n",
       "  </tbody>\n",
       "</table>\n",
       "</div>"
      ],
      "text/plain": [
       "             PassengerId  Survived    Pclass       Age     SibSp     Parch  \\\n",
       "PassengerId     1.000000 -0.005007 -0.035144  0.036847 -0.057527 -0.001652   \n",
       "Survived       -0.005007  1.000000 -0.338481 -0.077221 -0.035322  0.081629   \n",
       "Pclass         -0.035144 -0.338481  1.000000 -0.369226  0.083081  0.018443   \n",
       "Age             0.036847 -0.077221 -0.369226  1.000000 -0.308247 -0.189119   \n",
       "SibSp          -0.057527 -0.035322  0.083081 -0.308247  1.000000  0.414838   \n",
       "Parch          -0.001652  0.081629  0.018443 -0.189119  0.414838  1.000000   \n",
       "Fare            0.012658  0.257307 -0.549500  0.096067  0.159651  0.216225   \n",
       "\n",
       "                 Fare  \n",
       "PassengerId  0.012658  \n",
       "Survived     0.257307  \n",
       "Pclass      -0.549500  \n",
       "Age          0.096067  \n",
       "SibSp        0.159651  \n",
       "Parch        0.216225  \n",
       "Fare         1.000000  "
      ]
     },
     "execution_count": 20,
     "metadata": {},
     "output_type": "execute_result"
    }
   ],
   "source": [
    "#Finding the correlation to see the postive correlation among the features\n",
    "correlation = train_data.corr()\n",
    "correlation"
   ]
  },
  {
   "cell_type": "code",
   "execution_count": 21,
   "id": "GN4KPccDttWv",
   "metadata": {
    "colab": {
     "base_uri": "https://localhost:8080/"
    },
    "id": "GN4KPccDttWv",
    "outputId": "46db1e1e-9587-4894-8511-f5563fc80eb7"
   },
   "outputs": [
    {
     "data": {
      "text/plain": [
       "PassengerId      0\n",
       "Survived         0\n",
       "Pclass           0\n",
       "Name             0\n",
       "Sex              0\n",
       "Age            177\n",
       "SibSp            0\n",
       "Parch            0\n",
       "Ticket           0\n",
       "Fare             0\n",
       "Cabin          687\n",
       "Embarked         2\n",
       "dtype: int64"
      ]
     },
     "execution_count": 21,
     "metadata": {},
     "output_type": "execute_result"
    }
   ],
   "source": [
    "# Checking for null values in train data\n",
    "train_data.isna().sum()"
   ]
  },
  {
   "cell_type": "code",
   "execution_count": 22,
   "id": "Xc0NfYvXtrHN",
   "metadata": {
    "colab": {
     "base_uri": "https://localhost:8080/"
    },
    "id": "Xc0NfYvXtrHN",
    "outputId": "a8485b6d-c8ed-49b1-8d5a-48a60680d532"
   },
   "outputs": [
    {
     "data": {
      "text/plain": [
       "PassengerId      0\n",
       "Pclass           0\n",
       "Name             0\n",
       "Sex              0\n",
       "Age             86\n",
       "SibSp            0\n",
       "Parch            0\n",
       "Ticket           0\n",
       "Fare             1\n",
       "Cabin          327\n",
       "Embarked         0\n",
       "dtype: int64"
      ]
     },
     "execution_count": 22,
     "metadata": {},
     "output_type": "execute_result"
    }
   ],
   "source": [
    "# Checking for null values in test data\n",
    "test_data.isna().sum()"
   ]
  },
  {
   "cell_type": "markdown",
   "id": "6e8fede2-3763-4e5d-a482-25e89e9ab81e",
   "metadata": {
    "id": "zXlKvg_6YVAI"
   },
   "source": [
    ">Faithfulness: As it is shown above, except for Age and Cabin columns there are no  other columns with major missing values. Age can be \n",
    "fixed by inserting mean age value in the null values as age is an  important feature to consider. But cabin has almost 75% missing values and we assume that this column is not of much use and it is better if we simply drop it instead of trying to \n",
    "tranform the cabin column. In test data one value for Fare column is missing which can be filled by dummy value\n",
    "refering to the class of the passenger."
   ]
  },
  {
   "cell_type": "markdown",
   "id": "f6c9df91-65ac-4577-a773-0f0b3e3f59d5",
   "metadata": {
    "colab": {
     "base_uri": "https://localhost:8080/",
     "height": 326
    },
    "id": "dkn-70Z-0F-C",
    "outputId": "32415700-f19e-4dba-d715-82138626eec2"
   },
   "source": [
    "**2.3.4: Is data representative and assumptions**\n",
    ">The data is representative for the sample given but if we are considering the whole data then the model\n",
    ">will work under the following assumptions to make it represntative assumptions are: \n",
    "\n",
    "* As seen in the below graph line 27, the percentage of survival of infants and children is more (about 50%) \n",
    "when compared to other age groups. So the assumption is that age might be an important factor in the survival\n",
    "of passengers.\n",
    "* As calculated above in line 18, the percentage of survival of passengers from 1st class is higher than \n",
    "other two classes. So, one more assumption is that the survival might also be dependent on Pclass\n",
    "* Also from the observations in lines 11 and 12, out of total survived, the survival of female passengers \n",
    "is almost 68% when compared to male passengers. So we are assuming that the survival rate depends on the \n",
    "gender of the passenger\n",
    "* From the correlation table in line 19, it is shown that there is a postive correlation between sibsp and parch \n",
    "numbers which leads to the assumption that if a passenger is boarded along with parents/siblings there might be\n",
    "more chance of survival of such passenger.\n",
    "\n",
    "\n"
   ]
  },
  {
   "cell_type": "code",
   "execution_count": 23,
   "id": "38cfd959-732f-440a-b381-768f5e375a23",
   "metadata": {},
   "outputs": [
    {
     "data": {
      "text/plain": [
       "Text(0, 0.5, 'num of survvied passengers')"
      ]
     },
     "execution_count": 23,
     "metadata": {},
     "output_type": "execute_result"
    },
    {
     "data": {
      "image/png": "[encoded data removed]",
      "text/plain": [
       "<Figure size 432x288 with 1 Axes>"
      ]
     },
     "metadata": {
      "needs_background": "light"
     },
     "output_type": "display_data"
    }
   ],
   "source": [
    "#Checking number of survived based on age group\n",
    "train_data.groupby(['Survived', pd.cut(train_data['Age'], np.arange(0,100,10))]).size().unstack(0).plot.bar(stacked=True)\n",
    "plt.title(\"Number of survived based on age group\")\n",
    "plt.ylabel('num of survvied passengers')"
   ]
  },
  {
   "cell_type": "code",
   "execution_count": 24,
   "id": "c52bfd58-27a7-46b0-bc29-7321510ff168",
   "metadata": {},
   "outputs": [
    {
     "data": {
      "image/png": "[encoded data removed]",
      "text/plain": [
       "<Figure size 432x288 with 1 Axes>"
      ]
     },
     "metadata": {
      "needs_background": "light"
     },
     "output_type": "display_data"
    }
   ],
   "source": [
    "#Checking the relationship between embarked and survival\n",
    "sns.countplot( x='Survived', data=train_data, hue=\"Embarked\");"
   ]
  },
  {
   "cell_type": "markdown",
   "id": "87c665c6-342e-4381-914d-b6a9c0ad2abc",
   "metadata": {},
   "source": [
    "**2.3.5: Sampling Method**"
   ]
  },
  {
   "cell_type": "code",
   "execution_count": 25,
   "id": "CVpXfNSkeZ_l",
   "metadata": {
    "colab": {
     "base_uri": "https://localhost:8080/"
    },
    "id": "CVpXfNSkeZ_l",
    "outputId": "2cb4aa7b-baa1-4055-e9b4-4fbc5ffb11da"
   },
   "outputs": [
    {
     "data": {
      "text/plain": [
       "Sex\n",
       "female    314\n",
       "male      577\n",
       "Name: PassengerId, dtype: int64"
      ]
     },
     "execution_count": 25,
     "metadata": {},
     "output_type": "execute_result"
    }
   ],
   "source": [
    "#Checking number of passengers based on gender in train data\n",
    "train_data.groupby('Sex')['PassengerId'].nunique()"
   ]
  },
  {
   "cell_type": "code",
   "execution_count": 26,
   "id": "W-iQkzksq-k4",
   "metadata": {
    "colab": {
     "base_uri": "https://localhost:8080/"
    },
    "id": "W-iQkzksq-k4",
    "outputId": "bbab5aa8-1b2e-44ba-9b6d-4e43caeab243"
   },
   "outputs": [
    {
     "data": {
      "text/plain": [
       "Sex\n",
       "female    152\n",
       "male      266\n",
       "Name: PassengerId, dtype: int64"
      ]
     },
     "execution_count": 26,
     "metadata": {},
     "output_type": "execute_result"
    }
   ],
   "source": [
    "#Checking number of passengers based on gender in test data\n",
    "test_data.groupby('Sex')['PassengerId'].nunique()"
   ]
  },
  {
   "cell_type": "code",
   "execution_count": 27,
   "id": "LqjdQpUYxOEE",
   "metadata": {
    "colab": {
     "base_uri": "https://localhost:8080/"
    },
    "id": "LqjdQpUYxOEE",
    "outputId": "2c596ac1-6e6c-4026-dcb5-65091daff51c"
   },
   "outputs": [
    {
     "data": {
      "text/plain": [
       "Pclass\n",
       "1    216\n",
       "2    184\n",
       "3    491\n",
       "Name: PassengerId, dtype: int64"
      ]
     },
     "execution_count": 27,
     "metadata": {},
     "output_type": "execute_result"
    }
   ],
   "source": [
    "#Checking number of passengers based on pclass in train data\n",
    "train_data.groupby(['Pclass'])['PassengerId'].nunique()"
   ]
  },
  {
   "cell_type": "code",
   "execution_count": 28,
   "id": "Po0AXwE1rXWf",
   "metadata": {
    "colab": {
     "base_uri": "https://localhost:8080/"
    },
    "id": "Po0AXwE1rXWf",
    "outputId": "a086a824-4f93-4227-b8cd-3d2d84b03264"
   },
   "outputs": [
    {
     "data": {
      "text/plain": [
       "Pclass\n",
       "1    107\n",
       "2     93\n",
       "3    218\n",
       "Name: PassengerId, dtype: int64"
      ]
     },
     "execution_count": 28,
     "metadata": {},
     "output_type": "execute_result"
    }
   ],
   "source": [
    "#Checking number of passengers based on pclass in test data\n",
    "test_data.groupby(['Pclass'])['PassengerId'].nunique()"
   ]
  },
  {
   "cell_type": "markdown",
   "id": "a484608c-bd29-4de0-a5c2-b32d7a627b83",
   "metadata": {
    "id": "c6449194-f7f4-467c-8f6b-8c02fd90ec69"
   },
   "source": [
    "> Looking at the above results which show the total number of female and male passengers as well as \n",
    " total number of passengers in each class, the kind of sampling that is used during the data collection\n",
    " seems to be stratified sampling. This is because the ratio of the female to male passengers in the train\n",
    " data is same as it is in the test data. Similarly, the ration of passengers in different classes is same\n",
    " in train as well as test data. Hence we strongly believe that stratified sampling is used while collecting\n",
    " data."
   ]
  },
  {
   "cell_type": "markdown",
   "id": "274a30d0-f700-4e3f-9f8d-f103f2e2d8f7",
   "metadata": {},
   "source": [
    "# PROJECT STAGE 2"
   ]
  },
  {
   "cell_type": "markdown",
   "id": "2887689f-82d0-4732-aac1-046de7f69dfc",
   "metadata": {},
   "source": [
    "**1.2 EDA and Data Transformation**\n",
    "\n",
    "1.2.1. Describe the transformations of the data you have applied if applicable. Why or Why not?\n",
    "\n",
    "* In the given train and test data set, except for age and cabin columns no other column is having large number of null values. Hence except for these two columns, normalization is not required for remaining columns. All the columns are in expected data types.\n",
    "\n",
    "* Age: Age column has few number of rows with null values. From the above bar plot, we can see that there is a relationship between age and the survival of the passengers. Hence we need to normalize the age data and remove null values. As there are not many ouliers for age column, we make make use of mean age value to replace the null values.\n",
    "\n",
    "* Cabin: Cabin column also contains many null values, but cabin is a string object which contains the cabin that was alloted for the passengers. As there are large number of values missing and there is no possibility of normalizing the data it would be reasonable if we just drop the cabin column.\n",
    "\n",
    "* Fare: Null values has been replaced with mean value for fare column.\n",
    "\n",
    "* Embarked: Null values have been replaced by the maximum value."
   ]
  },
  {
   "cell_type": "code",
   "execution_count": 29,
   "id": "d08cada6-70ca-4f2f-ab9f-71ad2311291f",
   "metadata": {},
   "outputs": [
    {
     "name": "stdout",
     "output_type": "stream",
     "text": [
      "<class 'pandas.core.frame.DataFrame'>\n",
      "RangeIndex: 891 entries, 0 to 890\n",
      "Data columns (total 12 columns):\n",
      " #   Column       Non-Null Count  Dtype  \n",
      "---  ------       --------------  -----  \n",
      " 0   PassengerId  891 non-null    int64  \n",
      " 1   Survived     891 non-null    int64  \n",
      " 2   Pclass       891 non-null    int64  \n",
      " 3   Name         891 non-null    object \n",
      " 4   Sex          891 non-null    object \n",
      " 5   Age          891 non-null    float64\n",
      " 6   SibSp        891 non-null    int64  \n",
      " 7   Parch        891 non-null    int64  \n",
      " 8   Ticket       891 non-null    object \n",
      " 9   Fare         891 non-null    float64\n",
      " 10  Cabin        204 non-null    object \n",
      " 11  Embarked     889 non-null    object \n",
      "dtypes: float64(2), int64(5), object(5)\n",
      "memory usage: 83.7+ KB\n"
     ]
    }
   ],
   "source": [
    "age_mean = train_data['Age'].mean();\n",
    "train_data['Age'] = train_data['Age'].fillna(age_mean)\n",
    "fare_mean = test_data['Fare'].mean();\n",
    "test_data['Fare'] = test_data['Fare'].fillna(fare_mean)\n",
    "train_data.info()"
   ]
  },
  {
   "cell_type": "code",
   "execution_count": 30,
   "id": "795feaef-574c-407a-b7c6-115589dbd1a9",
   "metadata": {},
   "outputs": [
    {
     "name": "stdout",
     "output_type": "stream",
     "text": [
      "<class 'pandas.core.frame.DataFrame'>\n",
      "RangeIndex: 418 entries, 0 to 417\n",
      "Data columns (total 11 columns):\n",
      " #   Column       Non-Null Count  Dtype  \n",
      "---  ------       --------------  -----  \n",
      " 0   PassengerId  418 non-null    int64  \n",
      " 1   Pclass       418 non-null    int64  \n",
      " 2   Name         418 non-null    object \n",
      " 3   Sex          418 non-null    object \n",
      " 4   Age          418 non-null    float64\n",
      " 5   SibSp        418 non-null    int64  \n",
      " 6   Parch        418 non-null    int64  \n",
      " 7   Ticket       418 non-null    object \n",
      " 8   Fare         418 non-null    float64\n",
      " 9   Cabin        91 non-null     object \n",
      " 10  Embarked     418 non-null    object \n",
      "dtypes: float64(2), int64(4), object(5)\n",
      "memory usage: 36.0+ KB\n"
     ]
    }
   ],
   "source": [
    "age_mean = test_data['Age'].mean();\n",
    "test_data['Age'] = test_data['Age'].fillna(age_mean)\n",
    "test_data.info()"
   ]
  },
  {
   "cell_type": "code",
   "execution_count": 31,
   "id": "a45b534a-59e1-490c-907d-abe5092cf1b2",
   "metadata": {},
   "outputs": [
    {
     "name": "stdout",
     "output_type": "stream",
     "text": [
      "<class 'pandas.core.frame.DataFrame'>\n",
      "RangeIndex: 891 entries, 0 to 890\n",
      "Data columns (total 11 columns):\n",
      " #   Column       Non-Null Count  Dtype  \n",
      "---  ------       --------------  -----  \n",
      " 0   PassengerId  891 non-null    int64  \n",
      " 1   Survived     891 non-null    int64  \n",
      " 2   Pclass       891 non-null    int64  \n",
      " 3   Name         891 non-null    object \n",
      " 4   Sex          891 non-null    object \n",
      " 5   Age          891 non-null    float64\n",
      " 6   SibSp        891 non-null    int64  \n",
      " 7   Parch        891 non-null    int64  \n",
      " 8   Ticket       891 non-null    object \n",
      " 9   Fare         891 non-null    float64\n",
      " 10  Embarked     889 non-null    object \n",
      "dtypes: float64(2), int64(5), object(4)\n",
      "memory usage: 76.7+ KB\n"
     ]
    }
   ],
   "source": [
    "train_data.drop('Cabin', axis=1, inplace=True)\n",
    "train_data.info()"
   ]
  },
  {
   "cell_type": "code",
   "execution_count": 32,
   "id": "ebc3fe38-f36a-4ddd-aa43-98ca4fc60f83",
   "metadata": {},
   "outputs": [
    {
     "name": "stdout",
     "output_type": "stream",
     "text": [
      "<class 'pandas.core.frame.DataFrame'>\n",
      "RangeIndex: 418 entries, 0 to 417\n",
      "Data columns (total 10 columns):\n",
      " #   Column       Non-Null Count  Dtype  \n",
      "---  ------       --------------  -----  \n",
      " 0   PassengerId  418 non-null    int64  \n",
      " 1   Pclass       418 non-null    int64  \n",
      " 2   Name         418 non-null    object \n",
      " 3   Sex          418 non-null    object \n",
      " 4   Age          418 non-null    float64\n",
      " 5   SibSp        418 non-null    int64  \n",
      " 6   Parch        418 non-null    int64  \n",
      " 7   Ticket       418 non-null    object \n",
      " 8   Fare         418 non-null    float64\n",
      " 9   Embarked     418 non-null    object \n",
      "dtypes: float64(2), int64(4), object(4)\n",
      "memory usage: 32.8+ KB\n"
     ]
    }
   ],
   "source": [
    "test_data.drop('Cabin', axis=1, inplace=True)\n",
    "test_data.info()"
   ]
  },
  {
   "cell_type": "code",
   "execution_count": 33,
   "id": "76317db3-d602-4f9f-bfe4-4b745d402a97",
   "metadata": {},
   "outputs": [
    {
     "data": {
      "text/plain": [
       "S    644\n",
       "C    168\n",
       "Q     77\n",
       "Name: Embarked, dtype: int64"
      ]
     },
     "execution_count": 33,
     "metadata": {},
     "output_type": "execute_result"
    }
   ],
   "source": [
    "train_data['Embarked'].value_counts()"
   ]
  },
  {
   "cell_type": "code",
   "execution_count": 34,
   "id": "4e2a679d-b85a-44f0-91df-8794d42fcbd0",
   "metadata": {},
   "outputs": [],
   "source": [
    "train_data['Embarked'] = train_data['Embarked'].fillna(\"S\")"
   ]
  },
  {
   "cell_type": "markdown",
   "id": "33b61eff-3d3a-4c4c-8f76-6afab881fb68",
   "metadata": {},
   "source": [
    "\n",
    "1.2.2. What are the features you choose to use for modeling? Why? Note: You may use EDA to show the reason.\n",
    "\n",
    "* Age: As we have seen in above visualisations(line 23), age has an impact on passenger survival. We can see from bar graph that more number of children have survived when compared to other age groups. So, age is an important feature to consider.\n",
    "\n",
    "* Pclass: We have also seen from the above statistics (line 19) that percentage of survival of first class passengers is more than other two classes and survival of second class passengers is more when compared to thrid class passengers. Hence pclass also has an affect on the outcome of survival which is an important feature to consider.\n",
    "\n",
    "* Sex: Sex is also an important feature to consider because from statistics (line 13) it is evident that the survival of female passengers is more compared to male passengers.\n",
    "\n",
    "* Sibsp and Parch: Sibsp and parch might also be some useful features to consider because we can see a positive correlation (line 20) between these two variables and the survived variable.\n",
    "\n",
    "* Embarked: As we can see from above visualization (line 24) embarked also has some impact on the survival of passengers so it is an important feature to consider."
   ]
  },
  {
   "cell_type": "markdown",
   "id": "e3b36775-7722-4945-88c3-42bcc7fe4451",
   "metadata": {},
   "source": [
    "1.2.3. Readiness of data: Normalization has been done to make the data ready for modelling"
   ]
  },
  {
   "cell_type": "markdown",
   "id": "b5974a9d-d4b2-49e5-8a42-766310f20c2d",
   "metadata": {},
   "source": [
    "**1.3 MODELING**\n",
    "\n",
    "1.3.1 Describe the chosen model and why choose this one.\n",
    "\n",
    "* Random Forest Classifier: It is a classifier that contains a number of decision trees that were created with the given dataset and takes the average to improve the accuracy of that dataset. Instead of relying on one decision tree, the random forest takes the maximum votes of predictions, and it predicts the final output.\n",
    "\n",
    "* We are selecting Random Forest Classifier model because the problem we are trying to solve is a classification problem to predict whether a given passenger will survive the titanic sinking or not."
   ]
  },
  {
   "cell_type": "markdown",
   "id": "d6e6fe54-8ab6-4dc5-bc20-63853983cda6",
   "metadata": {},
   "source": [
    "1.3.2. Describe how the chosen features in 1.2 are involved in the chosen model (e.g., weighted linear combination of features in a linear model).\n",
    "\n",
    "* Random forest classifier will automatically assign weights to features based on their imporatance which it will calculate while creating the decision trees. In the random forest the importance of feature is found on the basis of averaging impurity decrease across all constructed trees to determine the final importance of a variable."
   ]
  },
  {
   "cell_type": "markdown",
   "id": "aedd5e3e-fa37-4755-bb4e-4f5e4506a45a",
   "metadata": {},
   "source": [
    "1.3.3. Describe the loss function that will be used to estimate the model's parameters (HINT: MSE? MAE? or others? if you are using an existing lib, you may need to check its document or google to figure out ).\n",
    "\n",
    "* The loss function for Random Forest Classifier is 'Gini' or Entropy. In our model we are considering the default gini. Gini function will be used to measure the quality of a split."
   ]
  },
  {
   "cell_type": "markdown",
   "id": "012ec895-ee57-4971-819c-2affd0936d29",
   "metadata": {},
   "source": [
    "1.3.4. Use a specific way (different ways have been discussed in A3) to estimate the model's parameters (e.g., sklearn's fit).\n",
    "\n",
    "* To fit a Random Forest Classifier, an industry standard package is used which is available in sklearn for machine learning modeling. To do so, we first create a RandomForestClassifier object. Here, model is like a \"blank slate\" for a RandomForestClassifier model. Now, we need to tell model to \"fit\" itself to the data. We noticed that the data is unbalanced,to balance that we are performing over sampling."
   ]
  },
  {
   "cell_type": "code",
   "execution_count": 35,
   "id": "23693bfd-dc1a-44a8-97d2-8564e13efe15",
   "metadata": {},
   "outputs": [],
   "source": [
    "#function to transform categorical data to numerical data\n",
    "def convert(train_data):\n",
    "    number = preprocessing.LabelEncoder()\n",
    "    train_data['Sex'] = number.fit_transform(train_data.Sex)\n",
    "    train_data['Embarked'] = number.fit_transform(train_data.Embarked)\n",
    "    return train_data"
   ]
  },
  {
   "cell_type": "code",
   "execution_count": 36,
   "id": "84299570-25e2-4c3a-ad91-eaeb97f75dce",
   "metadata": {},
   "outputs": [
    {
     "data": {
      "text/html": [
       "<div>\n",
       "<style scoped>\n",
       "    .dataframe tbody tr th:only-of-type {\n",
       "        vertical-align: middle;\n",
       "    }\n",
       "\n",
       "    .dataframe tbody tr th {\n",
       "        vertical-align: top;\n",
       "    }\n",
       "\n",
       "    .dataframe thead th {\n",
       "        text-align: right;\n",
       "    }\n",
       "</style>\n",
       "<table border=\"1\" class=\"dataframe\">\n",
       "  <thead>\n",
       "    <tr style=\"text-align: right;\">\n",
       "      <th></th>\n",
       "      <th>PassengerId</th>\n",
       "      <th>Survived</th>\n",
       "    </tr>\n",
       "  </thead>\n",
       "  <tbody>\n",
       "    <tr>\n",
       "      <th>0</th>\n",
       "      <td>892</td>\n",
       "      <td>0</td>\n",
       "    </tr>\n",
       "    <tr>\n",
       "      <th>1</th>\n",
       "      <td>893</td>\n",
       "      <td>0</td>\n",
       "    </tr>\n",
       "    <tr>\n",
       "      <th>2</th>\n",
       "      <td>894</td>\n",
       "      <td>0</td>\n",
       "    </tr>\n",
       "    <tr>\n",
       "      <th>3</th>\n",
       "      <td>895</td>\n",
       "      <td>1</td>\n",
       "    </tr>\n",
       "    <tr>\n",
       "      <th>4</th>\n",
       "      <td>896</td>\n",
       "      <td>1</td>\n",
       "    </tr>\n",
       "  </tbody>\n",
       "</table>\n",
       "</div>"
      ],
      "text/plain": [
       "   PassengerId  Survived\n",
       "0          892         0\n",
       "1          893         0\n",
       "2          894         0\n",
       "3          895         1\n",
       "4          896         1"
      ]
     },
     "execution_count": 36,
     "metadata": {},
     "output_type": "execute_result"
    }
   ],
   "source": [
    "#modeling part\n",
    "modelB = RandomForestClassifier(random_state = 2)\n",
    "mod = RandomUnderSampler(random_state=42, replacement=True)\n",
    "\n",
    "train_data = convert(train_data)\n",
    "test_data = convert(test_data)\n",
    "\n",
    "x_train = train_data.drop(['PassengerId','Survived','Name','Ticket'], axis=1).values\n",
    "y_train = train_data['Survived']\n",
    "x_newTrain, y_newTrain = mod.fit_resample(x_train, y_train)\n",
    "modelB.fit(x_newTrain,y_newTrain);\n",
    "res = pd.read_csv(\"gender_submission.csv\")\n",
    "x_test = test_data.drop(['PassengerId','Name','Ticket'], axis=1).values\n",
    "y_test = res.drop(['PassengerId'], axis=1).values\n",
    "y_pred = modelB.predict(x_test)\n",
    "submit_file = pd.read_csv('gender_submission.csv')\n",
    "submit_file['Survived']=y_pred\n",
    "submit_file.to_csv('submission.csv',index=False)\n",
    "\n",
    "submit_file.head()"
   ]
  },
  {
   "cell_type": "code",
   "execution_count": 37,
   "id": "2f19edf8-2d25-42af-bc95-12808e3515cc",
   "metadata": {},
   "outputs": [
    {
     "data": {
      "text/plain": [
       "0.8014354066985646"
      ]
     },
     "execution_count": 37,
     "metadata": {},
     "output_type": "execute_result"
    }
   ],
   "source": [
    "accuracy = accuracy_score(y_pred,y_test)\n",
    "accuracy"
   ]
  },
  {
   "cell_type": "code",
   "execution_count": 38,
   "id": "e1a4bd5e-d512-4db6-a406-26ed54a8c930",
   "metadata": {},
   "outputs": [
    {
     "data": {
      "image/jpeg": "[encoded data removed]",
      "text/plain": [
       "<IPython.core.display.Image object>"
      ]
     },
     "execution_count": 38,
     "metadata": {},
     "output_type": "execute_result"
    }
   ],
   "source": [
    "Image(\"accuracy1.jpeg\")"
   ]
  },
  {
   "cell_type": "markdown",
   "id": "cd64b920-64b3-4067-841c-a9089cf2ac62",
   "metadata": {},
   "source": [
    "**1.4 INFERENCE**\n",
    "\n",
    "1.4.1. Correct choose of standard evaluation metric(s) for comparison, e.g., MSE for regression, accuracy for classification.\n",
    "\n",
    "* As our model comes under the category of classification, the accuracy score is the correct evaluation metric used for comparison of models.\n",
    "\n",
    "1.4.2. Sound data splitting for train and test using only the training data to fairly compare A and B (main idea can be borrowed from A3).\n",
    "\n",
    "* Referring to A3, we are using stratified k-fold with number of splits = 5 only on the training data to compare model A and model B. Here, accuracies of all the 5 splits and mean accuracies from both models is returned.\n",
    "\n",
    "1.4.3. Fair performance comparison between A and B with clear explanation on which is better and why (without loss of significance test, main idea can be borrowed from A3).\n",
    "\n",
    "* As per the results it can be clearly seen that the mean accuracy of Random Forest classifier is much better than Logistic Regression. Comparing the mean accuracies, the accuracy of Random Forest Classifier is approximately 5% more than Logistic regression. This will be confirmed in the later stage using student t-test."
   ]
  },
  {
   "cell_type": "code",
   "execution_count": 39,
   "id": "27f1606b-ab38-48fb-aa72-db296e55010f",
   "metadata": {},
   "outputs": [],
   "source": [
    "from sklearn.model_selection import StratifiedKFold\n",
    "\n",
    "def compute_accuracy(modelA, modelB, X_train, Y_train):\n",
    "    kf = StratifiedKFold(n_splits=5)\n",
    "    validation_accuracies_A = []\n",
    "    validation_accuracies_B = []\n",
    "    for train_idx, valid_idx in kf.split(X_train,Y_train):\n",
    "        # split the data\n",
    "        split_X_train, split_X_valid = X_train[train_idx], X_train[valid_idx]\n",
    "        split_Y_train, split_Y_valid = Y_train[train_idx], Y_train[valid_idx]\n",
    "\n",
    "        # Fit the modelA on the training split\n",
    "        modelA.fit(split_X_train,split_Y_train)\n",
    "    \n",
    "        \n",
    "        # Compute the prediction accuracy on the validation split\n",
    "        accuracyA = modelA.score(split_X_valid,split_Y_valid)\n",
    "\n",
    "        validation_accuracies_A.append(accuracyA)\n",
    "\n",
    "        # Fit the modelB on the training split\n",
    "        modelB.fit(split_X_train,split_Y_train)\n",
    "\n",
    "        \n",
    "        # Compute the prediction accuracy on the validation split\n",
    "        accuracyB = modelB.score(split_X_valid,split_Y_valid)\n",
    "\n",
    "        validation_accuracies_B.append(accuracyB)\n",
    "\n",
    "    return validation_accuracies_A, np.mean(validation_accuracies_A), validation_accuracies_B, np.mean(validation_accuracies_B)"
   ]
  },
  {
   "cell_type": "code",
   "execution_count": 40,
   "id": "5d7e220b-4266-444f-9ff1-1ed086a7a0eb",
   "metadata": {},
   "outputs": [
    {
     "data": {
      "text/plain": [
       "0    549\n",
       "1    342\n",
       "Name: Survived, dtype: int64"
      ]
     },
     "execution_count": 40,
     "metadata": {},
     "output_type": "execute_result"
    }
   ],
   "source": [
    "train_data['Survived'].value_counts()"
   ]
  },
  {
   "cell_type": "code",
   "execution_count": 41,
   "id": "be6ef6c1-080c-4327-8819-c6e69829d51c",
   "metadata": {},
   "outputs": [
    {
     "data": {
      "text/plain": [
       "([0.7518248175182481,\n",
       "  0.7737226277372263,\n",
       "  0.8029197080291971,\n",
       "  0.7372262773722628,\n",
       "  0.7794117647058824],\n",
       " 0.7690210390725633,\n",
       " [0.8029197080291971,\n",
       "  0.8029197080291971,\n",
       "  0.8467153284671532,\n",
       "  0.7737226277372263,\n",
       "  0.8676470588235294],\n",
       " 0.8187848862172608)"
      ]
     },
     "execution_count": 41,
     "metadata": {},
     "output_type": "execute_result"
    }
   ],
   "source": [
    "modelA = LogisticRegression(solver='lbfgs', max_iter=100000)\n",
    "modelB = RandomForestClassifier(random_state = 2)\n",
    "\n",
    "mod = RandomUnderSampler(random_state=42, replacement = True)\n",
    "\n",
    "train_data = convert(train_data)\n",
    "test_data = convert(test_data)\n",
    "\n",
    "x_train = train_data.drop(['PassengerId','Survived','Name','Ticket'], axis=1).values\n",
    "y_train = train_data['Survived']\n",
    "x_newTrain, y_newTrain = mod.fit_resample(x_train, y_train)\n",
    "\n",
    "result = compute_accuracy(modelA, modelB, x_newTrain , y_newTrain)\n",
    "result"
   ]
  },
  {
   "cell_type": "code",
   "execution_count": 42,
   "id": "6a2131bc-7600-4ff0-b857-3d9698d87b56",
   "metadata": {},
   "outputs": [
    {
     "data": {
      "text/plain": [
       "(-2.4446608107733776, 0.040270682352035125)"
      ]
     },
     "execution_count": 42,
     "metadata": {},
     "output_type": "execute_result"
    }
   ],
   "source": [
    "from scipy import stats\n",
    "\n",
    "statistic,pvalue = stats.ttest_ind(result[0],result[2])\n",
    "statistic,pvalue"
   ]
  },
  {
   "cell_type": "code",
   "execution_count": 43,
   "id": "30262c2d-34cc-45b0-8f71-99269494bf70",
   "metadata": {},
   "outputs": [
    {
     "name": "stdout",
     "output_type": "stream",
     "text": [
      "Reject the null hypothesis that the means are equal.\n"
     ]
    }
   ],
   "source": [
    "# interpreting via p-value\n",
    "significance_level = 0.05\n",
    "if pvalue > significance_level:\n",
    "\tprint('Accept null hypothesis that the means are equal.')\n",
    "else:\n",
    "\tprint('Reject the null hypothesis that the means are equal.')"
   ]
  },
  {
   "cell_type": "markdown",
   "id": "35960ba6-5bfc-4973-a0d0-52b271ed7bcd",
   "metadata": {},
   "source": [
    "1.4.4. Conduct at least another submission to Kaggle and check if your leaderboard position can be improved (embed new screenshot for your leaderboard position in your notebook). "
   ]
  },
  {
   "cell_type": "code",
   "execution_count": 44,
   "id": "dacb55b3-2e9c-42c3-a355-75b5adecba42",
   "metadata": {},
   "outputs": [],
   "source": [
    "##Improved model over first submission\n",
    "\n",
    "modelB = RandomForestClassifier(max_depth = 2,random_state = 0)\n",
    "mod = RandomUnderSampler(random_state=42, replacement=True)\n",
    "\n",
    "train_data = convert(train_data)\n",
    "test_data = convert(test_data)\n",
    "\n",
    "x_train = train_data.drop(['PassengerId','Survived','Name','Ticket', 'Fare'], axis=1).values\n",
    "y_train = train_data['Survived']\n",
    "x_newTrain, y_newTrain = mod.fit_resample(x_train, y_train)\n",
    "modelB.fit(x_newTrain,y_newTrain);\n",
    "res = pd.read_csv(\"gender_submission.csv\")\n",
    "x_test = test_data.drop(['PassengerId','Name','Ticket', 'Fare'], axis=1).values\n",
    "y_test = res.drop(['PassengerId'], axis=1).values\n",
    "y_pred = modelB.predict(x_test)\n",
    "submit_file = pd.read_csv('gender_submission.csv')\n",
    "submit_file['Survived']=y_pred\n",
    "submit_file.to_csv('submission.csv',index=False)"
   ]
  },
  {
   "cell_type": "code",
   "execution_count": 45,
   "id": "39007a31-b203-48e0-b17b-219cbe0f7f65",
   "metadata": {},
   "outputs": [
    {
     "data": {
      "text/plain": [
       "0.9832535885167464"
      ]
     },
     "execution_count": 45,
     "metadata": {},
     "output_type": "execute_result"
    }
   ],
   "source": [
    "accuracy = accuracy_score(y_pred,y_test)\n",
    "accuracy"
   ]
  },
  {
   "cell_type": "code",
   "execution_count": 46,
   "id": "c317eb93-0d4c-4efe-822f-35072ffe27c2",
   "metadata": {},
   "outputs": [
    {
     "data": {
      "image/jpeg": "[encoded data removed]",
      "text/plain": [
       "<IPython.core.display.Image object>"
      ]
     },
     "execution_count": 46,
     "metadata": {},
     "output_type": "execute_result"
    }
   ],
   "source": [
    "Image(\"accuracy2.jpeg\")"
   ]
  },
  {
   "cell_type": "markdown",
   "id": "941fbd1d-8f2c-47ee-947b-8fb4935018f8",
   "metadata": {},
   "source": [
    "**1.5 Conclusions and Learnings**\n",
    "\n",
    "1.5.1. A convincing conclusion about the findings.\n",
    "\n",
    "* The results statisctically provide convincing evidence that Logistic Regression and Random Forest Classifier perform differently. On average, the accuracy of Random Forest Classifier is approximately 5% more than Logistic regression. Thus the performance of Random Forest Classifier is better of the two models.\n",
    "\n",
    "1.5.2. What you have learned from this project.\n",
    "\n",
    "* We have learned how to implement an end to end data science project. This project helped us to understand every component of data science life cycle and it's significance. This project gave us the oppurtunity to get a hands on experience of what we learnt in theory. We also learnt the implementation of various machine learning models and how to the compare the performance of various models."
   ]
  },
  {
   "cell_type": "markdown",
   "id": "0ae86be9-894b-43a1-9202-29d7966e6e49",
   "metadata": {},
   "source": [
    "**1.6 Formats and Readability**\n",
    "\n",
    "> Credits: A3 assignment for Inference part."
   ]
  }
 ],
 "metadata": {
  "colab": {
   "collapsed_sections": [],
   "name": "ProjectStage1.ipynb",
   "provenance": []
  },
  "kernelspec": {
   "display_name": "Python 3",
   "language": "python",
   "name": "python3"
  },
  "language_info": {
   "codemirror_mode": {
    "name": "ipython",
    "version": 3
   },
   "file_extension": ".py",
   "mimetype": "text/x-python",
   "name": "python",
   "nbconvert_exporter": "python",
   "pygments_lexer": "ipython3",
   "version": "3.8.8"
  }
 },
 "nbformat": 4,
 "nbformat_minor": 5
}
